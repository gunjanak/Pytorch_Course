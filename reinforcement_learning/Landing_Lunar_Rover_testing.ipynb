{
 "cells": [
  {
   "cell_type": "code",
   "execution_count": 6,
   "metadata": {},
   "outputs": [],
   "source": [
    "import gym\n",
    "import torch\n",
    "\n",
    "from collections import deque\n",
    "import random\n",
    "\n",
    "import copy\n",
    "from torch.autograd import Variable\n",
    "import numpy as np\n",
    "import time\n",
    "import json\n",
    "import os\n",
    "from datetime import datetime\n",
    "import psutil\n",
    "import os"
   ]
  },
  {
   "cell_type": "code",
   "execution_count": 7,
   "metadata": {},
   "outputs": [
    {
     "name": "stderr",
     "output_type": "stream",
     "text": [
      "/home/janak/Documents/Pytorch_CPU/venv/lib/python3.10/site-packages/gym/core.py:317: DeprecationWarning: \u001b[33mWARN: Initializing wrapper in old step API which returns one bool instead of two. It is recommended to set `new_step_api=True` to use new step API. This will be the default behaviour in future.\u001b[0m\n",
      "  deprecation(\n",
      "/home/janak/Documents/Pytorch_CPU/venv/lib/python3.10/site-packages/gym/wrappers/step_api_compatibility.py:39: DeprecationWarning: \u001b[33mWARN: Initializing environment in old step API which returns one bool instead of two. It is recommended to set `new_step_api=True` to use new step API. This will be the default behaviour in future.\u001b[0m\n",
      "  deprecation(\n"
     ]
    }
   ],
   "source": [
    "# Get current process ID\n",
    "pid = os.getpid()\n",
    "process = psutil.Process(pid)\n",
    "env = gym.envs.make(\"LunarLander-v2\",render_mode=\"human\")"
   ]
  },
  {
   "cell_type": "code",
   "execution_count": 8,
   "metadata": {},
   "outputs": [],
   "source": [
    "class DQN_C():\n",
    "    def __init__(self, n_state, n_action, n_hidden=50, lr=0.05):\n",
    "        self.criterion = torch.nn.MSELoss()\n",
    "        self.model = torch.nn.Sequential(\n",
    "                        torch.nn.Linear(n_state, n_hidden),\n",
    "                        torch.nn.ReLU(),\n",
    "                        torch.nn.Linear(n_hidden, n_hidden),\n",
    "                        torch.nn.ReLU(),\n",
    "                        torch.nn.Linear(n_hidden, n_hidden),\n",
    "                        torch.nn.ReLU(),\n",
    "                        torch.nn.Linear(n_hidden, n_action)\n",
    "                )\n",
    "\n",
    "\n",
    "        self.model_target = copy.deepcopy(self.model)\n",
    "\n",
    "        self.optimizer = torch.optim.Adam(self.model.parameters(), lr)\n",
    "\n",
    "    def update(self, s, y):\n",
    "        \"\"\"\n",
    "        Update the weights of the DQN given a training sample\n",
    "        @param s: state\n",
    "        @param y: target value\n",
    "        \"\"\"\n",
    "        s = np.array(s)\n",
    "        y_pred = self.model(torch.Tensor(s))\n",
    "\n",
    "        loss = self.criterion(y_pred, Variable(torch.Tensor(np.array(y))))\n",
    "        self.optimizer.zero_grad()\n",
    "        loss.backward()\n",
    "        self.optimizer.step()\n",
    "\n",
    "\n",
    "    def predict(self, s):\n",
    "        \"\"\"\n",
    "        Compute the Q values of the state for all actions using the learning model\n",
    "        @param s: input state\n",
    "        @return: Q values of the state for all actions\n",
    "        \"\"\"\n",
    "        with torch.no_grad():\n",
    "            return self.model(torch.Tensor(np.array(s)))\n",
    "\n",
    "    def target_predict(self, s):\n",
    "        \"\"\"\n",
    "        Compute the Q values of the state for all actions using the target network\n",
    "        @param s: input state\n",
    "        @return: targeted Q values of the state for all actions\n",
    "        \"\"\"\n",
    "        with torch.no_grad():\n",
    "            return self.model_target(torch.Tensor(np.array(s)))\n",
    "\n",
    "    def replay(self, memory, replay_size, gamma):\n",
    "        \"\"\"\n",
    "        Experience replay with target network\n",
    "        @param memory: a list of experience\n",
    "        @param replay_size: the number of samples we use to update the model each time\n",
    "        @param gamma: the discount factor\n",
    "        \"\"\"\n",
    "        if len(memory) >= replay_size:\n",
    "            replay_data = random.sample(memory, replay_size)\n",
    "\n",
    "            states = []\n",
    "            td_targets = []\n",
    "            for state, action, next_state, reward, is_done in replay_data:\n",
    "                states.append(state)\n",
    "                q_values = self.predict(state).tolist()\n",
    "                if is_done:\n",
    "                    q_values[action] = reward\n",
    "                else:\n",
    "                    q_values_next = self.target_predict(next_state).detach()\n",
    "\n",
    "                    q_values[action] = reward + gamma * torch.max(q_values_next).item()\n",
    "\n",
    "                td_targets.append(q_values)\n",
    "\n",
    "            self.update(states, td_targets)\n",
    "\n",
    "    def copy_target(self):\n",
    "        self.model_target.load_state_dict(self.model.state_dict())\n",
    "\n",
    "    def name(self):\n",
    "      return \"Model C\""
   ]
  },
  {
   "cell_type": "code",
   "execution_count": 9,
   "metadata": {},
   "outputs": [
    {
     "name": "stdout",
     "output_type": "stream",
     "text": [
      "Sequential(\n",
      "  (0): Linear(in_features=8, out_features=75, bias=True)\n",
      "  (1): ReLU()\n",
      "  (2): Linear(in_features=75, out_features=75, bias=True)\n",
      "  (3): ReLU()\n",
      "  (4): Linear(in_features=75, out_features=75, bias=True)\n",
      "  (5): ReLU()\n",
      "  (6): Linear(in_features=75, out_features=4, bias=True)\n",
      ")\n"
     ]
    }
   ],
   "source": [
    "target_update = 10\n",
    "n_episode = 1000\n",
    "replay_size = 142\n",
    "n_state = env.observation_space.shape[0]\n",
    "n_action = env.action_space.n\n",
    "n_hidden = 75\n",
    "lr = 0.001\n",
    "\n",
    "dqn = DQN_C(n_state,n_action,n_hidden,lr)\n",
    "\n",
    "#load model\n",
    "# model_path = '/home/janak/Documents/Pytorch_CPU/lunar_working_2024-04-04-18-28.pth'\n",
    "# model_path = '2024-04-05 23:35:11.688730.pth'\n",
    "model_path = '/home/janak/Documents/Pytorch_CPU/Lunar_Plots/2024-04-06 02:41:46.052699.pth'\n",
    "dqn.model.load_state_dict(torch.load(model_path))\n",
    "\n",
    "print(dqn.model)\n",
    "\n",
    "count = 0\n",
    "max_reward = 0\n",
    "episodes = 10"
   ]
  },
  {
   "cell_type": "code",
   "execution_count": 10,
   "metadata": {},
   "outputs": [
    {
     "name": "stdout",
     "output_type": "stream",
     "text": [
      "Total reward: 4.500164346242386\n",
      "Total reward: -68.75175159331314\n",
      "Total reward: 275.81825064728537\n",
      "Total reward: 220.52200391012263\n",
      "Total reward: -77.83496847204154\n",
      "Total reward: -58.17361489870757\n",
      "Total reward: 227.21278705071256\n",
      "Total reward: 194.7350565492164\n",
      "Total reward: 171.62243572523968\n",
      "Total reward: 240.96052491094287\n",
      "40.0\n",
      "275.81825064728537\n"
     ]
    }
   ],
   "source": [
    "for i in range(episodes):\n",
    "    total_reward = 0\n",
    "    \n",
    "    state = env.reset()\n",
    "    is_done = False\n",
    "    while not is_done:\n",
    "        q_values = dqn.predict(state)\n",
    "        # print(q_values)\n",
    "        action = torch.argmax(q_values).item()\n",
    "        next_state,reward,is_done,_ = env.step(action)\n",
    "        total_reward += reward\n",
    "        state = next_state\n",
    "    \n",
    "    print(f\"Total reward: {total_reward}\")\n",
    "    if total_reward > max_reward:\n",
    "        max_reward = total_reward\n",
    "    if total_reward>200:\n",
    "        count += 1\n",
    "    time.sleep(2)\n",
    "\n",
    "print((count/episodes)*100)\n",
    "print(max_reward)\n",
    "# Close the environment when done\n",
    "env.close()"
   ]
  },
  {
   "cell_type": "code",
   "execution_count": null,
   "metadata": {},
   "outputs": [],
   "source": []
  },
  {
   "cell_type": "code",
   "execution_count": null,
   "metadata": {},
   "outputs": [],
   "source": []
  }
 ],
 "metadata": {
  "kernelspec": {
   "display_name": "venv",
   "language": "python",
   "name": "python3"
  },
  "language_info": {
   "codemirror_mode": {
    "name": "ipython",
    "version": 3
   },
   "file_extension": ".py",
   "mimetype": "text/x-python",
   "name": "python",
   "nbconvert_exporter": "python",
   "pygments_lexer": "ipython3",
   "version": "3.10.12"
  }
 },
 "nbformat": 4,
 "nbformat_minor": 2
}
