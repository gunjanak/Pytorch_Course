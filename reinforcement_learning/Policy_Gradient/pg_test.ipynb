{
 "cells": [
  {
   "cell_type": "code",
   "execution_count": 22,
   "metadata": {},
   "outputs": [],
   "source": [
    "import gym\n",
    "import torch\n",
    "import torch.nn as nn\n",
    "import torch.optim as optim\n",
    "import numpy as np\n",
    "from collections import deque\n",
    "import random"
   ]
  },
  {
   "cell_type": "code",
   "execution_count": 23,
   "metadata": {},
   "outputs": [],
   "source": [
    "class PolicyNetwork(nn.Module):\n",
    "    def __init__(self, state_dim, action_dim, hidden_dim=256):\n",
    "        super(PolicyNetwork, self).__init__()\n",
    "        self.fc1 = nn.Linear(state_dim, hidden_dim)\n",
    "        self.fc2 = nn.Linear(hidden_dim, hidden_dim)\n",
    "        self.fc3 = nn.Linear(hidden_dim, action_dim)\n",
    "        self.relu = nn.ReLU()\n",
    "\n",
    "    def forward(self, x, temperature=1.0):\n",
    "        x = self.relu(self.fc1(x))\n",
    "        x = self.relu(self.fc2(x))\n",
    "        x = self.fc3(x)\n",
    "        return nn.Softmax(dim=-1)(x / temperature)\n"
   ]
  },
  {
   "cell_type": "code",
   "execution_count": 24,
   "metadata": {},
   "outputs": [],
   "source": [
    "class PolicyGradientAgent:\n",
    "    def __init__(self, state_dim, action_dim, hidden_dim=256, lr=0.001, gamma=0.99, temperature=1.0):\n",
    "        self.policy_net = PolicyNetwork(state_dim, action_dim, hidden_dim)\n",
    "        self.optimizer = optim.Adam(self.policy_net.parameters(), lr=lr)\n",
    "        self.gamma = gamma\n",
    "        self.temperature = temperature\n",
    "        self.memory = []\n",
    "\n",
    "    def choose_action(self, state):\n",
    "        state = torch.FloatTensor(state).unsqueeze(0)\n",
    "        probs = self.policy_net(state, self.temperature).detach().numpy()[0]\n",
    "        action = np.random.choice(len(probs), p=probs)\n",
    "        return action\n",
    "\n",
    "    def store_transition(self, transition):\n",
    "        self.memory.append(transition)\n",
    "\n",
    "    def learn(self):\n",
    "        states, actions, rewards = zip(*self.memory)\n",
    "\n",
    "        rewards = normalize_rewards(rewards)  # Normalize rewards\n",
    "\n",
    "        G = np.zeros_like(rewards, dtype=np.float64)\n",
    "        for t in range(len(rewards)):\n",
    "            G_sum = 0\n",
    "            discount = 1\n",
    "            for k in range(t, len(rewards)):\n",
    "                G_sum += rewards[k] * discount\n",
    "                discount *= self.gamma\n",
    "            G[t] = G_sum\n",
    "\n",
    "        G = torch.FloatTensor(G)\n",
    "        states = torch.FloatTensor(states)\n",
    "        actions = torch.LongTensor(actions)\n",
    "\n",
    "        self.optimizer.zero_grad()\n",
    "        loss = 0\n",
    "        for i in range(len(G)):\n",
    "            state = states[i]\n",
    "            action = actions[i]\n",
    "            Gt = G[i]\n",
    "\n",
    "            probs = self.policy_net(state)\n",
    "            log_prob = torch.log(probs[action])\n",
    "            entropy = -torch.sum(probs * torch.log(probs))\n",
    "            loss += -log_prob * Gt - 0.01 * entropy  # Entropy regularization\n",
    "\n",
    "        loss.backward()\n",
    "        self.optimizer.step()\n",
    "        self.memory = []\n",
    "\n",
    "    def save_model(self, path):\n",
    "        torch.save({\n",
    "            'model_state_dict': self.policy_net.state_dict(),\n",
    "            'optimizer_state_dict': self.optimizer.state_dict()\n",
    "        }, path)\n",
    "\n",
    "    def load_model(self, path, device):\n",
    "        checkpoint = torch.load(path, map_location=device)\n",
    "        self.policy_net.load_state_dict(checkpoint['model_state_dict'])\n",
    "        self.optimizer.load_state_dict(checkpoint['optimizer_state_dict'])\n",
    "        self.device = device\n",
    "        self.policy_net.to(device)\n",
    "       \n"
   ]
  },
  {
   "cell_type": "code",
   "execution_count": 25,
   "metadata": {},
   "outputs": [],
   "source": [
    "episodes=10\n",
    "max_timesteps=1000\n",
    "env = gym.make('LunarLander-v2',render_mode='human')\n",
    "state_dim = env.observation_space.shape[0]\n",
    "action_dim = env.action_space.n\n",
    "agent = PolicyGradientAgent(state_dim, action_dim, temperature=1.0)\n",
    "rewards_per_episode = []"
   ]
  },
  {
   "cell_type": "code",
   "execution_count": 26,
   "metadata": {},
   "outputs": [],
   "source": [
    "save_path='policy_gradient_model.pth'"
   ]
  },
  {
   "cell_type": "code",
   "execution_count": 27,
   "metadata": {},
   "outputs": [
    {
     "name": "stdout",
     "output_type": "stream",
     "text": [
      "Loading successful\n"
     ]
    }
   ],
   "source": [
    "try:\n",
    "    \n",
    "    agent.load_model(save_path, device='cpu')\n",
    "    print(\"Loading successful\")\n",
    "    \n",
    "except FileNotFoundError:\n",
    "    print(\"No checkpoint found, starting from scratch.\")"
   ]
  },
  {
   "cell_type": "code",
   "execution_count": 28,
   "metadata": {},
   "outputs": [
    {
     "name": "stdout",
     "output_type": "stream",
     "text": [
      "Episode: 0, Reward: 178.44862935470192\n",
      "Episode: 1, Reward: 158.9581518097793\n",
      "Episode: 2, Reward: 88.74128939079934\n",
      "Episode: 3, Reward: 199.02253558151898\n",
      "Episode: 4, Reward: 128.96397573108524\n",
      "Episode: 5, Reward: 108.16536825862342\n",
      "Episode: 6, Reward: -34.007050425718276\n",
      "Episode: 7, Reward: 89.47118869891442\n",
      "Episode: 8, Reward: 148.26956221289194\n",
      "Episode: 9, Reward: 262.8064463790478\n"
     ]
    }
   ],
   "source": [
    "for episode in range(episodes):\n",
    "    state = env.reset()\n",
    "    total_reward = 0\n",
    "    for t in range(max_timesteps):\n",
    "        action = agent.choose_action(state)\n",
    "        next_state, reward, done, _ = env.step(action)\n",
    "        agent.store_transition((state, action, reward))\n",
    "        state = next_state\n",
    "        total_reward += reward\n",
    "        if done:\n",
    "            break\n",
    "    print(f\"Episode: {episode}, Reward: {total_reward}\")\n",
    "\n",
    "    \n",
    "\n",
    "env.close()\n",
    "    "
   ]
  }
 ],
 "metadata": {
  "kernelspec": {
   "display_name": "venv",
   "language": "python",
   "name": "python3"
  },
  "language_info": {
   "codemirror_mode": {
    "name": "ipython",
    "version": 3
   },
   "file_extension": ".py",
   "mimetype": "text/x-python",
   "name": "python",
   "nbconvert_exporter": "python",
   "pygments_lexer": "ipython3",
   "version": "3.10.12"
  }
 },
 "nbformat": 4,
 "nbformat_minor": 2
}
