{
 "cells": [
  {
   "cell_type": "markdown",
   "metadata": {},
   "source": [
    "#import"
   ]
  },
  {
   "cell_type": "code",
   "execution_count": 26,
   "metadata": {},
   "outputs": [],
   "source": [
    "import gym\n",
    "import torch\n",
    "import torch.nn as nn\n",
    "import torch.optim as optim\n",
    "import random\n",
    "import numpy as np\n",
    "from collections import deque\n",
    "import os"
   ]
  },
  {
   "cell_type": "code",
   "execution_count": 27,
   "metadata": {},
   "outputs": [],
   "source": [
    "\n",
    "\n",
    "# Define the FQF Network\n",
    "class FQFDQN(nn.Module):\n",
    "    def __init__(self, state_dim, action_dim, num_quantiles=51, hidden_dim=256):\n",
    "        super(FQFDQN, self).__init__()\n",
    "        self.num_quantiles = num_quantiles\n",
    "        self.action_dim = action_dim\n",
    "\n",
    "        self.fc1 = nn.Linear(state_dim, hidden_dim)\n",
    "        self.fc2 = nn.Linear(hidden_dim, hidden_dim)\n",
    "        self.quantile_head = nn.Linear(hidden_dim, action_dim * num_quantiles)\n",
    "\n",
    "    def forward(self, x):\n",
    "        x = torch.relu(self.fc1(x))\n",
    "        x = torch.relu(self.fc2(x))\n",
    "        quantiles = self.quantile_head(x)\n",
    "        quantiles = quantiles.view(-1, self.action_dim, self.num_quantiles)\n",
    "        return quantiles\n"
   ]
  },
  {
   "cell_type": "code",
   "execution_count": 28,
   "metadata": {},
   "outputs": [
    {
     "name": "stderr",
     "output_type": "stream",
     "text": [
      "/home/janak/Documents/Pytorch_CPU/venv/lib/python3.10/site-packages/gym/core.py:317: DeprecationWarning: \u001b[33mWARN: Initializing wrapper in old step API which returns one bool instead of two. It is recommended to set `new_step_api=True` to use new step API. This will be the default behaviour in future.\u001b[0m\n",
      "  deprecation(\n",
      "/home/janak/Documents/Pytorch_CPU/venv/lib/python3.10/site-packages/gym/wrappers/step_api_compatibility.py:39: DeprecationWarning: \u001b[33mWARN: Initializing environment in old step API which returns one bool instead of two. It is recommended to set `new_step_api=True` to use new step API. This will be the default behaviour in future.\u001b[0m\n",
      "  deprecation(\n"
     ]
    }
   ],
   "source": [
    "# Hyperparameters\n",
    "num_episodes = 10\n",
    "learning_rate = 1e-3\n",
    "num_quantiles = 51\n",
    "hidden_dim = 256\n",
    "\n",
    "env = gym.make('LunarLander-v2',render_mode='human')\n",
    "state_dim = env.observation_space.shape[0]\n",
    "action_dim = env.action_space.n\n",
    "\n",
    "device = torch.device(\"cuda\" if torch.cuda.is_available() else \"cpu\")\n",
    "\n",
    "network = FQFDQN(state_dim, action_dim, num_quantiles, hidden_dim).to(device)\n",
    "target_network = FQFDQN(state_dim, action_dim, num_quantiles, hidden_dim).to(device)"
   ]
  },
  {
   "cell_type": "code",
   "execution_count": 29,
   "metadata": {},
   "outputs": [],
   "source": [
    "optimizer = optim.Adam(network.parameters(), lr=learning_rate)"
   ]
  },
  {
   "cell_type": "code",
   "execution_count": 30,
   "metadata": {},
   "outputs": [],
   "source": [
    "def load_checkpoint(filename='checkpoint.pth', map_location=None):\n",
    "    if map_location:\n",
    "        return torch.load(filename, map_location=map_location)\n",
    "    return torch.load(filename)"
   ]
  },
  {
   "cell_type": "code",
   "execution_count": 31,
   "metadata": {},
   "outputs": [],
   "source": [
    "# Load model if available\n",
    "checkpoint_path = 'fqf.pth'"
   ]
  },
  {
   "cell_type": "code",
   "execution_count": 32,
   "metadata": {},
   "outputs": [
    {
     "name": "stdout",
     "output_type": "stream",
     "text": [
      "Loaded checkpoint from episode 344\n"
     ]
    }
   ],
   "source": [
    "try:\n",
    "    map_location = torch.device('cpu') if not torch.cuda.is_available() else None\n",
    "    checkpoint = load_checkpoint(checkpoint_path, map_location=map_location)\n",
    "    network.load_state_dict(checkpoint['main_net_state_dict'])\n",
    "    target_network.load_state_dict(checkpoint['target_net_state_dict'])\n",
    "    optimizer.load_state_dict(checkpoint['optimizer_state_dict'])\n",
    "    epsilon = checkpoint['epsilon']\n",
    "    start_episode = checkpoint['episode'] + 1\n",
    "    print(f\"Loaded checkpoint from episode {start_episode}\")\n",
    "except FileNotFoundError:\n",
    "    print(\"No checkpoint found, starting from scratch.\")"
   ]
  },
  {
   "cell_type": "code",
   "execution_count": 33,
   "metadata": {},
   "outputs": [],
   "source": [
    "def select_action(state, network, epsilon, action_dim, device):\n",
    "    if random.random() < epsilon:\n",
    "        return random.randrange(action_dim)\n",
    "    else:\n",
    "        state = torch.FloatTensor(state).unsqueeze(0).to(device)\n",
    "        with torch.no_grad():\n",
    "            quantiles = network(state)\n",
    "            mean_quantiles = quantiles.mean(dim=2)\n",
    "        return mean_quantiles.max(1)[1].item()"
   ]
  },
  {
   "cell_type": "code",
   "execution_count": 34,
   "metadata": {},
   "outputs": [
    {
     "name": "stderr",
     "output_type": "stream",
     "text": [
      "/home/janak/Documents/Pytorch_CPU/venv/lib/python3.10/site-packages/gym/utils/passive_env_checker.py:241: DeprecationWarning: `np.bool8` is a deprecated alias for `np.bool_`.  (Deprecated NumPy 1.24)\n",
      "  if not isinstance(terminated, (bool, np.bool8)):\n"
     ]
    },
    {
     "name": "stdout",
     "output_type": "stream",
     "text": [
      "Episode: 0, Reward: 9.028107613112525\n",
      "Episode: 1, Reward: 26.916383843211563\n",
      "Episode: 2, Reward: -247.92586626066748\n",
      "Episode: 3, Reward: 277.68905029201443\n",
      "Episode: 4, Reward: 159.66918545341514\n",
      "Episode: 5, Reward: -27.25110431160665\n",
      "Episode: 6, Reward: 156.16109161482973\n",
      "Episode: 7, Reward: 53.13752000032764\n",
      "Episode: 8, Reward: 238.28824062507\n",
      "Episode: 9, Reward: -2.59856231795483\n"
     ]
    }
   ],
   "source": [
    "for episode in range(10):\n",
    "    state = env.reset()\n",
    "    episode_reward = 0\n",
    "\n",
    "    while True:\n",
    "        action = select_action(state, network, epsilon, action_dim,device)\n",
    "        next_state, reward, done, _ = env.step(action)\n",
    "        state = next_state\n",
    "        episode_reward += reward\n",
    "        \n",
    "\n",
    "        if done:\n",
    "            break\n",
    "\n",
    "    print(f\"Episode: {episode}, Reward: {episode_reward}\")\n",
    "\n",
    "    \n",
    "\n",
    "env.close()"
   ]
  }
 ],
 "metadata": {
  "kernelspec": {
   "display_name": "venv",
   "language": "python",
   "name": "python3"
  },
  "language_info": {
   "codemirror_mode": {
    "name": "ipython",
    "version": 3
   },
   "file_extension": ".py",
   "mimetype": "text/x-python",
   "name": "python",
   "nbconvert_exporter": "python",
   "pygments_lexer": "ipython3",
   "version": "3.10.12"
  }
 },
 "nbformat": 4,
 "nbformat_minor": 2
}
