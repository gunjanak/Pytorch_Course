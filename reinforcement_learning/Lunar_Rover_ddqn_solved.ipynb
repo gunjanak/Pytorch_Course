{
  "nbformat": 4,
  "nbformat_minor": 0,
  "metadata": {
    "colab": {
      "provenance": []
    },
    "kernelspec": {
      "name": "python3",
      "display_name": "Python 3"
    },
    "language_info": {
      "name": "python"
    }
  },
  "cells": [
    {
      "cell_type": "markdown",
      "source": [
        "#Install"
      ],
      "metadata": {
        "id": "XKWnYA8Q7JOk"
      }
    },
    {
      "cell_type": "code",
      "execution_count": 1,
      "metadata": {
        "colab": {
          "base_uri": "https://localhost:8080/"
        },
        "id": "egX4Ew1P7B5j",
        "outputId": "15372680-1403-49c1-d383-a5c06fdd7dc5"
      },
      "outputs": [
        {
          "output_type": "stream",
          "name": "stdout",
          "text": [
            "Requirement already satisfied: gym==0.25.2 in /usr/local/lib/python3.10/dist-packages (0.25.2)\n",
            "Requirement already satisfied: numpy>=1.18.0 in /usr/local/lib/python3.10/dist-packages (from gym==0.25.2) (1.25.2)\n",
            "Requirement already satisfied: cloudpickle>=1.2.0 in /usr/local/lib/python3.10/dist-packages (from gym==0.25.2) (2.2.1)\n",
            "Requirement already satisfied: gym-notices>=0.0.4 in /usr/local/lib/python3.10/dist-packages (from gym==0.25.2) (0.0.8)\n"
          ]
        }
      ],
      "source": [
        "!pip install gym==0.25.2"
      ]
    },
    {
      "cell_type": "code",
      "source": [
        "!pip install swig"
      ],
      "metadata": {
        "colab": {
          "base_uri": "https://localhost:8080/"
        },
        "id": "1uR76rZ87P8v",
        "outputId": "e4103de4-8f2f-4f56-c9f0-c84037b7f159"
      },
      "execution_count": 2,
      "outputs": [
        {
          "output_type": "stream",
          "name": "stdout",
          "text": [
            "Collecting swig\n",
            "  Downloading swig-4.2.1-py2.py3-none-manylinux_2_5_x86_64.manylinux1_x86_64.whl (1.9 MB)\n",
            "\u001b[2K     \u001b[90m━━━━━━━━━━━━━━━━━━━━━━━━━━━━━━━━━━━━━━━━\u001b[0m \u001b[32m1.9/1.9 MB\u001b[0m \u001b[31m9.4 MB/s\u001b[0m eta \u001b[36m0:00:00\u001b[0m\n",
            "\u001b[?25hInstalling collected packages: swig\n",
            "Successfully installed swig-4.2.1\n"
          ]
        }
      ]
    },
    {
      "cell_type": "code",
      "source": [
        "!pip install gym[box2d]"
      ],
      "metadata": {
        "id": "Ha4jnA6J7WyM"
      },
      "execution_count": null,
      "outputs": []
    },
    {
      "cell_type": "markdown",
      "source": [
        "#Import"
      ],
      "metadata": {
        "id": "rer2OZX570BC"
      }
    },
    {
      "cell_type": "code",
      "source": [
        "import gym\n",
        "import torch\n",
        "\n",
        "from collections import deque\n",
        "import random\n",
        "\n",
        "import copy\n",
        "from torch.autograd import Variable\n",
        "import numpy as np\n",
        "import time\n",
        "import json\n",
        "import os\n",
        "from datetime import datetime\n",
        "import psutil\n",
        "import os\n",
        "import matplotlib.pyplot as plt"
      ],
      "metadata": {
        "id": "mK0at5-w7brK"
      },
      "execution_count": 12,
      "outputs": []
    },
    {
      "cell_type": "markdown",
      "source": [
        "#Env"
      ],
      "metadata": {
        "id": "FJXzRVkY7_i5"
      }
    },
    {
      "cell_type": "code",
      "source": [
        "# Get current process ID\n",
        "pid = os.getpid()\n",
        "process = psutil.Process(pid)\n",
        "env = gym.envs.make(\"LunarLander-v2\")"
      ],
      "metadata": {
        "colab": {
          "base_uri": "https://localhost:8080/"
        },
        "id": "lvbvksD872S3",
        "outputId": "4e7cb46c-509f-438d-f31b-f30cc2dec653"
      },
      "execution_count": 5,
      "outputs": [
        {
          "output_type": "stream",
          "name": "stderr",
          "text": [
            "/usr/local/lib/python3.10/dist-packages/gym/core.py:317: DeprecationWarning: \u001b[33mWARN: Initializing wrapper in old step API which returns one bool instead of two. It is recommended to set `new_step_api=True` to use new step API. This will be the default behaviour in future.\u001b[0m\n",
            "  deprecation(\n",
            "/usr/local/lib/python3.10/dist-packages/gym/wrappers/step_api_compatibility.py:39: DeprecationWarning: \u001b[33mWARN: Initializing environment in old step API which returns one bool instead of two. It is recommended to set `new_step_api=True` to use new step API. This will be the default behaviour in future.\u001b[0m\n",
            "  deprecation(\n"
          ]
        }
      ]
    },
    {
      "cell_type": "markdown",
      "source": [
        "#Model"
      ],
      "metadata": {
        "id": "MwIZK7wF8DkM"
      }
    },
    {
      "cell_type": "code",
      "source": [
        "class DQN():\n",
        "    def __init__(self, n_state, n_action, n_hidden=50, lr=0.05):\n",
        "        self.criterion = torch.nn.MSELoss()\n",
        "        self.model = torch.nn.Sequential(\n",
        "                        torch.nn.Linear(n_state, n_hidden),\n",
        "                        torch.nn.ReLU(),\n",
        "                        torch.nn.Linear(n_hidden, n_hidden),\n",
        "                        torch.nn.ReLU(),\n",
        "                        torch.nn.Linear(n_hidden, n_hidden),\n",
        "                        torch.nn.ReLU(),\n",
        "                        torch.nn.Linear(n_hidden, n_action)\n",
        "                )\n",
        "\n",
        "\n",
        "        self.model_target = copy.deepcopy(self.model)\n",
        "\n",
        "        self.optimizer = torch.optim.Adam(self.model.parameters(), lr)\n",
        "\n",
        "    def update(self, s, y):\n",
        "        \"\"\"\n",
        "        Update the weights of the DQN given a training sample\n",
        "        @param s: state\n",
        "        @param y: target value\n",
        "        \"\"\"\n",
        "        s = np.array(s)\n",
        "        y_pred = self.model(torch.Tensor(s))\n",
        "\n",
        "        loss = self.criterion(y_pred, Variable(torch.Tensor(np.array(y))))\n",
        "        self.optimizer.zero_grad()\n",
        "        loss.backward()\n",
        "        self.optimizer.step()\n",
        "\n",
        "\n",
        "    def predict(self, s):\n",
        "        \"\"\"\n",
        "        Compute the Q values of the state for all actions using the learning model\n",
        "        @param s: input state\n",
        "        @return: Q values of the state for all actions\n",
        "        \"\"\"\n",
        "        with torch.no_grad():\n",
        "            return self.model(torch.Tensor(np.array(s)))\n",
        "\n",
        "    def target_predict(self, s):\n",
        "        \"\"\"\n",
        "        Compute the Q values of the state for all actions using the target network\n",
        "        @param s: input state\n",
        "        @return: targeted Q values of the state for all actions\n",
        "        \"\"\"\n",
        "        with torch.no_grad():\n",
        "            return self.model_target(torch.Tensor(np.array(s)))\n",
        "\n",
        "    def replay(self, memory, replay_size, gamma):\n",
        "        \"\"\"\n",
        "        Experience replay with target network\n",
        "        @param memory: a list of experience\n",
        "        @param replay_size: the number of samples we use to update the model each time\n",
        "        @param gamma: the discount factor\n",
        "        \"\"\"\n",
        "        if len(memory) >= replay_size:\n",
        "            replay_data = random.sample(memory, replay_size)\n",
        "\n",
        "            states = []\n",
        "            td_targets = []\n",
        "            for state, action, next_state, reward, is_done in replay_data:\n",
        "                states.append(state)\n",
        "                q_values = self.predict(state).tolist()\n",
        "                if is_done:\n",
        "                    q_values[action] = reward\n",
        "                else:\n",
        "                    q_values_next = self.target_predict(next_state).detach()\n",
        "\n",
        "                    q_values[action] = reward + gamma * torch.max(q_values_next).item()\n",
        "\n",
        "                td_targets.append(q_values)\n",
        "\n",
        "            self.update(states, td_targets)\n",
        "\n",
        "    def copy_target(self):\n",
        "        self.model_target.load_state_dict(self.model.state_dict())\n",
        "\n",
        "    def name(self):\n",
        "      return \"Model C\"\n",
        "\n"
      ],
      "metadata": {
        "colab": {
          "base_uri": "https://localhost:8080/"
        },
        "id": "KGfnp6tM8BcJ",
        "outputId": "634007c1-acb7-4083-b5a5-1243562df922"
      },
      "execution_count": 8,
      "outputs": [
        {
          "output_type": "stream",
          "name": "stderr",
          "text": [
            "/usr/local/lib/python3.10/dist-packages/ipykernel/ipkernel.py:283: DeprecationWarning: `should_run_async` will not call `transform_cell` automatically in the future. Please pass the result to `transformed_cell` argument and any exception that happen during thetransform in `preprocessing_exc_tuple` in IPython 7.17 and above.\n",
            "  and should_run_async(code)\n"
          ]
        }
      ]
    },
    {
      "cell_type": "markdown",
      "source": [
        "#Epsilon function"
      ],
      "metadata": {
        "id": "Ds7uqq-A8Mu9"
      }
    },
    {
      "cell_type": "code",
      "source": [
        "def gen_epsilon_greedy_policy(estimator, epsilon, n_action):\n",
        "    def policy_function(state):\n",
        "        if random.random() < epsilon:\n",
        "            return random.randint(0, n_action - 1)\n",
        "        else:\n",
        "            q_values = estimator.predict(state)\n",
        "            return torch.argmax(q_values).item()\n",
        "    return policy_function"
      ],
      "metadata": {
        "id": "_5iZFssk8ILX"
      },
      "execution_count": 7,
      "outputs": []
    },
    {
      "cell_type": "markdown",
      "source": [
        "#Parameters and hyperparameters"
      ],
      "metadata": {
        "id": "jUgaZO158TLh"
      }
    },
    {
      "cell_type": "code",
      "source": [
        "\n",
        "n_episode = 1000\n",
        "replay_size = 142\n",
        "n_state = env.observation_space.shape[0]\n",
        "n_action = env.action_space.n\n",
        "n_hidden = 62\n",
        "target_update = 10\n",
        "replay_size = 142\n",
        "lr = 0.001\n",
        "epsilon = 0.1\n",
        "gamma = 1.0\n",
        "dqn = DQN(n_state,n_action,n_hidden,lr)\n",
        "memory = deque(maxlen=10000)\n",
        "epsilon_decay = 0.99\n",
        "\n",
        "\n"
      ],
      "metadata": {
        "id": "XyFwbyZ48Pzb"
      },
      "execution_count": 21,
      "outputs": []
    },
    {
      "cell_type": "markdown",
      "source": [
        "#Train"
      ],
      "metadata": {
        "id": "l-Lt-fC59Hm8"
      }
    },
    {
      "cell_type": "code",
      "source": [
        "total_reward_episode = [0] * n_episode\n",
        "for episode in range(n_episode):\n",
        "    # print(f\"Episode: {episode}\")\n",
        "    if episode % target_update == 0:\n",
        "        dqn.copy_target()\n",
        "    policy = gen_epsilon_greedy_policy(dqn,epsilon,n_action)\n",
        "    state = env.reset()\n",
        "    is_done = False\n",
        "\n",
        "    while not is_done:\n",
        "        # print(f\"State: {state}\")\n",
        "        action = policy(state)\n",
        "        next_state,reward,is_done,_ = env.step(action)\n",
        "        total_reward_episode[episode] += reward\n",
        "        memory.append((state,action,next_state,reward,is_done))\n",
        "\n",
        "        if is_done:\n",
        "            break\n",
        "\n",
        "        dqn.replay(memory,replay_size,gamma)\n",
        "        state = next_state\n",
        "    print(f\"Episode: {episode} Reward: {total_reward_episode[episode]}\")\n",
        "    epsilon = max(epsilon*epsilon_decay,0.01)\n",
        "\n",
        "# Get the current date and time\n",
        "current_datetime = str(datetime.now())\n",
        "\n",
        "data = {\"Time\":current_datetime,\n",
        "        \"Data\":{\"Model\":dqn.name(),\n",
        "                \"n_hidden\":n_hidden,\n",
        "                        \"Target Update: \":target_update,\n",
        "                        \"Replay _size: \":replay_size,\n",
        "                        \"Learning rate: \":lr,\n",
        "                        \"Epsilon: \":epsilon,\n",
        "                        \"Gamma: \":gamma,\n",
        "                        \"Avg Reward\":sum(total_reward_episode)/len(total_reward_episode)}\n",
        "                        }\n",
        "# Define the file path for your JSON file\n",
        "file_path = 'data.json'\n",
        "\n",
        "# Check if the JSON file exists\n",
        "if os.path.exists(file_path):\n",
        "    # Open the existing JSON file for appending\n",
        "    with open(file_path, 'a') as file:\n",
        "        # Append the dictionary as a new line in the file\n",
        "        file.write('\\n')\n",
        "        json.dump(data, file, indent=4)\n",
        "else:\n",
        "    # Create a new JSON file and write the dictionary to it\n",
        "    with open(file_path, 'w') as file:\n",
        "        json.dump(data, file, indent=4)\n",
        "\n",
        "print(\"Data appended to or written to JSON file successfully.\")\n",
        "\n",
        "\n",
        "print(f\"Average reward: {sum(total_reward_episode)/len(total_reward_episode)}\")\n",
        "\n",
        "\n",
        "\n",
        "\n",
        "\n",
        "# Generate SMA(5) using numpy\n",
        "sma_5 = np.convolve(total_reward_episode, np.ones(5)/5, mode='valid')\n",
        "\n",
        "# Plot the original data\n",
        "plt.plot(total_reward_episode, label='Original Data')\n",
        "\n",
        "# Plot SMA(5)\n",
        "plt.plot(np.arange(4,n_episode), sma_5, label='SMA(5)')\n",
        "\n",
        "# Add labels and legend\n",
        "plt.xlabel('Episode')\n",
        "plt.ylabel('Total Reward')\n",
        "plt.legend()\n",
        "figname = current_datetime+'.png'\n",
        "plt.savefig(figname)\n",
        "# plt.show()"
      ],
      "metadata": {
        "colab": {
          "base_uri": "https://localhost:8080/",
          "height": 657
        },
        "id": "uOpCuldt8_iy",
        "outputId": "4909ba85-3a63-4d78-c510-f8fe62533d83"
      },
      "execution_count": 17,
      "outputs": [
        {
          "output_type": "stream",
          "name": "stdout",
          "text": [
            "Episode: 0 Reward: -313.86075422714646\n",
            "Episode: 1 Reward: -403.76317739137306\n",
            "Episode: 2 Reward: -146.77328790359255\n",
            "Episode: 3 Reward: -170.362431413102\n",
            "Episode: 4 Reward: -611.9888736916338\n",
            "Episode: 5 Reward: -99.76339592916969\n",
            "Episode: 6 Reward: -160.77657221511618\n",
            "Episode: 7 Reward: -508.165816309715\n",
            "Episode: 8 Reward: -595.8513184306161\n",
            "Episode: 9 Reward: -108.58179129493843\n",
            "Data appended to or written to JSON file successfully.\n",
            "Average reward: -311.9887418806403\n"
          ]
        },
        {
          "output_type": "display_data",
          "data": {
            "text/plain": [
              "<Figure size 640x480 with 1 Axes>"
            ],
            "image/png": "[encoded data removed]"
          },
          "metadata": {}
        }
      ]
    },
    {
      "cell_type": "code",
      "source": [
        "# Get memory usage\n",
        "mem_usage = process.memory_info().rss  # in bytes\n",
        "print(f\"Memory usage: {mem_usage / (1024 * 1024)} MB\")  # Convert to MB for readability"
      ],
      "metadata": {
        "colab": {
          "base_uri": "https://localhost:8080/"
        },
        "id": "M5ok3iqp-OwX",
        "outputId": "6f05165b-86a2-495b-cb23-072ea774b8e3"
      },
      "execution_count": 20,
      "outputs": [
        {
          "output_type": "stream",
          "name": "stdout",
          "text": [
            "Memory usage: 603.73046875 MB\n"
          ]
        }
      ]
    },
    {
      "cell_type": "markdown",
      "source": [
        "#Save the model"
      ],
      "metadata": {
        "id": "zNGuxFui9_OL"
      }
    },
    {
      "cell_type": "code",
      "source": [
        "model_path = current_datetime+\".pth\""
      ],
      "metadata": {
        "id": "H-U2WARk9msI"
      },
      "execution_count": 18,
      "outputs": []
    },
    {
      "cell_type": "code",
      "source": [
        "torch.save(dqn.model.state_dict(), model_path)"
      ],
      "metadata": {
        "id": "mknYvrmZ9oZE"
      },
      "execution_count": 19,
      "outputs": []
    }
  ]
}