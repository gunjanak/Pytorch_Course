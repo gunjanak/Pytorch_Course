{
 "cells": [
  {
   "cell_type": "code",
   "execution_count": 45,
   "metadata": {},
   "outputs": [],
   "source": [
    "import torch\n",
    "import torch.nn as nn\n",
    "import torch.optim as optim\n",
    "import numpy as np\n",
    "import gym\n",
    "import random\n",
    "from collections import deque"
   ]
  },
  {
   "cell_type": "code",
   "execution_count": 46,
   "metadata": {},
   "outputs": [],
   "source": [
    "class GaussianDQN(nn.Module):\n",
    "    def __init__(self, state_dim, action_dim,hidden_dim=256):\n",
    "        super(GaussianDQN, self).__init__()\n",
    "        self.fc1 = nn.Linear(state_dim,hidden_dim)\n",
    "        self.fc2 = nn.Linear(hidden_dim,hidden_dim)\n",
    "        self.mean_head = nn.Linear(hidden_dim, action_dim)\n",
    "        self.log_std_head = nn.Linear(hidden_dim, action_dim)\n",
    "\n",
    "    def forward(self, x):\n",
    "        x = torch.relu(self.fc1(x))\n",
    "        x = torch.relu(self.fc2(x))\n",
    "        mean = self.mean_head(x)\n",
    "        log_std = self.log_std_head(x)\n",
    "        std = torch.exp(log_std)\n",
    "        return mean, std"
   ]
  },
  {
   "cell_type": "code",
   "execution_count": 47,
   "metadata": {},
   "outputs": [],
   "source": [
    "def select_action(state, network, epsilon, action_dim):\n",
    "    if np.random.rand() < epsilon:\n",
    "        return np.random.randint(action_dim)\n",
    "    else:\n",
    "        state = torch.FloatTensor(state).unsqueeze(0)\n",
    "        with torch.no_grad():\n",
    "            mean, _ = network(state)\n",
    "        return mean.argmax().item()"
   ]
  },
  {
   "cell_type": "code",
   "execution_count": 48,
   "metadata": {},
   "outputs": [],
   "source": [
    "def load_checkpoint(filename='checkpoint.pth', map_location=None):\n",
    "    if map_location:\n",
    "        return torch.load(filename, map_location=map_location)\n",
    "    return torch.load(filename)"
   ]
  },
  {
   "cell_type": "code",
   "execution_count": 49,
   "metadata": {},
   "outputs": [],
   "source": [
    "\n",
    "PATH = \"gdqn_kld2.pth\""
   ]
  },
  {
   "cell_type": "code",
   "execution_count": 50,
   "metadata": {},
   "outputs": [],
   "source": [
    "# Load model if available\n",
    "checkpoint_path = PATH"
   ]
  },
  {
   "cell_type": "code",
   "execution_count": 51,
   "metadata": {},
   "outputs": [],
   "source": [
    "env = gym.make(\"LunarLander-v2\",render_mode=\"human\")\n",
    "state_dim = env.observation_space.shape[0]\n",
    "action_dim = env.action_space.n\n",
    "hidden_dim = 128"
   ]
  },
  {
   "cell_type": "code",
   "execution_count": 52,
   "metadata": {},
   "outputs": [],
   "source": [
    "network = GaussianDQN(state_dim, action_dim,hidden_dim)\n",
    "target_network = GaussianDQN(state_dim, action_dim,hidden_dim)"
   ]
  },
  {
   "cell_type": "code",
   "execution_count": 53,
   "metadata": {},
   "outputs": [],
   "source": [
    "optimizer = optim.Adam(network.parameters(), lr=0.001)"
   ]
  },
  {
   "cell_type": "code",
   "execution_count": 54,
   "metadata": {},
   "outputs": [
    {
     "name": "stdout",
     "output_type": "stream",
     "text": [
      "Loaded checkpoint from episode 76\n"
     ]
    }
   ],
   "source": [
    "try:\n",
    "    map_location = torch.device('cpu') if not torch.cuda.is_available() else None\n",
    "    checkpoint = load_checkpoint(checkpoint_path, map_location=map_location)\n",
    "    network.load_state_dict(checkpoint['main_net_state_dict'])\n",
    "    target_network.load_state_dict(checkpoint['target_net_state_dict'])\n",
    "    optimizer.load_state_dict(checkpoint['optimizer_state_dict'])\n",
    "    epsilon = checkpoint['epsilon']\n",
    "    start_episode = checkpoint['episode'] + 1\n",
    "    print(f\"Loaded checkpoint from episode {start_episode}\")\n",
    "except FileNotFoundError:\n",
    "    print(\"No checkpoint found, starting from scratch.\")"
   ]
  },
  {
   "cell_type": "code",
   "execution_count": 55,
   "metadata": {},
   "outputs": [
    {
     "name": "stdout",
     "output_type": "stream",
     "text": [
      "Episode: 0, Reward: 233.47002211016206\n",
      "Episode: 1, Reward: -244.13384359922625\n",
      "Episode: 2, Reward: -36.576091541151854\n",
      "Episode: 3, Reward: -42.87249685932948\n",
      "Episode: 4, Reward: 227.8820148537693\n",
      "Episode: 5, Reward: -15.991582067515054\n",
      "Episode: 6, Reward: 236.32616666124818\n",
      "Episode: 7, Reward: -60.77750511346356\n",
      "Episode: 8, Reward: -172.27186648239103\n",
      "Episode: 9, Reward: -126.1109580625549\n"
     ]
    }
   ],
   "source": [
    "for episode in range(10):\n",
    "    state = env.reset()\n",
    "    episode_reward = 0\n",
    "\n",
    "    while True:\n",
    "        action = select_action(state, network, epsilon, action_dim)\n",
    "        next_state, reward, done, _ = env.step(action)\n",
    "        state = next_state\n",
    "        episode_reward += reward\n",
    "        \n",
    "\n",
    "        if done:\n",
    "            break\n",
    "\n",
    "    print(f\"Episode: {episode}, Reward: {episode_reward}\")\n",
    "\n",
    "    \n",
    "\n",
    "env.close()"
   ]
  },
  {
   "cell_type": "code",
   "execution_count": null,
   "metadata": {},
   "outputs": [],
   "source": []
  }
 ],
 "metadata": {
  "kernelspec": {
   "display_name": "venv",
   "language": "python",
   "name": "python3"
  },
  "language_info": {
   "codemirror_mode": {
    "name": "ipython",
    "version": 3
   },
   "file_extension": ".py",
   "mimetype": "text/x-python",
   "name": "python",
   "nbconvert_exporter": "python",
   "pygments_lexer": "ipython3",
   "version": "3.10.12"
  }
 },
 "nbformat": 4,
 "nbformat_minor": 2
}
