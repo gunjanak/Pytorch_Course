{
 "cells": [
  {
   "cell_type": "code",
   "execution_count": 1,
   "metadata": {},
   "outputs": [
    {
     "name": "stderr",
     "output_type": "stream",
     "text": [
      "/home/janak/Documents/Pytorch_CPU/venv/lib/python3.10/site-packages/pygame/pkgdata.py:25: DeprecationWarning: pkg_resources is deprecated as an API. See https://setuptools.pypa.io/en/latest/pkg_resources.html\n",
      "  from pkg_resources import resource_stream, resource_exists\n"
     ]
    }
   ],
   "source": [
    "import gym\n",
    "import gym\n",
    "import numpy as np\n",
    "import torch\n",
    "\n",
    "from snake999 import SnakeEnvWithPenalty\n",
    "\n",
    "from ppo_cnn import PPOAgent\n",
    "\n",
    "import pygame\n",
    "# Initialize Pygame\n",
    "pygame.init()\n",
    "pygame.font.init()"
   ]
  },
  {
   "cell_type": "code",
   "execution_count": 2,
   "metadata": {},
   "outputs": [
    {
     "name": "stdout",
     "output_type": "stream",
     "text": [
      "Linear input size: 192\n",
      "Linear input size: 192\n"
     ]
    }
   ],
   "source": [
    "HEIGHT = 10\n",
    "WIDTH = 10\n",
    "env = SnakeEnvWithPenalty(width=600, height=600, rows=HEIGHT, cols=HEIGHT)\n",
    "agent = PPOAgent(height=HEIGHT,width=WIDTH)"
   ]
  },
  {
   "cell_type": "code",
   "execution_count": 3,
   "metadata": {},
   "outputs": [
    {
     "name": "stdout",
     "output_type": "stream",
     "text": [
      "Model loaded from ppo_snake999_checkpoint.pth\n"
     ]
    }
   ],
   "source": [
    "agent.load('ppo_snake999_checkpoint.pth')"
   ]
  },
  {
   "cell_type": "code",
   "execution_count": 4,
   "metadata": {},
   "outputs": [
    {
     "name": "stdout",
     "output_type": "stream",
     "text": [
      "Episode 1: Total Reward: -5\n",
      "Episode 2: Total Reward: 439.44000000000625\n",
      "Episode 3: Total Reward: -5.029999999999999\n",
      "Episode 4: Total Reward: 230.79000000000156\n",
      "Episode 5: Total Reward: -5\n",
      "Episode 6: Total Reward: 387.35000000000434\n",
      "Episode 7: Total Reward: 386.42000000000587\n",
      "Episode 8: Total Reward: 473.7600000000083\n",
      "Episode 9: Total Reward: -5\n",
      "Episode 10: Total Reward: 418.0500000000071\n"
     ]
    }
   ],
   "source": [
    "agent.test(env)"
   ]
  },
  {
   "cell_type": "code",
   "execution_count": 5,
   "metadata": {},
   "outputs": [
    {
     "name": "stdout",
     "output_type": "stream",
     "text": [
      "515.7000000000096\n",
      "319.66000000000247\n",
      "458.21000000000726\n",
      "454.25000000000733\n",
      "479.9900000000114\n"
     ]
    }
   ],
   "source": [
    "env = SnakeEnvWithPenalty(width=600, height=600, rows=10, cols=10)\n",
    "pygame.init()\n",
    "pygame.font.init()\n",
    "for i in range(5):\n",
    "    \n",
    "\n",
    "    state = env.reset()\n",
    "    rewards = 0\n",
    "    done = False\n",
    "\n",
    "    # for step in range(3000):\n",
    "    while not done:\n",
    "        \n",
    "        env.render()\n",
    "        state_tensor = torch.FloatTensor(state).unsqueeze(0).unsqueeze(0)\n",
    "        dist = agent.policy_old.pi(state_tensor)\n",
    "        action = dist.sample()\n",
    "        state, reward, done, _ = env.step(action.item())\n",
    "        \n",
    "        rewards = rewards + reward\n",
    "        # print(f\"{step}:{reward}: {rewards}\")\n",
    "        if done:\n",
    "            observation = env.reset()\n",
    "            # print(rewards)\n",
    "            break\n",
    "    print(rewards)\n",
    "env.close()"
   ]
  },
  {
   "cell_type": "code",
   "execution_count": 6,
   "metadata": {},
   "outputs": [
    {
     "name": "stdout",
     "output_type": "stream",
     "text": [
      "Episode 1: Total Reward: 239.89000000000215\n",
      "Episode 2: Total Reward: 483.54000000000786\n",
      "Episode 3: Total Reward: 289.78000000000236\n",
      "Episode 4: Total Reward: 350.55000000000524\n",
      "Episode 5: Total Reward: -5\n",
      "Episode 6: Total Reward: -5.08\n",
      "Episode 7: Total Reward: -5\n",
      "Episode 8: Total Reward: 396.49000000000535\n",
      "Episode 9: Total Reward: -5\n",
      "Episode 10: Total Reward: 445.06000000000705\n"
     ]
    }
   ],
   "source": [
    "for episode in range(10):\n",
    "        \n",
    "        state = env.reset()\n",
    "        \n",
    "        # state = s.normalize_state(state)\n",
    "        done = False\n",
    "        total_reward = 0\n",
    "        while not done:\n",
    "            state_tensor = torch.FloatTensor(state).unsqueeze(0).unsqueeze(0)  # Add channel dimension\n",
    "            dist = agent.policy_old.pi(state_tensor)\n",
    "            action = dist.sample()\n",
    "            state, reward, done, _ = env.step(action.item())\n",
    "            # state = self.normalize_state(state)\n",
    "            # env.render()\n",
    "            total_reward += reward\n",
    "        print(f\"Episode {episode + 1}: Total Reward: {total_reward}\")\n",
    "        agent.rewards.append(total_reward)\n",
    "env.close()"
   ]
  }
 ],
 "metadata": {
  "kernelspec": {
   "display_name": "venv",
   "language": "python",
   "name": "python3"
  },
  "language_info": {
   "codemirror_mode": {
    "name": "ipython",
    "version": 3
   },
   "file_extension": ".py",
   "mimetype": "text/x-python",
   "name": "python",
   "nbconvert_exporter": "python",
   "pygments_lexer": "ipython3",
   "version": "3.10.12"
  }
 },
 "nbformat": 4,
 "nbformat_minor": 2
}
