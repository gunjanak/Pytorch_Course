{
  "nbformat": 4,
  "nbformat_minor": 0,
  "metadata": {
    "colab": {
      "provenance": [],
      "gpuType": "T4"
    },
    "kernelspec": {
      "name": "python3",
      "display_name": "Python 3"
    },
    "language_info": {
      "name": "python"
    },
    "accelerator": "GPU",
    "widgets": {
      "application/vnd.jupyter.widget-state+json": {
        "a8842ccf3e1d4557932bd873e06bede2": {
          "model_module": "@jupyter-widgets/output",
          "model_name": "OutputModel",
          "model_module_version": "1.0.0",
          "state": {
            "_dom_classes": [],
            "_model_module": "@jupyter-widgets/output",
            "_model_module_version": "1.0.0",
            "_model_name": "OutputModel",
            "_view_count": null,
            "_view_module": "@jupyter-widgets/output",
            "_view_module_version": "1.0.0",
            "_view_name": "OutputView",
            "layout": "IPY_MODEL_466619bb226a4e07a9f5600601ad631c",
            "msg_id": "",
            "outputs": [
              {
                "output_type": "display_data",
                "data": {
                  "text/plain": "\u001b[35m 100%\u001b[0m \u001b[38;2;249;38;114m━━━━━━━━━━━━━━━━━━━━━━━━━━━━━━━━━━━━━━━━━━━━━━━━━━━━━━━━━━━━━━\u001b[0m\u001b[38;2;249;38;114m╸\u001b[0m \u001b[32m9,997/10,000 \u001b[0m [ \u001b[33m0:06:58\u001b[0m < \u001b[36m0:00:01\u001b[0m , \u001b[31m33 it/s\u001b[0m ]\n",
                  "text/html": "<pre style=\"white-space:pre;overflow-x:auto;line-height:normal;font-family:Menlo,'DejaVu Sans Mono',consolas,'Courier New',monospace\"><span style=\"color: #800080; text-decoration-color: #800080\"> 100%</span> <span style=\"color: #f92672; text-decoration-color: #f92672\">━━━━━━━━━━━━━━━━━━━━━━━━━━━━━━━━━━━━━━━━━━━━━━━━━━━━━━━━━━━━━━╸</span> <span style=\"color: #008000; text-decoration-color: #008000\">9,997/10,000 </span> [ <span style=\"color: #808000; text-decoration-color: #808000\">0:06:58</span> &lt; <span style=\"color: #008080; text-decoration-color: #008080\">0:00:01</span> , <span style=\"color: #800000; text-decoration-color: #800000\">33 it/s</span> ]\n</pre>\n"
                },
                "metadata": {}
              }
            ]
          }
        },
        "466619bb226a4e07a9f5600601ad631c": {
          "model_module": "@jupyter-widgets/base",
          "model_name": "LayoutModel",
          "model_module_version": "1.2.0",
          "state": {
            "_model_module": "@jupyter-widgets/base",
            "_model_module_version": "1.2.0",
            "_model_name": "LayoutModel",
            "_view_count": null,
            "_view_module": "@jupyter-widgets/base",
            "_view_module_version": "1.2.0",
            "_view_name": "LayoutView",
            "align_content": null,
            "align_items": null,
            "align_self": null,
            "border": null,
            "bottom": null,
            "display": null,
            "flex": null,
            "flex_flow": null,
            "grid_area": null,
            "grid_auto_columns": null,
            "grid_auto_flow": null,
            "grid_auto_rows": null,
            "grid_column": null,
            "grid_gap": null,
            "grid_row": null,
            "grid_template_areas": null,
            "grid_template_columns": null,
            "grid_template_rows": null,
            "height": null,
            "justify_content": null,
            "justify_items": null,
            "left": null,
            "margin": null,
            "max_height": null,
            "max_width": null,
            "min_height": null,
            "min_width": null,
            "object_fit": null,
            "object_position": null,
            "order": null,
            "overflow": null,
            "overflow_x": null,
            "overflow_y": null,
            "padding": null,
            "right": null,
            "top": null,
            "visibility": null,
            "width": null
          }
        }
      }
    }
  },
  "cells": [
    {
      "cell_type": "code",
      "execution_count": 1,
      "metadata": {
        "colab": {
          "base_uri": "https://localhost:8080/"
        },
        "collapsed": true,
        "id": "1-NUUYfmBLEx",
        "outputId": "158c803b-a1b9-4217-82b1-3fc28d0a3e00"
      },
      "outputs": [
        {
          "output_type": "stream",
          "name": "stdout",
          "text": [
            "Requirement already satisfied: stable-baselines3 in /usr/local/lib/python3.11/dist-packages (2.7.0)\n",
            "Requirement already satisfied: gymnasium<1.3.0,>=0.29.1 in /usr/local/lib/python3.11/dist-packages (from stable-baselines3) (1.2.0)\n",
            "Requirement already satisfied: numpy<3.0,>=1.20 in /usr/local/lib/python3.11/dist-packages (from stable-baselines3) (2.0.2)\n",
            "Requirement already satisfied: torch<3.0,>=2.3 in /usr/local/lib/python3.11/dist-packages (from stable-baselines3) (2.6.0+cu124)\n",
            "Requirement already satisfied: cloudpickle in /usr/local/lib/python3.11/dist-packages (from stable-baselines3) (3.1.1)\n",
            "Requirement already satisfied: pandas in /usr/local/lib/python3.11/dist-packages (from stable-baselines3) (2.2.2)\n",
            "Requirement already satisfied: matplotlib in /usr/local/lib/python3.11/dist-packages (from stable-baselines3) (3.10.0)\n",
            "Requirement already satisfied: typing-extensions>=4.3.0 in /usr/local/lib/python3.11/dist-packages (from gymnasium<1.3.0,>=0.29.1->stable-baselines3) (4.14.1)\n",
            "Requirement already satisfied: farama-notifications>=0.0.1 in /usr/local/lib/python3.11/dist-packages (from gymnasium<1.3.0,>=0.29.1->stable-baselines3) (0.0.4)\n",
            "Requirement already satisfied: filelock in /usr/local/lib/python3.11/dist-packages (from torch<3.0,>=2.3->stable-baselines3) (3.18.0)\n",
            "Requirement already satisfied: networkx in /usr/local/lib/python3.11/dist-packages (from torch<3.0,>=2.3->stable-baselines3) (3.5)\n",
            "Requirement already satisfied: jinja2 in /usr/local/lib/python3.11/dist-packages (from torch<3.0,>=2.3->stable-baselines3) (3.1.6)\n",
            "Requirement already satisfied: fsspec in /usr/local/lib/python3.11/dist-packages (from torch<3.0,>=2.3->stable-baselines3) (2025.3.0)\n",
            "Requirement already satisfied: nvidia-cuda-nvrtc-cu12==12.4.127 in /usr/local/lib/python3.11/dist-packages (from torch<3.0,>=2.3->stable-baselines3) (12.4.127)\n",
            "Requirement already satisfied: nvidia-cuda-runtime-cu12==12.4.127 in /usr/local/lib/python3.11/dist-packages (from torch<3.0,>=2.3->stable-baselines3) (12.4.127)\n",
            "Requirement already satisfied: nvidia-cuda-cupti-cu12==12.4.127 in /usr/local/lib/python3.11/dist-packages (from torch<3.0,>=2.3->stable-baselines3) (12.4.127)\n",
            "Requirement already satisfied: nvidia-cudnn-cu12==9.1.0.70 in /usr/local/lib/python3.11/dist-packages (from torch<3.0,>=2.3->stable-baselines3) (9.1.0.70)\n",
            "Requirement already satisfied: nvidia-cublas-cu12==12.4.5.8 in /usr/local/lib/python3.11/dist-packages (from torch<3.0,>=2.3->stable-baselines3) (12.4.5.8)\n",
            "Requirement already satisfied: nvidia-cufft-cu12==11.2.1.3 in /usr/local/lib/python3.11/dist-packages (from torch<3.0,>=2.3->stable-baselines3) (11.2.1.3)\n",
            "Requirement already satisfied: nvidia-curand-cu12==10.3.5.147 in /usr/local/lib/python3.11/dist-packages (from torch<3.0,>=2.3->stable-baselines3) (10.3.5.147)\n",
            "Requirement already satisfied: nvidia-cusolver-cu12==11.6.1.9 in /usr/local/lib/python3.11/dist-packages (from torch<3.0,>=2.3->stable-baselines3) (11.6.1.9)\n",
            "Requirement already satisfied: nvidia-cusparse-cu12==12.3.1.170 in /usr/local/lib/python3.11/dist-packages (from torch<3.0,>=2.3->stable-baselines3) (12.3.1.170)\n",
            "Requirement already satisfied: nvidia-cusparselt-cu12==0.6.2 in /usr/local/lib/python3.11/dist-packages (from torch<3.0,>=2.3->stable-baselines3) (0.6.2)\n",
            "Requirement already satisfied: nvidia-nccl-cu12==2.21.5 in /usr/local/lib/python3.11/dist-packages (from torch<3.0,>=2.3->stable-baselines3) (2.21.5)\n",
            "Requirement already satisfied: nvidia-nvtx-cu12==12.4.127 in /usr/local/lib/python3.11/dist-packages (from torch<3.0,>=2.3->stable-baselines3) (12.4.127)\n",
            "Requirement already satisfied: nvidia-nvjitlink-cu12==12.4.127 in /usr/local/lib/python3.11/dist-packages (from torch<3.0,>=2.3->stable-baselines3) (12.4.127)\n",
            "Requirement already satisfied: triton==3.2.0 in /usr/local/lib/python3.11/dist-packages (from torch<3.0,>=2.3->stable-baselines3) (3.2.0)\n",
            "Requirement already satisfied: sympy==1.13.1 in /usr/local/lib/python3.11/dist-packages (from torch<3.0,>=2.3->stable-baselines3) (1.13.1)\n",
            "Requirement already satisfied: mpmath<1.4,>=1.1.0 in /usr/local/lib/python3.11/dist-packages (from sympy==1.13.1->torch<3.0,>=2.3->stable-baselines3) (1.3.0)\n",
            "Requirement already satisfied: contourpy>=1.0.1 in /usr/local/lib/python3.11/dist-packages (from matplotlib->stable-baselines3) (1.3.3)\n",
            "Requirement already satisfied: cycler>=0.10 in /usr/local/lib/python3.11/dist-packages (from matplotlib->stable-baselines3) (0.12.1)\n",
            "Requirement already satisfied: fonttools>=4.22.0 in /usr/local/lib/python3.11/dist-packages (from matplotlib->stable-baselines3) (4.59.0)\n",
            "Requirement already satisfied: kiwisolver>=1.3.1 in /usr/local/lib/python3.11/dist-packages (from matplotlib->stable-baselines3) (1.4.9)\n",
            "Requirement already satisfied: packaging>=20.0 in /usr/local/lib/python3.11/dist-packages (from matplotlib->stable-baselines3) (25.0)\n",
            "Requirement already satisfied: pillow>=8 in /usr/local/lib/python3.11/dist-packages (from matplotlib->stable-baselines3) (11.3.0)\n",
            "Requirement already satisfied: pyparsing>=2.3.1 in /usr/local/lib/python3.11/dist-packages (from matplotlib->stable-baselines3) (3.2.3)\n",
            "Requirement already satisfied: python-dateutil>=2.7 in /usr/local/lib/python3.11/dist-packages (from matplotlib->stable-baselines3) (2.9.0.post0)\n",
            "Requirement already satisfied: pytz>=2020.1 in /usr/local/lib/python3.11/dist-packages (from pandas->stable-baselines3) (2025.2)\n",
            "Requirement already satisfied: tzdata>=2022.7 in /usr/local/lib/python3.11/dist-packages (from pandas->stable-baselines3) (2025.2)\n",
            "Requirement already satisfied: six>=1.5 in /usr/local/lib/python3.11/dist-packages (from python-dateutil>=2.7->matplotlib->stable-baselines3) (1.17.0)\n",
            "Requirement already satisfied: MarkupSafe>=2.0 in /usr/local/lib/python3.11/dist-packages (from jinja2->torch<3.0,>=2.3->stable-baselines3) (3.0.2)\n"
          ]
        }
      ],
      "source": [
        "!pip install stable-baselines3"
      ]
    },
    {
      "cell_type": "code",
      "source": [
        "!pip install highway-env"
      ],
      "metadata": {
        "colab": {
          "base_uri": "https://localhost:8080/"
        },
        "collapsed": true,
        "id": "DEN9CeZDBfVk",
        "outputId": "8c5f9c2b-ee5f-411d-dc4b-6f3aac863f17"
      },
      "execution_count": 2,
      "outputs": [
        {
          "output_type": "stream",
          "name": "stdout",
          "text": [
            "Requirement already satisfied: highway-env in /usr/local/lib/python3.11/dist-packages (1.10.1)\n",
            "Requirement already satisfied: gymnasium>=1.0.0a2 in /usr/local/lib/python3.11/dist-packages (from highway-env) (1.2.0)\n",
            "Requirement already satisfied: farama-notifications>=0.0.1 in /usr/local/lib/python3.11/dist-packages (from highway-env) (0.0.4)\n",
            "Requirement already satisfied: numpy>=1.21.0 in /usr/local/lib/python3.11/dist-packages (from highway-env) (2.0.2)\n",
            "Requirement already satisfied: pygame>=2.0.2 in /usr/local/lib/python3.11/dist-packages (from highway-env) (2.6.1)\n",
            "Requirement already satisfied: matplotlib in /usr/local/lib/python3.11/dist-packages (from highway-env) (3.10.0)\n",
            "Requirement already satisfied: pandas in /usr/local/lib/python3.11/dist-packages (from highway-env) (2.2.2)\n",
            "Requirement already satisfied: scipy in /usr/local/lib/python3.11/dist-packages (from highway-env) (1.16.1)\n",
            "Requirement already satisfied: cloudpickle>=1.2.0 in /usr/local/lib/python3.11/dist-packages (from gymnasium>=1.0.0a2->highway-env) (3.1.1)\n",
            "Requirement already satisfied: typing-extensions>=4.3.0 in /usr/local/lib/python3.11/dist-packages (from gymnasium>=1.0.0a2->highway-env) (4.14.1)\n",
            "Requirement already satisfied: contourpy>=1.0.1 in /usr/local/lib/python3.11/dist-packages (from matplotlib->highway-env) (1.3.3)\n",
            "Requirement already satisfied: cycler>=0.10 in /usr/local/lib/python3.11/dist-packages (from matplotlib->highway-env) (0.12.1)\n",
            "Requirement already satisfied: fonttools>=4.22.0 in /usr/local/lib/python3.11/dist-packages (from matplotlib->highway-env) (4.59.0)\n",
            "Requirement already satisfied: kiwisolver>=1.3.1 in /usr/local/lib/python3.11/dist-packages (from matplotlib->highway-env) (1.4.9)\n",
            "Requirement already satisfied: packaging>=20.0 in /usr/local/lib/python3.11/dist-packages (from matplotlib->highway-env) (25.0)\n",
            "Requirement already satisfied: pillow>=8 in /usr/local/lib/python3.11/dist-packages (from matplotlib->highway-env) (11.3.0)\n",
            "Requirement already satisfied: pyparsing>=2.3.1 in /usr/local/lib/python3.11/dist-packages (from matplotlib->highway-env) (3.2.3)\n",
            "Requirement already satisfied: python-dateutil>=2.7 in /usr/local/lib/python3.11/dist-packages (from matplotlib->highway-env) (2.9.0.post0)\n",
            "Requirement already satisfied: pytz>=2020.1 in /usr/local/lib/python3.11/dist-packages (from pandas->highway-env) (2025.2)\n",
            "Requirement already satisfied: tzdata>=2022.7 in /usr/local/lib/python3.11/dist-packages (from pandas->highway-env) (2025.2)\n",
            "Requirement already satisfied: six>=1.5 in /usr/local/lib/python3.11/dist-packages (from python-dateutil>=2.7->matplotlib->highway-env) (1.17.0)\n"
          ]
        }
      ]
    },
    {
      "cell_type": "code",
      "source": [
        "import os\n",
        "from pathlib import Path\n",
        "import glob\n",
        "import gymnasium as gym\n",
        "import highway_env\n",
        "from stable_baselines3 import HerReplayBuffer, SAC\n",
        "from stable_baselines3.common.callbacks import EvalCallback, BaseCallback\n",
        "from stable_baselines3.common.monitor import Monitor\n",
        "from stable_baselines3.common.vec_env import DummyVecEnv\n",
        "from stable_baselines3.common.logger import configure\n",
        "import warnings\n",
        "\n",
        "warnings.filterwarnings('ignore')"
      ],
      "metadata": {
        "colab": {
          "base_uri": "https://localhost:8080/"
        },
        "id": "eBMvwp1lCCyr",
        "outputId": "054d19cb-f3a8-4c9a-d800-e8431ba2d160"
      },
      "execution_count": 3,
      "outputs": [
        {
          "output_type": "stream",
          "name": "stderr",
          "text": [
            "Gym has been unmaintained since 2022 and does not support NumPy 2.0 amongst other critical functionality.\n",
            "Please upgrade to Gymnasium, the maintained drop-in replacement of Gym, or contact the authors of your software and request that they upgrade.\n",
            "See the migration guide at https://gymnasium.farama.org/introduction/migration_guide/ for additional information.\n"
          ]
        }
      ]
    },
    {
      "cell_type": "code",
      "source": [
        "# ====================================================\n",
        "# Base directories\n",
        "# ====================================================\n",
        "BASE_DIR = \"/content/drive/MyDrive/Colab Notebooks/Reinforcement_learning/Stable_Baseline/SAC_Highway\"\n",
        "Path(BASE_DIR).mkdir(exist_ok=True)\n",
        "\n",
        "MODEL_PATH = os.path.join(BASE_DIR, \"her_sac_highway\")\n",
        "LOG_DIR = os.path.join(BASE_DIR, \"logs\")\n",
        "BEST_MODEL_PATH = os.path.join(BASE_DIR, \"best_model\")\n",
        "CHECKPOINT_DIR = os.path.join(LOG_DIR, \"checkpoints\")\n",
        "\n",
        "TOTAL_TIMESTEPS = int(1e4)\n",
        "EVAL_FREQ = 1000\n",
        "N_EVAL_EPISODES = 5\n",
        "\n",
        "os.makedirs(LOG_DIR, exist_ok=True)\n",
        "os.makedirs(BEST_MODEL_PATH, exist_ok=True)\n",
        "os.makedirs(CHECKPOINT_DIR, exist_ok=True)"
      ],
      "metadata": {
        "id": "vzctSKpvCDRB"
      },
      "execution_count": 4,
      "outputs": []
    },
    {
      "cell_type": "code",
      "source": [
        "# # ====================================================\n",
        "# # Custom Callback: Save model + replay buffer\n",
        "# # ====================================================\n",
        "# class CheckpointWithBufferCallback(BaseCallback):\n",
        "#     def __init__(self, save_freq, save_path, name_prefix=\"model_checkpoint\", verbose=0):\n",
        "#         super().__init__(verbose)\n",
        "#         self.save_freq = save_freq\n",
        "#         self.save_path = save_path\n",
        "#         self.name_prefix = name_prefix\n",
        "#         os.makedirs(save_path, exist_ok=True)\n",
        "\n",
        "#     def _on_step(self) -> bool:\n",
        "#         if self.n_calls % self.save_freq == 0:\n",
        "#             model_file = os.path.join(self.save_path, f\"{self.name_prefix}_{self.n_calls}_steps\")\n",
        "#             buffer_file = model_file + \"_replay_buffer\"\n",
        "\n",
        "#             self.model.save(model_file)\n",
        "#             self.model.save_replay_buffer(buffer_file)\n",
        "#             if self.verbose > 0:\n",
        "#                 print(f\"✅ Saved model and replay buffer at step {self.n_calls}\")\n",
        "#         return True\n",
        "\n"
      ],
      "metadata": {
        "id": "Y5hdas1XCZgG"
      },
      "execution_count": 5,
      "outputs": []
    },
    {
      "cell_type": "code",
      "source": [
        "class CheckpointWithBufferCallback(BaseCallback):\n",
        "    def __init__(self, save_freq, save_path, name_prefix=\"model_checkpoint\", keep_last=3, verbose=0):\n",
        "        super().__init__(verbose)\n",
        "        self.save_freq = save_freq\n",
        "        self.save_path = save_path\n",
        "        self.name_prefix = name_prefix\n",
        "        self.keep_last = keep_last\n",
        "        os.makedirs(save_path, exist_ok=True)\n",
        "\n",
        "    def _on_step(self) -> bool:\n",
        "        if self.n_calls % self.save_freq == 0:\n",
        "            # Save model + buffer\n",
        "            model_file = os.path.join(self.save_path, f\"{self.name_prefix}_{self.n_calls}_steps.zip\")\n",
        "            buffer_file = model_file.replace(\".zip\", \"_replay_buffer.pkl\")\n",
        "\n",
        "            self.model.save(model_file)\n",
        "            self.model.save_replay_buffer(buffer_file)\n",
        "            if self.verbose > 0:\n",
        "                print(f\"✅ Saved checkpoint at {self.n_calls} steps\")\n",
        "\n",
        "            # Cleanup old checkpoints\n",
        "            self._cleanup_old_checkpoints()\n",
        "\n",
        "        return True\n",
        "\n",
        "    def _cleanup_old_checkpoints(self):\n",
        "        ckpts = sorted(glob.glob(os.path.join(self.save_path, f\"{self.name_prefix}_*_steps.zip\")),\n",
        "                       key=lambda x: int(x.split(\"_\")[-2]))\n",
        "        if len(ckpts) > self.keep_last:\n",
        "            old_ckpts = ckpts[:len(ckpts) - self.keep_last]\n",
        "            for ckpt in old_ckpts:\n",
        "                buf = ckpt.replace(\".zip\", \"_replay_buffer\")\n",
        "                os.remove(ckpt)\n",
        "                if os.path.exists(buf):\n",
        "                    os.remove(buf)\n",
        "                if self.verbose > 0:\n",
        "                    print(f\"🗑️ Removed old checkpoint: {ckpt}\")\n"
      ],
      "metadata": {
        "id": "LVfQR7a2LlNd"
      },
      "execution_count": 6,
      "outputs": []
    },
    {
      "cell_type": "code",
      "source": [
        "# ====================================================\n",
        "# Create environment\n",
        "# ====================================================\n",
        "env = gym.make(\"parking-v0\")\n",
        "env = Monitor(env, LOG_DIR)\n",
        "env = DummyVecEnv([lambda: env])"
      ],
      "metadata": {
        "id": "EUZ2sOuWCdRA"
      },
      "execution_count": 7,
      "outputs": []
    },
    {
      "cell_type": "code",
      "source": [
        "# ====================================================\n",
        "# Model kwargs\n",
        "# ====================================================\n",
        "n_sampled_goal = 4\n",
        "model_kwargs = {\n",
        "    \"policy\": \"MultiInputPolicy\",\n",
        "    \"env\": env,\n",
        "    \"replay_buffer_class\": HerReplayBuffer,\n",
        "    \"replay_buffer_kwargs\": dict(\n",
        "        n_sampled_goal=n_sampled_goal,\n",
        "        goal_selection_strategy=\"future\",\n",
        "    ),\n",
        "    \"verbose\": 1,\n",
        "    \"buffer_size\": int(1e6),\n",
        "    \"learning_rate\": 1e-3,\n",
        "    \"gamma\": 0.95,\n",
        "    \"batch_size\": 256,\n",
        "    \"policy_kwargs\": dict(net_arch=[256, 256, 256]),\n",
        "    \"tensorboard_log\": LOG_DIR,\n",
        "}\n"
      ],
      "metadata": {
        "id": "0BQnQjNQCfcn"
      },
      "execution_count": 8,
      "outputs": []
    },
    {
      "cell_type": "code",
      "source": [
        "# ====================================================\n",
        "# Find latest checkpoint if available\n",
        "# ====================================================\n",
        "def get_latest_checkpoint(checkpoint_dir):\n",
        "    ckpts = glob.glob(os.path.join(checkpoint_dir, \"model_checkpoint_*_steps.zip\"))\n",
        "    if not ckpts:\n",
        "        return None\n",
        "    # sort by step count (extract integer from filename)\n",
        "    ckpts_sorted = sorted(ckpts, key=lambda x: int(x.split(\"_\")[-2]))\n",
        "    return ckpts_sorted[-1]\n",
        "\n",
        "latest_ckpt = get_latest_checkpoint(CHECKPOINT_DIR)\n"
      ],
      "metadata": {
        "id": "8UUl3lCFCiRF"
      },
      "execution_count": 9,
      "outputs": []
    },
    {
      "cell_type": "code",
      "source": [
        "# ====================================================\n",
        "# Load model + buffer if checkpoint or base model exists\n",
        "# ====================================================\n",
        "if latest_ckpt is not None:\n",
        "    print(f\"🔄 Resuming from latest checkpoint: {latest_ckpt}\")\n",
        "    model = SAC.load(latest_ckpt, env=env)\n",
        "    model.set_env(env)\n",
        "\n",
        "    # buffer_path = latest_ckpt.replace(\".zip\", \"_replay_buffer\")\n",
        "    buffer_path = latest_ckpt.replace(\".zip\", \"_replay_buffer.pkl\")\n",
        "    if os.path.exists(buffer_path):\n",
        "        print(\"🔄 Loading replay buffer from checkpoint...\")\n",
        "        model.load_replay_buffer(buffer_path)\n",
        "    else:\n",
        "        print(\"⚠️ No replay buffer found for checkpoint, starting with empty buffer.\")\n",
        "\n",
        "elif os.path.exists(MODEL_PATH + \".zip\"):\n",
        "    print(f\"🔄 Loading base model from {MODEL_PATH}\")\n",
        "    model = SAC.load(MODEL_PATH, env=env)\n",
        "    model.set_env(env)\n",
        "\n",
        "    buffer_path = MODEL_PATH + \"_replay_buffer\"\n",
        "    if os.path.exists(buffer_path):\n",
        "        print(\"🔄 Loading replay buffer...\")\n",
        "        model.load_replay_buffer(buffer_path)\n",
        "    else:\n",
        "        print(\"⚠️ No replay buffer found for base model, starting with empty buffer.\")\n",
        "\n",
        "else:\n",
        "    print(\"🆕 Creating new model\")\n",
        "    model = SAC(**model_kwargs)\n"
      ],
      "metadata": {
        "colab": {
          "base_uri": "https://localhost:8080/"
        },
        "id": "a3Jx_No3Ck8O",
        "outputId": "d8e24a12-e167-4843-bb5d-52b814b4145f"
      },
      "execution_count": 10,
      "outputs": [
        {
          "output_type": "stream",
          "name": "stdout",
          "text": [
            "🔄 Resuming from latest checkpoint: /content/drive/MyDrive/Colab Notebooks/Reinforcement_learning/Stable_Baseline/SAC_Highway/logs/checkpoints/model_checkpoint_10000_steps.zip\n",
            "🔄 Loading replay buffer from checkpoint...\n"
          ]
        }
      ]
    },
    {
      "cell_type": "code",
      "source": [
        "# ====================================================\n",
        "# Logger\n",
        "# ====================================================\n",
        "new_logger = configure(LOG_DIR, [\"stdout\", \"csv\", \"tensorboard\"])\n",
        "model.set_logger(new_logger)"
      ],
      "metadata": {
        "colab": {
          "base_uri": "https://localhost:8080/"
        },
        "id": "cYajBq3CCoX7",
        "outputId": "01e2fbad-9eec-44ed-aa51-cfb2c366c5d2"
      },
      "execution_count": 11,
      "outputs": [
        {
          "output_type": "stream",
          "name": "stdout",
          "text": [
            "Logging to /content/drive/MyDrive/Colab Notebooks/Reinforcement_learning/Stable_Baseline/SAC_Highway/logs\n"
          ]
        }
      ]
    },
    {
      "cell_type": "code",
      "source": [
        "# ====================================================\n",
        "# Callbacks\n",
        "# ====================================================\n",
        "eval_callback = EvalCallback(\n",
        "    env,\n",
        "    best_model_save_path=BEST_MODEL_PATH,\n",
        "    log_path=LOG_DIR,\n",
        "    eval_freq=EVAL_FREQ,\n",
        "    n_eval_episodes=N_EVAL_EPISODES,\n",
        "    deterministic=True,\n",
        "    render=False,\n",
        "    verbose=1\n",
        ")\n",
        "\n",
        "checkpoint_with_buffer_callback = CheckpointWithBufferCallback(\n",
        "    save_freq=EVAL_FREQ,\n",
        "    save_path=CHECKPOINT_DIR,\n",
        "    name_prefix=\"model_checkpoint\",\n",
        "    keep_last=1,\n",
        "    verbose=1\n",
        ")"
      ],
      "metadata": {
        "id": "fn8U42eHCsO_"
      },
      "execution_count": 12,
      "outputs": []
    },
    {
      "cell_type": "code",
      "source": [
        "# ====================================================\n",
        "# Train\n",
        "# ====================================================\n",
        "print(f\"🚀 Starting training - outputs in {BASE_DIR}\")\n",
        "model.learn(\n",
        "    total_timesteps=TOTAL_TIMESTEPS,\n",
        "    callback=[eval_callback, checkpoint_with_buffer_callback],\n",
        "    tb_log_name=\"SAC_HER\",\n",
        "    reset_num_timesteps=False,   # keep logs continuous\n",
        "    progress_bar=True\n",
        ")\n",
        "\n",
        "# ====================================================\n",
        "# Save final model + buffer\n",
        "# ====================================================\n",
        "model.save(MODEL_PATH)\n",
        "model.save_replay_buffer(MODEL_PATH + \"_replay_buffer\")\n",
        "\n",
        "print(f\"✅ Training completed. Final model saved to {MODEL_PATH}\")\n",
        "print(f\"✅ Replay buffer saved to {MODEL_PATH}_replay_buffer\")\n",
        "print(f\"✅ Best model saved to {BEST_MODEL_PATH}\")\n",
        "print(f\"✅ Logs and checkpoints saved to {LOG_DIR}\")"
      ],
      "metadata": {
        "colab": {
          "base_uri": "https://localhost:8080/",
          "height": 1000,
          "referenced_widgets": [
            "a8842ccf3e1d4557932bd873e06bede2",
            "466619bb226a4e07a9f5600601ad631c"
          ]
        },
        "collapsed": true,
        "id": "4YySLTA4Cvau",
        "outputId": "c7497402-06d7-4364-c53d-c3006a414b46"
      },
      "execution_count": 13,
      "outputs": [
        {
          "output_type": "display_data",
          "data": {
            "text/plain": [
              "Output()"
            ],
            "application/vnd.jupyter.widget-view+json": {
              "version_major": 2,
              "version_minor": 0,
              "model_id": "a8842ccf3e1d4557932bd873e06bede2"
            }
          },
          "metadata": {}
        },
        {
          "output_type": "stream",
          "name": "stdout",
          "text": [
            "🚀 Starting training - outputs in /content/drive/MyDrive/Colab Notebooks/Reinforcement_learning/Stable_Baseline/SAC_Highway\n",
            "---------------------------------\n",
            "| rollout/           |          |\n",
            "|    ep_len_mean     | 80.8     |\n",
            "|    ep_rew_mean     | -41.3    |\n",
            "|    success_rate    | 0.02     |\n",
            "| time/              |          |\n",
            "|    episodes        | 116      |\n",
            "|    fps             | 10       |\n",
            "|    time_elapsed    | 3        |\n",
            "|    total_timesteps | 10041    |\n",
            "| train/             |          |\n",
            "|    actor_loss      | 2.58     |\n",
            "|    critic_loss     | 0.00992  |\n",
            "|    ent_coef        | 0.0044   |\n",
            "|    ent_coef_loss   | 1.56     |\n",
            "|    learning_rate   | 0.001    |\n",
            "|    n_updates       | 9939     |\n",
            "---------------------------------\n",
            "---------------------------------\n",
            "| rollout/           |          |\n",
            "|    ep_len_mean     | 83       |\n",
            "|    ep_rew_mean     | -41      |\n",
            "|    success_rate    | 0.02     |\n",
            "| time/              |          |\n",
            "|    episodes        | 120      |\n",
            "|    fps             | 29       |\n",
            "|    time_elapsed    | 20       |\n",
            "|    total_timesteps | 10609    |\n",
            "| train/             |          |\n",
            "|    actor_loss      | 2.56     |\n",
            "|    critic_loss     | 0.00659  |\n",
            "|    ent_coef        | 0.00471  |\n",
            "|    ent_coef_loss   | 1.3      |\n",
            "|    learning_rate   | 0.001    |\n",
            "|    n_updates       | 10507    |\n",
            "---------------------------------\n",
            "---------------------------------\n",
            "| rollout/           |          |\n",
            "|    ep_len_mean     | 82.6     |\n",
            "|    ep_rew_mean     | -40.4    |\n",
            "|    success_rate    | 0.03     |\n",
            "| time/              |          |\n",
            "|    episodes        | 124      |\n",
            "|    fps             | 31       |\n",
            "|    time_elapsed    | 24       |\n",
            "|    total_timesteps | 10771    |\n",
            "| train/             |          |\n",
            "|    actor_loss      | 2.39     |\n",
            "|    critic_loss     | 0.00605  |\n",
            "|    ent_coef        | 0.00452  |\n",
            "|    ent_coef_loss   | -1.35    |\n",
            "|    learning_rate   | 0.001    |\n",
            "|    n_updates       | 10669    |\n",
            "---------------------------------\n"
          ]
        },
        {
          "output_type": "display_data",
          "data": {
            "text/plain": [
              "Eval num_timesteps=11000, episode_reward=-32.04 +/- 30.09\n"
            ],
            "text/html": [
              "<pre style=\"white-space:pre;overflow-x:auto;line-height:normal;font-family:Menlo,'DejaVu Sans Mono',consolas,'Courier New',monospace\">Eval num_timesteps=11000, episode_reward=-32.04 +/- 30.09\n",
              "</pre>\n"
            ]
          },
          "metadata": {}
        },
        {
          "output_type": "display_data",
          "data": {
            "text/plain": [
              "Episode length: 132.60 +/- 186.15\n"
            ],
            "text/html": [
              "<pre style=\"white-space:pre;overflow-x:auto;line-height:normal;font-family:Menlo,'DejaVu Sans Mono',consolas,'Courier New',monospace\">Episode length: 132.60 +/- 186.15\n",
              "</pre>\n"
            ]
          },
          "metadata": {}
        },
        {
          "output_type": "display_data",
          "data": {
            "text/plain": [
              "Success rate: 0.00%\n"
            ],
            "text/html": [
              "<pre style=\"white-space:pre;overflow-x:auto;line-height:normal;font-family:Menlo,'DejaVu Sans Mono',consolas,'Courier New',monospace\">Success rate: 0.00%\n",
              "</pre>\n"
            ]
          },
          "metadata": {}
        },
        {
          "output_type": "stream",
          "name": "stdout",
          "text": [
            "---------------------------------\n",
            "| eval/              |          |\n",
            "|    mean_ep_length  | 133      |\n",
            "|    mean_reward     | -32      |\n",
            "|    success_rate    | 0        |\n",
            "| time/              |          |\n",
            "|    total_timesteps | 11000    |\n",
            "| train/             |          |\n",
            "|    actor_loss      | 2.56     |\n",
            "|    critic_loss     | 0.0142   |\n",
            "|    ent_coef        | 0.00474  |\n",
            "|    ent_coef_loss   | -0.749   |\n",
            "|    learning_rate   | 0.001    |\n",
            "|    n_updates       | 10898    |\n",
            "---------------------------------\n"
          ]
        },
        {
          "output_type": "display_data",
          "data": {
            "text/plain": [
              "New best mean reward!\n"
            ],
            "text/html": [
              "<pre style=\"white-space:pre;overflow-x:auto;line-height:normal;font-family:Menlo,'DejaVu Sans Mono',consolas,'Courier New',monospace\">New best mean reward!\n",
              "</pre>\n"
            ]
          },
          "metadata": {}
        },
        {
          "output_type": "display_data",
          "data": {
            "text/plain": [
              "✅ Saved checkpoint at 1000 steps\n"
            ],
            "text/html": [
              "<pre style=\"white-space:pre;overflow-x:auto;line-height:normal;font-family:Menlo,'DejaVu Sans Mono',consolas,'Courier New',monospace\">✅ Saved checkpoint at 1000 steps\n",
              "</pre>\n"
            ]
          },
          "metadata": {}
        },
        {
          "output_type": "display_data",
          "data": {
            "text/plain": [
              "🗑️ Removed old checkpoint: /content/drive/MyDrive/Colab \n",
              "Notebooks/Reinforcement_learning/Stable_Baseline/SAC_Highway/logs/checkpoints/model_checkpoint_1000_steps.zip\n"
            ],
            "text/html": [
              "<pre style=\"white-space:pre;overflow-x:auto;line-height:normal;font-family:Menlo,'DejaVu Sans Mono',consolas,'Courier New',monospace\">🗑️ Removed old checkpoint: /content/drive/MyDrive/Colab \n",
              "Notebooks/Reinforcement_learning/Stable_Baseline/SAC_Highway/logs/checkpoints/model_checkpoint_1000_steps.zip\n",
              "</pre>\n"
            ]
          },
          "metadata": {}
        },
        {
          "output_type": "display_data",
          "data": {
            "text/plain": [
              "🗑️ Removed old checkpoint: /content/drive/MyDrive/Colab \n",
              "Notebooks/Reinforcement_learning/Stable_Baseline/SAC_Highway/logs/checkpoints/model_checkpoint_8000_steps.zip\n"
            ],
            "text/html": [
              "<pre style=\"white-space:pre;overflow-x:auto;line-height:normal;font-family:Menlo,'DejaVu Sans Mono',consolas,'Courier New',monospace\">🗑️ Removed old checkpoint: /content/drive/MyDrive/Colab \n",
              "Notebooks/Reinforcement_learning/Stable_Baseline/SAC_Highway/logs/checkpoints/model_checkpoint_8000_steps.zip\n",
              "</pre>\n"
            ]
          },
          "metadata": {}
        },
        {
          "output_type": "display_data",
          "data": {
            "text/plain": [
              "🗑️ Removed old checkpoint: /content/drive/MyDrive/Colab \n",
              "Notebooks/Reinforcement_learning/Stable_Baseline/SAC_Highway/logs/checkpoints/model_checkpoint_9000_steps.zip\n"
            ],
            "text/html": [
              "<pre style=\"white-space:pre;overflow-x:auto;line-height:normal;font-family:Menlo,'DejaVu Sans Mono',consolas,'Courier New',monospace\">🗑️ Removed old checkpoint: /content/drive/MyDrive/Colab \n",
              "Notebooks/Reinforcement_learning/Stable_Baseline/SAC_Highway/logs/checkpoints/model_checkpoint_9000_steps.zip\n",
              "</pre>\n"
            ]
          },
          "metadata": {}
        },
        {
          "output_type": "stream",
          "name": "stdout",
          "text": [
            "---------------------------------\n",
            "| rollout/           |          |\n",
            "|    ep_len_mean     | 81.2     |\n",
            "|    ep_rew_mean     | -39.3    |\n",
            "|    success_rate    | 0.03     |\n",
            "| time/              |          |\n",
            "|    episodes        | 128      |\n",
            "|    fps             | 25       |\n",
            "|    time_elapsed    | 39       |\n",
            "|    total_timesteps | 11025    |\n",
            "| train/             |          |\n",
            "|    actor_loss      | 2.4      |\n",
            "|    critic_loss     | 0.01     |\n",
            "|    ent_coef        | 0.00475  |\n",
            "|    ent_coef_loss   | 1.77     |\n",
            "|    learning_rate   | 0.001    |\n",
            "|    n_updates       | 10923    |\n",
            "---------------------------------\n"
          ]
        },
        {
          "output_type": "display_data",
          "data": {
            "text/plain": [
              "Eval num_timesteps=12000, episode_reward=-48.97 +/- 38.33\n"
            ],
            "text/html": [
              "<pre style=\"white-space:pre;overflow-x:auto;line-height:normal;font-family:Menlo,'DejaVu Sans Mono',consolas,'Courier New',monospace\">Eval num_timesteps=12000, episode_reward=-48.97 +/- 38.33\n",
              "</pre>\n"
            ]
          },
          "metadata": {}
        },
        {
          "output_type": "display_data",
          "data": {
            "text/plain": [
              "Episode length: 228.80 +/- 223.47\n"
            ],
            "text/html": [
              "<pre style=\"white-space:pre;overflow-x:auto;line-height:normal;font-family:Menlo,'DejaVu Sans Mono',consolas,'Courier New',monospace\">Episode length: 228.80 +/- 223.47\n",
              "</pre>\n"
            ]
          },
          "metadata": {}
        },
        {
          "output_type": "display_data",
          "data": {
            "text/plain": [
              "Success rate: 0.00%\n"
            ],
            "text/html": [
              "<pre style=\"white-space:pre;overflow-x:auto;line-height:normal;font-family:Menlo,'DejaVu Sans Mono',consolas,'Courier New',monospace\">Success rate: 0.00%\n",
              "</pre>\n"
            ]
          },
          "metadata": {}
        },
        {
          "output_type": "stream",
          "name": "stdout",
          "text": [
            "---------------------------------\n",
            "| eval/              |          |\n",
            "|    mean_ep_length  | 229      |\n",
            "|    mean_reward     | -49      |\n",
            "|    success_rate    | 0        |\n",
            "| time/              |          |\n",
            "|    total_timesteps | 12000    |\n",
            "| train/             |          |\n",
            "|    actor_loss      | 2.39     |\n",
            "|    critic_loss     | 0.0157   |\n",
            "|    ent_coef        | 0.00454  |\n",
            "|    ent_coef_loss   | -1.1     |\n",
            "|    learning_rate   | 0.001    |\n",
            "|    n_updates       | 11898    |\n",
            "---------------------------------\n"
          ]
        },
        {
          "output_type": "display_data",
          "data": {
            "text/plain": [
              "✅ Saved checkpoint at 2000 steps\n"
            ],
            "text/html": [
              "<pre style=\"white-space:pre;overflow-x:auto;line-height:normal;font-family:Menlo,'DejaVu Sans Mono',consolas,'Courier New',monospace\">✅ Saved checkpoint at 2000 steps\n",
              "</pre>\n"
            ]
          },
          "metadata": {}
        },
        {
          "output_type": "display_data",
          "data": {
            "text/plain": [
              "🗑️ Removed old checkpoint: /content/drive/MyDrive/Colab \n",
              "Notebooks/Reinforcement_learning/Stable_Baseline/SAC_Highway/logs/checkpoints/model_checkpoint_2000_steps.zip\n"
            ],
            "text/html": [
              "<pre style=\"white-space:pre;overflow-x:auto;line-height:normal;font-family:Menlo,'DejaVu Sans Mono',consolas,'Courier New',monospace\">🗑️ Removed old checkpoint: /content/drive/MyDrive/Colab \n",
              "Notebooks/Reinforcement_learning/Stable_Baseline/SAC_Highway/logs/checkpoints/model_checkpoint_2000_steps.zip\n",
              "</pre>\n"
            ]
          },
          "metadata": {}
        },
        {
          "output_type": "stream",
          "name": "stdout",
          "text": [
            "---------------------------------\n",
            "| rollout/           |          |\n",
            "|    ep_len_mean     | 76.9     |\n",
            "|    ep_rew_mean     | -35.9    |\n",
            "|    success_rate    | 0.03     |\n",
            "| time/              |          |\n",
            "|    episodes        | 136      |\n",
            "|    fps             | 24       |\n",
            "|    time_elapsed    | 87       |\n",
            "|    total_timesteps | 12160    |\n",
            "| train/             |          |\n",
            "|    actor_loss      | 2.55     |\n",
            "|    critic_loss     | 0.103    |\n",
            "|    ent_coef        | 0.00446  |\n",
            "|    ent_coef_loss   | -0.229   |\n",
            "|    learning_rate   | 0.001    |\n",
            "|    n_updates       | 12058    |\n",
            "---------------------------------\n",
            "---------------------------------\n",
            "| rollout/           |          |\n",
            "|    ep_len_mean     | 67.4     |\n",
            "|    ep_rew_mean     | -29.6    |\n",
            "|    success_rate    | 0.03     |\n",
            "| time/              |          |\n",
            "|    episodes        | 140      |\n",
            "|    fps             | 25       |\n",
            "|    time_elapsed    | 103      |\n",
            "|    total_timesteps | 12673    |\n",
            "| train/             |          |\n",
            "|    actor_loss      | 2.5      |\n",
            "|    critic_loss     | 0.0107   |\n",
            "|    ent_coef        | 0.00435  |\n",
            "|    ent_coef_loss   | -1.7     |\n",
            "|    learning_rate   | 0.001    |\n",
            "|    n_updates       | 12571    |\n",
            "---------------------------------\n"
          ]
        },
        {
          "output_type": "display_data",
          "data": {
            "text/plain": [
              "Eval num_timesteps=13000, episode_reward=-30.79 +/- 36.99\n"
            ],
            "text/html": [
              "<pre style=\"white-space:pre;overflow-x:auto;line-height:normal;font-family:Menlo,'DejaVu Sans Mono',consolas,'Courier New',monospace\">Eval num_timesteps=13000, episode_reward=-30.79 +/- 36.99\n",
              "</pre>\n"
            ]
          },
          "metadata": {}
        },
        {
          "output_type": "display_data",
          "data": {
            "text/plain": [
              "Episode length: 116.40 +/- 191.80\n"
            ],
            "text/html": [
              "<pre style=\"white-space:pre;overflow-x:auto;line-height:normal;font-family:Menlo,'DejaVu Sans Mono',consolas,'Courier New',monospace\">Episode length: 116.40 +/- 191.80\n",
              "</pre>\n"
            ]
          },
          "metadata": {}
        },
        {
          "output_type": "display_data",
          "data": {
            "text/plain": [
              "Success rate: 0.00%\n"
            ],
            "text/html": [
              "<pre style=\"white-space:pre;overflow-x:auto;line-height:normal;font-family:Menlo,'DejaVu Sans Mono',consolas,'Courier New',monospace\">Success rate: 0.00%\n",
              "</pre>\n"
            ]
          },
          "metadata": {}
        },
        {
          "output_type": "stream",
          "name": "stdout",
          "text": [
            "---------------------------------\n",
            "| eval/              |          |\n",
            "|    mean_ep_length  | 116      |\n",
            "|    mean_reward     | -30.8    |\n",
            "|    success_rate    | 0        |\n",
            "| time/              |          |\n",
            "|    total_timesteps | 13000    |\n",
            "| train/             |          |\n",
            "|    actor_loss      | 2.59     |\n",
            "|    critic_loss     | 0.00767  |\n",
            "|    ent_coef        | 0.00431  |\n",
            "|    ent_coef_loss   | 2.25     |\n",
            "|    learning_rate   | 0.001    |\n",
            "|    n_updates       | 12898    |\n",
            "---------------------------------\n"
          ]
        },
        {
          "output_type": "display_data",
          "data": {
            "text/plain": [
              "New best mean reward!\n"
            ],
            "text/html": [
              "<pre style=\"white-space:pre;overflow-x:auto;line-height:normal;font-family:Menlo,'DejaVu Sans Mono',consolas,'Courier New',monospace\">New best mean reward!\n",
              "</pre>\n"
            ]
          },
          "metadata": {}
        },
        {
          "output_type": "display_data",
          "data": {
            "text/plain": [
              "✅ Saved checkpoint at 3000 steps\n"
            ],
            "text/html": [
              "<pre style=\"white-space:pre;overflow-x:auto;line-height:normal;font-family:Menlo,'DejaVu Sans Mono',consolas,'Courier New',monospace\">✅ Saved checkpoint at 3000 steps\n",
              "</pre>\n"
            ]
          },
          "metadata": {}
        },
        {
          "output_type": "display_data",
          "data": {
            "text/plain": [
              "🗑️ Removed old checkpoint: /content/drive/MyDrive/Colab \n",
              "Notebooks/Reinforcement_learning/Stable_Baseline/SAC_Highway/logs/checkpoints/model_checkpoint_3000_steps.zip\n"
            ],
            "text/html": [
              "<pre style=\"white-space:pre;overflow-x:auto;line-height:normal;font-family:Menlo,'DejaVu Sans Mono',consolas,'Courier New',monospace\">🗑️ Removed old checkpoint: /content/drive/MyDrive/Colab \n",
              "Notebooks/Reinforcement_learning/Stable_Baseline/SAC_Highway/logs/checkpoints/model_checkpoint_3000_steps.zip\n",
              "</pre>\n"
            ]
          },
          "metadata": {}
        },
        {
          "output_type": "stream",
          "name": "stdout",
          "text": [
            "---------------------------------\n",
            "| rollout/           |          |\n",
            "|    ep_len_mean     | 72.2     |\n",
            "|    ep_rew_mean     | -29.7    |\n",
            "|    success_rate    | 0.04     |\n",
            "| time/              |          |\n",
            "|    episodes        | 144      |\n",
            "|    fps             | 25       |\n",
            "|    time_elapsed    | 135      |\n",
            "|    total_timesteps | 13530    |\n",
            "| train/             |          |\n",
            "|    actor_loss      | 2.33     |\n",
            "|    critic_loss     | 0.011    |\n",
            "|    ent_coef        | 0.00432  |\n",
            "|    ent_coef_loss   | 0.676    |\n",
            "|    learning_rate   | 0.001    |\n",
            "|    n_updates       | 13428    |\n",
            "---------------------------------\n",
            "---------------------------------\n",
            "| rollout/           |          |\n",
            "|    ep_len_mean     | 64.7     |\n",
            "|    ep_rew_mean     | -25      |\n",
            "|    success_rate    | 0.05     |\n",
            "| time/              |          |\n",
            "|    episodes        | 148      |\n",
            "|    fps             | 26       |\n",
            "|    time_elapsed    | 143      |\n",
            "|    total_timesteps | 13778    |\n",
            "| train/             |          |\n",
            "|    actor_loss      | 2.35     |\n",
            "|    critic_loss     | 0.00665  |\n",
            "|    ent_coef        | 0.00417  |\n",
            "|    ent_coef_loss   | -1.24    |\n",
            "|    learning_rate   | 0.001    |\n",
            "|    n_updates       | 13676    |\n",
            "---------------------------------\n"
          ]
        },
        {
          "output_type": "display_data",
          "data": {
            "text/plain": [
              "Eval num_timesteps=14000, episode_reward=-31.69 +/- 37.08\n"
            ],
            "text/html": [
              "<pre style=\"white-space:pre;overflow-x:auto;line-height:normal;font-family:Menlo,'DejaVu Sans Mono',consolas,'Courier New',monospace\">Eval num_timesteps=14000, episode_reward=-31.69 +/- 37.08\n",
              "</pre>\n"
            ]
          },
          "metadata": {}
        },
        {
          "output_type": "display_data",
          "data": {
            "text/plain": [
              "Episode length: 115.80 +/- 192.11\n"
            ],
            "text/html": [
              "<pre style=\"white-space:pre;overflow-x:auto;line-height:normal;font-family:Menlo,'DejaVu Sans Mono',consolas,'Courier New',monospace\">Episode length: 115.80 +/- 192.11\n",
              "</pre>\n"
            ]
          },
          "metadata": {}
        },
        {
          "output_type": "display_data",
          "data": {
            "text/plain": [
              "Success rate: 0.00%\n"
            ],
            "text/html": [
              "<pre style=\"white-space:pre;overflow-x:auto;line-height:normal;font-family:Menlo,'DejaVu Sans Mono',consolas,'Courier New',monospace\">Success rate: 0.00%\n",
              "</pre>\n"
            ]
          },
          "metadata": {}
        },
        {
          "output_type": "stream",
          "name": "stdout",
          "text": [
            "---------------------------------\n",
            "| eval/              |          |\n",
            "|    mean_ep_length  | 116      |\n",
            "|    mean_reward     | -31.7    |\n",
            "|    success_rate    | 0        |\n",
            "| time/              |          |\n",
            "|    total_timesteps | 14000    |\n",
            "| train/             |          |\n",
            "|    actor_loss      | 2.52     |\n",
            "|    critic_loss     | 0.00702  |\n",
            "|    ent_coef        | 0.00403  |\n",
            "|    ent_coef_loss   | 0.557    |\n",
            "|    learning_rate   | 0.001    |\n",
            "|    n_updates       | 13898    |\n",
            "---------------------------------\n"
          ]
        },
        {
          "output_type": "display_data",
          "data": {
            "text/plain": [
              "✅ Saved checkpoint at 4000 steps\n"
            ],
            "text/html": [
              "<pre style=\"white-space:pre;overflow-x:auto;line-height:normal;font-family:Menlo,'DejaVu Sans Mono',consolas,'Courier New',monospace\">✅ Saved checkpoint at 4000 steps\n",
              "</pre>\n"
            ]
          },
          "metadata": {}
        },
        {
          "output_type": "display_data",
          "data": {
            "text/plain": [
              "🗑️ Removed old checkpoint: /content/drive/MyDrive/Colab \n",
              "Notebooks/Reinforcement_learning/Stable_Baseline/SAC_Highway/logs/checkpoints/model_checkpoint_4000_steps.zip\n"
            ],
            "text/html": [
              "<pre style=\"white-space:pre;overflow-x:auto;line-height:normal;font-family:Menlo,'DejaVu Sans Mono',consolas,'Courier New',monospace\">🗑️ Removed old checkpoint: /content/drive/MyDrive/Colab \n",
              "Notebooks/Reinforcement_learning/Stable_Baseline/SAC_Highway/logs/checkpoints/model_checkpoint_4000_steps.zip\n",
              "</pre>\n"
            ]
          },
          "metadata": {}
        },
        {
          "output_type": "display_data",
          "data": {
            "text/plain": [
              "Eval num_timesteps=15000, episode_reward=-30.63 +/- 43.73\n"
            ],
            "text/html": [
              "<pre style=\"white-space:pre;overflow-x:auto;line-height:normal;font-family:Menlo,'DejaVu Sans Mono',consolas,'Courier New',monospace\">Eval num_timesteps=15000, episode_reward=-30.63 +/- 43.73\n",
              "</pre>\n"
            ]
          },
          "metadata": {}
        },
        {
          "output_type": "display_data",
          "data": {
            "text/plain": [
              "Episode length: 115.40 +/- 192.30\n"
            ],
            "text/html": [
              "<pre style=\"white-space:pre;overflow-x:auto;line-height:normal;font-family:Menlo,'DejaVu Sans Mono',consolas,'Courier New',monospace\">Episode length: 115.40 +/- 192.30\n",
              "</pre>\n"
            ]
          },
          "metadata": {}
        },
        {
          "output_type": "display_data",
          "data": {
            "text/plain": [
              "Success rate: 40.00%\n"
            ],
            "text/html": [
              "<pre style=\"white-space:pre;overflow-x:auto;line-height:normal;font-family:Menlo,'DejaVu Sans Mono',consolas,'Courier New',monospace\">Success rate: 40.00%\n",
              "</pre>\n"
            ]
          },
          "metadata": {}
        },
        {
          "output_type": "stream",
          "name": "stdout",
          "text": [
            "---------------------------------\n",
            "| eval/              |          |\n",
            "|    mean_ep_length  | 115      |\n",
            "|    mean_reward     | -30.6    |\n",
            "|    success_rate    | 0.4      |\n",
            "| time/              |          |\n",
            "|    total_timesteps | 15000    |\n",
            "| train/             |          |\n",
            "|    actor_loss      | 2.54     |\n",
            "|    critic_loss     | 0.00932  |\n",
            "|    ent_coef        | 0.00388  |\n",
            "|    ent_coef_loss   | 1.15     |\n",
            "|    learning_rate   | 0.001    |\n",
            "|    n_updates       | 14898    |\n",
            "---------------------------------\n"
          ]
        },
        {
          "output_type": "display_data",
          "data": {
            "text/plain": [
              "New best mean reward!\n"
            ],
            "text/html": [
              "<pre style=\"white-space:pre;overflow-x:auto;line-height:normal;font-family:Menlo,'DejaVu Sans Mono',consolas,'Courier New',monospace\">New best mean reward!\n",
              "</pre>\n"
            ]
          },
          "metadata": {}
        },
        {
          "output_type": "display_data",
          "data": {
            "text/plain": [
              "✅ Saved checkpoint at 5000 steps\n"
            ],
            "text/html": [
              "<pre style=\"white-space:pre;overflow-x:auto;line-height:normal;font-family:Menlo,'DejaVu Sans Mono',consolas,'Courier New',monospace\">✅ Saved checkpoint at 5000 steps\n",
              "</pre>\n"
            ]
          },
          "metadata": {}
        },
        {
          "output_type": "display_data",
          "data": {
            "text/plain": [
              "🗑️ Removed old checkpoint: /content/drive/MyDrive/Colab \n",
              "Notebooks/Reinforcement_learning/Stable_Baseline/SAC_Highway/logs/checkpoints/model_checkpoint_5000_steps.zip\n"
            ],
            "text/html": [
              "<pre style=\"white-space:pre;overflow-x:auto;line-height:normal;font-family:Menlo,'DejaVu Sans Mono',consolas,'Courier New',monospace\">🗑️ Removed old checkpoint: /content/drive/MyDrive/Colab \n",
              "Notebooks/Reinforcement_learning/Stable_Baseline/SAC_Highway/logs/checkpoints/model_checkpoint_5000_steps.zip\n",
              "</pre>\n"
            ]
          },
          "metadata": {}
        },
        {
          "output_type": "stream",
          "name": "stdout",
          "text": [
            "---------------------------------\n",
            "| rollout/           |          |\n",
            "|    ep_len_mean     | 76.3     |\n",
            "|    ep_rew_mean     | -26.9    |\n",
            "|    success_rate    | 0.05     |\n",
            "| time/              |          |\n",
            "|    episodes        | 152      |\n",
            "|    fps             | 25       |\n",
            "|    time_elapsed    | 207      |\n",
            "|    total_timesteps | 15357    |\n",
            "| train/             |          |\n",
            "|    actor_loss      | 2.19     |\n",
            "|    critic_loss     | 0.00918  |\n",
            "|    ent_coef        | 0.00371  |\n",
            "|    ent_coef_loss   | -1.79    |\n",
            "|    learning_rate   | 0.001    |\n",
            "|    n_updates       | 15255    |\n",
            "---------------------------------\n"
          ]
        },
        {
          "output_type": "display_data",
          "data": {
            "text/plain": [
              "Eval num_timesteps=16000, episode_reward=-71.91 +/- 34.69\n"
            ],
            "text/html": [
              "<pre style=\"white-space:pre;overflow-x:auto;line-height:normal;font-family:Menlo,'DejaVu Sans Mono',consolas,'Courier New',monospace\">Eval num_timesteps=16000, episode_reward=-71.91 +/- 34.69\n",
              "</pre>\n"
            ]
          },
          "metadata": {}
        },
        {
          "output_type": "display_data",
          "data": {
            "text/plain": [
              "Episode length: 406.60 +/- 186.80\n"
            ],
            "text/html": [
              "<pre style=\"white-space:pre;overflow-x:auto;line-height:normal;font-family:Menlo,'DejaVu Sans Mono',consolas,'Courier New',monospace\">Episode length: 406.60 +/- 186.80\n",
              "</pre>\n"
            ]
          },
          "metadata": {}
        },
        {
          "output_type": "display_data",
          "data": {
            "text/plain": [
              "Success rate: 20.00%\n"
            ],
            "text/html": [
              "<pre style=\"white-space:pre;overflow-x:auto;line-height:normal;font-family:Menlo,'DejaVu Sans Mono',consolas,'Courier New',monospace\">Success rate: 20.00%\n",
              "</pre>\n"
            ]
          },
          "metadata": {}
        },
        {
          "output_type": "stream",
          "name": "stdout",
          "text": [
            "---------------------------------\n",
            "| eval/              |          |\n",
            "|    mean_ep_length  | 407      |\n",
            "|    mean_reward     | -71.9    |\n",
            "|    success_rate    | 0.2      |\n",
            "| time/              |          |\n",
            "|    total_timesteps | 16000    |\n",
            "| train/             |          |\n",
            "|    actor_loss      | 2.27     |\n",
            "|    critic_loss     | 0.00826  |\n",
            "|    ent_coef        | 0.00376  |\n",
            "|    ent_coef_loss   | -0.0291  |\n",
            "|    learning_rate   | 0.001    |\n",
            "|    n_updates       | 15898    |\n",
            "---------------------------------\n"
          ]
        },
        {
          "output_type": "display_data",
          "data": {
            "text/plain": [
              "✅ Saved checkpoint at 6000 steps\n"
            ],
            "text/html": [
              "<pre style=\"white-space:pre;overflow-x:auto;line-height:normal;font-family:Menlo,'DejaVu Sans Mono',consolas,'Courier New',monospace\">✅ Saved checkpoint at 6000 steps\n",
              "</pre>\n"
            ]
          },
          "metadata": {}
        },
        {
          "output_type": "display_data",
          "data": {
            "text/plain": [
              "🗑️ Removed old checkpoint: /content/drive/MyDrive/Colab \n",
              "Notebooks/Reinforcement_learning/Stable_Baseline/SAC_Highway/logs/checkpoints/model_checkpoint_6000_steps.zip\n"
            ],
            "text/html": [
              "<pre style=\"white-space:pre;overflow-x:auto;line-height:normal;font-family:Menlo,'DejaVu Sans Mono',consolas,'Courier New',monospace\">🗑️ Removed old checkpoint: /content/drive/MyDrive/Colab \n",
              "Notebooks/Reinforcement_learning/Stable_Baseline/SAC_Highway/logs/checkpoints/model_checkpoint_6000_steps.zip\n",
              "</pre>\n"
            ]
          },
          "metadata": {}
        },
        {
          "output_type": "stream",
          "name": "stdout",
          "text": [
            "---------------------------------\n",
            "| rollout/           |          |\n",
            "|    ep_len_mean     | 80.1     |\n",
            "|    ep_rew_mean     | -27.4    |\n",
            "|    success_rate    | 0.06     |\n",
            "| time/              |          |\n",
            "|    episodes        | 156      |\n",
            "|    fps             | 24       |\n",
            "|    time_elapsed    | 250      |\n",
            "|    total_timesteps | 16038    |\n",
            "| train/             |          |\n",
            "|    actor_loss      | 2.42     |\n",
            "|    critic_loss     | 0.00718  |\n",
            "|    ent_coef        | 0.00377  |\n",
            "|    ent_coef_loss   | 1.96     |\n",
            "|    learning_rate   | 0.001    |\n",
            "|    n_updates       | 15936    |\n",
            "---------------------------------\n",
            "---------------------------------\n",
            "| rollout/           |          |\n",
            "|    ep_len_mean     | 82.9     |\n",
            "|    ep_rew_mean     | -26.3    |\n",
            "|    success_rate    | 0.08     |\n",
            "| time/              |          |\n",
            "|    episodes        | 160      |\n",
            "|    fps             | 24       |\n",
            "|    time_elapsed    | 274      |\n",
            "|    total_timesteps | 16865    |\n",
            "| train/             |          |\n",
            "|    actor_loss      | 2.42     |\n",
            "|    critic_loss     | 0.00865  |\n",
            "|    ent_coef        | 0.0038   |\n",
            "|    ent_coef_loss   | 0.542    |\n",
            "|    learning_rate   | 0.001    |\n",
            "|    n_updates       | 16763    |\n",
            "---------------------------------\n"
          ]
        },
        {
          "output_type": "display_data",
          "data": {
            "text/plain": [
              "Eval num_timesteps=17000, episode_reward=-69.05 +/- 38.22\n"
            ],
            "text/html": [
              "<pre style=\"white-space:pre;overflow-x:auto;line-height:normal;font-family:Menlo,'DejaVu Sans Mono',consolas,'Courier New',monospace\">Eval num_timesteps=17000, episode_reward=-69.05 +/- 38.22\n",
              "</pre>\n"
            ]
          },
          "metadata": {}
        },
        {
          "output_type": "display_data",
          "data": {
            "text/plain": [
              "Episode length: 317.80 +/- 223.42\n"
            ],
            "text/html": [
              "<pre style=\"white-space:pre;overflow-x:auto;line-height:normal;font-family:Menlo,'DejaVu Sans Mono',consolas,'Courier New',monospace\">Episode length: 317.80 +/- 223.42\n",
              "</pre>\n"
            ]
          },
          "metadata": {}
        },
        {
          "output_type": "display_data",
          "data": {
            "text/plain": [
              "Success rate: 0.00%\n"
            ],
            "text/html": [
              "<pre style=\"white-space:pre;overflow-x:auto;line-height:normal;font-family:Menlo,'DejaVu Sans Mono',consolas,'Courier New',monospace\">Success rate: 0.00%\n",
              "</pre>\n"
            ]
          },
          "metadata": {}
        },
        {
          "output_type": "stream",
          "name": "stdout",
          "text": [
            "---------------------------------\n",
            "| eval/              |          |\n",
            "|    mean_ep_length  | 318      |\n",
            "|    mean_reward     | -69      |\n",
            "|    success_rate    | 0        |\n",
            "| time/              |          |\n",
            "|    total_timesteps | 17000    |\n",
            "| train/             |          |\n",
            "|    actor_loss      | 2.37     |\n",
            "|    critic_loss     | 0.00928  |\n",
            "|    ent_coef        | 0.00373  |\n",
            "|    ent_coef_loss   | -0.841   |\n",
            "|    learning_rate   | 0.001    |\n",
            "|    n_updates       | 16898    |\n",
            "---------------------------------\n"
          ]
        },
        {
          "output_type": "display_data",
          "data": {
            "text/plain": [
              "✅ Saved checkpoint at 7000 steps\n"
            ],
            "text/html": [
              "<pre style=\"white-space:pre;overflow-x:auto;line-height:normal;font-family:Menlo,'DejaVu Sans Mono',consolas,'Courier New',monospace\">✅ Saved checkpoint at 7000 steps\n",
              "</pre>\n"
            ]
          },
          "metadata": {}
        },
        {
          "output_type": "display_data",
          "data": {
            "text/plain": [
              "🗑️ Removed old checkpoint: /content/drive/MyDrive/Colab \n",
              "Notebooks/Reinforcement_learning/Stable_Baseline/SAC_Highway/logs/checkpoints/model_checkpoint_7000_steps.zip\n"
            ],
            "text/html": [
              "<pre style=\"white-space:pre;overflow-x:auto;line-height:normal;font-family:Menlo,'DejaVu Sans Mono',consolas,'Courier New',monospace\">🗑️ Removed old checkpoint: /content/drive/MyDrive/Colab \n",
              "Notebooks/Reinforcement_learning/Stable_Baseline/SAC_Highway/logs/checkpoints/model_checkpoint_7000_steps.zip\n",
              "</pre>\n"
            ]
          },
          "metadata": {}
        },
        {
          "output_type": "stream",
          "name": "stdout",
          "text": [
            "---------------------------------\n",
            "| rollout/           |          |\n",
            "|    ep_len_mean     | 87.3     |\n",
            "|    ep_rew_mean     | -27.2    |\n",
            "|    success_rate    | 0.08     |\n",
            "| time/              |          |\n",
            "|    episodes        | 164      |\n",
            "|    fps             | 24       |\n",
            "|    time_elapsed    | 311      |\n",
            "|    total_timesteps | 17550    |\n",
            "| train/             |          |\n",
            "|    actor_loss      | 2.35     |\n",
            "|    critic_loss     | 0.00634  |\n",
            "|    ent_coef        | 0.00352  |\n",
            "|    ent_coef_loss   | -0.516   |\n",
            "|    learning_rate   | 0.001    |\n",
            "|    n_updates       | 17448    |\n",
            "---------------------------------\n",
            "---------------------------------\n",
            "| rollout/           |          |\n",
            "|    ep_len_mean     | 86.9     |\n",
            "|    ep_rew_mean     | -26.7    |\n",
            "|    success_rate    | 0.12     |\n",
            "| time/              |          |\n",
            "|    episodes        | 168      |\n",
            "|    fps             | 24       |\n",
            "|    time_elapsed    | 315      |\n",
            "|    total_timesteps | 17664    |\n",
            "| train/             |          |\n",
            "|    actor_loss      | 2.39     |\n",
            "|    critic_loss     | 0.0141   |\n",
            "|    ent_coef        | 0.00366  |\n",
            "|    ent_coef_loss   | -1.98    |\n",
            "|    learning_rate   | 0.001    |\n",
            "|    n_updates       | 17562    |\n",
            "---------------------------------\n"
          ]
        },
        {
          "output_type": "display_data",
          "data": {
            "text/plain": [
              "Eval num_timesteps=18000, episode_reward=-11.24 +/- 2.93\n"
            ],
            "text/html": [
              "<pre style=\"white-space:pre;overflow-x:auto;line-height:normal;font-family:Menlo,'DejaVu Sans Mono',consolas,'Courier New',monospace\">Eval num_timesteps=18000, episode_reward=-11.24 +/- 2.93\n",
              "</pre>\n"
            ]
          },
          "metadata": {}
        },
        {
          "output_type": "display_data",
          "data": {
            "text/plain": [
              "Episode length: 22.60 +/- 7.28\n"
            ],
            "text/html": [
              "<pre style=\"white-space:pre;overflow-x:auto;line-height:normal;font-family:Menlo,'DejaVu Sans Mono',consolas,'Courier New',monospace\">Episode length: 22.60 +/- 7.28\n",
              "</pre>\n"
            ]
          },
          "metadata": {}
        },
        {
          "output_type": "display_data",
          "data": {
            "text/plain": [
              "Success rate: 40.00%\n"
            ],
            "text/html": [
              "<pre style=\"white-space:pre;overflow-x:auto;line-height:normal;font-family:Menlo,'DejaVu Sans Mono',consolas,'Courier New',monospace\">Success rate: 40.00%\n",
              "</pre>\n"
            ]
          },
          "metadata": {}
        },
        {
          "output_type": "stream",
          "name": "stdout",
          "text": [
            "---------------------------------\n",
            "| eval/              |          |\n",
            "|    mean_ep_length  | 22.6     |\n",
            "|    mean_reward     | -11.2    |\n",
            "|    success_rate    | 0.4      |\n",
            "| time/              |          |\n",
            "|    total_timesteps | 18000    |\n",
            "| train/             |          |\n",
            "|    actor_loss      | 2.09     |\n",
            "|    critic_loss     | 0.0124   |\n",
            "|    ent_coef        | 0.00363  |\n",
            "|    ent_coef_loss   | 0.611    |\n",
            "|    learning_rate   | 0.001    |\n",
            "|    n_updates       | 17898    |\n",
            "---------------------------------\n"
          ]
        },
        {
          "output_type": "display_data",
          "data": {
            "text/plain": [
              "New best mean reward!\n"
            ],
            "text/html": [
              "<pre style=\"white-space:pre;overflow-x:auto;line-height:normal;font-family:Menlo,'DejaVu Sans Mono',consolas,'Courier New',monospace\">New best mean reward!\n",
              "</pre>\n"
            ]
          },
          "metadata": {}
        },
        {
          "output_type": "display_data",
          "data": {
            "text/plain": [
              "✅ Saved checkpoint at 8000 steps\n"
            ],
            "text/html": [
              "<pre style=\"white-space:pre;overflow-x:auto;line-height:normal;font-family:Menlo,'DejaVu Sans Mono',consolas,'Courier New',monospace\">✅ Saved checkpoint at 8000 steps\n",
              "</pre>\n"
            ]
          },
          "metadata": {}
        },
        {
          "output_type": "display_data",
          "data": {
            "text/plain": [
              "🗑️ Removed old checkpoint: /content/drive/MyDrive/Colab \n",
              "Notebooks/Reinforcement_learning/Stable_Baseline/SAC_Highway/logs/checkpoints/model_checkpoint_8000_steps.zip\n"
            ],
            "text/html": [
              "<pre style=\"white-space:pre;overflow-x:auto;line-height:normal;font-family:Menlo,'DejaVu Sans Mono',consolas,'Courier New',monospace\">🗑️ Removed old checkpoint: /content/drive/MyDrive/Colab \n",
              "Notebooks/Reinforcement_learning/Stable_Baseline/SAC_Highway/logs/checkpoints/model_checkpoint_8000_steps.zip\n",
              "</pre>\n"
            ]
          },
          "metadata": {}
        },
        {
          "output_type": "stream",
          "name": "stdout",
          "text": [
            "---------------------------------\n",
            "| rollout/           |          |\n",
            "|    ep_len_mean     | 86.6     |\n",
            "|    ep_rew_mean     | -26.5    |\n",
            "|    success_rate    | 0.14     |\n",
            "| time/              |          |\n",
            "|    episodes        | 172      |\n",
            "|    fps             | 24       |\n",
            "|    time_elapsed    | 329      |\n",
            "|    total_timesteps | 18059    |\n",
            "| train/             |          |\n",
            "|    actor_loss      | 2.49     |\n",
            "|    critic_loss     | 0.0349   |\n",
            "|    ent_coef        | 0.00361  |\n",
            "|    ent_coef_loss   | 0.967    |\n",
            "|    learning_rate   | 0.001    |\n",
            "|    n_updates       | 17957    |\n",
            "---------------------------------\n",
            "---------------------------------\n",
            "| rollout/           |          |\n",
            "|    ep_len_mean     | 86.5     |\n",
            "|    ep_rew_mean     | -26.3    |\n",
            "|    success_rate    | 0.16     |\n",
            "| time/              |          |\n",
            "|    episodes        | 176      |\n",
            "|    fps             | 24       |\n",
            "|    time_elapsed    | 332      |\n",
            "|    total_timesteps | 18149    |\n",
            "| train/             |          |\n",
            "|    actor_loss      | 2.33     |\n",
            "|    critic_loss     | 0.016    |\n",
            "|    ent_coef        | 0.00375  |\n",
            "|    ent_coef_loss   | 1.54     |\n",
            "|    learning_rate   | 0.001    |\n",
            "|    n_updates       | 18047    |\n",
            "---------------------------------\n",
            "---------------------------------\n",
            "| rollout/           |          |\n",
            "|    ep_len_mean     | 92.2     |\n",
            "|    ep_rew_mean     | -26.9    |\n",
            "|    success_rate    | 0.17     |\n",
            "| time/              |          |\n",
            "|    episodes        | 180      |\n",
            "|    fps             | 25       |\n",
            "|    time_elapsed    | 355      |\n",
            "|    total_timesteps | 18924    |\n",
            "| train/             |          |\n",
            "|    actor_loss      | 2.35     |\n",
            "|    critic_loss     | 0.0056   |\n",
            "|    ent_coef        | 0.00367  |\n",
            "|    ent_coef_loss   | 0.267    |\n",
            "|    learning_rate   | 0.001    |\n",
            "|    n_updates       | 18822    |\n",
            "---------------------------------\n"
          ]
        },
        {
          "output_type": "display_data",
          "data": {
            "text/plain": [
              "Eval num_timesteps=19000, episode_reward=-35.46 +/- 34.50\n"
            ],
            "text/html": [
              "<pre style=\"white-space:pre;overflow-x:auto;line-height:normal;font-family:Menlo,'DejaVu Sans Mono',consolas,'Courier New',monospace\">Eval num_timesteps=19000, episode_reward=-35.46 +/- 34.50\n",
              "</pre>\n"
            ]
          },
          "metadata": {}
        },
        {
          "output_type": "display_data",
          "data": {
            "text/plain": [
              "Episode length: 214.60 +/- 233.09\n"
            ],
            "text/html": [
              "<pre style=\"white-space:pre;overflow-x:auto;line-height:normal;font-family:Menlo,'DejaVu Sans Mono',consolas,'Courier New',monospace\">Episode length: 214.60 +/- 233.09\n",
              "</pre>\n"
            ]
          },
          "metadata": {}
        },
        {
          "output_type": "display_data",
          "data": {
            "text/plain": [
              "Success rate: 40.00%\n"
            ],
            "text/html": [
              "<pre style=\"white-space:pre;overflow-x:auto;line-height:normal;font-family:Menlo,'DejaVu Sans Mono',consolas,'Courier New',monospace\">Success rate: 40.00%\n",
              "</pre>\n"
            ]
          },
          "metadata": {}
        },
        {
          "output_type": "stream",
          "name": "stdout",
          "text": [
            "---------------------------------\n",
            "| eval/              |          |\n",
            "|    mean_ep_length  | 215      |\n",
            "|    mean_reward     | -35.5    |\n",
            "|    success_rate    | 0.4      |\n",
            "| time/              |          |\n",
            "|    total_timesteps | 19000    |\n",
            "| train/             |          |\n",
            "|    actor_loss      | 2.44     |\n",
            "|    critic_loss     | 0.00636  |\n",
            "|    ent_coef        | 0.0038   |\n",
            "|    ent_coef_loss   | 0.1      |\n",
            "|    learning_rate   | 0.001    |\n",
            "|    n_updates       | 18898    |\n",
            "---------------------------------\n"
          ]
        },
        {
          "output_type": "display_data",
          "data": {
            "text/plain": [
              "✅ Saved checkpoint at 9000 steps\n"
            ],
            "text/html": [
              "<pre style=\"white-space:pre;overflow-x:auto;line-height:normal;font-family:Menlo,'DejaVu Sans Mono',consolas,'Courier New',monospace\">✅ Saved checkpoint at 9000 steps\n",
              "</pre>\n"
            ]
          },
          "metadata": {}
        },
        {
          "output_type": "display_data",
          "data": {
            "text/plain": [
              "🗑️ Removed old checkpoint: /content/drive/MyDrive/Colab \n",
              "Notebooks/Reinforcement_learning/Stable_Baseline/SAC_Highway/logs/checkpoints/model_checkpoint_9000_steps.zip\n"
            ],
            "text/html": [
              "<pre style=\"white-space:pre;overflow-x:auto;line-height:normal;font-family:Menlo,'DejaVu Sans Mono',consolas,'Courier New',monospace\">🗑️ Removed old checkpoint: /content/drive/MyDrive/Colab \n",
              "Notebooks/Reinforcement_learning/Stable_Baseline/SAC_Highway/logs/checkpoints/model_checkpoint_9000_steps.zip\n",
              "</pre>\n"
            ]
          },
          "metadata": {}
        },
        {
          "output_type": "stream",
          "name": "stdout",
          "text": [
            "---------------------------------\n",
            "| rollout/           |          |\n",
            "|    ep_len_mean     | 92       |\n",
            "|    ep_rew_mean     | -26.6    |\n",
            "|    success_rate    | 0.19     |\n",
            "| time/              |          |\n",
            "|    episodes        | 184      |\n",
            "|    fps             | 24       |\n",
            "|    time_elapsed    | 372      |\n",
            "|    total_timesteps | 19078    |\n",
            "| train/             |          |\n",
            "|    actor_loss      | 2.49     |\n",
            "|    critic_loss     | 0.0322   |\n",
            "|    ent_coef        | 0.00377  |\n",
            "|    ent_coef_loss   | 0.129    |\n",
            "|    learning_rate   | 0.001    |\n",
            "|    n_updates       | 18976    |\n",
            "---------------------------------\n",
            "---------------------------------\n",
            "| rollout/           |          |\n",
            "|    ep_len_mean     | 95.1     |\n",
            "|    ep_rew_mean     | -26.1    |\n",
            "|    success_rate    | 0.22     |\n",
            "| time/              |          |\n",
            "|    episodes        | 188      |\n",
            "|    fps             | 24       |\n",
            "|    time_elapsed    | 391      |\n",
            "|    total_timesteps | 19669    |\n",
            "| train/             |          |\n",
            "|    actor_loss      | 2.46     |\n",
            "|    critic_loss     | 0.00698  |\n",
            "|    ent_coef        | 0.00371  |\n",
            "|    ent_coef_loss   | -1.01    |\n",
            "|    learning_rate   | 0.001    |\n",
            "|    n_updates       | 19567    |\n",
            "---------------------------------\n",
            "---------------------------------\n",
            "| rollout/           |          |\n",
            "|    ep_len_mean     | 93.8     |\n",
            "|    ep_rew_mean     | -25.8    |\n",
            "|    success_rate    | 0.23     |\n",
            "| time/              |          |\n",
            "|    episodes        | 192      |\n",
            "|    fps             | 24       |\n",
            "|    time_elapsed    | 393      |\n",
            "|    total_timesteps | 19765    |\n",
            "| train/             |          |\n",
            "|    actor_loss      | 2.4      |\n",
            "|    critic_loss     | 0.00941  |\n",
            "|    ent_coef        | 0.00353  |\n",
            "|    ent_coef_loss   | -1.12    |\n",
            "|    learning_rate   | 0.001    |\n",
            "|    n_updates       | 19663    |\n",
            "---------------------------------\n"
          ]
        },
        {
          "output_type": "display_data",
          "data": {
            "text/plain": [
              "Eval num_timesteps=20000, episode_reward=-57.92 +/- 39.83\n"
            ],
            "text/html": [
              "<pre style=\"white-space:pre;overflow-x:auto;line-height:normal;font-family:Menlo,'DejaVu Sans Mono',consolas,'Courier New',monospace\">Eval num_timesteps=20000, episode_reward=-57.92 +/- 39.83\n",
              "</pre>\n"
            ]
          },
          "metadata": {}
        },
        {
          "output_type": "display_data",
          "data": {
            "text/plain": [
              "Episode length: 310.80 +/- 231.73\n"
            ],
            "text/html": [
              "<pre style=\"white-space:pre;overflow-x:auto;line-height:normal;font-family:Menlo,'DejaVu Sans Mono',consolas,'Courier New',monospace\">Episode length: 310.80 +/- 231.73\n",
              "</pre>\n"
            ]
          },
          "metadata": {}
        },
        {
          "output_type": "display_data",
          "data": {
            "text/plain": [
              "Success rate: 20.00%\n"
            ],
            "text/html": [
              "<pre style=\"white-space:pre;overflow-x:auto;line-height:normal;font-family:Menlo,'DejaVu Sans Mono',consolas,'Courier New',monospace\">Success rate: 20.00%\n",
              "</pre>\n"
            ]
          },
          "metadata": {}
        },
        {
          "output_type": "stream",
          "name": "stdout",
          "text": [
            "---------------------------------\n",
            "| eval/              |          |\n",
            "|    mean_ep_length  | 311      |\n",
            "|    mean_reward     | -57.9    |\n",
            "|    success_rate    | 0.2      |\n",
            "| time/              |          |\n",
            "|    total_timesteps | 20000    |\n",
            "| train/             |          |\n",
            "|    actor_loss      | 2.29     |\n",
            "|    critic_loss     | 0.00815  |\n",
            "|    ent_coef        | 0.00391  |\n",
            "|    ent_coef_loss   | 1.03     |\n",
            "|    learning_rate   | 0.001    |\n",
            "|    n_updates       | 19898    |\n",
            "---------------------------------\n"
          ]
        },
        {
          "output_type": "display_data",
          "data": {
            "text/plain": [
              "✅ Saved checkpoint at 10000 steps\n"
            ],
            "text/html": [
              "<pre style=\"white-space:pre;overflow-x:auto;line-height:normal;font-family:Menlo,'DejaVu Sans Mono',consolas,'Courier New',monospace\">✅ Saved checkpoint at 10000 steps\n",
              "</pre>\n"
            ]
          },
          "metadata": {}
        },
        {
          "output_type": "display_data",
          "data": {
            "text/plain": [],
            "text/html": [
              "<pre style=\"white-space:pre;overflow-x:auto;line-height:normal;font-family:Menlo,'DejaVu Sans Mono',consolas,'Courier New',monospace\"></pre>\n"
            ]
          },
          "metadata": {}
        },
        {
          "output_type": "stream",
          "name": "stdout",
          "text": [
            "✅ Training completed. Final model saved to /content/drive/MyDrive/Colab Notebooks/Reinforcement_learning/Stable_Baseline/SAC_Highway/her_sac_highway\n",
            "✅ Replay buffer saved to /content/drive/MyDrive/Colab Notebooks/Reinforcement_learning/Stable_Baseline/SAC_Highway/her_sac_highway_replay_buffer\n",
            "✅ Best model saved to /content/drive/MyDrive/Colab Notebooks/Reinforcement_learning/Stable_Baseline/SAC_Highway/best_model\n",
            "✅ Logs and checkpoints saved to /content/drive/MyDrive/Colab Notebooks/Reinforcement_learning/Stable_Baseline/SAC_Highway/logs\n"
          ]
        }
      ]
    },
    {
      "cell_type": "code",
      "source": [
        "from stable_baselines3.common.evaluation import evaluate_policy"
      ],
      "metadata": {
        "id": "aL7-oY9bJt5n"
      },
      "execution_count": 14,
      "outputs": []
    },
    {
      "cell_type": "code",
      "source": [
        "# ====================================================\n",
        "# Find latest checkpoint if available\n",
        "# ====================================================\n",
        "def get_latest_checkpoint(checkpoint_dir):\n",
        "    ckpts = glob.glob(os.path.join(checkpoint_dir, \"model_checkpoint_*_steps.zip\"))\n",
        "    if not ckpts:\n",
        "        return None\n",
        "    ckpts_sorted = sorted(ckpts, key=lambda x: int(x.split(\"_\")[-2]))\n",
        "    return ckpts_sorted[-1]\n",
        "\n",
        "latest_ckpt = get_latest_checkpoint(CHECKPOINT_DIR)\n",
        "\n",
        "# ====================================================\n",
        "# Create environment\n",
        "# ====================================================\n",
        "env = gym.make(\"parking-v0\", render_mode=\"human\")  # render so you can see\n",
        "env = Monitor(env, LOG_DIR)\n",
        "env = DummyVecEnv([lambda: env])\n",
        "\n",
        "# ====================================================\n",
        "# Load model (latest checkpoint > base model)\n",
        "# ====================================================\n",
        "if latest_ckpt is not None:\n",
        "    print(f\"🔄 Loading latest checkpointed model: {latest_ckpt}\")\n",
        "    model = SAC.load(latest_ckpt, env=env)\n",
        "elif os.path.exists(MODEL_PATH + \".zip\"):\n",
        "    print(f\"🔄 Loading base model: {MODEL_PATH}\")\n",
        "    model = SAC.load(MODEL_PATH, env=env)\n",
        "else:\n",
        "    raise FileNotFoundError(\"❌ No trained model or checkpoint found to evaluate.\")\n",
        "\n",
        "# ====================================================\n",
        "# Evaluate model\n",
        "# ====================================================\n",
        "mean_reward, std_reward = evaluate_policy(\n",
        "    model,\n",
        "    env,\n",
        "    n_eval_episodes=10,\n",
        "    deterministic=True,\n",
        "    render=True\n",
        ")\n",
        "\n",
        "print(f\"✅ Evaluation completed over 10 episodes\")\n",
        "print(f\"   Mean Reward: {mean_reward:.2f} ± {std_reward:.2f}\")"
      ],
      "metadata": {
        "colab": {
          "base_uri": "https://localhost:8080/"
        },
        "id": "NY0CbgewC6n0",
        "outputId": "66cb1168-895c-450a-c1f4-8adc18bd7062"
      },
      "execution_count": 15,
      "outputs": [
        {
          "output_type": "stream",
          "name": "stdout",
          "text": [
            "🔄 Loading latest checkpointed model: /content/drive/MyDrive/Colab Notebooks/Reinforcement_learning/Stable_Baseline/SAC_Highway/logs/checkpoints/model_checkpoint_10000_steps.zip\n",
            "✅ Evaluation completed over 10 episodes\n",
            "   Mean Reward: -48.21 ± 37.01\n"
          ]
        }
      ]
    },
    {
      "cell_type": "code",
      "source": [
        "import gymnasium as gym\n",
        "from gymnasium.wrappers import RecordVideo\n",
        "import os\n",
        "import imageio\n",
        "\n",
        "# LOG_DIR = \"./logs\"\n",
        "video_dir = os.path.join(LOG_DIR, \"videos\")\n",
        "os.makedirs(video_dir, exist_ok=True)\n",
        "\n",
        "# Collect frames from 5 episodes into a single list\n",
        "frames = []\n",
        "\n",
        "eval_env = gym.make(\"parking-v0\", render_mode=\"rgb_array\")\n",
        "\n",
        "for episode in range(5):\n",
        "    obs, _ = eval_env.reset()\n",
        "    done, truncated = False, False\n",
        "\n",
        "    while not (done or truncated):\n",
        "        action, _ = model.predict(obs, deterministic=True)\n",
        "        obs, reward, done, truncated, info = eval_env.step(action)\n",
        "\n",
        "        # Capture rendered frame\n",
        "        frame = eval_env.render()\n",
        "        frames.append(frame)\n",
        "\n",
        "eval_env.close()\n",
        "\n",
        "# Save all frames as a single video\n",
        "output_path = os.path.join(video_dir, \"five_episodes.mp4\")\n",
        "imageio.mimsave(output_path, frames, fps=10)\n",
        "\n",
        "print(f\"🎥 Combined video saved at: {output_path}\")\n"
      ],
      "metadata": {
        "colab": {
          "base_uri": "https://localhost:8080/"
        },
        "id": "wdTQZxfPJiug",
        "outputId": "63ec4133-3984-4b83-b0d0-c9da2307650e"
      },
      "execution_count": 16,
      "outputs": [
        {
          "output_type": "stream",
          "name": "stderr",
          "text": [
            "WARNING:imageio_ffmpeg:IMAGEIO FFMPEG_WRITER WARNING: input image is not divisible by macro_block_size=16, resizing from (600, 300) to (608, 304) to ensure video compatibility with most codecs and players. To prevent resizing, make your input image divisible by the macro_block_size or set the macro_block_size to 1 (risking incompatibility).\n"
          ]
        },
        {
          "output_type": "stream",
          "name": "stdout",
          "text": [
            "🎥 Combined video saved at: /content/drive/MyDrive/Colab Notebooks/Reinforcement_learning/Stable_Baseline/SAC_Highway/logs/videos/five_episodes.mp4\n"
          ]
        }
      ]
    },
    {
      "cell_type": "code",
      "source": [
        "import pandas as pd\n",
        "import matplotlib.pyplot as plt\n",
        "import os\n",
        "\n",
        "# Path to monitor file\n",
        "monitor_file = os.path.join(LOG_DIR, \"monitor.csv\")\n",
        "\n",
        "if os.path.exists(monitor_file):\n",
        "    # Monitor CSV has a comment header, so skip it\n",
        "    data = pd.read_csv(monitor_file, skiprows=1)\n",
        "\n",
        "    # Episode rewards\n",
        "    plt.figure(figsize=(10, 5))\n",
        "    plt.plot(data[\"r\"], label=\"Episode Reward\")\n",
        "    plt.xlabel(\"Episode\")\n",
        "    plt.ylabel(\"Reward\")\n",
        "    plt.title(\"Training Rewards (per episode)\")\n",
        "    plt.legend()\n",
        "    plt.grid()\n",
        "    plt.show()\n",
        "\n",
        "    # Episode lengths\n",
        "    plt.figure(figsize=(10, 5))\n",
        "    plt.plot(data[\"l\"], label=\"Episode Length\", color=\"orange\")\n",
        "    plt.xlabel(\"Episode\")\n",
        "    plt.ylabel(\"Length\")\n",
        "    plt.title(\"Episode Lengths (per episode)\")\n",
        "    plt.legend()\n",
        "    plt.grid()\n",
        "    plt.show()\n",
        "else:\n",
        "    print(\"⚠️ No monitor.csv found, make sure you wrapped env with Monitor during training.\")\n"
      ],
      "metadata": {
        "colab": {
          "base_uri": "https://localhost:8080/",
          "height": 957
        },
        "id": "QIUgEFn1J32B",
        "outputId": "ca66f42d-2953-425f-f624-b1717a518179"
      },
      "execution_count": 17,
      "outputs": [
        {
          "output_type": "display_data",
          "data": {
            "text/plain": [
              "<Figure size 1000x500 with 1 Axes>"
            ],
            "image/png": "[encoded data removed]"
          },
          "metadata": {}
        },
        {
          "output_type": "display_data",
          "data": {
            "text/plain": [
              "<Figure size 1000x500 with 1 Axes>"
            ],
            "image/png": "[encoded data removed]"
          },
          "metadata": {}
        }
      ]
    },
    {
      "cell_type": "code",
      "source": [
        "from tensorboard.backend.event_processing.event_accumulator import EventAccumulator\n",
        "import glob\n",
        "\n",
        "# Find latest TensorBoard log directory\n",
        "tb_dirs = glob.glob(os.path.join(LOG_DIR, \"SAC_HER_*\"))\n",
        "if tb_dirs:\n",
        "    tb_path = sorted(tb_dirs)[-1]\n",
        "    print(f\"🔎 Reading TensorBoard logs from {tb_path}\")\n",
        "\n",
        "    # Load event data\n",
        "    ea = EventAccumulator(tb_path)\n",
        "    ea.Reload()\n",
        "\n",
        "    # Extract reward curve (ep_rew_mean)\n",
        "    if \"rollout/ep_rew_mean\" in ea.Tags()[\"scalars\"]:\n",
        "        rewards = ea.Scalars(\"rollout/ep_rew_mean\")\n",
        "        steps = [s.step for s in rewards]\n",
        "        values = [s.value for s in rewards]\n",
        "\n",
        "        plt.figure(figsize=(10, 5))\n",
        "        plt.plot(steps, values, label=\"Mean Episode Reward\")\n",
        "        plt.xlabel(\"Timesteps\")\n",
        "        plt.ylabel(\"Reward\")\n",
        "        plt.title(\"Training Reward Curve (TensorBoard)\")\n",
        "        plt.legend()\n",
        "        plt.grid()\n",
        "        plt.show()\n",
        "    else:\n",
        "        print(\"⚠️ No 'rollout/ep_rew_mean' tag found in TensorBoard logs.\")\n",
        "else:\n",
        "    print(\"⚠️ No TensorBoard logs found in LOG_DIR.\")\n"
      ],
      "metadata": {
        "colab": {
          "base_uri": "https://localhost:8080/"
        },
        "id": "LVi7mDTPSF0i",
        "outputId": "0081dba7-09e5-4504-9983-85ead805aaed"
      },
      "execution_count": 18,
      "outputs": [
        {
          "output_type": "stream",
          "name": "stdout",
          "text": [
            "⚠️ No TensorBoard logs found in LOG_DIR.\n"
          ]
        }
      ]
    },
    {
      "cell_type": "code",
      "source": [
        "import pandas as pd\n",
        "import matplotlib.pyplot as plt\n",
        "\n",
        "# Load the CSV file\n",
        "df = pd.read_csv(\"/content/drive/MyDrive/Colab Notebooks/Reinforcement_learning/Stable_Baseline/SAC_Highway/logs/progress.csv\")\n",
        "\n",
        "# Plot episode reward mean\n",
        "plt.figure(figsize=(10,5))\n",
        "plt.plot(df[\"time/total_timesteps\"], df[\"rollout/ep_rew_mean\"], label=\"Episode Reward Mean\")\n",
        "plt.xlabel(\"Timesteps\")\n",
        "plt.ylabel(\"Reward\")\n",
        "plt.title(\"Training Progress - Episode Reward Mean\")\n",
        "plt.legend()\n",
        "plt.grid(True)\n",
        "plt.show()\n",
        "\n",
        "# Plot success rate\n",
        "plt.figure(figsize=(10,5))\n",
        "plt.plot(df[\"time/total_timesteps\"], df[\"rollout/success_rate\"], label=\"Success Rate\", color=\"orange\")\n",
        "plt.xlabel(\"Timesteps\")\n",
        "plt.ylabel(\"Success Rate\")\n",
        "plt.title(\"Training Progress - Success Rate\")\n",
        "plt.legend()\n",
        "plt.grid(True)\n",
        "plt.show()\n",
        "\n",
        "# Plot actor and critic losses\n",
        "plt.figure(figsize=(10,5))\n",
        "plt.plot(df[\"time/total_timesteps\"], df[\"train/actor_loss\"], label=\"Actor Loss\", alpha=0.7)\n",
        "plt.plot(df[\"time/total_timesteps\"], df[\"train/critic_loss\"], label=\"Critic Loss\", alpha=0.7)\n",
        "plt.xlabel(\"Timesteps\")\n",
        "plt.ylabel(\"Loss\")\n",
        "plt.title(\"Training Losses\")\n",
        "plt.legend()\n",
        "plt.grid(True)\n",
        "plt.show()\n"
      ],
      "metadata": {
        "colab": {
          "base_uri": "https://localhost:8080/",
          "height": 1000
        },
        "id": "Sxcng2bKSL3N",
        "outputId": "781b5ef9-da5a-4819-dcae-2e070a145183"
      },
      "execution_count": 20,
      "outputs": [
        {
          "output_type": "display_data",
          "data": {
            "text/plain": [
              "<Figure size 1000x500 with 1 Axes>"
            ],
            "image/png": "[encoded data removed]"
          },
          "metadata": {}
        },
        {
          "output_type": "display_data",
          "data": {
            "text/plain": [
              "<Figure size 1000x500 with 1 Axes>"
            ],
            "image/png": "[encoded data removed]"
          },
          "metadata": {}
        },
        {
          "output_type": "display_data",
          "data": {
            "text/plain": [
              "<Figure size 1000x500 with 1 Axes>"
            ],
            "image/png": "[encoded data removed]"
          },
          "metadata": {}
        }
      ]
    },
    {
      "cell_type": "code",
      "source": [],
      "metadata": {
        "id": "W2wE-D_fS9SF"
      },
      "execution_count": null,
      "outputs": []
    },
    {
      "cell_type": "code",
      "source": [
        "\n",
        "\n",
        "\n",
        "\n",
        "\n",
        "\n",
        "\n",
        "\n",
        "\n",
        "\n",
        "\n",
        "\n",
        "\n",
        "\n",
        "\n",
        "\n",
        "\n"
      ],
      "metadata": {
        "id": "3GFcSMYlB7rW"
      },
      "execution_count": 16,
      "outputs": []
    }
  ]
}