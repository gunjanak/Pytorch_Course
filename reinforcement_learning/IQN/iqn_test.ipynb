{
 "cells": [
  {
   "cell_type": "code",
   "execution_count": 13,
   "metadata": {},
   "outputs": [],
   "source": [
    "import torch\n",
    "import torch.nn as nn\n",
    "import torch.optim as optim\n",
    "import random\n",
    "from collections import namedtuple, deque\n",
    "import gym"
   ]
  },
  {
   "cell_type": "code",
   "execution_count": 14,
   "metadata": {},
   "outputs": [
    {
     "name": "stderr",
     "output_type": "stream",
     "text": [
      "/home/janak/Documents/Pytorch_CPU/venv/lib/python3.10/site-packages/gym/core.py:317: DeprecationWarning: \u001b[33mWARN: Initializing wrapper in old step API which returns one bool instead of two. It is recommended to set `new_step_api=True` to use new step API. This will be the default behaviour in future.\u001b[0m\n",
      "  deprecation(\n",
      "/home/janak/Documents/Pytorch_CPU/venv/lib/python3.10/site-packages/gym/wrappers/step_api_compatibility.py:39: DeprecationWarning: \u001b[33mWARN: Initializing environment in old step API which returns one bool instead of two. It is recommended to set `new_step_api=True` to use new step API. This will be the default behaviour in future.\u001b[0m\n",
      "  deprecation(\n"
     ]
    }
   ],
   "source": [
    "env = gym.envs.make(\"LunarLander-v2\",render_mode=\"human\")\n",
    "# env = gym.envs.make(\"MountainCar-v0\",render_mode=\"human\")"
   ]
  },
  {
   "cell_type": "code",
   "execution_count": 15,
   "metadata": {},
   "outputs": [],
   "source": [
    "state_dim = env.observation_space.shape[0]\n",
    "action_dim = env.action_space.n"
   ]
  },
  {
   "cell_type": "code",
   "execution_count": 16,
   "metadata": {},
   "outputs": [],
   "source": [
    "class IQN(nn.Module):\n",
    "    def __init__(self, state_dim, action_dim, num_quantiles, hidden_dim=128):\n",
    "        super(IQN, self).__init__()\n",
    "        self.fc1 = nn.Linear(state_dim, hidden_dim)\n",
    "        self.fc2 = nn.Linear(hidden_dim, hidden_dim)\n",
    "        self.fc3 = nn.Linear(hidden_dim, action_dim * num_quantiles)\n",
    "        self.num_quantiles = num_quantiles\n",
    "        self.action_dim = action_dim\n",
    "\n",
    "    def forward(self, x, taus):\n",
    "        batch_size = x.size(0)\n",
    "        x = torch.relu(self.fc1(x))\n",
    "        x = torch.relu(self.fc2(x))\n",
    "        quantiles = self.fc3(x).view(batch_size, self.num_quantiles, self.action_dim)\n",
    "        return quantiles"
   ]
  },
  {
   "cell_type": "code",
   "execution_count": 17,
   "metadata": {},
   "outputs": [],
   "source": [
    "num_quantiles = 10\n",
    "hidden_dim = 128\n",
    "# capacity = 10000\n",
    "# batch_size = 64\n",
    "# gamma = 0.99\n",
    "\n",
    "num_episodes = 10  # Number of training episodes"
   ]
  },
  {
   "cell_type": "code",
   "execution_count": 18,
   "metadata": {},
   "outputs": [],
   "source": [
    "# Device configuration\n",
    "device = torch.device(\"cuda\" if torch.cuda.is_available() else \"cpu\")"
   ]
  },
  {
   "cell_type": "code",
   "execution_count": 19,
   "metadata": {},
   "outputs": [],
   "source": [
    "PATH= 'IQN_lunar_lander.pth'\n",
    "# PATH = 'IQN_V5_car.pth'"
   ]
  },
  {
   "cell_type": "code",
   "execution_count": 20,
   "metadata": {},
   "outputs": [],
   "source": [
    "def save_checkpoint(state, filename='checkpoint.pth'):\n",
    "    torch.save(state, filename)\n",
    "\n",
    "def load_checkpoint(filename='checkpoint.pth'):\n",
    "    return torch.load(filename)"
   ]
  },
  {
   "cell_type": "code",
   "execution_count": 21,
   "metadata": {},
   "outputs": [],
   "source": [
    "# Initialize networks and optimizer\n",
    "main_net = IQN(state_dim, action_dim, num_quantiles, hidden_dim).to(device)\n",
    "target_net = IQN(state_dim, action_dim, num_quantiles, hidden_dim).to(device)\n",
    "# target_net.load_state_dict(main_net.state_dict())  # Initialize target network with main network's parameters\n",
    "optimizer = optim.Adam(main_net.parameters(), lr=0.001)"
   ]
  },
  {
   "cell_type": "code",
   "execution_count": 22,
   "metadata": {},
   "outputs": [
    {
     "name": "stdout",
     "output_type": "stream",
     "text": [
      "Loaded checkpoint from episode 309\n"
     ]
    }
   ],
   "source": [
    "def load_checkpoint(filename='checkpoint.pth', map_location=None):\n",
    "    if map_location:\n",
    "        return torch.load(filename, map_location=map_location)\n",
    "    return torch.load(filename)\n",
    "\n",
    "# Load model if available\n",
    "checkpoint_path = PATH\n",
    "try:\n",
    "    map_location = torch.device('cpu') if not torch.cuda.is_available() else None\n",
    "    checkpoint = load_checkpoint(checkpoint_path, map_location=map_location)\n",
    "    main_net.load_state_dict(checkpoint['main_net_state_dict'])\n",
    "    target_net.load_state_dict(checkpoint['target_net_state_dict'])\n",
    "    optimizer.load_state_dict(checkpoint['optimizer_state_dict'])\n",
    "    epsilon = checkpoint['epsilon']\n",
    "    start_episode = checkpoint['episode'] + 1\n",
    "    print(f\"Loaded checkpoint from episode {start_episode}\")\n",
    "except FileNotFoundError:\n",
    "    print(\"No checkpoint found, starting from scratch.\")\n"
   ]
  },
  {
   "cell_type": "code",
   "execution_count": 23,
   "metadata": {},
   "outputs": [
    {
     "name": "stdout",
     "output_type": "stream",
     "text": [
      "Episode0: Reward -104.68130946356618\n",
      "Episode1: Reward 239.49598295719156\n",
      "Episode2: Reward 108.26389394741501\n",
      "Episode3: Reward 266.1209549474313\n",
      "Episode4: Reward 261.9478788367451\n",
      "Episode5: Reward 214.05632271692815\n",
      "Episode6: Reward 237.62608872380812\n",
      "Episode7: Reward 39.79109498555382\n",
      "Episode8: Reward 113.13347337425124\n",
      "Episode9: Reward 176.96015179287696\n"
     ]
    }
   ],
   "source": [
    "for episode in range(num_episodes):\n",
    "  \n",
    "    state = env.reset()\n",
    "    episode_reward = 0\n",
    "    done = False\n",
    "\n",
    "    while not done:\n",
    "        # Epsilon-greedy action selection\n",
    "        if random.random() < epsilon:\n",
    "            action = env.action_space.sample()  # Random action\n",
    "        else:\n",
    "            state_tensor = torch.tensor(state, dtype=torch.float32).unsqueeze(0).to(device)\n",
    "            taus = torch.rand((1, num_quantiles), dtype=torch.float32).to(device)  # Sample quantile fractions\n",
    "            with torch.no_grad():\n",
    "                q_quantiles = main_net(state_tensor, taus)\n",
    "            q_values = q_quantiles.mean(dim=1)\n",
    "            action = q_values.argmax().item()  # Best action\n",
    "\n",
    "        # Take action and observe next state, reward, and done flag\n",
    "        next_state, reward, done, _ = env.step(action)\n",
    "\n",
    "       \n",
    "        # Update state and episode reward\n",
    "        state = next_state\n",
    "        episode_reward += reward\n",
    "\n",
    "    print(f\"Episode{episode}: Reward {episode_reward}\")\n",
    "\n",
    "\n",
    "env.close()\n"
   ]
  }
 ],
 "metadata": {
  "kernelspec": {
   "display_name": "venv",
   "language": "python",
   "name": "python3"
  },
  "language_info": {
   "codemirror_mode": {
    "name": "ipython",
    "version": 3
   },
   "file_extension": ".py",
   "mimetype": "text/x-python",
   "name": "python",
   "nbconvert_exporter": "python",
   "pygments_lexer": "ipython3",
   "version": "3.10.12"
  }
 },
 "nbformat": 4,
 "nbformat_minor": 2
}
