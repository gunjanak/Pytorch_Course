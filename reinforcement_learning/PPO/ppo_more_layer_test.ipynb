{
 "cells": [
  {
   "cell_type": "code",
   "execution_count": 1,
   "metadata": {},
   "outputs": [],
   "source": [
    "import gym\n",
    "import torch\n",
    "import torch.nn as nn\n",
    "import torch.optim as optim\n",
    "import numpy as np\n",
    "from torch.distributions import Categorical\n",
    "import os"
   ]
  },
  {
   "cell_type": "code",
   "execution_count": 2,
   "metadata": {},
   "outputs": [],
   "source": [
    "# Hyperparameters\n",
    "learning_rate = 0.0003\n",
    "gamma = 0.99\n",
    "lmbda = 0.95\n",
    "eps_clip = 0.2\n",
    "K_epochs = 4\n",
    "T_horizon = 2000"
   ]
  },
  {
   "cell_type": "code",
   "execution_count": 3,
   "metadata": {},
   "outputs": [],
   "source": [
    "# Policy Network\n",
    "class ActorCritic(nn.Module):\n",
    "    def __init__(self, state_dim, action_dim):\n",
    "        super(ActorCritic, self).__init__()\n",
    "        self.fc1 = nn.Linear(state_dim, 256)\n",
    "        self.fc2 = nn.Linear(256, 256)\n",
    "        self.fc_pi = nn.Linear(256, action_dim)\n",
    "        self.fc_v = nn.Linear(256, 1)\n",
    "        \n",
    "        self.optimizer = optim.Adam(self.parameters(), lr=learning_rate)\n",
    "\n",
    "    def pi(self, x):\n",
    "        x = torch.tanh(self.fc1(x))\n",
    "        x = torch.tanh(self.fc2(x))\n",
    "        x = self.fc_pi(x)\n",
    "        return Categorical(logits=x)\n",
    "    \n",
    "    def v(self, x):\n",
    "        x = torch.tanh(self.fc1(x))\n",
    "        x = torch.tanh(self.fc2(x))\n",
    "        v = self.fc_v(x)\n",
    "        return v\n"
   ]
  },
  {
   "cell_type": "code",
   "execution_count": 4,
   "metadata": {},
   "outputs": [],
   "source": [
    "# PPO Agent\n",
    "class PPO:\n",
    "    def __init__(self, state_dim, action_dim):\n",
    "        self.policy = ActorCritic(state_dim, action_dim)\n",
    "        self.policy_old = ActorCritic(state_dim, action_dim)\n",
    "        self.policy_old.load_state_dict(self.policy.state_dict())\n",
    "        self.optimizer = self.policy.optimizer\n",
    "        self.MseLoss = nn.MSELoss()\n",
    "\n",
    "    def update(self, memory):\n",
    "        rewards = []\n",
    "        discounted_reward = 0\n",
    "        for reward, is_terminal in zip(reversed(memory.rewards), reversed(memory.is_terminals)):\n",
    "            if is_terminal:\n",
    "                discounted_reward = 0\n",
    "            discounted_reward = reward + (gamma * discounted_reward)\n",
    "            rewards.insert(0, discounted_reward)\n",
    "\n",
    "        rewards = torch.tensor(rewards, dtype=torch.float32)\n",
    "        rewards = (rewards - rewards.mean()) / (rewards.std() + 1e-7)\n",
    "\n",
    "        old_states = torch.squeeze(torch.stack(memory.states).detach())\n",
    "        old_actions = torch.squeeze(torch.stack(memory.actions).detach())\n",
    "        old_logprobs = torch.squeeze(torch.stack(memory.logprobs).detach())\n",
    "\n",
    "        for _ in range(K_epochs):\n",
    "            logprobs, state_values, dist_entropy = self.evaluate(old_states, old_actions)\n",
    "\n",
    "            ratios = torch.exp(logprobs - old_logprobs.detach())\n",
    "\n",
    "            advantages = rewards - state_values.detach()\n",
    "            surr1 = ratios * advantages\n",
    "            surr2 = torch.clamp(ratios, 1 - eps_clip, 1 + eps_clip) * advantages\n",
    "\n",
    "            loss = -torch.min(surr1, surr2) + 0.5 * self.MseLoss(state_values, rewards) - 0.01 * dist_entropy\n",
    "\n",
    "            self.optimizer.zero_grad()\n",
    "            loss.mean().backward()\n",
    "            self.optimizer.step()\n",
    "\n",
    "        self.policy_old.load_state_dict(self.policy.state_dict())\n",
    "\n",
    "    def evaluate(self, state, action):\n",
    "        state_value = self.policy.v(state)\n",
    "        dist = self.policy.pi(state)\n",
    "        action_logprobs = dist.log_prob(action)\n",
    "        dist_entropy = dist.entropy()\n",
    "        return action_logprobs, torch.squeeze(state_value), dist_entropy\n",
    "\n",
    "    def save(self, checkpoint_path):\n",
    "        torch.save(self.policy.state_dict(), checkpoint_path)\n",
    "        print(f\"Model saved to {checkpoint_path}\")\n",
    "\n",
    "    def load(self, checkpoint_path):\n",
    "        self.policy.load_state_dict(torch.load(checkpoint_path))\n",
    "        self.policy_old.load_state_dict(self.policy.state_dict())\n",
    "        print(f\"Model loaded from {checkpoint_path}\")\n"
   ]
  },
  {
   "cell_type": "code",
   "execution_count": 5,
   "metadata": {},
   "outputs": [],
   "source": [
    "# Memory\n",
    "class Memory:\n",
    "    def __init__(self):\n",
    "        self.states = []\n",
    "        self.actions = []\n",
    "        self.logprobs = []\n",
    "        self.rewards = []\n",
    "        self.is_terminals = []\n",
    "\n",
    "    def clear_memory(self):\n",
    "        del self.states[:]\n",
    "        del self.actions[:]\n",
    "        del self.logprobs[:]\n",
    "        del self.rewards[:]\n",
    "        del self.is_terminals[:]\n"
   ]
  },
  {
   "cell_type": "code",
   "execution_count": 6,
   "metadata": {},
   "outputs": [],
   "source": [
    "# Normalize state\n",
    "def normalize_state(state):\n",
    "    return (state - np.mean(state)) / (np.std(state) + 1e-8)\n"
   ]
  },
  {
   "cell_type": "code",
   "execution_count": 7,
   "metadata": {},
   "outputs": [
    {
     "name": "stderr",
     "output_type": "stream",
     "text": [
      "/home/janak/Documents/Pytorch_CPU/venv/lib/python3.10/site-packages/gym/core.py:317: DeprecationWarning: \u001b[33mWARN: Initializing wrapper in old step API which returns one bool instead of two. It is recommended to set `new_step_api=True` to use new step API. This will be the default behaviour in future.\u001b[0m\n",
      "  deprecation(\n",
      "/home/janak/Documents/Pytorch_CPU/venv/lib/python3.10/site-packages/gym/wrappers/step_api_compatibility.py:39: DeprecationWarning: \u001b[33mWARN: Initializing environment in old step API which returns one bool instead of two. It is recommended to set `new_step_api=True` to use new step API. This will be the default behaviour in future.\u001b[0m\n",
      "  deprecation(\n"
     ]
    }
   ],
   "source": [
    "env_name = \"LunarLander-v2\"\n",
    "env = gym.make(env_name,render_mode='human')\n",
    "state_dim = env.observation_space.shape[0]\n",
    "action_dim = env.action_space.n\n",
    "\n",
    "memory = Memory()\n",
    "ppo = PPO(state_dim, action_dim)"
   ]
  },
  {
   "cell_type": "code",
   "execution_count": 8,
   "metadata": {},
   "outputs": [],
   "source": [
    "print_interval = 20\n",
    "episodes = 10  # Increase the number of episodes\n",
    "max_timesteps = 300\n",
    "\n",
    "running_reward = 0\n",
    "avg_length = 0"
   ]
  },
  {
   "cell_type": "code",
   "execution_count": 9,
   "metadata": {},
   "outputs": [],
   "source": [
    "path = 'models/ppo_more_lunar_lander.pth'"
   ]
  },
  {
   "cell_type": "code",
   "execution_count": 10,
   "metadata": {},
   "outputs": [
    {
     "name": "stdout",
     "output_type": "stream",
     "text": [
      "Model loaded from models/ppo_more_lunar_lander.pth\n"
     ]
    }
   ],
   "source": [
    "ppo.load(path)"
   ]
  },
  {
   "cell_type": "code",
   "execution_count": 11,
   "metadata": {},
   "outputs": [
    {
     "name": "stderr",
     "output_type": "stream",
     "text": [
      "/home/janak/Documents/Pytorch_CPU/venv/lib/python3.10/site-packages/gym/utils/passive_env_checker.py:241: DeprecationWarning: `np.bool8` is a deprecated alias for `np.bool_`.  (Deprecated NumPy 1.24)\n",
      "  if not isinstance(terminated, (bool, np.bool8)):\n"
     ]
    },
    {
     "name": "stdout",
     "output_type": "stream",
     "text": [
      "Episode 1: Total Reward: 261.28045012592736\n",
      "Episode 2: Total Reward: 239.1605007664963\n",
      "Episode 3: Total Reward: 70.95619486131955\n",
      "Episode 4: Total Reward: 266.8247369715348\n",
      "Episode 5: Total Reward: 267.5044659699455\n",
      "Episode 6: Total Reward: 17.76187887019816\n",
      "Episode 7: Total Reward: 313.2516837605966\n",
      "Episode 8: Total Reward: 262.7629767590495\n",
      "Episode 9: Total Reward: 37.256795733321155\n",
      "Episode 10: Total Reward: 18.25462927445055\n"
     ]
    }
   ],
   "source": [
    "for episode in range(episodes):\n",
    "    state = env.reset()\n",
    "    state = normalize_state(state)\n",
    "    done = False\n",
    "    total_reward = 0\n",
    "    while not done:\n",
    "        state_tensor = torch.FloatTensor(state).unsqueeze(0)\n",
    "        dist = ppo.policy_old.pi(state_tensor)\n",
    "        action = dist.sample()\n",
    "        state, reward, done, _ = env.step(action.item())\n",
    "        state = normalize_state(state)\n",
    "        total_reward += reward\n",
    "        # env.render()\n",
    "    print(f\"Episode {episode + 1}: Total Reward: {total_reward}\")\n",
    "env.close()"
   ]
  }
 ],
 "metadata": {
  "kernelspec": {
   "display_name": "venv",
   "language": "python",
   "name": "python3"
  },
  "language_info": {
   "codemirror_mode": {
    "name": "ipython",
    "version": 3
   },
   "file_extension": ".py",
   "mimetype": "text/x-python",
   "name": "python",
   "nbconvert_exporter": "python",
   "pygments_lexer": "ipython3",
   "version": "3.10.12"
  }
 },
 "nbformat": 4,
 "nbformat_minor": 2
}
