{
  "nbformat": 4,
  "nbformat_minor": 0,
  "metadata": {
    "colab": {
      "provenance": [],
      "mount_file_id": "1HjkXPMVAxGMyQMg8f-6TEhsdmZFL86ho",
      "authorship_tag": "ABX9TyPQD3MwAaVtF4TIqRrlk+BG",
      "include_colab_link": true
    },
    "kernelspec": {
      "name": "python3",
      "display_name": "Python 3"
    },
    "language_info": {
      "name": "python"
    }
  },
  "cells": [
    {
      "cell_type": "markdown",
      "metadata": {
        "id": "view-in-github",
        "colab_type": "text"
      },
      "source": [
        "<a href=\"https://colab.research.google.com/github/gunjanak/Pytorch_Course/blob/main/8_RNN.ipynb\" target=\"_parent\"><img src=\"https://colab.research.google.com/assets/colab-badge.svg\" alt=\"Open In Colab\"/></a>"
      ]
    },
    {
      "cell_type": "code",
      "execution_count": 1,
      "metadata": {
        "id": "zUp0l363SxA9"
      },
      "outputs": [],
      "source": [
        "path = '/content/drive/MyDrive/Colab Notebooks/Python_Course/PyTorch_Course/NTC_Stock.csv'"
      ]
    },
    {
      "cell_type": "code",
      "source": [
        "import pandas as pd"
      ],
      "metadata": {
        "id": "nV8J5hLQTX5z"
      },
      "execution_count": 2,
      "outputs": []
    },
    {
      "cell_type": "code",
      "source": [
        "df = pd.read_csv(path)"
      ],
      "metadata": {
        "id": "j_XNNPXsTZ93"
      },
      "execution_count": 3,
      "outputs": []
    },
    {
      "cell_type": "code",
      "source": [
        "df.head()"
      ],
      "metadata": {
        "colab": {
          "base_uri": "https://localhost:8080/",
          "height": 313
        },
        "id": "cilybR_yTdQw",
        "outputId": "670f4d2a-759f-45c8-fbcb-5a7733685c20"
      },
      "execution_count": 4,
      "outputs": [
        {
          "output_type": "execute_result",
          "data": {
            "text/plain": [
              "         Date    High     Low   Close  noOfTransactions  Volume       amount  \\\n",
              "0  2022-01-02  1341.0  1283.0  1325.0               327   79727  103884333.1   \n",
              "1  2022-01-03  1335.0  1301.1  1317.0               227   29864   39305624.3   \n",
              "2  2022-01-04  1329.0  1293.0  1315.0               166   22367   29360024.6   \n",
              "3  2022-01-05  1346.4  1301.0  1313.0               377   59319   78308616.3   \n",
              "4  2022-01-06  1334.0  1300.6  1331.0               411   56637   74856032.1   \n",
              "\n",
              "     Open  differenceRs  percentChange  \n",
              "0  1283.0          42.0           3.27  \n",
              "1  1325.0          -8.0          -0.60  \n",
              "2  1317.0          -2.0          -0.15  \n",
              "3  1315.0          -2.0          -0.15  \n",
              "4  1313.0          18.0           1.37  "
            ],
            "text/html": [
              "\n",
              "  <div id=\"df-7543e0c3-6805-4342-91ab-9bdb8de6b4ca\" class=\"colab-df-container\">\n",
              "    <div>\n",
              "<style scoped>\n",
              "    .dataframe tbody tr th:only-of-type {\n",
              "        vertical-align: middle;\n",
              "    }\n",
              "\n",
              "    .dataframe tbody tr th {\n",
              "        vertical-align: top;\n",
              "    }\n",
              "\n",
              "    .dataframe thead th {\n",
              "        text-align: right;\n",
              "    }\n",
              "</style>\n",
              "<table border=\"1\" class=\"dataframe\">\n",
              "  <thead>\n",
              "    <tr style=\"text-align: right;\">\n",
              "      <th></th>\n",
              "      <th>Date</th>\n",
              "      <th>High</th>\n",
              "      <th>Low</th>\n",
              "      <th>Close</th>\n",
              "      <th>noOfTransactions</th>\n",
              "      <th>Volume</th>\n",
              "      <th>amount</th>\n",
              "      <th>Open</th>\n",
              "      <th>differenceRs</th>\n",
              "      <th>percentChange</th>\n",
              "    </tr>\n",
              "  </thead>\n",
              "  <tbody>\n",
              "    <tr>\n",
              "      <th>0</th>\n",
              "      <td>2022-01-02</td>\n",
              "      <td>1341.0</td>\n",
              "      <td>1283.0</td>\n",
              "      <td>1325.0</td>\n",
              "      <td>327</td>\n",
              "      <td>79727</td>\n",
              "      <td>103884333.1</td>\n",
              "      <td>1283.0</td>\n",
              "      <td>42.0</td>\n",
              "      <td>3.27</td>\n",
              "    </tr>\n",
              "    <tr>\n",
              "      <th>1</th>\n",
              "      <td>2022-01-03</td>\n",
              "      <td>1335.0</td>\n",
              "      <td>1301.1</td>\n",
              "      <td>1317.0</td>\n",
              "      <td>227</td>\n",
              "      <td>29864</td>\n",
              "      <td>39305624.3</td>\n",
              "      <td>1325.0</td>\n",
              "      <td>-8.0</td>\n",
              "      <td>-0.60</td>\n",
              "    </tr>\n",
              "    <tr>\n",
              "      <th>2</th>\n",
              "      <td>2022-01-04</td>\n",
              "      <td>1329.0</td>\n",
              "      <td>1293.0</td>\n",
              "      <td>1315.0</td>\n",
              "      <td>166</td>\n",
              "      <td>22367</td>\n",
              "      <td>29360024.6</td>\n",
              "      <td>1317.0</td>\n",
              "      <td>-2.0</td>\n",
              "      <td>-0.15</td>\n",
              "    </tr>\n",
              "    <tr>\n",
              "      <th>3</th>\n",
              "      <td>2022-01-05</td>\n",
              "      <td>1346.4</td>\n",
              "      <td>1301.0</td>\n",
              "      <td>1313.0</td>\n",
              "      <td>377</td>\n",
              "      <td>59319</td>\n",
              "      <td>78308616.3</td>\n",
              "      <td>1315.0</td>\n",
              "      <td>-2.0</td>\n",
              "      <td>-0.15</td>\n",
              "    </tr>\n",
              "    <tr>\n",
              "      <th>4</th>\n",
              "      <td>2022-01-06</td>\n",
              "      <td>1334.0</td>\n",
              "      <td>1300.6</td>\n",
              "      <td>1331.0</td>\n",
              "      <td>411</td>\n",
              "      <td>56637</td>\n",
              "      <td>74856032.1</td>\n",
              "      <td>1313.0</td>\n",
              "      <td>18.0</td>\n",
              "      <td>1.37</td>\n",
              "    </tr>\n",
              "  </tbody>\n",
              "</table>\n",
              "</div>\n",
              "    <div class=\"colab-df-buttons\">\n",
              "\n",
              "  <div class=\"colab-df-container\">\n",
              "    <button class=\"colab-df-convert\" onclick=\"convertToInteractive('df-7543e0c3-6805-4342-91ab-9bdb8de6b4ca')\"\n",
              "            title=\"Convert this dataframe to an interactive table.\"\n",
              "            style=\"display:none;\">\n",
              "\n",
              "  <svg xmlns=\"http://www.w3.org/2000/svg\" height=\"24px\" viewBox=\"0 -960 960 960\">\n",
              "    <path d=\"M120-120v-720h720v720H120Zm60-500h600v-160H180v160Zm220 220h160v-160H400v160Zm0 220h160v-160H400v160ZM180-400h160v-160H180v160Zm440 0h160v-160H620v160ZM180-180h160v-160H180v160Zm440 0h160v-160H620v160Z\"/>\n",
              "  </svg>\n",
              "    </button>\n",
              "\n",
              "  <style>\n",
              "    .colab-df-container {\n",
              "      display:flex;\n",
              "      gap: 12px;\n",
              "    }\n",
              "\n",
              "    .colab-df-convert {\n",
              "      background-color: #E8F0FE;\n",
              "      border: none;\n",
              "      border-radius: 50%;\n",
              "      cursor: pointer;\n",
              "      display: none;\n",
              "      fill: #1967D2;\n",
              "      height: 32px;\n",
              "      padding: 0 0 0 0;\n",
              "      width: 32px;\n",
              "    }\n",
              "\n",
              "    .colab-df-convert:hover {\n",
              "      background-color: #E2EBFA;\n",
              "      box-shadow: 0px 1px 2px rgba(60, 64, 67, 0.3), 0px 1px 3px 1px rgba(60, 64, 67, 0.15);\n",
              "      fill: #174EA6;\n",
              "    }\n",
              "\n",
              "    .colab-df-buttons div {\n",
              "      margin-bottom: 4px;\n",
              "    }\n",
              "\n",
              "    [theme=dark] .colab-df-convert {\n",
              "      background-color: #3B4455;\n",
              "      fill: #D2E3FC;\n",
              "    }\n",
              "\n",
              "    [theme=dark] .colab-df-convert:hover {\n",
              "      background-color: #434B5C;\n",
              "      box-shadow: 0px 1px 3px 1px rgba(0, 0, 0, 0.15);\n",
              "      filter: drop-shadow(0px 1px 2px rgba(0, 0, 0, 0.3));\n",
              "      fill: #FFFFFF;\n",
              "    }\n",
              "  </style>\n",
              "\n",
              "    <script>\n",
              "      const buttonEl =\n",
              "        document.querySelector('#df-7543e0c3-6805-4342-91ab-9bdb8de6b4ca button.colab-df-convert');\n",
              "      buttonEl.style.display =\n",
              "        google.colab.kernel.accessAllowed ? 'block' : 'none';\n",
              "\n",
              "      async function convertToInteractive(key) {\n",
              "        const element = document.querySelector('#df-7543e0c3-6805-4342-91ab-9bdb8de6b4ca');\n",
              "        const dataTable =\n",
              "          await google.colab.kernel.invokeFunction('convertToInteractive',\n",
              "                                                    [key], {});\n",
              "        if (!dataTable) return;\n",
              "\n",
              "        const docLinkHtml = 'Like what you see? Visit the ' +\n",
              "          '<a target=\"_blank\" href=https://colab.research.google.com/notebooks/data_table.ipynb>data table notebook</a>'\n",
              "          + ' to learn more about interactive tables.';\n",
              "        element.innerHTML = '';\n",
              "        dataTable['output_type'] = 'display_data';\n",
              "        await google.colab.output.renderOutput(dataTable, element);\n",
              "        const docLink = document.createElement('div');\n",
              "        docLink.innerHTML = docLinkHtml;\n",
              "        element.appendChild(docLink);\n",
              "      }\n",
              "    </script>\n",
              "  </div>\n",
              "\n",
              "\n",
              "<div id=\"df-6dd3c60d-74e1-46f3-b04c-97f90383ce7a\">\n",
              "  <button class=\"colab-df-quickchart\" onclick=\"quickchart('df-6dd3c60d-74e1-46f3-b04c-97f90383ce7a')\"\n",
              "            title=\"Suggest charts\"\n",
              "            style=\"display:none;\">\n",
              "\n",
              "<svg xmlns=\"http://www.w3.org/2000/svg\" height=\"24px\"viewBox=\"0 0 24 24\"\n",
              "     width=\"24px\">\n",
              "    <g>\n",
              "        <path d=\"M19 3H5c-1.1 0-2 .9-2 2v14c0 1.1.9 2 2 2h14c1.1 0 2-.9 2-2V5c0-1.1-.9-2-2-2zM9 17H7v-7h2v7zm4 0h-2V7h2v10zm4 0h-2v-4h2v4z\"/>\n",
              "    </g>\n",
              "</svg>\n",
              "  </button>\n",
              "\n",
              "<style>\n",
              "  .colab-df-quickchart {\n",
              "      --bg-color: #E8F0FE;\n",
              "      --fill-color: #1967D2;\n",
              "      --hover-bg-color: #E2EBFA;\n",
              "      --hover-fill-color: #174EA6;\n",
              "      --disabled-fill-color: #AAA;\n",
              "      --disabled-bg-color: #DDD;\n",
              "  }\n",
              "\n",
              "  [theme=dark] .colab-df-quickchart {\n",
              "      --bg-color: #3B4455;\n",
              "      --fill-color: #D2E3FC;\n",
              "      --hover-bg-color: #434B5C;\n",
              "      --hover-fill-color: #FFFFFF;\n",
              "      --disabled-bg-color: #3B4455;\n",
              "      --disabled-fill-color: #666;\n",
              "  }\n",
              "\n",
              "  .colab-df-quickchart {\n",
              "    background-color: var(--bg-color);\n",
              "    border: none;\n",
              "    border-radius: 50%;\n",
              "    cursor: pointer;\n",
              "    display: none;\n",
              "    fill: var(--fill-color);\n",
              "    height: 32px;\n",
              "    padding: 0;\n",
              "    width: 32px;\n",
              "  }\n",
              "\n",
              "  .colab-df-quickchart:hover {\n",
              "    background-color: var(--hover-bg-color);\n",
              "    box-shadow: 0 1px 2px rgba(60, 64, 67, 0.3), 0 1px 3px 1px rgba(60, 64, 67, 0.15);\n",
              "    fill: var(--button-hover-fill-color);\n",
              "  }\n",
              "\n",
              "  .colab-df-quickchart-complete:disabled,\n",
              "  .colab-df-quickchart-complete:disabled:hover {\n",
              "    background-color: var(--disabled-bg-color);\n",
              "    fill: var(--disabled-fill-color);\n",
              "    box-shadow: none;\n",
              "  }\n",
              "\n",
              "  .colab-df-spinner {\n",
              "    border: 2px solid var(--fill-color);\n",
              "    border-color: transparent;\n",
              "    border-bottom-color: var(--fill-color);\n",
              "    animation:\n",
              "      spin 1s steps(1) infinite;\n",
              "  }\n",
              "\n",
              "  @keyframes spin {\n",
              "    0% {\n",
              "      border-color: transparent;\n",
              "      border-bottom-color: var(--fill-color);\n",
              "      border-left-color: var(--fill-color);\n",
              "    }\n",
              "    20% {\n",
              "      border-color: transparent;\n",
              "      border-left-color: var(--fill-color);\n",
              "      border-top-color: var(--fill-color);\n",
              "    }\n",
              "    30% {\n",
              "      border-color: transparent;\n",
              "      border-left-color: var(--fill-color);\n",
              "      border-top-color: var(--fill-color);\n",
              "      border-right-color: var(--fill-color);\n",
              "    }\n",
              "    40% {\n",
              "      border-color: transparent;\n",
              "      border-right-color: var(--fill-color);\n",
              "      border-top-color: var(--fill-color);\n",
              "    }\n",
              "    60% {\n",
              "      border-color: transparent;\n",
              "      border-right-color: var(--fill-color);\n",
              "    }\n",
              "    80% {\n",
              "      border-color: transparent;\n",
              "      border-right-color: var(--fill-color);\n",
              "      border-bottom-color: var(--fill-color);\n",
              "    }\n",
              "    90% {\n",
              "      border-color: transparent;\n",
              "      border-bottom-color: var(--fill-color);\n",
              "    }\n",
              "  }\n",
              "</style>\n",
              "\n",
              "  <script>\n",
              "    async function quickchart(key) {\n",
              "      const quickchartButtonEl =\n",
              "        document.querySelector('#' + key + ' button');\n",
              "      quickchartButtonEl.disabled = true;  // To prevent multiple clicks.\n",
              "      quickchartButtonEl.classList.add('colab-df-spinner');\n",
              "      try {\n",
              "        const charts = await google.colab.kernel.invokeFunction(\n",
              "            'suggestCharts', [key], {});\n",
              "      } catch (error) {\n",
              "        console.error('Error during call to suggestCharts:', error);\n",
              "      }\n",
              "      quickchartButtonEl.classList.remove('colab-df-spinner');\n",
              "      quickchartButtonEl.classList.add('colab-df-quickchart-complete');\n",
              "    }\n",
              "    (() => {\n",
              "      let quickchartButtonEl =\n",
              "        document.querySelector('#df-6dd3c60d-74e1-46f3-b04c-97f90383ce7a button');\n",
              "      quickchartButtonEl.style.display =\n",
              "        google.colab.kernel.accessAllowed ? 'block' : 'none';\n",
              "    })();\n",
              "  </script>\n",
              "</div>\n",
              "    </div>\n",
              "  </div>\n"
            ],
            "application/vnd.google.colaboratory.intrinsic+json": {
              "type": "dataframe",
              "variable_name": "df",
              "summary": "{\n  \"name\": \"df\",\n  \"rows\": 511,\n  \"fields\": [\n    {\n      \"column\": \"Date\",\n      \"properties\": {\n        \"dtype\": \"object\",\n        \"num_unique_values\": 511,\n        \"samples\": [\n          \"2022-07-05\",\n          \"2022-05-11\",\n          \"2023-11-09\"\n        ],\n        \"semantic_type\": \"\",\n        \"description\": \"\"\n      }\n    },\n    {\n      \"column\": \"High\",\n      \"properties\": {\n        \"dtype\": \"number\",\n        \"std\": 224.10108456005702,\n        \"min\": 775.0,\n        \"max\": 1799.9,\n        \"num_unique_values\": 317,\n        \"samples\": [\n          1052.0,\n          863.9,\n          1610.0\n        ],\n        \"semantic_type\": \"\",\n        \"description\": \"\"\n      }\n    },\n    {\n      \"column\": \"Low\",\n      \"properties\": {\n        \"dtype\": \"number\",\n        \"std\": 212.61756809441783,\n        \"min\": 758.0,\n        \"max\": 1725.0,\n        \"num_unique_values\": 303,\n        \"samples\": [\n          903.1,\n          770.0,\n          883.0\n        ],\n        \"semantic_type\": \"\",\n        \"description\": \"\"\n      }\n    },\n    {\n      \"column\": \"Close\",\n      \"properties\": {\n        \"dtype\": \"number\",\n        \"std\": 220.0777806242607,\n        \"min\": 758.0,\n        \"max\": 1779.0,\n        \"num_unique_values\": 302,\n        \"samples\": [\n          915.9,\n          758.0,\n          901.0\n        ],\n        \"semantic_type\": \"\",\n        \"description\": \"\"\n      }\n    },\n    {\n      \"column\": \"noOfTransactions\",\n      \"properties\": {\n        \"dtype\": \"number\",\n        \"std\": 293,\n        \"min\": 23,\n        \"max\": 2557,\n        \"num_unique_values\": 345,\n        \"samples\": [\n          1426,\n          358,\n          210\n        ],\n        \"semantic_type\": \"\",\n        \"description\": \"\"\n      }\n    },\n    {\n      \"column\": \"Volume\",\n      \"properties\": {\n        \"dtype\": \"number\",\n        \"std\": 43102,\n        \"min\": 1405,\n        \"max\": 235177,\n        \"num_unique_values\": 510,\n        \"samples\": [\n          35024,\n          43984,\n          16920\n        ],\n        \"semantic_type\": \"\",\n        \"description\": \"\"\n      }\n    },\n    {\n      \"column\": \"amount\",\n      \"properties\": {\n        \"dtype\": \"number\",\n        \"std\": 55369116.383354105,\n        \"min\": 1231228.0,\n        \"max\": 342357194.2,\n        \"num_unique_values\": 511,\n        \"samples\": [\n          38438490.3,\n          36268793.6,\n          15236425.1\n        ],\n        \"semantic_type\": \"\",\n        \"description\": \"\"\n      }\n    },\n    {\n      \"column\": \"Open\",\n      \"properties\": {\n        \"dtype\": \"number\",\n        \"std\": 219.7251418358905,\n        \"min\": 758.0,\n        \"max\": 1779.0,\n        \"num_unique_values\": 300,\n        \"samples\": [\n          819.0,\n          827.6,\n          814.0\n        ],\n        \"semantic_type\": \"\",\n        \"description\": \"\"\n      }\n    },\n    {\n      \"column\": \"differenceRs\",\n      \"properties\": {\n        \"dtype\": \"number\",\n        \"std\": 21.034370311196625,\n        \"min\": -88.0,\n        \"max\": 86.5,\n        \"num_unique_values\": 229,\n        \"samples\": [\n          -9.9,\n          10.0,\n          44.0\n        ],\n        \"semantic_type\": \"\",\n        \"description\": \"\"\n      }\n    },\n    {\n      \"column\": \"percentChange\",\n      \"properties\": {\n        \"dtype\": \"number\",\n        \"std\": 2.016997470474845,\n        \"min\": -6.8,\n        \"max\": 10.0,\n        \"num_unique_values\": 335,\n        \"samples\": [\n          0.62,\n          1.27,\n          -0.91\n        ],\n        \"semantic_type\": \"\",\n        \"description\": \"\"\n      }\n    }\n  ]\n}"
            }
          },
          "metadata": {},
          "execution_count": 4
        }
      ]
    },
    {
      "cell_type": "code",
      "source": [
        "# Set the 'Name' column as the index\n",
        "df.set_index('Date', inplace=True)"
      ],
      "metadata": {
        "id": "GqjJ-u_HTe43"
      },
      "execution_count": 5,
      "outputs": []
    },
    {
      "cell_type": "code",
      "source": [
        "df.head()"
      ],
      "metadata": {
        "colab": {
          "base_uri": "https://localhost:8080/",
          "height": 344
        },
        "id": "oJw_VL33UI-h",
        "outputId": "77a1581d-3d3e-4aea-da7c-88d3179b817a"
      },
      "execution_count": 6,
      "outputs": [
        {
          "output_type": "execute_result",
          "data": {
            "text/plain": [
              "              High     Low   Close  noOfTransactions  Volume       amount  \\\n",
              "Date                                                                        \n",
              "2022-01-02  1341.0  1283.0  1325.0               327   79727  103884333.1   \n",
              "2022-01-03  1335.0  1301.1  1317.0               227   29864   39305624.3   \n",
              "2022-01-04  1329.0  1293.0  1315.0               166   22367   29360024.6   \n",
              "2022-01-05  1346.4  1301.0  1313.0               377   59319   78308616.3   \n",
              "2022-01-06  1334.0  1300.6  1331.0               411   56637   74856032.1   \n",
              "\n",
              "              Open  differenceRs  percentChange  \n",
              "Date                                             \n",
              "2022-01-02  1283.0          42.0           3.27  \n",
              "2022-01-03  1325.0          -8.0          -0.60  \n",
              "2022-01-04  1317.0          -2.0          -0.15  \n",
              "2022-01-05  1315.0          -2.0          -0.15  \n",
              "2022-01-06  1313.0          18.0           1.37  "
            ],
            "text/html": [
              "\n",
              "  <div id=\"df-010b089c-721a-409e-9f1e-e56c08914c8c\" class=\"colab-df-container\">\n",
              "    <div>\n",
              "<style scoped>\n",
              "    .dataframe tbody tr th:only-of-type {\n",
              "        vertical-align: middle;\n",
              "    }\n",
              "\n",
              "    .dataframe tbody tr th {\n",
              "        vertical-align: top;\n",
              "    }\n",
              "\n",
              "    .dataframe thead th {\n",
              "        text-align: right;\n",
              "    }\n",
              "</style>\n",
              "<table border=\"1\" class=\"dataframe\">\n",
              "  <thead>\n",
              "    <tr style=\"text-align: right;\">\n",
              "      <th></th>\n",
              "      <th>High</th>\n",
              "      <th>Low</th>\n",
              "      <th>Close</th>\n",
              "      <th>noOfTransactions</th>\n",
              "      <th>Volume</th>\n",
              "      <th>amount</th>\n",
              "      <th>Open</th>\n",
              "      <th>differenceRs</th>\n",
              "      <th>percentChange</th>\n",
              "    </tr>\n",
              "    <tr>\n",
              "      <th>Date</th>\n",
              "      <th></th>\n",
              "      <th></th>\n",
              "      <th></th>\n",
              "      <th></th>\n",
              "      <th></th>\n",
              "      <th></th>\n",
              "      <th></th>\n",
              "      <th></th>\n",
              "      <th></th>\n",
              "    </tr>\n",
              "  </thead>\n",
              "  <tbody>\n",
              "    <tr>\n",
              "      <th>2022-01-02</th>\n",
              "      <td>1341.0</td>\n",
              "      <td>1283.0</td>\n",
              "      <td>1325.0</td>\n",
              "      <td>327</td>\n",
              "      <td>79727</td>\n",
              "      <td>103884333.1</td>\n",
              "      <td>1283.0</td>\n",
              "      <td>42.0</td>\n",
              "      <td>3.27</td>\n",
              "    </tr>\n",
              "    <tr>\n",
              "      <th>2022-01-03</th>\n",
              "      <td>1335.0</td>\n",
              "      <td>1301.1</td>\n",
              "      <td>1317.0</td>\n",
              "      <td>227</td>\n",
              "      <td>29864</td>\n",
              "      <td>39305624.3</td>\n",
              "      <td>1325.0</td>\n",
              "      <td>-8.0</td>\n",
              "      <td>-0.60</td>\n",
              "    </tr>\n",
              "    <tr>\n",
              "      <th>2022-01-04</th>\n",
              "      <td>1329.0</td>\n",
              "      <td>1293.0</td>\n",
              "      <td>1315.0</td>\n",
              "      <td>166</td>\n",
              "      <td>22367</td>\n",
              "      <td>29360024.6</td>\n",
              "      <td>1317.0</td>\n",
              "      <td>-2.0</td>\n",
              "      <td>-0.15</td>\n",
              "    </tr>\n",
              "    <tr>\n",
              "      <th>2022-01-05</th>\n",
              "      <td>1346.4</td>\n",
              "      <td>1301.0</td>\n",
              "      <td>1313.0</td>\n",
              "      <td>377</td>\n",
              "      <td>59319</td>\n",
              "      <td>78308616.3</td>\n",
              "      <td>1315.0</td>\n",
              "      <td>-2.0</td>\n",
              "      <td>-0.15</td>\n",
              "    </tr>\n",
              "    <tr>\n",
              "      <th>2022-01-06</th>\n",
              "      <td>1334.0</td>\n",
              "      <td>1300.6</td>\n",
              "      <td>1331.0</td>\n",
              "      <td>411</td>\n",
              "      <td>56637</td>\n",
              "      <td>74856032.1</td>\n",
              "      <td>1313.0</td>\n",
              "      <td>18.0</td>\n",
              "      <td>1.37</td>\n",
              "    </tr>\n",
              "  </tbody>\n",
              "</table>\n",
              "</div>\n",
              "    <div class=\"colab-df-buttons\">\n",
              "\n",
              "  <div class=\"colab-df-container\">\n",
              "    <button class=\"colab-df-convert\" onclick=\"convertToInteractive('df-010b089c-721a-409e-9f1e-e56c08914c8c')\"\n",
              "            title=\"Convert this dataframe to an interactive table.\"\n",
              "            style=\"display:none;\">\n",
              "\n",
              "  <svg xmlns=\"http://www.w3.org/2000/svg\" height=\"24px\" viewBox=\"0 -960 960 960\">\n",
              "    <path d=\"M120-120v-720h720v720H120Zm60-500h600v-160H180v160Zm220 220h160v-160H400v160Zm0 220h160v-160H400v160ZM180-400h160v-160H180v160Zm440 0h160v-160H620v160ZM180-180h160v-160H180v160Zm440 0h160v-160H620v160Z\"/>\n",
              "  </svg>\n",
              "    </button>\n",
              "\n",
              "  <style>\n",
              "    .colab-df-container {\n",
              "      display:flex;\n",
              "      gap: 12px;\n",
              "    }\n",
              "\n",
              "    .colab-df-convert {\n",
              "      background-color: #E8F0FE;\n",
              "      border: none;\n",
              "      border-radius: 50%;\n",
              "      cursor: pointer;\n",
              "      display: none;\n",
              "      fill: #1967D2;\n",
              "      height: 32px;\n",
              "      padding: 0 0 0 0;\n",
              "      width: 32px;\n",
              "    }\n",
              "\n",
              "    .colab-df-convert:hover {\n",
              "      background-color: #E2EBFA;\n",
              "      box-shadow: 0px 1px 2px rgba(60, 64, 67, 0.3), 0px 1px 3px 1px rgba(60, 64, 67, 0.15);\n",
              "      fill: #174EA6;\n",
              "    }\n",
              "\n",
              "    .colab-df-buttons div {\n",
              "      margin-bottom: 4px;\n",
              "    }\n",
              "\n",
              "    [theme=dark] .colab-df-convert {\n",
              "      background-color: #3B4455;\n",
              "      fill: #D2E3FC;\n",
              "    }\n",
              "\n",
              "    [theme=dark] .colab-df-convert:hover {\n",
              "      background-color: #434B5C;\n",
              "      box-shadow: 0px 1px 3px 1px rgba(0, 0, 0, 0.15);\n",
              "      filter: drop-shadow(0px 1px 2px rgba(0, 0, 0, 0.3));\n",
              "      fill: #FFFFFF;\n",
              "    }\n",
              "  </style>\n",
              "\n",
              "    <script>\n",
              "      const buttonEl =\n",
              "        document.querySelector('#df-010b089c-721a-409e-9f1e-e56c08914c8c button.colab-df-convert');\n",
              "      buttonEl.style.display =\n",
              "        google.colab.kernel.accessAllowed ? 'block' : 'none';\n",
              "\n",
              "      async function convertToInteractive(key) {\n",
              "        const element = document.querySelector('#df-010b089c-721a-409e-9f1e-e56c08914c8c');\n",
              "        const dataTable =\n",
              "          await google.colab.kernel.invokeFunction('convertToInteractive',\n",
              "                                                    [key], {});\n",
              "        if (!dataTable) return;\n",
              "\n",
              "        const docLinkHtml = 'Like what you see? Visit the ' +\n",
              "          '<a target=\"_blank\" href=https://colab.research.google.com/notebooks/data_table.ipynb>data table notebook</a>'\n",
              "          + ' to learn more about interactive tables.';\n",
              "        element.innerHTML = '';\n",
              "        dataTable['output_type'] = 'display_data';\n",
              "        await google.colab.output.renderOutput(dataTable, element);\n",
              "        const docLink = document.createElement('div');\n",
              "        docLink.innerHTML = docLinkHtml;\n",
              "        element.appendChild(docLink);\n",
              "      }\n",
              "    </script>\n",
              "  </div>\n",
              "\n",
              "\n",
              "<div id=\"df-3951ba51-6bb8-4704-937e-fabed8fe464b\">\n",
              "  <button class=\"colab-df-quickchart\" onclick=\"quickchart('df-3951ba51-6bb8-4704-937e-fabed8fe464b')\"\n",
              "            title=\"Suggest charts\"\n",
              "            style=\"display:none;\">\n",
              "\n",
              "<svg xmlns=\"http://www.w3.org/2000/svg\" height=\"24px\"viewBox=\"0 0 24 24\"\n",
              "     width=\"24px\">\n",
              "    <g>\n",
              "        <path d=\"M19 3H5c-1.1 0-2 .9-2 2v14c0 1.1.9 2 2 2h14c1.1 0 2-.9 2-2V5c0-1.1-.9-2-2-2zM9 17H7v-7h2v7zm4 0h-2V7h2v10zm4 0h-2v-4h2v4z\"/>\n",
              "    </g>\n",
              "</svg>\n",
              "  </button>\n",
              "\n",
              "<style>\n",
              "  .colab-df-quickchart {\n",
              "      --bg-color: #E8F0FE;\n",
              "      --fill-color: #1967D2;\n",
              "      --hover-bg-color: #E2EBFA;\n",
              "      --hover-fill-color: #174EA6;\n",
              "      --disabled-fill-color: #AAA;\n",
              "      --disabled-bg-color: #DDD;\n",
              "  }\n",
              "\n",
              "  [theme=dark] .colab-df-quickchart {\n",
              "      --bg-color: #3B4455;\n",
              "      --fill-color: #D2E3FC;\n",
              "      --hover-bg-color: #434B5C;\n",
              "      --hover-fill-color: #FFFFFF;\n",
              "      --disabled-bg-color: #3B4455;\n",
              "      --disabled-fill-color: #666;\n",
              "  }\n",
              "\n",
              "  .colab-df-quickchart {\n",
              "    background-color: var(--bg-color);\n",
              "    border: none;\n",
              "    border-radius: 50%;\n",
              "    cursor: pointer;\n",
              "    display: none;\n",
              "    fill: var(--fill-color);\n",
              "    height: 32px;\n",
              "    padding: 0;\n",
              "    width: 32px;\n",
              "  }\n",
              "\n",
              "  .colab-df-quickchart:hover {\n",
              "    background-color: var(--hover-bg-color);\n",
              "    box-shadow: 0 1px 2px rgba(60, 64, 67, 0.3), 0 1px 3px 1px rgba(60, 64, 67, 0.15);\n",
              "    fill: var(--button-hover-fill-color);\n",
              "  }\n",
              "\n",
              "  .colab-df-quickchart-complete:disabled,\n",
              "  .colab-df-quickchart-complete:disabled:hover {\n",
              "    background-color: var(--disabled-bg-color);\n",
              "    fill: var(--disabled-fill-color);\n",
              "    box-shadow: none;\n",
              "  }\n",
              "\n",
              "  .colab-df-spinner {\n",
              "    border: 2px solid var(--fill-color);\n",
              "    border-color: transparent;\n",
              "    border-bottom-color: var(--fill-color);\n",
              "    animation:\n",
              "      spin 1s steps(1) infinite;\n",
              "  }\n",
              "\n",
              "  @keyframes spin {\n",
              "    0% {\n",
              "      border-color: transparent;\n",
              "      border-bottom-color: var(--fill-color);\n",
              "      border-left-color: var(--fill-color);\n",
              "    }\n",
              "    20% {\n",
              "      border-color: transparent;\n",
              "      border-left-color: var(--fill-color);\n",
              "      border-top-color: var(--fill-color);\n",
              "    }\n",
              "    30% {\n",
              "      border-color: transparent;\n",
              "      border-left-color: var(--fill-color);\n",
              "      border-top-color: var(--fill-color);\n",
              "      border-right-color: var(--fill-color);\n",
              "    }\n",
              "    40% {\n",
              "      border-color: transparent;\n",
              "      border-right-color: var(--fill-color);\n",
              "      border-top-color: var(--fill-color);\n",
              "    }\n",
              "    60% {\n",
              "      border-color: transparent;\n",
              "      border-right-color: var(--fill-color);\n",
              "    }\n",
              "    80% {\n",
              "      border-color: transparent;\n",
              "      border-right-color: var(--fill-color);\n",
              "      border-bottom-color: var(--fill-color);\n",
              "    }\n",
              "    90% {\n",
              "      border-color: transparent;\n",
              "      border-bottom-color: var(--fill-color);\n",
              "    }\n",
              "  }\n",
              "</style>\n",
              "\n",
              "  <script>\n",
              "    async function quickchart(key) {\n",
              "      const quickchartButtonEl =\n",
              "        document.querySelector('#' + key + ' button');\n",
              "      quickchartButtonEl.disabled = true;  // To prevent multiple clicks.\n",
              "      quickchartButtonEl.classList.add('colab-df-spinner');\n",
              "      try {\n",
              "        const charts = await google.colab.kernel.invokeFunction(\n",
              "            'suggestCharts', [key], {});\n",
              "      } catch (error) {\n",
              "        console.error('Error during call to suggestCharts:', error);\n",
              "      }\n",
              "      quickchartButtonEl.classList.remove('colab-df-spinner');\n",
              "      quickchartButtonEl.classList.add('colab-df-quickchart-complete');\n",
              "    }\n",
              "    (() => {\n",
              "      let quickchartButtonEl =\n",
              "        document.querySelector('#df-3951ba51-6bb8-4704-937e-fabed8fe464b button');\n",
              "      quickchartButtonEl.style.display =\n",
              "        google.colab.kernel.accessAllowed ? 'block' : 'none';\n",
              "    })();\n",
              "  </script>\n",
              "</div>\n",
              "    </div>\n",
              "  </div>\n"
            ],
            "application/vnd.google.colaboratory.intrinsic+json": {
              "type": "dataframe",
              "variable_name": "df",
              "summary": "{\n  \"name\": \"df\",\n  \"rows\": 511,\n  \"fields\": [\n    {\n      \"column\": \"Date\",\n      \"properties\": {\n        \"dtype\": \"object\",\n        \"num_unique_values\": 511,\n        \"samples\": [\n          \"2022-07-05\",\n          \"2022-05-11\",\n          \"2023-11-09\"\n        ],\n        \"semantic_type\": \"\",\n        \"description\": \"\"\n      }\n    },\n    {\n      \"column\": \"High\",\n      \"properties\": {\n        \"dtype\": \"number\",\n        \"std\": 224.10108456005702,\n        \"min\": 775.0,\n        \"max\": 1799.9,\n        \"num_unique_values\": 317,\n        \"samples\": [\n          1052.0,\n          863.9,\n          1610.0\n        ],\n        \"semantic_type\": \"\",\n        \"description\": \"\"\n      }\n    },\n    {\n      \"column\": \"Low\",\n      \"properties\": {\n        \"dtype\": \"number\",\n        \"std\": 212.61756809441783,\n        \"min\": 758.0,\n        \"max\": 1725.0,\n        \"num_unique_values\": 303,\n        \"samples\": [\n          903.1,\n          770.0,\n          883.0\n        ],\n        \"semantic_type\": \"\",\n        \"description\": \"\"\n      }\n    },\n    {\n      \"column\": \"Close\",\n      \"properties\": {\n        \"dtype\": \"number\",\n        \"std\": 220.0777806242607,\n        \"min\": 758.0,\n        \"max\": 1779.0,\n        \"num_unique_values\": 302,\n        \"samples\": [\n          915.9,\n          758.0,\n          901.0\n        ],\n        \"semantic_type\": \"\",\n        \"description\": \"\"\n      }\n    },\n    {\n      \"column\": \"noOfTransactions\",\n      \"properties\": {\n        \"dtype\": \"number\",\n        \"std\": 293,\n        \"min\": 23,\n        \"max\": 2557,\n        \"num_unique_values\": 345,\n        \"samples\": [\n          1426,\n          358,\n          210\n        ],\n        \"semantic_type\": \"\",\n        \"description\": \"\"\n      }\n    },\n    {\n      \"column\": \"Volume\",\n      \"properties\": {\n        \"dtype\": \"number\",\n        \"std\": 43102,\n        \"min\": 1405,\n        \"max\": 235177,\n        \"num_unique_values\": 510,\n        \"samples\": [\n          35024,\n          43984,\n          16920\n        ],\n        \"semantic_type\": \"\",\n        \"description\": \"\"\n      }\n    },\n    {\n      \"column\": \"amount\",\n      \"properties\": {\n        \"dtype\": \"number\",\n        \"std\": 55369116.383354105,\n        \"min\": 1231228.0,\n        \"max\": 342357194.2,\n        \"num_unique_values\": 511,\n        \"samples\": [\n          38438490.3,\n          36268793.6,\n          15236425.1\n        ],\n        \"semantic_type\": \"\",\n        \"description\": \"\"\n      }\n    },\n    {\n      \"column\": \"Open\",\n      \"properties\": {\n        \"dtype\": \"number\",\n        \"std\": 219.7251418358905,\n        \"min\": 758.0,\n        \"max\": 1779.0,\n        \"num_unique_values\": 300,\n        \"samples\": [\n          819.0,\n          827.6,\n          814.0\n        ],\n        \"semantic_type\": \"\",\n        \"description\": \"\"\n      }\n    },\n    {\n      \"column\": \"differenceRs\",\n      \"properties\": {\n        \"dtype\": \"number\",\n        \"std\": 21.034370311196625,\n        \"min\": -88.0,\n        \"max\": 86.5,\n        \"num_unique_values\": 229,\n        \"samples\": [\n          -9.9,\n          10.0,\n          44.0\n        ],\n        \"semantic_type\": \"\",\n        \"description\": \"\"\n      }\n    },\n    {\n      \"column\": \"percentChange\",\n      \"properties\": {\n        \"dtype\": \"number\",\n        \"std\": 2.016997470474845,\n        \"min\": -6.8,\n        \"max\": 10.0,\n        \"num_unique_values\": 335,\n        \"samples\": [\n          0.62,\n          1.27,\n          -0.91\n        ],\n        \"semantic_type\": \"\",\n        \"description\": \"\"\n      }\n    }\n  ]\n}"
            }
          },
          "metadata": {},
          "execution_count": 6
        }
      ]
    },
    {
      "cell_type": "code",
      "source": [
        "df['Close'].plot()"
      ],
      "metadata": {
        "colab": {
          "base_uri": "https://localhost:8080/",
          "height": 466
        },
        "id": "Sf98lqCVUKLv",
        "outputId": "8409f432-b564-431e-d58b-ae65a94d75a8"
      },
      "execution_count": 7,
      "outputs": [
        {
          "output_type": "execute_result",
          "data": {
            "text/plain": [
              "<Axes: xlabel='Date'>"
            ]
          },
          "metadata": {},
          "execution_count": 7
        },
        {
          "output_type": "display_data",
          "data": {
            "text/plain": [
              "<Figure size 640x480 with 1 Axes>"
            ],
            "image/png": "[encoded data removed]"
          },
          "metadata": {}
        }
      ]
    },
    {
      "cell_type": "code",
      "source": [
        "import numpy as np"
      ],
      "metadata": {
        "id": "UiUf1M8iUxEH"
      },
      "execution_count": 8,
      "outputs": []
    },
    {
      "cell_type": "code",
      "source": [
        "import torch\n",
        "import torch.nn as nn\n",
        "from sklearn.model_selection import train_test_split"
      ],
      "metadata": {
        "id": "XJQGzdg4WbgV"
      },
      "execution_count": 9,
      "outputs": []
    },
    {
      "cell_type": "code",
      "source": [
        "# Prepare data for RNN\n",
        "sequence_length = 5\n",
        "X = []\n",
        "y = []\n",
        "for i in range(len(df) - sequence_length):\n",
        "    X.append(df.iloc[i:i + sequence_length]['Close'].values)\n",
        "    y.append(df.iloc[i + sequence_length]['Close'])\n",
        "\n",
        "X = np.array(X)\n",
        "y = np.array(y)"
      ],
      "metadata": {
        "id": "yb4qD4yMYzZX"
      },
      "execution_count": 10,
      "outputs": []
    },
    {
      "cell_type": "code",
      "source": [
        "from sklearn.preprocessing import StandardScaler"
      ],
      "metadata": {
        "id": "JEHIZm_Pb7jx"
      },
      "execution_count": 11,
      "outputs": []
    },
    {
      "cell_type": "code",
      "source": [
        "# Scale the data using StandardScaler\n",
        "scaler = StandardScaler()\n",
        "X_scaled = scaler.fit_transform(X)\n",
        "y_scaled = scaler.fit_transform(y.reshape(-1, 1)).flatten()"
      ],
      "metadata": {
        "id": "Ui1zXc-_b06c"
      },
      "execution_count": 12,
      "outputs": []
    },
    {
      "cell_type": "code",
      "source": [
        "# Split data into training and testing sets\n",
        "split_index = int(len(X_scaled) * 0.8)\n",
        "X_train, X_test = X_scaled[:split_index], X_scaled[split_index:]\n",
        "y_train, y_test = y_scaled[:split_index], y_scaled[split_index:]\n",
        "\n",
        "# Convert numpy arrays to PyTorch tensors\n",
        "X_train_tensor = torch.tensor(X_train, dtype=torch.float32)\n",
        "X_test_tensor = torch.tensor(X_test, dtype=torch.float32)\n",
        "y_train_tensor = torch.tensor(y_train, dtype=torch.float32)\n",
        "y_test_tensor = torch.tensor(y_test, dtype=torch.float32)"
      ],
      "metadata": {
        "id": "QbYVDphwb9X1"
      },
      "execution_count": 13,
      "outputs": []
    },
    {
      "cell_type": "code",
      "source": [
        "# Define the RNN model\n",
        "class RNN(nn.Module):\n",
        "    def __init__(self, input_size, hidden_size, output_size):\n",
        "        super(RNN, self).__init__()\n",
        "        self.rnn = nn.RNN(input_size, hidden_size, batch_first=True)\n",
        "        self.fc = nn.Linear(hidden_size, output_size)\n",
        "\n",
        "    def forward(self, x):\n",
        "        out, _ = self.rnn(x)\n",
        "        out = self.fc(out[:, -1, :])\n",
        "        return out"
      ],
      "metadata": {
        "id": "Qj0zKqY2cBu7"
      },
      "execution_count": 14,
      "outputs": []
    },
    {
      "cell_type": "code",
      "source": [
        "# Instantiate the model\n",
        "input_size = 1  # Size of each input sample\n",
        "hidden_size = 64  # Number of features in the hidden state\n",
        "output_size = 1  # Size of each output sample\n",
        "model = RNN(input_size, hidden_size, output_size)\n",
        "\n",
        "# Define loss function and optimizer\n",
        "criterion = nn.MSELoss()\n",
        "optimizer = torch.optim.Adam(model.parameters(), lr=0.001)\n"
      ],
      "metadata": {
        "id": "RlsyrZVmcJbn"
      },
      "execution_count": 15,
      "outputs": []
    },
    {
      "cell_type": "code",
      "source": [
        "# Training the model\n",
        "num_epochs = 50\n",
        "for epoch in range(num_epochs):\n",
        "    model.train()\n",
        "    outputs = model(X_train_tensor.unsqueeze(2))  # Unsqueezing to add the third dimension\n",
        "    optimizer.zero_grad()\n",
        "    loss = criterion(outputs.squeeze(), y_train_tensor)\n",
        "    loss.backward()\n",
        "    optimizer.step()\n",
        "    print(f'Epoch [{epoch + 1}/{num_epochs}], Loss: {loss.item():.4f}')\n"
      ],
      "metadata": {
        "colab": {
          "base_uri": "https://localhost:8080/"
        },
        "id": "NhKDjD6rcMKh",
        "outputId": "d17e844b-bf3e-4a03-ea85-6f4fdf7ec0e1"
      },
      "execution_count": 16,
      "outputs": [
        {
          "output_type": "stream",
          "name": "stdout",
          "text": [
            "Epoch [1/50], Loss: 1.3764\n",
            "Epoch [2/50], Loss: 1.3053\n",
            "Epoch [3/50], Loss: 1.2376\n",
            "Epoch [4/50], Loss: 1.1726\n",
            "Epoch [5/50], Loss: 1.1096\n",
            "Epoch [6/50], Loss: 1.0480\n",
            "Epoch [7/50], Loss: 0.9874\n",
            "Epoch [8/50], Loss: 0.9274\n",
            "Epoch [9/50], Loss: 0.8678\n",
            "Epoch [10/50], Loss: 0.8086\n",
            "Epoch [11/50], Loss: 0.7495\n",
            "Epoch [12/50], Loss: 0.6902\n",
            "Epoch [13/50], Loss: 0.6306\n",
            "Epoch [14/50], Loss: 0.5705\n",
            "Epoch [15/50], Loss: 0.5099\n",
            "Epoch [16/50], Loss: 0.4491\n",
            "Epoch [17/50], Loss: 0.3887\n",
            "Epoch [18/50], Loss: 0.3295\n",
            "Epoch [19/50], Loss: 0.2730\n",
            "Epoch [20/50], Loss: 0.2211\n",
            "Epoch [21/50], Loss: 0.1761\n",
            "Epoch [22/50], Loss: 0.1404\n",
            "Epoch [23/50], Loss: 0.1154\n",
            "Epoch [24/50], Loss: 0.1007\n",
            "Epoch [25/50], Loss: 0.0944\n",
            "Epoch [26/50], Loss: 0.0940\n",
            "Epoch [27/50], Loss: 0.0970\n",
            "Epoch [28/50], Loss: 0.1020\n",
            "Epoch [29/50], Loss: 0.1088\n",
            "Epoch [30/50], Loss: 0.1170\n",
            "Epoch [31/50], Loss: 0.1244\n",
            "Epoch [32/50], Loss: 0.1270\n",
            "Epoch [33/50], Loss: 0.1228\n",
            "Epoch [34/50], Loss: 0.1131\n",
            "Epoch [35/50], Loss: 0.1006\n",
            "Epoch [36/50], Loss: 0.0881\n",
            "Epoch [37/50], Loss: 0.0776\n",
            "Epoch [38/50], Loss: 0.0698\n",
            "Epoch [39/50], Loss: 0.0649\n",
            "Epoch [40/50], Loss: 0.0625\n",
            "Epoch [41/50], Loss: 0.0621\n",
            "Epoch [42/50], Loss: 0.0631\n",
            "Epoch [43/50], Loss: 0.0649\n",
            "Epoch [44/50], Loss: 0.0667\n",
            "Epoch [45/50], Loss: 0.0682\n",
            "Epoch [46/50], Loss: 0.0687\n",
            "Epoch [47/50], Loss: 0.0682\n",
            "Epoch [48/50], Loss: 0.0665\n",
            "Epoch [49/50], Loss: 0.0640\n",
            "Epoch [50/50], Loss: 0.0607\n"
          ]
        }
      ]
    },
    {
      "cell_type": "code",
      "source": [
        "# Evaluate the model\n",
        "model.eval()\n",
        "with torch.no_grad():\n",
        "    outputs = model(X_test_tensor.unsqueeze(2))\n",
        "    test_loss = criterion(outputs.squeeze(), y_test_tensor)\n",
        "    print(f'Test Loss: {test_loss.item():.4f}')\n"
      ],
      "metadata": {
        "colab": {
          "base_uri": "https://localhost:8080/"
        },
        "id": "zkKesIrGcRAB",
        "outputId": "e0d52f9f-2c1a-47cc-ccdf-e03a09a257ab"
      },
      "execution_count": 17,
      "outputs": [
        {
          "output_type": "stream",
          "name": "stdout",
          "text": [
            "Test Loss: 0.0072\n"
          ]
        }
      ]
    },
    {
      "cell_type": "markdown",
      "source": [
        "#Save the model"
      ],
      "metadata": {
        "id": "5I4ccIbOdgy6"
      }
    },
    {
      "cell_type": "code",
      "source": [
        "# Save the trained model weights\n",
        "torch.save(model.state_dict(), 'model_weights.pth')"
      ],
      "metadata": {
        "id": "JuZJ2bsxcUfk"
      },
      "execution_count": 18,
      "outputs": []
    },
    {
      "cell_type": "markdown",
      "source": [
        "#Using the saved model"
      ],
      "metadata": {
        "id": "MtQCsKmcdmis"
      }
    },
    {
      "cell_type": "code",
      "source": [
        "# Scale the 'Value' column using StandardScaler\n",
        "scaler = StandardScaler()\n",
        "df['Value_scaled'] = scaler.fit_transform(df[['Close']])\n",
        "\n",
        "# Prepare data for feeding into the model\n",
        "sequence_length = 5\n",
        "X = []\n",
        "for i in range(len(df) - sequence_length + 1):\n",
        "    X.append(df['Value_scaled'].iloc[i:i + sequence_length].values)\n",
        "\n",
        "# Convert to numpy array and then to PyTorch tensor\n",
        "X_tensor = torch.tensor(X, dtype=torch.float32).unsqueeze(2)  # Add a third dimension\n",
        "\n"
      ],
      "metadata": {
        "id": "t4KNlpG6dlY2",
        "colab": {
          "base_uri": "https://localhost:8080/"
        },
        "outputId": "f90474a1-b9bc-4113-84d1-9fce7ba480dc"
      },
      "execution_count": 19,
      "outputs": [
        {
          "output_type": "stream",
          "name": "stderr",
          "text": [
            "<ipython-input-19-e1d119f79eb7>:12: UserWarning: Creating a tensor from a list of numpy.ndarrays is extremely slow. Please consider converting the list to a single numpy.ndarray with numpy.array() before converting to a tensor. (Triggered internally at ../torch/csrc/utils/tensor_new.cpp:275.)\n",
            "  X_tensor = torch.tensor(X, dtype=torch.float32).unsqueeze(2)  # Add a third dimension\n"
          ]
        }
      ]
    },
    {
      "cell_type": "code",
      "source": [
        "# Load the trained model weights\n",
        "model.load_state_dict(torch.load('model_weights.pth'))\n",
        "model.eval()"
      ],
      "metadata": {
        "colab": {
          "base_uri": "https://localhost:8080/"
        },
        "id": "wOxiz-YWdxVc",
        "outputId": "78331fd3-1bb2-4380-dc7c-c6121559cf02"
      },
      "execution_count": 20,
      "outputs": [
        {
          "output_type": "execute_result",
          "data": {
            "text/plain": [
              "RNN(\n",
              "  (rnn): RNN(1, 64, batch_first=True)\n",
              "  (fc): Linear(in_features=64, out_features=1, bias=True)\n",
              ")"
            ]
          },
          "metadata": {},
          "execution_count": 20
        }
      ]
    },
    {
      "cell_type": "code",
      "source": [
        "# Make predictions for the entire DataFrame\n",
        "with torch.no_grad():\n",
        "    forecast = []\n",
        "    for i in range(len(X_tensor)):\n",
        "        output = model(X_tensor[i].unsqueeze(0))  # Unsqueezing to add the batch dimension\n",
        "        forecast.append(output.item())"
      ],
      "metadata": {
        "id": "alIKOxgXd1Jn"
      },
      "execution_count": 21,
      "outputs": []
    },
    {
      "cell_type": "code",
      "source": [
        "# Inverse transform the forecasted values to get back to the original scale\n",
        "forecast = scaler.inverse_transform(np.array(forecast).reshape(-1, 1)).flatten()\n",
        "\n",
        "# Add the 'Forecast' column to the DataFrame\n",
        "df['Forecast'] = np.nan\n",
        "df['Forecast'].iloc[sequence_length-1:] = forecast\n",
        "\n",
        "print(df)"
      ],
      "metadata": {
        "colab": {
          "base_uri": "https://localhost:8080/"
        },
        "id": "L4Cf28hxd3ws",
        "outputId": "1bd93c58-3a41-4483-b3dd-df9871615fd0"
      },
      "execution_count": 22,
      "outputs": [
        {
          "output_type": "stream",
          "name": "stdout",
          "text": [
            "              High     Low   Close  noOfTransactions  Volume       amount  \\\n",
            "Date                                                                        \n",
            "2022-01-02  1341.0  1283.0  1325.0               327   79727  103884333.1   \n",
            "2022-01-03  1335.0  1301.1  1317.0               227   29864   39305624.3   \n",
            "2022-01-04  1329.0  1293.0  1315.0               166   22367   29360024.6   \n",
            "2022-01-05  1346.4  1301.0  1313.0               377   59319   78308616.3   \n",
            "2022-01-06  1334.0  1300.6  1331.0               411   56637   74856032.1   \n",
            "...            ...     ...     ...               ...     ...          ...   \n",
            "2024-03-06   856.8   837.1   845.0               226   14915   12584435.8   \n",
            "2024-03-07   865.0   845.0   855.0               246   13007   11128791.6   \n",
            "2024-03-10   872.0   856.0   859.9               212   10552    9067195.5   \n",
            "2024-03-12   877.0   859.0   868.0               377   24704   21384289.7   \n",
            "2024-03-13   885.3   856.0   866.0               308   18601   16165487.5   \n",
            "\n",
            "              Open  differenceRs  percentChange  Value_scaled     Forecast  \n",
            "Date                                                                        \n",
            "2022-01-02  1283.0          42.0           3.27      1.697978          NaN  \n",
            "2022-01-03  1325.0          -8.0          -0.60      1.661591          NaN  \n",
            "2022-01-04  1317.0          -2.0          -0.15      1.652495          NaN  \n",
            "2022-01-05  1315.0          -2.0          -0.15      1.643398          NaN  \n",
            "2022-01-06  1313.0          18.0           1.37      1.725267  1337.022178  \n",
            "...            ...           ...            ...           ...          ...  \n",
            "2024-03-06   840.0           5.0           0.60     -0.485207   851.860023  \n",
            "2024-03-07   845.0          10.0           1.18     -0.439724   851.161026  \n",
            "2024-03-10   855.0           4.9           0.57     -0.417437   853.927485  \n",
            "2024-03-12   859.9           8.1           0.94     -0.380596   860.232553  \n",
            "2024-03-13   868.0          -2.0          -0.23     -0.389692   866.118693  \n",
            "\n",
            "[511 rows x 11 columns]\n"
          ]
        },
        {
          "output_type": "stream",
          "name": "stderr",
          "text": [
            "<ipython-input-22-c61b135886bd>:6: SettingWithCopyWarning: \n",
            "A value is trying to be set on a copy of a slice from a DataFrame\n",
            "\n",
            "See the caveats in the documentation: https://pandas.pydata.org/pandas-docs/stable/user_guide/indexing.html#returning-a-view-versus-a-copy\n",
            "  df['Forecast'].iloc[sequence_length-1:] = forecast\n"
          ]
        }
      ]
    },
    {
      "cell_type": "code",
      "source": [],
      "metadata": {
        "id": "ORaqoqSuJQrt"
      },
      "execution_count": 22,
      "outputs": []
    },
    {
      "cell_type": "code",
      "source": [
        "df_final = df[['Close','Forecast']]"
      ],
      "metadata": {
        "id": "SLTtzig6eOAK"
      },
      "execution_count": 23,
      "outputs": []
    },
    {
      "cell_type": "code",
      "source": [
        "df_final.plot()"
      ],
      "metadata": {
        "colab": {
          "base_uri": "https://localhost:8080/",
          "height": 466
        },
        "id": "tEqInAKLeZDf",
        "outputId": "0694eb36-3c58-414b-82b3-1719114359e3"
      },
      "execution_count": 24,
      "outputs": [
        {
          "output_type": "execute_result",
          "data": {
            "text/plain": [
              "<Axes: xlabel='Date'>"
            ]
          },
          "metadata": {},
          "execution_count": 24
        },
        {
          "output_type": "display_data",
          "data": {
            "text/plain": [
              "<Figure size 640x480 with 1 Axes>"
            ],
            "image/png": "[encoded data removed]"
          },
          "metadata": {}
        }
      ]
    },
    {
      "cell_type": "code",
      "source": [
        "import plotly.graph_objs as go\n",
        "import plotly.offline as pyo\n",
        "\n",
        "# Create trace for 'Close' data\n",
        "trace_close = go.Scatter(x=df.index, y=df['Close'], mode='lines', name='Close')\n",
        "\n",
        "# Create trace for 'Forecast' data\n",
        "trace_forecast = go.Scatter(x=df.index, y=df['Forecast'], mode='lines', name='Forecast')\n",
        "\n",
        "# Create layout\n",
        "layout = go.Layout(title='Close vs Forecast',\n",
        "                   xaxis=dict(title='Date'),\n",
        "                   yaxis=dict(title='Price'))\n",
        "\n",
        "# Create figure with both traces\n",
        "fig = go.Figure(data=[trace_close, trace_forecast], layout=layout)\n",
        "\n",
        "# Plot the figure\n",
        "pyo.iplot(fig)\n"
      ],
      "metadata": {
        "colab": {
          "base_uri": "https://localhost:8080/",
          "height": 542
        },
        "id": "QcD0vKwkebpL",
        "outputId": "59822c98-ef33-45fd-cf67-f587ae7db820"
      },
      "execution_count": 25,
      "outputs": [
        {
          "output_type": "display_data",
          "data": {
            "text/html": [
              "<html>\n",
              "<head><meta charset=\"utf-8\" /></head>\n",
              "<body>\n",
              "    <div>            <script src=\"https://cdnjs.cloudflare.com/ajax/libs/mathjax/2.7.5/MathJax.js?config=TeX-AMS-MML_SVG\"></script><script type=\"text/javascript\">if (window.MathJax && window.MathJax.Hub && window.MathJax.Hub.Config) {window.MathJax.Hub.Config({SVG: {font: \"STIX-Web\"}});}</script>                <script type=\"text/javascript\">window.PlotlyConfig = {MathJaxConfig: 'local'};</script>\n",
              "        <script charset=\"utf-8\" src=\"https://cdn.plot.ly/plotly-2.24.1.min.js\"></script>                <div id=\"b9bb381f-6cea-4c06-875b-d577180ed4f1\" class=\"plotly-graph-div\" style=\"height:525px; width:100%;\"></div>            <script type=\"text/javascript\">                                    window.PLOTLYENV=window.PLOTLYENV || {};                                    if (document.getElementById(\"b9bb381f-6cea-4c06-875b-d577180ed4f1\")) {                    Plotly.newPlot(                        \"b9bb381f-6cea-4c06-875b-d577180ed4f1\",                        [{\"mode\":\"lines\",\"name\":\"Close\",\"x\":[\"2022-01-02\",\"2022-01-03\",\"2022-01-04\",\"2022-01-05\",\"2022-01-06\",\"2022-01-09\",\"2022-01-10\",\"2022-01-11\",\"2022-01-12\",\"2022-01-13\",\"2022-01-16\",\"2022-01-17\",\"2022-01-18\",\"2022-01-19\",\"2022-01-20\",\"2022-01-23\",\"2022-01-24\",\"2022-01-25\",\"2022-01-26\",\"2022-01-27\",\"2022-01-30\",\"2022-01-31\",\"2022-02-01\",\"2022-02-03\",\"2022-02-06\",\"2022-02-07\",\"2022-02-08\",\"2022-02-09\",\"2022-02-10\",\"2022-02-13\",\"2022-02-14\",\"2022-02-15\",\"2022-02-16\",\"2022-02-17\",\"2022-02-20\",\"2022-02-21\",\"2022-02-22\",\"2022-02-23\",\"2022-02-24\",\"2022-02-27\",\"2022-02-28\",\"2022-03-02\",\"2022-03-06\",\"2022-03-07\",\"2022-03-09\",\"2022-03-10\",\"2022-03-13\",\"2022-03-14\",\"2022-03-15\",\"2022-03-16\",\"2022-03-20\",\"2022-03-21\",\"2022-03-22\",\"2022-03-23\",\"2022-03-24\",\"2022-03-27\",\"2022-03-28\",\"2022-03-29\",\"2022-03-30\",\"2022-03-31\",\"2022-04-03\",\"2022-04-04\",\"2022-04-05\",\"2022-04-06\",\"2022-04-07\",\"2022-04-11\",\"2022-04-12\",\"2022-04-13\",\"2022-04-17\",\"2022-04-18\",\"2022-04-19\",\"2022-04-20\",\"2022-04-21\",\"2022-04-24\",\"2022-04-25\",\"2022-04-26\",\"2022-04-27\",\"2022-04-28\",\"2022-05-02\",\"2022-05-04\",\"2022-05-05\",\"2022-05-08\",\"2022-05-09\",\"2022-05-10\",\"2022-05-11\",\"2022-05-12\",\"2022-05-17\",\"2022-05-18\",\"2022-05-19\",\"2022-05-20\",\"2022-05-23\",\"2022-05-24\",\"2022-05-25\",\"2022-05-26\",\"2022-05-27\",\"2022-05-30\",\"2022-05-31\",\"2022-06-01\",\"2022-06-02\",\"2022-06-03\",\"2022-06-06\",\"2022-06-07\",\"2022-06-08\",\"2022-06-09\",\"2022-06-10\",\"2022-06-13\",\"2022-06-14\",\"2022-06-15\",\"2022-06-16\",\"2022-06-17\",\"2022-06-19\",\"2022-06-20\",\"2022-06-21\",\"2022-06-22\",\"2022-06-23\",\"2022-06-24\",\"2022-06-26\",\"2022-06-27\",\"2022-06-28\",\"2022-06-29\",\"2022-06-30\",\"2022-07-01\",\"2022-07-03\",\"2022-07-04\",\"2022-07-05\",\"2022-07-06\",\"2022-07-07\",\"2022-07-08\",\"2022-07-11\",\"2022-07-12\",\"2022-07-13\",\"2022-07-14\",\"2022-07-15\",\"2022-07-17\",\"2022-07-18\",\"2022-07-19\",\"2022-07-20\",\"2022-07-21\",\"2022-07-22\",\"2022-07-24\",\"2022-07-25\",\"2022-07-26\",\"2022-07-27\",\"2022-07-28\",\"2022-07-29\",\"2022-07-31\",\"2022-08-01\",\"2022-08-02\",\"2022-08-03\",\"2022-08-04\",\"2022-08-05\",\"2022-08-07\",\"2022-08-08\",\"2022-08-09\",\"2022-08-10\",\"2022-08-11\",\"2022-08-14\",\"2022-08-15\",\"2022-08-16\",\"2022-08-17\",\"2022-08-18\",\"2022-08-21\",\"2022-08-22\",\"2022-08-23\",\"2022-08-24\",\"2022-08-25\",\"2022-08-26\",\"2022-08-28\",\"2022-08-29\",\"2022-08-30\",\"2022-08-31\",\"2022-09-01\",\"2022-09-02\",\"2022-09-04\",\"2022-09-05\",\"2022-09-06\",\"2022-09-07\",\"2022-09-08\",\"2022-09-11\",\"2022-09-12\",\"2022-09-13\",\"2022-09-14\",\"2022-09-15\",\"2022-09-16\",\"2022-09-18\",\"2022-09-20\",\"2022-09-21\",\"2022-09-22\",\"2022-09-25\",\"2022-09-27\",\"2022-09-28\",\"2022-09-29\",\"2022-10-09\",\"2022-10-10\",\"2022-10-11\",\"2022-10-12\",\"2022-10-13\",\"2022-10-16\",\"2022-10-17\",\"2022-10-19\",\"2022-10-20\",\"2022-10-23\",\"2022-10-31\",\"2022-11-01\",\"2022-11-02\",\"2022-11-03\",\"2022-11-06\",\"2022-11-07\",\"2022-11-08\",\"2022-11-09\",\"2022-11-10\",\"2022-11-13\",\"2022-11-14\",\"2022-11-15\",\"2022-11-16\",\"2022-11-17\",\"2022-11-22\",\"2022-11-23\",\"2022-11-24\",\"2022-11-27\",\"2022-11-28\",\"2022-11-29\",\"2022-11-30\",\"2022-12-01\",\"2022-12-04\",\"2022-12-05\",\"2022-12-06\",\"2022-12-07\",\"2022-12-11\",\"2022-12-12\",\"2022-12-13\",\"2022-12-14\",\"2022-12-15\",\"2022-12-18\",\"2022-12-19\",\"2022-12-20\",\"2022-12-21\",\"2022-12-22\",\"2022-12-26\",\"2022-12-27\",\"2022-12-28\",\"2022-12-29\",\"2023-01-01\",\"2023-01-02\",\"2023-01-03\",\"2023-01-04\",\"2023-01-05\",\"2023-01-08\",\"2023-01-09\",\"2023-01-10\",\"2023-01-12\",\"2023-01-17\",\"2023-01-18\",\"2023-01-19\",\"2023-01-23\",\"2023-01-24\",\"2023-01-25\",\"2023-01-26\",\"2023-01-29\",\"2023-01-30\",\"2023-01-31\",\"2023-02-01\",\"2023-02-02\",\"2023-02-05\",\"2023-02-06\",\"2023-02-07\",\"2023-02-08\",\"2023-02-09\",\"2023-02-12\",\"2023-02-14\",\"2023-02-15\",\"2023-02-16\",\"2023-02-20\",\"2023-02-22\",\"2023-02-23\",\"2023-02-26\",\"2023-02-27\",\"2023-02-28\",\"2023-03-01\",\"2023-03-02\",\"2023-03-05\",\"2023-03-07\",\"2023-03-09\",\"2023-03-12\",\"2023-03-13\",\"2023-03-14\",\"2023-03-15\",\"2023-03-16\",\"2023-03-19\",\"2023-03-20\",\"2023-03-22\",\"2023-03-23\",\"2023-03-26\",\"2023-03-27\",\"2023-03-28\",\"2023-03-29\",\"2023-03-30\",\"2023-04-02\",\"2023-04-03\",\"2023-04-04\",\"2023-04-05\",\"2023-04-06\",\"2023-04-09\",\"2023-04-10\",\"2023-04-11\",\"2023-04-12\",\"2023-04-16\",\"2023-04-17\",\"2023-04-18\",\"2023-04-19\",\"2023-04-20\",\"2023-04-23\",\"2023-04-24\",\"2023-04-25\",\"2023-04-26\",\"2023-04-27\",\"2023-04-30\",\"2023-05-02\",\"2023-05-03\",\"2023-05-04\",\"2023-05-07\",\"2023-05-08\",\"2023-05-09\",\"2023-05-10\",\"2023-05-11\",\"2023-05-14\",\"2023-05-15\",\"2023-05-16\",\"2023-05-17\",\"2023-05-18\",\"2023-05-21\",\"2023-05-22\",\"2023-05-23\",\"2023-05-24\",\"2023-05-28\",\"2023-05-30\",\"2023-05-31\",\"2023-06-01\",\"2023-06-04\",\"2023-06-05\",\"2023-06-06\",\"2023-06-07\",\"2023-06-08\",\"2023-06-11\",\"2023-06-12\",\"2023-06-13\",\"2023-06-14\",\"2023-06-15\",\"2023-06-18\",\"2023-06-19\",\"2023-06-20\",\"2023-06-21\",\"2023-06-22\",\"2023-06-25\",\"2023-06-26\",\"2023-06-27\",\"2023-06-28\",\"2023-07-02\",\"2023-07-03\",\"2023-07-04\",\"2023-07-09\",\"2023-07-10\",\"2023-07-11\",\"2023-07-12\",\"2023-07-13\",\"2023-07-16\",\"2023-07-17\",\"2023-07-18\",\"2023-07-19\",\"2023-07-20\",\"2023-07-23\",\"2023-07-24\",\"2023-08-01\",\"2023-08-02\",\"2023-08-03\",\"2023-08-06\",\"2023-08-07\",\"2023-08-08\",\"2023-08-09\",\"2023-08-10\",\"2023-08-13\",\"2023-08-14\",\"2023-08-15\",\"2023-08-16\",\"2023-08-17\",\"2023-08-20\",\"2023-08-21\",\"2023-08-22\",\"2023-08-23\",\"2023-08-24\",\"2023-08-27\",\"2023-08-28\",\"2023-08-29\",\"2023-08-30\",\"2023-09-03\",\"2023-09-04\",\"2023-09-05\",\"2023-09-07\",\"2023-09-10\",\"2023-09-11\",\"2023-09-12\",\"2023-09-13\",\"2023-09-17\",\"2023-09-18\",\"2023-09-19\",\"2023-09-21\",\"2023-09-24\",\"2023-09-25\",\"2023-09-26\",\"2023-09-27\",\"2023-10-01\",\"2023-10-02\",\"2023-10-03\",\"2023-10-04\",\"2023-10-05\",\"2023-10-08\",\"2023-10-09\",\"2023-10-10\",\"2023-10-11\",\"2023-10-12\",\"2023-10-16\",\"2023-10-17\",\"2023-10-18\",\"2023-10-19\",\"2023-10-29\",\"2023-10-30\",\"2023-10-31\",\"2023-11-01\",\"2023-11-02\",\"2023-11-05\",\"2023-11-06\",\"2023-11-07\",\"2023-11-08\",\"2023-11-09\",\"2023-11-20\",\"2023-11-21\",\"2023-11-22\",\"2023-11-23\",\"2023-11-26\",\"2023-11-27\",\"2023-11-28\",\"2023-11-29\",\"2023-11-30\",\"2023-12-03\",\"2023-12-04\",\"2023-12-05\",\"2023-12-06\",\"2023-12-07\",\"2023-12-10\",\"2023-12-11\",\"2023-12-12\",\"2023-12-13\",\"2023-12-14\",\"2023-12-17\",\"2023-12-18\",\"2023-12-19\",\"2023-12-20\",\"2023-12-21\",\"2023-12-24\",\"2023-12-27\",\"2023-12-28\",\"2024-01-01\",\"2024-01-02\",\"2024-01-03\",\"2024-01-04\",\"2024-01-07\",\"2024-01-08\",\"2024-01-09\",\"2024-01-10\",\"2024-01-11\",\"2024-01-14\",\"2024-01-16\",\"2024-01-17\",\"2024-01-18\",\"2024-01-21\",\"2024-01-22\",\"2024-01-23\",\"2024-01-24\",\"2024-01-25\",\"2024-01-28\",\"2024-01-29\",\"2024-01-30\",\"2024-01-31\",\"2024-02-01\",\"2024-02-04\",\"2024-02-05\",\"2024-02-06\",\"2024-02-07\",\"2024-02-08\",\"2024-02-11\",\"2024-02-12\",\"2024-02-13\",\"2024-02-14\",\"2024-02-15\",\"2024-02-18\",\"2024-02-20\",\"2024-02-21\",\"2024-02-22\",\"2024-02-25\",\"2024-02-26\",\"2024-02-27\",\"2024-02-28\",\"2024-02-29\",\"2024-03-03\",\"2024-03-04\",\"2024-03-05\",\"2024-03-06\",\"2024-03-07\",\"2024-03-10\",\"2024-03-12\",\"2024-03-13\"],\"y\":[1325.0,1317.0,1315.0,1313.0,1331.0,1358.0,1431.5,1440.0,1391.0,1391.0,1435.0,1458.0,1499.0,1456.0,1457.0,1513.0,1456.0,1448.9,1440.0,1459.9,1520.0,1570.0,1568.0,1560.0,1540.0,1590.0,1590.0,1599.9,1624.8,1583.0,1585.0,1655.0,1664.0,1679.0,1710.0,1737.0,1779.0,1726.0,1690.0,1699.0,1675.0,1624.0,1637.0,1689.0,1680.0,1646.0,1715.0,1714.0,1626.0,1568.0,1550.0,1504.0,1528.0,1508.0,1465.0,1170.0,1133.5,1125.3,1182.0,1170.0,1121.0,1100.0,1048.3,1068.0,1130.0,1060.0,1035.0,1066.0,1050.0,1015.0,1033.0,995.0,1025.0,1065.0,1040.0,1037.9,1049.0,1030.0,989.0,980.0,982.0,1010.0,1020.0,1038.9,1050.0,1053.6,982.0,996.0,990.0,973.0,979.0,988.0,995.0,981.5,959.0,935.0,927.8,931.0,915.0,904.0,910.0,889.0,925.0,906.9,888.2,890.0,855.0,865.0,895.0,890.0,867.5,853.0,880.0,860.0,850.0,867.0,916.9,880.0,864.0,875.0,910.0,895.0,948.0,938.0,901.0,912.0,891.0,879.0,845.0,840.4,889.0,887.0,878.9,863.9,879.0,880.0,888.0,894.9,871.0,925.0,929.9,900.0,927.0,935.0,959.0,980.0,971.9,963.0,952.0,929.0,938.0,955.0,927.0,888.0,880.0,865.0,860.0,920.0,912.5,914.0,938.0,921.1,915.0,920.0,914.9,897.0,903.7,901.0,910.0,940.0,927.9,915.0,912.0,895.0,885.0,870.0,870.0,862.0,860.4,854.0,859.8,883.0,849.0,850.0,829.0,817.0,820.0,814.0,806.0,810.0,810.0,810.0,828.9,820.0,810.0,815.5,814.0,810.0,815.0,806.0,807.3,814.2,832.0,869.0,870.0,859.0,884.0,880.0,876.1,855.0,845.0,844.0,864.0,857.0,859.2,870.0,859.0,852.0,869.0,885.0,875.0,880.0,876.2,881.0,889.0,871.0,872.0,868.6,858.0,922.0,909.9,909.0,903.3,887.0,915.0,931.0,917.0,953.0,900.0,915.9,898.0,910.0,922.0,885.0,869.0,895.0,885.0,882.9,895.0,879.0,868.3,879.0,874.0,867.0,859.0,889.0,869.9,865.0,852.0,841.0,836.0,839.0,833.3,835.0,834.0,854.0,852.0,848.0,834.0,835.0,830.0,837.0,823.3,834.0,820.0,820.1,824.9,818.0,815.2,811.0,807.0,810.0,824.0,817.0,814.0,819.0,815.0,815.8,817.0,822.0,819.5,811.0,812.0,814.1,813.0,816.0,814.0,812.0,808.0,806.0,809.5,807.5,799.9,797.0,805.0,828.0,819.0,814.0,817.0,817.0,810.0,807.0,809.8,814.0,811.0,806.0,802.0,802.9,800.0,801.0,798.1,796.1,799.9,794.0,790.0,773.0,769.5,758.0,777.0,779.2,782.0,779.0,795.0,805.0,800.0,774.9,764.5,767.5,787.0,778.1,777.0,780.0,775.0,779.0,783.0,788.0,809.0,811.0,858.3,895.0,872.0,870.0,878.0,919.0,920.0,952.0,915.0,889.0,877.0,892.0,899.0,900.0,898.0,910.0,902.3,906.9,918.0,923.0,915.0,912.0,922.0,932.0,877.0,878.9,877.9,870.0,869.0,853.0,885.0,894.0,896.2,890.0,885.0,873.9,873.0,859.0,862.0,873.0,878.1,875.0,869.0,870.0,869.9,865.0,855.0,859.0,861.0,840.0,840.0,845.0,850.0,870.0,856.9,861.0,861.0,877.0,870.5,869.0,873.0,865.0,852.0,855.9,849.0,851.7,850.0,841.0,834.0,829.0,831.0,831.0,827.6,832.1,846.6,852.8,843.1,847.7,847.4,848.0,842.0,838.0,844.0,851.9,850.9,848.4,849.0,840.0,849.8,853.0,868.0,870.0,863.0,864.0,865.0,860.0,858.0,853.0,852.0,855.0,889.9,880.0,903.0,897.0,901.0,919.0,943.0,946.0,949.0,940.1,955.0,942.0,941.0,942.0,940.0,955.0,903.0,873.0,884.0,895.0,912.0,893.0,900.9,898.0,900.0,884.0,873.0,867.0,868.9,870.0,867.9,875.0,878.0,883.7,878.0,869.0,865.0,951.5,903.0,890.0,887.0,881.0,880.0,865.0,877.0,867.0,860.0,859.0,855.0,847.0,834.1,845.0,843.9,843.0,836.0,831.0,880.0,840.0,845.0,855.0,859.9,868.0,866.0],\"type\":\"scatter\"},{\"mode\":\"lines\",\"name\":\"Forecast\",\"x\":[\"2022-01-02\",\"2022-01-03\",\"2022-01-04\",\"2022-01-05\",\"2022-01-06\",\"2022-01-09\",\"2022-01-10\",\"2022-01-11\",\"2022-01-12\",\"2022-01-13\",\"2022-01-16\",\"2022-01-17\",\"2022-01-18\",\"2022-01-19\",\"2022-01-20\",\"2022-01-23\",\"2022-01-24\",\"2022-01-25\",\"2022-01-26\",\"2022-01-27\",\"2022-01-30\",\"2022-01-31\",\"2022-02-01\",\"2022-02-03\",\"2022-02-06\",\"2022-02-07\",\"2022-02-08\",\"2022-02-09\",\"2022-02-10\",\"2022-02-13\",\"2022-02-14\",\"2022-02-15\",\"2022-02-16\",\"2022-02-17\",\"2022-02-20\",\"2022-02-21\",\"2022-02-22\",\"2022-02-23\",\"2022-02-24\",\"2022-02-27\",\"2022-02-28\",\"2022-03-02\",\"2022-03-06\",\"2022-03-07\",\"2022-03-09\",\"2022-03-10\",\"2022-03-13\",\"2022-03-14\",\"2022-03-15\",\"2022-03-16\",\"2022-03-20\",\"2022-03-21\",\"2022-03-22\",\"2022-03-23\",\"2022-03-24\",\"2022-03-27\",\"2022-03-28\",\"2022-03-29\",\"2022-03-30\",\"2022-03-31\",\"2022-04-03\",\"2022-04-04\",\"2022-04-05\",\"2022-04-06\",\"2022-04-07\",\"2022-04-11\",\"2022-04-12\",\"2022-04-13\",\"2022-04-17\",\"2022-04-18\",\"2022-04-19\",\"2022-04-20\",\"2022-04-21\",\"2022-04-24\",\"2022-04-25\",\"2022-04-26\",\"2022-04-27\",\"2022-04-28\",\"2022-05-02\",\"2022-05-04\",\"2022-05-05\",\"2022-05-08\",\"2022-05-09\",\"2022-05-10\",\"2022-05-11\",\"2022-05-12\",\"2022-05-17\",\"2022-05-18\",\"2022-05-19\",\"2022-05-20\",\"2022-05-23\",\"2022-05-24\",\"2022-05-25\",\"2022-05-26\",\"2022-05-27\",\"2022-05-30\",\"2022-05-31\",\"2022-06-01\",\"2022-06-02\",\"2022-06-03\",\"2022-06-06\",\"2022-06-07\",\"2022-06-08\",\"2022-06-09\",\"2022-06-10\",\"2022-06-13\",\"2022-06-14\",\"2022-06-15\",\"2022-06-16\",\"2022-06-17\",\"2022-06-19\",\"2022-06-20\",\"2022-06-21\",\"2022-06-22\",\"2022-06-23\",\"2022-06-24\",\"2022-06-26\",\"2022-06-27\",\"2022-06-28\",\"2022-06-29\",\"2022-06-30\",\"2022-07-01\",\"2022-07-03\",\"2022-07-04\",\"2022-07-05\",\"2022-07-06\",\"2022-07-07\",\"2022-07-08\",\"2022-07-11\",\"2022-07-12\",\"2022-07-13\",\"2022-07-14\",\"2022-07-15\",\"2022-07-17\",\"2022-07-18\",\"2022-07-19\",\"2022-07-20\",\"2022-07-21\",\"2022-07-22\",\"2022-07-24\",\"2022-07-25\",\"2022-07-26\",\"2022-07-27\",\"2022-07-28\",\"2022-07-29\",\"2022-07-31\",\"2022-08-01\",\"2022-08-02\",\"2022-08-03\",\"2022-08-04\",\"2022-08-05\",\"2022-08-07\",\"2022-08-08\",\"2022-08-09\",\"2022-08-10\",\"2022-08-11\",\"2022-08-14\",\"2022-08-15\",\"2022-08-16\",\"2022-08-17\",\"2022-08-18\",\"2022-08-21\",\"2022-08-22\",\"2022-08-23\",\"2022-08-24\",\"2022-08-25\",\"2022-08-26\",\"2022-08-28\",\"2022-08-29\",\"2022-08-30\",\"2022-08-31\",\"2022-09-01\",\"2022-09-02\",\"2022-09-04\",\"2022-09-05\",\"2022-09-06\",\"2022-09-07\",\"2022-09-08\",\"2022-09-11\",\"2022-09-12\",\"2022-09-13\",\"2022-09-14\",\"2022-09-15\",\"2022-09-16\",\"2022-09-18\",\"2022-09-20\",\"2022-09-21\",\"2022-09-22\",\"2022-09-25\",\"2022-09-27\",\"2022-09-28\",\"2022-09-29\",\"2022-10-09\",\"2022-10-10\",\"2022-10-11\",\"2022-10-12\",\"2022-10-13\",\"2022-10-16\",\"2022-10-17\",\"2022-10-19\",\"2022-10-20\",\"2022-10-23\",\"2022-10-31\",\"2022-11-01\",\"2022-11-02\",\"2022-11-03\",\"2022-11-06\",\"2022-11-07\",\"2022-11-08\",\"2022-11-09\",\"2022-11-10\",\"2022-11-13\",\"2022-11-14\",\"2022-11-15\",\"2022-11-16\",\"2022-11-17\",\"2022-11-22\",\"2022-11-23\",\"2022-11-24\",\"2022-11-27\",\"2022-11-28\",\"2022-11-29\",\"2022-11-30\",\"2022-12-01\",\"2022-12-04\",\"2022-12-05\",\"2022-12-06\",\"2022-12-07\",\"2022-12-11\",\"2022-12-12\",\"2022-12-13\",\"2022-12-14\",\"2022-12-15\",\"2022-12-18\",\"2022-12-19\",\"2022-12-20\",\"2022-12-21\",\"2022-12-22\",\"2022-12-26\",\"2022-12-27\",\"2022-12-28\",\"2022-12-29\",\"2023-01-01\",\"2023-01-02\",\"2023-01-03\",\"2023-01-04\",\"2023-01-05\",\"2023-01-08\",\"2023-01-09\",\"2023-01-10\",\"2023-01-12\",\"2023-01-17\",\"2023-01-18\",\"2023-01-19\",\"2023-01-23\",\"2023-01-24\",\"2023-01-25\",\"2023-01-26\",\"2023-01-29\",\"2023-01-30\",\"2023-01-31\",\"2023-02-01\",\"2023-02-02\",\"2023-02-05\",\"2023-02-06\",\"2023-02-07\",\"2023-02-08\",\"2023-02-09\",\"2023-02-12\",\"2023-02-14\",\"2023-02-15\",\"2023-02-16\",\"2023-02-20\",\"2023-02-22\",\"2023-02-23\",\"2023-02-26\",\"2023-02-27\",\"2023-02-28\",\"2023-03-01\",\"2023-03-02\",\"2023-03-05\",\"2023-03-07\",\"2023-03-09\",\"2023-03-12\",\"2023-03-13\",\"2023-03-14\",\"2023-03-15\",\"2023-03-16\",\"2023-03-19\",\"2023-03-20\",\"2023-03-22\",\"2023-03-23\",\"2023-03-26\",\"2023-03-27\",\"2023-03-28\",\"2023-03-29\",\"2023-03-30\",\"2023-04-02\",\"2023-04-03\",\"2023-04-04\",\"2023-04-05\",\"2023-04-06\",\"2023-04-09\",\"2023-04-10\",\"2023-04-11\",\"2023-04-12\",\"2023-04-16\",\"2023-04-17\",\"2023-04-18\",\"2023-04-19\",\"2023-04-20\",\"2023-04-23\",\"2023-04-24\",\"2023-04-25\",\"2023-04-26\",\"2023-04-27\",\"2023-04-30\",\"2023-05-02\",\"2023-05-03\",\"2023-05-04\",\"2023-05-07\",\"2023-05-08\",\"2023-05-09\",\"2023-05-10\",\"2023-05-11\",\"2023-05-14\",\"2023-05-15\",\"2023-05-16\",\"2023-05-17\",\"2023-05-18\",\"2023-05-21\",\"2023-05-22\",\"2023-05-23\",\"2023-05-24\",\"2023-05-28\",\"2023-05-30\",\"2023-05-31\",\"2023-06-01\",\"2023-06-04\",\"2023-06-05\",\"2023-06-06\",\"2023-06-07\",\"2023-06-08\",\"2023-06-11\",\"2023-06-12\",\"2023-06-13\",\"2023-06-14\",\"2023-06-15\",\"2023-06-18\",\"2023-06-19\",\"2023-06-20\",\"2023-06-21\",\"2023-06-22\",\"2023-06-25\",\"2023-06-26\",\"2023-06-27\",\"2023-06-28\",\"2023-07-02\",\"2023-07-03\",\"2023-07-04\",\"2023-07-09\",\"2023-07-10\",\"2023-07-11\",\"2023-07-12\",\"2023-07-13\",\"2023-07-16\",\"2023-07-17\",\"2023-07-18\",\"2023-07-19\",\"2023-07-20\",\"2023-07-23\",\"2023-07-24\",\"2023-08-01\",\"2023-08-02\",\"2023-08-03\",\"2023-08-06\",\"2023-08-07\",\"2023-08-08\",\"2023-08-09\",\"2023-08-10\",\"2023-08-13\",\"2023-08-14\",\"2023-08-15\",\"2023-08-16\",\"2023-08-17\",\"2023-08-20\",\"2023-08-21\",\"2023-08-22\",\"2023-08-23\",\"2023-08-24\",\"2023-08-27\",\"2023-08-28\",\"2023-08-29\",\"2023-08-30\",\"2023-09-03\",\"2023-09-04\",\"2023-09-05\",\"2023-09-07\",\"2023-09-10\",\"2023-09-11\",\"2023-09-12\",\"2023-09-13\",\"2023-09-17\",\"2023-09-18\",\"2023-09-19\",\"2023-09-21\",\"2023-09-24\",\"2023-09-25\",\"2023-09-26\",\"2023-09-27\",\"2023-10-01\",\"2023-10-02\",\"2023-10-03\",\"2023-10-04\",\"2023-10-05\",\"2023-10-08\",\"2023-10-09\",\"2023-10-10\",\"2023-10-11\",\"2023-10-12\",\"2023-10-16\",\"2023-10-17\",\"2023-10-18\",\"2023-10-19\",\"2023-10-29\",\"2023-10-30\",\"2023-10-31\",\"2023-11-01\",\"2023-11-02\",\"2023-11-05\",\"2023-11-06\",\"2023-11-07\",\"2023-11-08\",\"2023-11-09\",\"2023-11-20\",\"2023-11-21\",\"2023-11-22\",\"2023-11-23\",\"2023-11-26\",\"2023-11-27\",\"2023-11-28\",\"2023-11-29\",\"2023-11-30\",\"2023-12-03\",\"2023-12-04\",\"2023-12-05\",\"2023-12-06\",\"2023-12-07\",\"2023-12-10\",\"2023-12-11\",\"2023-12-12\",\"2023-12-13\",\"2023-12-14\",\"2023-12-17\",\"2023-12-18\",\"2023-12-19\",\"2023-12-20\",\"2023-12-21\",\"2023-12-24\",\"2023-12-27\",\"2023-12-28\",\"2024-01-01\",\"2024-01-02\",\"2024-01-03\",\"2024-01-04\",\"2024-01-07\",\"2024-01-08\",\"2024-01-09\",\"2024-01-10\",\"2024-01-11\",\"2024-01-14\",\"2024-01-16\",\"2024-01-17\",\"2024-01-18\",\"2024-01-21\",\"2024-01-22\",\"2024-01-23\",\"2024-01-24\",\"2024-01-25\",\"2024-01-28\",\"2024-01-29\",\"2024-01-30\",\"2024-01-31\",\"2024-02-01\",\"2024-02-04\",\"2024-02-05\",\"2024-02-06\",\"2024-02-07\",\"2024-02-08\",\"2024-02-11\",\"2024-02-12\",\"2024-02-13\",\"2024-02-14\",\"2024-02-15\",\"2024-02-18\",\"2024-02-20\",\"2024-02-21\",\"2024-02-22\",\"2024-02-25\",\"2024-02-26\",\"2024-02-27\",\"2024-02-28\",\"2024-02-29\",\"2024-03-03\",\"2024-03-04\",\"2024-03-05\",\"2024-03-06\",\"2024-03-07\",\"2024-03-10\",\"2024-03-12\",\"2024-03-13\"],\"y\":[null,null,null,null,1337.0221776971316,1347.256410250668,1371.7689692701595,1399.9865743929531,1405.8021773822254,1396.542261716142,1397.3540788806113,1411.2053980099765,1430.1123456177036,1438.0247192261252,1432.5967042858024,1437.8998041164893,1441.1389477882165,1432.6432525935477,1424.4360730360736,1422.3057540870182,1436.2251658422404,1460.7401885672093,1478.9558309018028,1483.2064567202076,1478.5898920094958,1480.1893086377827,1489.0804547712232,1494.5381390158068,1501.0077247611916,1500.494225636562,1494.3558248104719,1501.2477001585535,1515.7265827342299,1524.9915306497992,1532.8570414348828,1541.817695514348,1553.0922408105753,1555.410011052983,1544.35767102312,1536.2520275828783,1531.9906558150503,1522.0042615486973,1513.122865398636,1518.5283400548028,1527.8348564478965,1525.9987144167076,1528.1379446408946,1537.6148236467943,1530.509601888214,1507.2654318355117,1486.1118469286316,1469.6267742245532,1461.3819052151998,1459.6423194710228,1449.785924983057,1385.436742341451,1285.9118212774047,1215.9525453768356,1189.713190913944,1197.1880733326798,1194.561606035868,1173.9374032910578,1140.9600633387136,1111.7173732698507,1114.9066531152912,1123.1094425592812,1106.8035389046088,1092.2950394439367,1086.8731837673079,1075.206411317136,1063.1050569465126,1050.5044221770206,1040.603792381399,1052.6754840001697,1068.3980136493292,1072.1075284950134,1073.157997470391,1070.7817535373417,1055.30473607046,1031.2965028041394,1013.00117663361,1010.7396391582447,1023.0246968447383,1040.2164664287766,1058.2270839112664,1072.0190054604361,1063.5922284950555,1039.2179842599378,1023.2502569440933,1010.4648115017479,1001.9891633999206,1001.1076613744058,1005.7263097509203,1008.708857841925,1001.3291753617066,983.1885613770336,962.3427103205548,948.708410636001,939.861147208751,929.4034726218053,921.3413470005233,913.6202938824869,912.35615742861,918.0630428612794,913.9228709876465,905.2761493367252,891.1222825880371,875.5904214646482,876.0196435152045,885.880139810694,887.7822514874879,877.8863787402086,871.3719155511656,870.9140725816579,865.3292060942066,862.3460388006284,875.9817705958961,892.0068642453989,889.2845876361083,881.5408336999155,885.8398687099899,897.351771716509,914.360257338801,935.9978784669074,938.2155148074343,928.8168387932205,917.9949961022799,903.7070277676808,884.8851828374585,863.098425622861,859.8394674687829,873.7750898818543,883.5981326121592,882.7522036106799,878.5593045083835,879.6613278313592,883.9930331486432,890.9313257563063,891.4714276581664,896.6172238255597,915.2109171789899,923.4948057790838,925.1569322299038,932.2852037223761,945.2384940146823,965.9122182224514,982.7525706888224,987.4725520579157,982.5936485807073,969.3131752524054,956.2876548979991,955.1317830655094,955.0880891505797,939.582022810587,915.0471626698384,892.9091243000433,876.4204215618303,881.0598214150663,901.3467356723577,915.0717898960012,927.4144710981742,935.422921029708,933.885185495869,930.8187764087106,928.3432897012939,922.0634158300846,914.7774360631136,911.1153278906465,911.2426968771476,921.5461621755651,934.393555722992,936.4706986034236,931.207804349359,921.3790397286066,908.4917698630688,894.7823070947013,882.809104723357,874.6348117025628,868.4626397646878,863.5668900460363,860.5895085288853,865.9642065238078,868.971086982607,862.0509969648814,851.2764200703821,836.1268067832723,825.0569062994739,818.9777916626399,813.5507595835452,809.5883742011915,808.3838581093885,808.3552634000698,812.8123687051954,818.72568120532,818.0305362209901,815.02716130057,813.5560408245422,812.1190452903409,811.6134614747986,810.5470963571647,807.9702832095777,808.0959452937466,814.1955558633827,831.5656230265387,853.0874663782231,864.0685489690759,870.7898585796979,878.5888624217054,881.8209294925929,877.3584446603477,865.1512820023554,853.8832760094966,852.0877064897882,856.7697363106747,859.6214950581059,863.6282926631364,866.0148107722193,862.9871329698415,862.1722296211174,869.7936763061319,878.0318356495038,881.6923777964146,882.7892574789652,882.8105855676068,885.9502440258635,886.3596843561097,881.7631438048109,877.3962061887169,871.5886823187365,880.088230329418,901.2856311898299,913.2365029540803,916.7646766270449,910.7076436057939,907.7492542437667,917.8065128046388,927.4414653817937,937.9284439762441,940.6057907226112,930.5296088069013,922.1070679734121,915.3476593853993,918.4063235260833,916.7482562921338,901.7851900660464,891.8149048952158,891.1411207615686,890.6112799309259,892.6465824088932,893.0312087693434,886.6848017454253,881.4092482387475,879.861569425488,877.2958495049579,872.1920935884785,873.1122744795085,878.1898666301058,876.3662855654071,869.6698095818057,858.5027237798097,847.7447441352425,841.2895540306397,838.06890125481,835.9626820630583,835.110056500414,838.9488896740343,846.6863729555943,850.5366990531708,847.7816014312823,841.2481166012788,836.0117464955464,833.823687725566,832.0831322249775,830.0747798018745,828.3880850965654,823.987880904117,822.2288869268964,821.2153866384979,818.7444735119941,815.3714248266015,811.2485709678011,808.6131137669597,811.2481909281264,815.6985734624543,816.2581753310725,816.0114116388313,815.8259260679349,815.1859654653377,815.2366417902393,816.6673339077668,818.5170263190819,817.1567725895416,813.8354617191765,812.1881338822419,811.9757834377875,812.6845181166927,813.4617647755786,812.9300761658278,811.0311096449626,808.2275045452818,806.7980442804932,806.7210403795049,804.8573651291232,800.962207454746,799.3149582467097,805.869384573272,814.9583610146291,817.3315908399131,816.5039430572695,815.7826670690986,814.2362201085778,810.9541843728725,808.4965071109023,808.8914076473862,810.1945374823712,809.2850501214988,806.1233559145164,803.0572875525836,801.0446367497113,799.7341813223759,798.7577152450381,797.0825265685015,796.3822182865221,795.7858049887213,793.2392508621319,786.7907114518366,777.5381082732877,768.7078340118844,765.3493054630294,769.7490640917213,774.7304799949814,777.6842269758097,781.2313993563063,789.3903925039888,796.242442315123,793.2411903749546,781.0397414168997,770.5768167128958,770.3540479394276,775.374109946162,776.7532608209074,776.9101385776688,776.0859373617304,775.4450332123547,776.9293633432832,780.1224304806545,788.0682213708188,798.8191506241791,816.2758013090897,847.2194637806965,871.5985961123201,878.3872644790823,879.0914059198499,889.128207862369,908.3916130277595,929.4352616301142,941.4505370144132,930.639807207754,910.0963759986383,896.1892467325586,895.7299360236176,900.894206705888,904.7039177013307,908.3578746780157,911.5874583862012,912.6372164252906,916.5177294673746,923.1593323086321,927.2657854897459,926.3852008013769,926.0561552433546,930.7963786394328,924.9074673073885,905.7879055207777,891.6694807479614,882.5067372952593,877.1226496994079,870.6986097433158,869.6485797792868,880.3169355847017,891.8059543056353,897.9977965728812,897.1393688527892,891.2266886600544,883.950625962871,876.2355322600787,868.9557346902299,868.1699567958873,872.937777297138,877.6217138688064,878.0452746386909,875.8349442332901,874.2089248277726,872.4319838045337,868.0199132008627,863.2459137786936,861.8274156927982,857.6325901824955,849.5670212707124,845.0539846093211,845.5461359880845,852.9734806854395,860.5923784836702,862.5195203597303,863.3311409519539,866.907897455405,872.44369295796,874.1099048352834,874.6779724152764,873.7332986224515,868.1571533902942,861.6687163665614,857.0470014630163,853.8636580993912,852.8048544608026,850.0367306514428,844.3648088688476,837.6035492255227,832.7556976107023,831.0515472899888,830.0386629279596,829.7484305598202,833.9381582965551,842.2022193094817,847.233695611274,847.9636469878817,848.287729096704,848.4881345010374,847.663579455057,844.5010137777859,842.5202535455494,844.8949052434095,849.0130544731333,850.9675395485486,850.9746882258783,848.5910073095393,846.7911983817353,849.0848688668391,855.4051907537734,864.1857125798291,868.5061084405861,868.468956286178,867.8012921017754,866.4955675131494,864.138102781958,860.8838295997319,857.3092026289409,855.7039936718185,863.785032819326,877.0067375986181,888.534159983923,899.1263243869646,903.988004859259,910.9885125826372,925.3769358871181,942.3316884860902,954.405038273657,958.7956034641401,960.547022857499,961.931689221834,959.3405148336078,957.054268636503,955.3320762598526,957.5815613994127,951.7281289005363,926.4270182704125,902.2452280922959,893.4960235011596,899.3974401042246,906.2981055078862,906.8755495839918,906.7594802254055,906.1542080717389,903.0228941053056,894.0489288086129,883.3839737030459,875.8002819939924,873.0784968153157,872.4700598484959,873.5737867975996,876.8818290413905,881.2735609700558,884.2363568265873,882.0727123295036,876.5222787470636,891.1085815025226,914.7804108564294,915.7689661268682,907.2410560173586,896.5786104841264,889.4015743318405,882.9664870155488,878.0021139259774,876.1647400420496,871.7118282781623,866.7840503883033,862.4112811289249,857.3855906035598,849.630356848227,843.7650014236073,843.2746912715438,843.790300271609,842.6315068841197,838.4717695196468,845.1593669901579,854.5099745379275,851.8600234101813,851.1610256098388,853.9274851075197,860.2325529881997,866.1186926515818],\"type\":\"scatter\"}],                        {\"template\":{\"data\":{\"barpolar\":[{\"marker\":{\"line\":{\"color\":\"#E5ECF6\",\"width\":0.5},\"pattern\":{\"fillmode\":\"overlay\",\"size\":10,\"solidity\":0.2}},\"type\":\"barpolar\"}],\"bar\":[{\"error_x\":{\"color\":\"#2a3f5f\"},\"error_y\":{\"color\":\"#2a3f5f\"},\"marker\":{\"line\":{\"color\":\"#E5ECF6\",\"width\":0.5},\"pattern\":{\"fillmode\":\"overlay\",\"size\":10,\"solidity\":0.2}},\"type\":\"bar\"}],\"carpet\":[{\"aaxis\":{\"endlinecolor\":\"#2a3f5f\",\"gridcolor\":\"white\",\"linecolor\":\"white\",\"minorgridcolor\":\"white\",\"startlinecolor\":\"#2a3f5f\"},\"baxis\":{\"endlinecolor\":\"#2a3f5f\",\"gridcolor\":\"white\",\"linecolor\":\"white\",\"minorgridcolor\":\"white\",\"startlinecolor\":\"#2a3f5f\"},\"type\":\"carpet\"}],\"choropleth\":[{\"colorbar\":{\"outlinewidth\":0,\"ticks\":\"\"},\"type\":\"choropleth\"}],\"contourcarpet\":[{\"colorbar\":{\"outlinewidth\":0,\"ticks\":\"\"},\"type\":\"contourcarpet\"}],\"contour\":[{\"colorbar\":{\"outlinewidth\":0,\"ticks\":\"\"},\"colorscale\":[[0.0,\"#0d0887\"],[0.1111111111111111,\"#46039f\"],[0.2222222222222222,\"#7201a8\"],[0.3333333333333333,\"#9c179e\"],[0.4444444444444444,\"#bd3786\"],[0.5555555555555556,\"#d8576b\"],[0.6666666666666666,\"#ed7953\"],[0.7777777777777778,\"#fb9f3a\"],[0.8888888888888888,\"#fdca26\"],[1.0,\"#f0f921\"]],\"type\":\"contour\"}],\"heatmapgl\":[{\"colorbar\":{\"outlinewidth\":0,\"ticks\":\"\"},\"colorscale\":[[0.0,\"#0d0887\"],[0.1111111111111111,\"#46039f\"],[0.2222222222222222,\"#7201a8\"],[0.3333333333333333,\"#9c179e\"],[0.4444444444444444,\"#bd3786\"],[0.5555555555555556,\"#d8576b\"],[0.6666666666666666,\"#ed7953\"],[0.7777777777777778,\"#fb9f3a\"],[0.8888888888888888,\"#fdca26\"],[1.0,\"#f0f921\"]],\"type\":\"heatmapgl\"}],\"heatmap\":[{\"colorbar\":{\"outlinewidth\":0,\"ticks\":\"\"},\"colorscale\":[[0.0,\"#0d0887\"],[0.1111111111111111,\"#46039f\"],[0.2222222222222222,\"#7201a8\"],[0.3333333333333333,\"#9c179e\"],[0.4444444444444444,\"#bd3786\"],[0.5555555555555556,\"#d8576b\"],[0.6666666666666666,\"#ed7953\"],[0.7777777777777778,\"#fb9f3a\"],[0.8888888888888888,\"#fdca26\"],[1.0,\"#f0f921\"]],\"type\":\"heatmap\"}],\"histogram2dcontour\":[{\"colorbar\":{\"outlinewidth\":0,\"ticks\":\"\"},\"colorscale\":[[0.0,\"#0d0887\"],[0.1111111111111111,\"#46039f\"],[0.2222222222222222,\"#7201a8\"],[0.3333333333333333,\"#9c179e\"],[0.4444444444444444,\"#bd3786\"],[0.5555555555555556,\"#d8576b\"],[0.6666666666666666,\"#ed7953\"],[0.7777777777777778,\"#fb9f3a\"],[0.8888888888888888,\"#fdca26\"],[1.0,\"#f0f921\"]],\"type\":\"histogram2dcontour\"}],\"histogram2d\":[{\"colorbar\":{\"outlinewidth\":0,\"ticks\":\"\"},\"colorscale\":[[0.0,\"#0d0887\"],[0.1111111111111111,\"#46039f\"],[0.2222222222222222,\"#7201a8\"],[0.3333333333333333,\"#9c179e\"],[0.4444444444444444,\"#bd3786\"],[0.5555555555555556,\"#d8576b\"],[0.6666666666666666,\"#ed7953\"],[0.7777777777777778,\"#fb9f3a\"],[0.8888888888888888,\"#fdca26\"],[1.0,\"#f0f921\"]],\"type\":\"histogram2d\"}],\"histogram\":[{\"marker\":{\"pattern\":{\"fillmode\":\"overlay\",\"size\":10,\"solidity\":0.2}},\"type\":\"histogram\"}],\"mesh3d\":[{\"colorbar\":{\"outlinewidth\":0,\"ticks\":\"\"},\"type\":\"mesh3d\"}],\"parcoords\":[{\"line\":{\"colorbar\":{\"outlinewidth\":0,\"ticks\":\"\"}},\"type\":\"parcoords\"}],\"pie\":[{\"automargin\":true,\"type\":\"pie\"}],\"scatter3d\":[{\"line\":{\"colorbar\":{\"outlinewidth\":0,\"ticks\":\"\"}},\"marker\":{\"colorbar\":{\"outlinewidth\":0,\"ticks\":\"\"}},\"type\":\"scatter3d\"}],\"scattercarpet\":[{\"marker\":{\"colorbar\":{\"outlinewidth\":0,\"ticks\":\"\"}},\"type\":\"scattercarpet\"}],\"scattergeo\":[{\"marker\":{\"colorbar\":{\"outlinewidth\":0,\"ticks\":\"\"}},\"type\":\"scattergeo\"}],\"scattergl\":[{\"marker\":{\"colorbar\":{\"outlinewidth\":0,\"ticks\":\"\"}},\"type\":\"scattergl\"}],\"scattermapbox\":[{\"marker\":{\"colorbar\":{\"outlinewidth\":0,\"ticks\":\"\"}},\"type\":\"scattermapbox\"}],\"scatterpolargl\":[{\"marker\":{\"colorbar\":{\"outlinewidth\":0,\"ticks\":\"\"}},\"type\":\"scatterpolargl\"}],\"scatterpolar\":[{\"marker\":{\"colorbar\":{\"outlinewidth\":0,\"ticks\":\"\"}},\"type\":\"scatterpolar\"}],\"scatter\":[{\"fillpattern\":{\"fillmode\":\"overlay\",\"size\":10,\"solidity\":0.2},\"type\":\"scatter\"}],\"scatterternary\":[{\"marker\":{\"colorbar\":{\"outlinewidth\":0,\"ticks\":\"\"}},\"type\":\"scatterternary\"}],\"surface\":[{\"colorbar\":{\"outlinewidth\":0,\"ticks\":\"\"},\"colorscale\":[[0.0,\"#0d0887\"],[0.1111111111111111,\"#46039f\"],[0.2222222222222222,\"#7201a8\"],[0.3333333333333333,\"#9c179e\"],[0.4444444444444444,\"#bd3786\"],[0.5555555555555556,\"#d8576b\"],[0.6666666666666666,\"#ed7953\"],[0.7777777777777778,\"#fb9f3a\"],[0.8888888888888888,\"#fdca26\"],[1.0,\"#f0f921\"]],\"type\":\"surface\"}],\"table\":[{\"cells\":{\"fill\":{\"color\":\"#EBF0F8\"},\"line\":{\"color\":\"white\"}},\"header\":{\"fill\":{\"color\":\"#C8D4E3\"},\"line\":{\"color\":\"white\"}},\"type\":\"table\"}]},\"layout\":{\"annotationdefaults\":{\"arrowcolor\":\"#2a3f5f\",\"arrowhead\":0,\"arrowwidth\":1},\"autotypenumbers\":\"strict\",\"coloraxis\":{\"colorbar\":{\"outlinewidth\":0,\"ticks\":\"\"}},\"colorscale\":{\"diverging\":[[0,\"#8e0152\"],[0.1,\"#c51b7d\"],[0.2,\"#de77ae\"],[0.3,\"#f1b6da\"],[0.4,\"#fde0ef\"],[0.5,\"#f7f7f7\"],[0.6,\"#e6f5d0\"],[0.7,\"#b8e186\"],[0.8,\"#7fbc41\"],[0.9,\"#4d9221\"],[1,\"#276419\"]],\"sequential\":[[0.0,\"#0d0887\"],[0.1111111111111111,\"#46039f\"],[0.2222222222222222,\"#7201a8\"],[0.3333333333333333,\"#9c179e\"],[0.4444444444444444,\"#bd3786\"],[0.5555555555555556,\"#d8576b\"],[0.6666666666666666,\"#ed7953\"],[0.7777777777777778,\"#fb9f3a\"],[0.8888888888888888,\"#fdca26\"],[1.0,\"#f0f921\"]],\"sequentialminus\":[[0.0,\"#0d0887\"],[0.1111111111111111,\"#46039f\"],[0.2222222222222222,\"#7201a8\"],[0.3333333333333333,\"#9c179e\"],[0.4444444444444444,\"#bd3786\"],[0.5555555555555556,\"#d8576b\"],[0.6666666666666666,\"#ed7953\"],[0.7777777777777778,\"#fb9f3a\"],[0.8888888888888888,\"#fdca26\"],[1.0,\"#f0f921\"]]},\"colorway\":[\"#636efa\",\"#EF553B\",\"#00cc96\",\"#ab63fa\",\"#FFA15A\",\"#19d3f3\",\"#FF6692\",\"#B6E880\",\"#FF97FF\",\"#FECB52\"],\"font\":{\"color\":\"#2a3f5f\"},\"geo\":{\"bgcolor\":\"white\",\"lakecolor\":\"white\",\"landcolor\":\"#E5ECF6\",\"showlakes\":true,\"showland\":true,\"subunitcolor\":\"white\"},\"hoverlabel\":{\"align\":\"left\"},\"hovermode\":\"closest\",\"mapbox\":{\"style\":\"light\"},\"paper_bgcolor\":\"white\",\"plot_bgcolor\":\"#E5ECF6\",\"polar\":{\"angularaxis\":{\"gridcolor\":\"white\",\"linecolor\":\"white\",\"ticks\":\"\"},\"bgcolor\":\"#E5ECF6\",\"radialaxis\":{\"gridcolor\":\"white\",\"linecolor\":\"white\",\"ticks\":\"\"}},\"scene\":{\"xaxis\":{\"backgroundcolor\":\"#E5ECF6\",\"gridcolor\":\"white\",\"gridwidth\":2,\"linecolor\":\"white\",\"showbackground\":true,\"ticks\":\"\",\"zerolinecolor\":\"white\"},\"yaxis\":{\"backgroundcolor\":\"#E5ECF6\",\"gridcolor\":\"white\",\"gridwidth\":2,\"linecolor\":\"white\",\"showbackground\":true,\"ticks\":\"\",\"zerolinecolor\":\"white\"},\"zaxis\":{\"backgroundcolor\":\"#E5ECF6\",\"gridcolor\":\"white\",\"gridwidth\":2,\"linecolor\":\"white\",\"showbackground\":true,\"ticks\":\"\",\"zerolinecolor\":\"white\"}},\"shapedefaults\":{\"line\":{\"color\":\"#2a3f5f\"}},\"ternary\":{\"aaxis\":{\"gridcolor\":\"white\",\"linecolor\":\"white\",\"ticks\":\"\"},\"baxis\":{\"gridcolor\":\"white\",\"linecolor\":\"white\",\"ticks\":\"\"},\"bgcolor\":\"#E5ECF6\",\"caxis\":{\"gridcolor\":\"white\",\"linecolor\":\"white\",\"ticks\":\"\"}},\"title\":{\"x\":0.05},\"xaxis\":{\"automargin\":true,\"gridcolor\":\"white\",\"linecolor\":\"white\",\"ticks\":\"\",\"title\":{\"standoff\":15},\"zerolinecolor\":\"white\",\"zerolinewidth\":2},\"yaxis\":{\"automargin\":true,\"gridcolor\":\"white\",\"linecolor\":\"white\",\"ticks\":\"\",\"title\":{\"standoff\":15},\"zerolinecolor\":\"white\",\"zerolinewidth\":2}}},\"title\":{\"text\":\"Close vs Forecast\"},\"xaxis\":{\"title\":{\"text\":\"Date\"}},\"yaxis\":{\"title\":{\"text\":\"Price\"}}},                        {\"responsive\": true}                    ).then(function(){\n",
              "                            \n",
              "var gd = document.getElementById('b9bb381f-6cea-4c06-875b-d577180ed4f1');\n",
              "var x = new MutationObserver(function (mutations, observer) {{\n",
              "        var display = window.getComputedStyle(gd).display;\n",
              "        if (!display || display === 'none') {{\n",
              "            console.log([gd, 'removed!']);\n",
              "            Plotly.purge(gd);\n",
              "            observer.disconnect();\n",
              "        }}\n",
              "}});\n",
              "\n",
              "// Listen for the removal of the full notebook cells\n",
              "var notebookContainer = gd.closest('#notebook-container');\n",
              "if (notebookContainer) {{\n",
              "    x.observe(notebookContainer, {childList: true});\n",
              "}}\n",
              "\n",
              "// Listen for the clearing of the current output cell\n",
              "var outputEl = gd.closest('.output');\n",
              "if (outputEl) {{\n",
              "    x.observe(outputEl, {childList: true});\n",
              "}}\n",
              "\n",
              "                        })                };                            </script>        </div>\n",
              "</body>\n",
              "</html>"
            ]
          },
          "metadata": {}
        }
      ]
    },
    {
      "cell_type": "code",
      "source": [],
      "metadata": {
        "id": "lZHP-S_9e3Lh"
      },
      "execution_count": 25,
      "outputs": []
    },
    {
      "cell_type": "code",
      "source": [],
      "metadata": {
        "id": "mLMWiVVadt3Y"
      },
      "execution_count": 25,
      "outputs": []
    },
    {
      "cell_type": "code",
      "source": [],
      "metadata": {
        "id": "qyUyzDLNcDFA"
      },
      "execution_count": 25,
      "outputs": []
    },
    {
      "cell_type": "code",
      "source": [],
      "metadata": {
        "id": "n7YgoIV5cC81"
      },
      "execution_count": 25,
      "outputs": []
    },
    {
      "cell_type": "code",
      "source": [],
      "metadata": {
        "id": "Svhw583kcCzO"
      },
      "execution_count": 25,
      "outputs": []
    },
    {
      "cell_type": "code",
      "source": [],
      "metadata": {
        "id": "50nN2P8scCum"
      },
      "execution_count": 25,
      "outputs": []
    },
    {
      "cell_type": "code",
      "source": [],
      "metadata": {
        "id": "YKosfvAfajST"
      },
      "execution_count": 25,
      "outputs": []
    },
    {
      "cell_type": "code",
      "source": [],
      "metadata": {
        "id": "zkOtjnVaZrUV"
      },
      "execution_count": 25,
      "outputs": []
    },
    {
      "cell_type": "code",
      "source": [],
      "metadata": {
        "id": "BO5-QFecXT_5"
      },
      "execution_count": 25,
      "outputs": []
    },
    {
      "cell_type": "code",
      "source": [],
      "metadata": {
        "id": "nH-B56pmVcsE"
      },
      "execution_count": 25,
      "outputs": []
    }
  ]
}