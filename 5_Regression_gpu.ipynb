{
  "nbformat": 4,
  "nbformat_minor": 0,
  "metadata": {
    "colab": {
      "provenance": [],
      "gpuType": "T4",
      "authorship_tag": "ABX9TyOSxZxpqBJInOorCeLorR69",
      "include_colab_link": true
    },
    "kernelspec": {
      "name": "python3",
      "display_name": "Python 3"
    },
    "language_info": {
      "name": "python"
    },
    "accelerator": "GPU"
  },
  "cells": [
    {
      "cell_type": "markdown",
      "metadata": {
        "id": "view-in-github",
        "colab_type": "text"
      },
      "source": [
        "<a href=\"https://colab.research.google.com/github/gunjanak/Pytorch_Course/blob/main/5_Regression_gpu.ipynb\" target=\"_parent\"><img src=\"https://colab.research.google.com/assets/colab-badge.svg\" alt=\"Open In Colab\"/></a>"
      ]
    },
    {
      "cell_type": "markdown",
      "source": [
        "Using regression on Concrete dataset.\n",
        "Using GPU\n",
        "Using different approaches such as :\n",
        "\n",
        "*   Dropout\n",
        "*   Batch normalization\n",
        "*   Regularization\n",
        "To reduce the train and test loss\n",
        "\n",
        "Normalizing data with MinMaxScaler() and StandardScaler()\n",
        "Trying different loss functions and optimizers\n",
        "\n"
      ],
      "metadata": {
        "id": "Y7SnloHhZFK4"
      }
    },
    {
      "cell_type": "markdown",
      "source": [
        "#Import"
      ],
      "metadata": {
        "id": "VPScmECRTUBD"
      }
    },
    {
      "cell_type": "code",
      "execution_count": 1,
      "metadata": {
        "colab": {
          "base_uri": "https://localhost:8080/"
        },
        "id": "LAxr-4vaWLMH",
        "outputId": "02f17c45-0741-4171-b23c-76d9c0926ab4"
      },
      "outputs": [
        {
          "output_type": "stream",
          "name": "stdout",
          "text": [
            "Requirement already satisfied: ucimlrepo in /usr/local/lib/python3.10/dist-packages (0.0.3)\n"
          ]
        }
      ],
      "source": [
        "!pip install ucimlrepo"
      ]
    },
    {
      "cell_type": "code",
      "source": [
        "from ucimlrepo import fetch_ucirepo,list_available_datasets"
      ],
      "metadata": {
        "id": "8NRlQlFUWTcB"
      },
      "execution_count": 2,
      "outputs": []
    },
    {
      "cell_type": "markdown",
      "source": [
        "#Load data"
      ],
      "metadata": {
        "id": "H_5BhemUTaV-"
      }
    },
    {
      "cell_type": "code",
      "source": [
        "# fetch dataset\n",
        "concrete = fetch_ucirepo(id=165)\n",
        "\n",
        "# data (as pandas dataframes)\n",
        "X = concrete.data.features\n",
        "y = concrete.data.targets"
      ],
      "metadata": {
        "id": "Df2DM_wgWYq4"
      },
      "execution_count": 3,
      "outputs": []
    },
    {
      "cell_type": "code",
      "source": [
        "from sklearn.preprocessing import MinMaxScaler,StandardScaler"
      ],
      "metadata": {
        "id": "JPMaagddWa_k"
      },
      "execution_count": 4,
      "outputs": []
    },
    {
      "cell_type": "code",
      "source": [
        "import pandas as pd\n",
        "from sklearn.model_selection import train_test_split"
      ],
      "metadata": {
        "id": "xrWcIWRGWelx"
      },
      "execution_count": 5,
      "outputs": []
    },
    {
      "cell_type": "code",
      "source": [
        "import torch\n",
        "import torch.nn as nn\n",
        "import torch.optim as optim\n",
        "import numpy as np"
      ],
      "metadata": {
        "id": "_NEI5U5jWhIy"
      },
      "execution_count": 6,
      "outputs": []
    },
    {
      "cell_type": "code",
      "source": [
        "seed_value = 42\n",
        "torch.manual_seed(seed_value)\n",
        "np.random.seed(seed_value)"
      ],
      "metadata": {
        "id": "OLHAg3r3WjKb"
      },
      "execution_count": 7,
      "outputs": []
    },
    {
      "cell_type": "code",
      "source": [
        "# Split the data into training and testing sets\n",
        "X_train, X_test, y_train, y_test = train_test_split(X, y, test_size=0.2, random_state=seed_value)"
      ],
      "metadata": {
        "id": "owRf8IoAWm-s"
      },
      "execution_count": 8,
      "outputs": []
    },
    {
      "cell_type": "code",
      "source": [
        "scaler = StandardScaler()\n",
        "scaler = MinMaxScaler()\n",
        "X_train_scaled = scaler.fit_transform(X_train)\n",
        "X_test_scaled = scaler.transform(X_test)"
      ],
      "metadata": {
        "id": "AtjPt2ViWqTm"
      },
      "execution_count": 9,
      "outputs": []
    },
    {
      "cell_type": "code",
      "source": [
        "# Convert to PyTorch tensors\n",
        "X_train_tensor = torch.tensor(X_train_scaled, dtype=torch.float32)\n",
        "X_test_tensor = torch.tensor(X_test_scaled, dtype=torch.float32)\n"
      ],
      "metadata": {
        "id": "v3bnF-_lW6fv"
      },
      "execution_count": 10,
      "outputs": []
    },
    {
      "cell_type": "code",
      "source": [
        "y_train_tensor = torch.tensor(y_train.values,dtype=torch.float32)\n",
        "y_test_tensor = torch.tensor(y_test.values,dtype=torch.float32)"
      ],
      "metadata": {
        "id": "PjVQsWNoW9TU"
      },
      "execution_count": 11,
      "outputs": []
    },
    {
      "cell_type": "code",
      "source": [
        "# Move data to GPU if available\n",
        "device = torch.device(\"cuda\" if torch.cuda.is_available() else \"cpu\")\n",
        "train_inputs, train_labels = X_train_tensor.to(device), y_train_tensor.to(device)\n"
      ],
      "metadata": {
        "id": "F-WpRzBcW_Xz"
      },
      "execution_count": 12,
      "outputs": []
    },
    {
      "cell_type": "code",
      "source": [
        "from torch.utils.data import DataLoader, TensorDataset"
      ],
      "metadata": {
        "id": "-AoN6F5SXPln"
      },
      "execution_count": 13,
      "outputs": []
    },
    {
      "cell_type": "code",
      "source": [
        "# Create DataLoader\n",
        "train_dataset = TensorDataset(train_inputs, train_labels)\n",
        "train_loader = DataLoader(train_dataset, batch_size=64, shuffle=True)"
      ],
      "metadata": {
        "id": "asQ0nPMRXINj"
      },
      "execution_count": 14,
      "outputs": []
    },
    {
      "cell_type": "markdown",
      "source": [
        "#Basic DNN"
      ],
      "metadata": {
        "id": "O5-RX9ZRTQkt"
      }
    },
    {
      "cell_type": "code",
      "source": [
        "class NeuralNetwork(nn.Module):\n",
        "  def __init__(self):\n",
        "    super().__init__()\n",
        "    #define the hidden layer\n",
        "    self.input_to_hidden_layer = nn.Linear(8,20)\n",
        "    #define activation function of hidden Layer\n",
        "    self.hidden_layer_activation = nn.ReLU()\n",
        "\n",
        "    #define hidden layer\n",
        "    self.hidden_layer_to_hidden_layer = nn.Linear(20,40)\n",
        "    self.hidden_layer_to_hidden_layer2 = nn.Linear(40,160)\n",
        "    self.hidden_layer_to_hidden_layer3 = nn.Linear(160,80)\n",
        "    self.hidden_layer_to_hidden_layer4 = nn.Linear(80,40)\n",
        "\n",
        "    #define ourput layer\n",
        "    self.hidden_to_output_layer = nn.Linear(40,1)\n",
        "\n",
        "\n",
        "\n",
        "  #Define feed forward network based on above definitions\n",
        "  def forward(self,x):\n",
        "    x = self.input_to_hidden_layer(x)\n",
        "    x = self.hidden_layer_activation(x)\n",
        "    x = self.hidden_layer_to_hidden_layer(x)\n",
        "    x = self.hidden_layer_activation(x)\n",
        "    x = self.hidden_layer_to_hidden_layer2(x)\n",
        "    x = self.hidden_layer_activation(x)\n",
        "    x = self.hidden_layer_to_hidden_layer3(x)\n",
        "    x = self.hidden_layer_activation(x)\n",
        "    x = self.hidden_layer_to_hidden_layer4(x)\n",
        "    x = self.hidden_layer_activation(x)\n",
        "    x = self.hidden_to_output_layer(x)\n",
        "\n",
        "    return x"
      ],
      "metadata": {
        "id": "79X4SqndXQ2z"
      },
      "execution_count": 15,
      "outputs": []
    },
    {
      "cell_type": "markdown",
      "source": [
        "#Adding Dropout"
      ],
      "metadata": {
        "id": "gbio5vShMWVF"
      }
    },
    {
      "cell_type": "code",
      "source": [
        "class NeuralNetwork_Dropout(nn.Module):\n",
        "  def __init__(self,dropout_rate=0.2):\n",
        "    super().__init__()\n",
        "    #define the hidden layer\n",
        "    self.input_to_hidden_layer = nn.Linear(8,20)\n",
        "    #define activation function of hidden Layer\n",
        "    self.hidden_layer_activation = nn.ReLU()\n",
        "\n",
        "    #define hidden layer\n",
        "    self.hidden_layer_to_hidden_layer = nn.Linear(20,40)\n",
        "    self.hidden_layer_to_hidden_layer2 = nn.Linear(40,160)\n",
        "    self.hidden_layer_to_hidden_layer3 = nn.Linear(160,80)\n",
        "    self.hidden_layer_to_hidden_layer4 = nn.Linear(80,40)\n",
        "\n",
        "    #define ourput layer\n",
        "    self.hidden_to_output_layer = nn.Linear(40,1)\n",
        "\n",
        "    # Define dropout with the specified rate\n",
        "    self.dropout = nn.Dropout(p=dropout_rate)\n",
        "\n",
        "\n",
        "\n",
        "  #Define feed forward network based on above definitions\n",
        "  def forward(self,x):\n",
        "    x = self.input_to_hidden_layer(x)\n",
        "    x = self.hidden_layer_activation(x)\n",
        "    x = self.hidden_layer_to_hidden_layer(x)\n",
        "    x = self.hidden_layer_activation(x)\n",
        "    x = self.dropout(x)\n",
        "    x = self.hidden_layer_to_hidden_layer2(x)\n",
        "    x = self.hidden_layer_activation(x)\n",
        "    x = self.dropout(x)\n",
        "    x = self.hidden_layer_to_hidden_layer3(x)\n",
        "    x = self.hidden_layer_activation(x)\n",
        "    x = self.dropout(x)\n",
        "    x = self.hidden_layer_to_hidden_layer4(x)\n",
        "    x = self.hidden_layer_activation(x)\n",
        "    x = self.hidden_to_output_layer(x)\n",
        "\n",
        "    return x"
      ],
      "metadata": {
        "id": "hGtAI3q0cj98"
      },
      "execution_count": 16,
      "outputs": []
    },
    {
      "cell_type": "markdown",
      "source": [
        "#Initialize weights"
      ],
      "metadata": {
        "id": "NXwjqO2GO90v"
      }
    },
    {
      "cell_type": "code",
      "source": [
        "import torch.nn.init as init"
      ],
      "metadata": {
        "id": "TarQFTPVPTsw"
      },
      "execution_count": 17,
      "outputs": []
    },
    {
      "cell_type": "code",
      "source": [
        "class NeuralNetwork_Weights(nn.Module):\n",
        "  def __init__(self,dropout_rate=0.2):\n",
        "    super().__init__()\n",
        "    #define the hidden layer\n",
        "    self.input_to_hidden_layer = nn.Linear(8,20)\n",
        "    #define activation function of hidden Layer\n",
        "    self.hidden_layer_activation = nn.ReLU()\n",
        "\n",
        "    #define hidden layer\n",
        "    self.hidden_layer_to_hidden_layer = nn.Linear(20,40)\n",
        "    self.hidden_layer_to_hidden_layer2 = nn.Linear(40,160)\n",
        "    self.hidden_layer_to_hidden_layer3 = nn.Linear(160,80)\n",
        "    self.hidden_layer_to_hidden_layer4 = nn.Linear(80,40)\n",
        "\n",
        "    #define ourput layer\n",
        "    self.hidden_to_output_layer = nn.Linear(40,1)\n",
        "\n",
        "    # Define dropout with the specified rate\n",
        "    self.dropout = nn.Dropout(p=dropout_rate)\n",
        "\n",
        "    # Initialize weights\n",
        "    init.xavier_uniform_(self.input_to_hidden_layer.weight)\n",
        "    init.xavier_uniform_(self.hidden_layer_to_hidden_layer.weight)\n",
        "    init.xavier_uniform_(self.hidden_layer_to_hidden_layer2.weight)\n",
        "    init.xavier_uniform_(self.hidden_layer_to_hidden_layer3.weight)\n",
        "    init.xavier_uniform_(self.hidden_layer_to_hidden_layer4.weight)\n",
        "    init.xavier_uniform_(self.hidden_to_output_layer.weight)\n",
        "\n",
        "\n",
        "\n",
        "  #Define feed forward network based on above definitions\n",
        "  def forward(self,x):\n",
        "    x = self.input_to_hidden_layer(x)\n",
        "    x = self.hidden_layer_activation(x)\n",
        "    x = self.hidden_layer_to_hidden_layer(x)\n",
        "    x = self.hidden_layer_activation(x)\n",
        "    # x = self.dropout(x)\n",
        "    x = self.hidden_layer_to_hidden_layer2(x)\n",
        "    x = self.hidden_layer_activation(x)\n",
        "    # x = self.dropout(x)\n",
        "    x = self.hidden_layer_to_hidden_layer3(x)\n",
        "    x = self.hidden_layer_activation(x)\n",
        "    # x = self.dropout(x)\n",
        "    x = self.hidden_layer_to_hidden_layer4(x)\n",
        "    x = self.hidden_layer_activation(x)\n",
        "    x = self.hidden_to_output_layer(x)\n",
        "\n",
        "    return x"
      ],
      "metadata": {
        "id": "PMrnf8MXPLKp"
      },
      "execution_count": 18,
      "outputs": []
    },
    {
      "cell_type": "markdown",
      "source": [
        "#Batch normalization"
      ],
      "metadata": {
        "id": "LiQ7aCndQYoq"
      }
    },
    {
      "cell_type": "code",
      "source": [
        "class NeuralNetwork_Batchnorm(nn.Module):\n",
        "  def __init__(self,dropout_rate=0.2):\n",
        "    super().__init__()\n",
        "    self.input_bn = nn.BatchNorm1d(8)\n",
        "    #define the hidden layer\n",
        "    self.input_to_hidden_layer = nn.Linear(8,20)\n",
        "    #define activation function of hidden Layer\n",
        "    self.hidden_layer_activation = nn.ReLU()\n",
        "\n",
        "    #define hidden layer\n",
        "    self.hidden_layer_to_hidden_layer = nn.Linear(20,40)\n",
        "    self.hidden_layer_to_hidden_layer2 = nn.Linear(40,160)\n",
        "    self.hidden_layer_to_hidden_layer3 = nn.Linear(160,80)\n",
        "    self.hidden_layer_to_hidden_layer4 = nn.Linear(80,40)\n",
        "\n",
        "    #define ourput layer\n",
        "    self.hidden_to_output_layer = nn.Linear(40,1)\n",
        "\n",
        "    # Define dropout with the specified rate\n",
        "    self.dropout = nn.Dropout(p=dropout_rate)\n",
        "\n",
        "  #Define feed forward network based on above definitions\n",
        "  def forward(self,x):\n",
        "    x = self.input_bn(x)\n",
        "    x = self.input_to_hidden_layer(x)\n",
        "    x = self.hidden_layer_activation(x)\n",
        "    x = self.hidden_layer_to_hidden_layer(x)\n",
        "    x = self.hidden_layer_activation(x)\n",
        "    # x = self.dropout(x)\n",
        "    x = self.hidden_layer_to_hidden_layer2(x)\n",
        "    x = self.hidden_layer_activation(x)\n",
        "    # x = self.dropout(x)\n",
        "    x = self.hidden_layer_to_hidden_layer3(x)\n",
        "    x = self.hidden_layer_activation(x)\n",
        "    # x = self.dropout(x)\n",
        "    x = self.hidden_layer_to_hidden_layer4(x)\n",
        "    x = self.hidden_layer_activation(x)\n",
        "    x = self.hidden_to_output_layer(x)\n",
        "\n",
        "    return x"
      ],
      "metadata": {
        "id": "3V2905KEO9f5"
      },
      "execution_count": 19,
      "outputs": []
    },
    {
      "cell_type": "markdown",
      "source": [
        "#Regularization"
      ],
      "metadata": {
        "id": "K_rXvB3yRgE9"
      }
    },
    {
      "cell_type": "code",
      "source": [
        "import torch.nn.functional as F"
      ],
      "metadata": {
        "id": "_yJo2t-1SH-v"
      },
      "execution_count": 20,
      "outputs": []
    },
    {
      "cell_type": "code",
      "source": [
        "class NeuralNetwork_l2(nn.Module):\n",
        "  def __init__(self,dropout_rate=0.2,l2_lambda=1e-5):\n",
        "    super().__init__()\n",
        "    self.input_bn = nn.BatchNorm1d(8)\n",
        "    #define the hidden layer\n",
        "    self.input_to_hidden_layer = nn.Linear(8,20)\n",
        "    #define activation function of hidden Layer\n",
        "    self.hidden_layer_activation = nn.ReLU()\n",
        "\n",
        "    #define hidden layer\n",
        "    self.hidden_layer = nn.Linear(20,40)\n",
        "    self.hidden_layer2 = nn.Linear(40,160)\n",
        "    self.hidden_layer3 = nn.Linear(160,80)\n",
        "    self.hidden_layer4 = nn.Linear(80,40)\n",
        "\n",
        "    #define ourput layer\n",
        "    self.hidden_to_output_layer = nn.Linear(40,1)\n",
        "\n",
        "    # Define dropout with the specified rate\n",
        "    self.dropout = nn.Dropout(p=dropout_rate)\n",
        "\n",
        "    # Add L2 regularization to linear layers\n",
        "    self.input_to_hidden_layer.weight.data = self.add_l2_regularization(self.input_to_hidden_layer.weight.data, l2_lambda)\n",
        "    self.hidden_layer.weight.data = self.add_l2_regularization(self.hidden_layer.weight.data, l2_lambda)\n",
        "    self.hidden_layer2.weight.data = self.add_l2_regularization(self.hidden_layer2.weight.data, l2_lambda)\n",
        "    self.hidden_layer3.weight.data = self.add_l2_regularization(self.hidden_layer3.weight.data, l2_lambda)\n",
        "    self.hidden_layer4.weight.data = self.add_l2_regularization(self.hidden_layer4.weight.data, l2_lambda)\n",
        "    self.hidden_to_output_layer.weight.data = self.add_l2_regularization(self.hidden_to_output_layer.weight.data, l2_lambda)\n",
        "\n",
        "\n",
        "  #Define feed forward network based on above definitions\n",
        "  def forward(self,x):\n",
        "    x = self.input_bn(x)\n",
        "    x = self.input_to_hidden_layer(x)\n",
        "    x = self.hidden_layer_activation(x)\n",
        "    x = self.hidden_layer(x)\n",
        "    x = self.hidden_layer_activation(x)\n",
        "    # x = self.dropout(x)\n",
        "    x = self.hidden_layer2(x)\n",
        "    x = self.hidden_layer_activation(x)\n",
        "    # x = self.dropout(x)\n",
        "    x = self.hidden_layer3(x)\n",
        "    x = self.hidden_layer_activation(x)\n",
        "    # x = self.dropout(x)\n",
        "    x = self.hidden_layer4(x)\n",
        "    x = self.hidden_layer_activation(x)\n",
        "    x = self.hidden_to_output_layer(x)\n",
        "\n",
        "    return x\n",
        "\n",
        "  def add_l2_regularization(self, weights, l2_lambda):\n",
        "    return F.dropout(weights, p=l2_lambda, training=self.training)"
      ],
      "metadata": {
        "id": "TO_9ZwMNRkDW"
      },
      "execution_count": 21,
      "outputs": []
    },
    {
      "cell_type": "markdown",
      "source": [
        "#Train"
      ],
      "metadata": {
        "id": "WXamG1r9Ngsg"
      }
    },
    {
      "cell_type": "code",
      "source": [
        "import time"
      ],
      "metadata": {
        "id": "GBO9zCe-ZBZu"
      },
      "execution_count": 36,
      "outputs": []
    },
    {
      "cell_type": "code",
      "source": [
        "# Instantiate the model\n",
        "model = NeuralNetwork().to(device)\n",
        "# model = NeuralNetwork_Dropout().to(device)\n",
        "model = NeuralNetwork_Weights().to(device)\n",
        "# model = NeuralNetwork_Batchnorm().to(device)\n",
        "# model = NeuralNetwork_l2().to(device)\n",
        "train_losses = []\n",
        "train_accuracies = []\n",
        "criterion = nn.MSELoss()\n",
        "optimizer = optim.Adam(model.parameters(), lr=0.001)\n",
        "epochs= 1000"
      ],
      "metadata": {
        "id": "clNz0RPYXWJU"
      },
      "execution_count": 64,
      "outputs": []
    },
    {
      "cell_type": "code",
      "source": [
        "start_time = time.time()\n",
        "for epoch in range(epochs):\n",
        "    model.train()\n",
        "    for inputs, labels in train_loader:\n",
        "        inputs, labels = inputs.to(device), labels.to(device)\n",
        "\n",
        "        # Zero the gradients\n",
        "        optimizer.zero_grad()\n",
        "\n",
        "        # Forward pass\n",
        "        outputs = model(inputs)\n",
        "\n",
        "        # Compute the loss\n",
        "        loss = criterion(outputs, labels)\n",
        "\n",
        "        # Backward pass and optimization\n",
        "        loss.backward()\n",
        "        optimizer.step()\n",
        "\n",
        "    train_losses.append(loss.cpu().detach().numpy())\n",
        "    #Print training loss and accuracy every 10 epochs\n",
        "    if(epoch+1)%100 == 0:\n",
        "      print(f'Epoch [{epoch+1}/{epochs}],Loss:{loss.item():.4f}')\n",
        "total_training_time = time.time() - start_time\n",
        "print(total_training_time)"
      ],
      "metadata": {
        "colab": {
          "base_uri": "https://localhost:8080/"
        },
        "id": "PH_J4PODXepc",
        "outputId": "4024fbe4-f407-4fb1-ff29-3673cd06a9bf"
      },
      "execution_count": 65,
      "outputs": [
        {
          "output_type": "stream",
          "name": "stdout",
          "text": [
            "Epoch [100/1000],Loss:25.6469\n",
            "Epoch [200/1000],Loss:22.3418\n",
            "Epoch [300/1000],Loss:14.5565\n",
            "Epoch [400/1000],Loss:15.0060\n",
            "Epoch [500/1000],Loss:14.0347\n",
            "Epoch [600/1000],Loss:10.0827\n",
            "Epoch [700/1000],Loss:17.1528\n",
            "Epoch [800/1000],Loss:20.5974\n",
            "Epoch [900/1000],Loss:17.2506\n",
            "Epoch [1000/1000],Loss:14.0938\n",
            "33.56350111961365\n"
          ]
        }
      ]
    },
    {
      "cell_type": "code",
      "source": [
        "import matplotlib\n",
        "print(matplotlib.__version__)\n",
        "import matplotlib.pyplot as plt"
      ],
      "metadata": {
        "colab": {
          "base_uri": "https://localhost:8080/"
        },
        "id": "HAGbYOALLM97",
        "outputId": "6662abb1-a202-4eaf-852f-45101ae3bb6a"
      },
      "execution_count": 39,
      "outputs": [
        {
          "output_type": "stream",
          "name": "stdout",
          "text": [
            "3.7.1\n"
          ]
        }
      ]
    },
    {
      "cell_type": "code",
      "source": [
        "plt.plot(train_losses)\n",
        "plt.title(\"Loss over epochs\")\n",
        "plt.xlabel(\"Epochs\")\n",
        "plt.ylabel(\"Loss Values\")"
      ],
      "metadata": {
        "colab": {
          "base_uri": "https://localhost:8080/",
          "height": 489
        },
        "id": "cMJhHq7zLKXV",
        "outputId": "00059a3f-c87f-4273-d45a-ba98e810469b"
      },
      "execution_count": 61,
      "outputs": [
        {
          "output_type": "execute_result",
          "data": {
            "text/plain": [
              "Text(0, 0.5, 'Loss Values')"
            ]
          },
          "metadata": {},
          "execution_count": 61
        },
        {
          "output_type": "display_data",
          "data": {
            "text/plain": [
              "<Figure size 640x480 with 1 Axes>"
            ],
            "image/png": "[encoded data removed]"
          },
          "metadata": {}
        }
      ]
    },
    {
      "cell_type": "code",
      "source": [
        "# Use the trained model for predictions\n",
        "model.eval()  # Set the model to evaluation mode\n",
        "with torch.no_grad():\n",
        "    predictions = model(X_test_tensor.to(device))\n",
        "\n",
        "# Compute the loss on the test set\n",
        "criterion = nn.MSELoss()\n",
        "test_loss = criterion(predictions.view(-1),y_test_tensor.to(device))\n",
        "\n",
        "print(\"Test Loss:\", test_loss.item())"
      ],
      "metadata": {
        "colab": {
          "base_uri": "https://localhost:8080/"
        },
        "id": "jqgUW5TJXsqh",
        "outputId": "062f9a1a-d4c4-46f8-aef1-e1ae76f2631f"
      },
      "execution_count": 62,
      "outputs": [
        {
          "output_type": "stream",
          "name": "stdout",
          "text": [
            "Test Loss: 498.1435241699219\n"
          ]
        },
        {
          "output_type": "stream",
          "name": "stderr",
          "text": [
            "/usr/local/lib/python3.10/dist-packages/torch/nn/modules/loss.py:535: UserWarning: Using a target size (torch.Size([206, 1])) that is different to the input size (torch.Size([206])). This will likely lead to incorrect results due to broadcasting. Please ensure they have the same size.\n",
            "  return F.mse_loss(input, target, reduction=self.reduction)\n"
          ]
        }
      ]
    },
    {
      "cell_type": "code",
      "source": [
        "from sklearn.metrics import mean_absolute_error, mean_squared_error, r2_score\n",
        "\n",
        "# Convert predictions and target labels to numpy arrays\n",
        "predictions_np = predictions.view(-1).detach().cpu().numpy()\n",
        "target_labels_np = y_test_tensor.numpy()\n",
        "\n",
        "# Calculate additional metrics\n",
        "mae = mean_absolute_error(target_labels_np, predictions_np)\n",
        "mse = mean_squared_error(target_labels_np, predictions_np)\n",
        "r2 = r2_score(target_labels_np, predictions_np)\n",
        "\n",
        "print(\"Mean Absolute Error:\", mae)\n",
        "print(\"Mean Squared Error:\", mse)\n",
        "print(\"R-squared:\", r2)\n"
      ],
      "metadata": {
        "colab": {
          "base_uri": "https://localhost:8080/"
        },
        "id": "Tdihrrp3X8QI",
        "outputId": "c94a0fe2-d45d-408f-e1a8-1fbd3afacd32"
      },
      "execution_count": 63,
      "outputs": [
        {
          "output_type": "stream",
          "name": "stdout",
          "text": [
            "Mean Absolute Error: 4.172069\n",
            "Mean Squared Error: 34.727013\n",
            "R-squared: 0.8652303843812553\n"
          ]
        }
      ]
    },
    {
      "cell_type": "markdown",
      "source": [
        "#Using SGD to train"
      ],
      "metadata": {
        "id": "Nk2GqQi5VN9O"
      }
    },
    {
      "cell_type": "code",
      "source": [
        "# Instantiate the model\n",
        "model = NeuralNetwork().to(device)\n",
        "# model = NeuralNetwork_Dropout().to(device)\n",
        "# model = NeuralNetwork_Weights().to(device)\n",
        "# model = NeuralNetwork_Batchnorm().to(device)\n",
        "# model = NeuralNetwork_l2().to(device)\n",
        "train_losses = []\n",
        "train_accuracies = []\n",
        "criterion = nn.MSELoss()\n",
        "optimizer = optim.SGD(model.parameters(), lr=0.001)\n",
        "epochs= 1000"
      ],
      "metadata": {
        "id": "bAMTnMVOVNeD"
      },
      "execution_count": 49,
      "outputs": []
    },
    {
      "cell_type": "code",
      "source": [
        "start_time = time.time()\n",
        "for epoch in range(epochs):\n",
        "    model.train()\n",
        "    for inputs, labels in train_loader:\n",
        "        inputs, labels = inputs.to(device), labels.to(device)\n",
        "\n",
        "        # Zero the gradients\n",
        "        optimizer.zero_grad()\n",
        "\n",
        "        # Forward pass\n",
        "        outputs = model(inputs)\n",
        "\n",
        "        # Compute the loss\n",
        "        loss = criterion(outputs, labels)\n",
        "\n",
        "        # Backward pass and optimization\n",
        "        loss.backward()\n",
        "        optimizer.step()\n",
        "\n",
        "    train_losses.append(loss.cpu().detach().numpy())\n",
        "    #Print training loss and accuracy every 10 epochs\n",
        "    if(epoch+1)%100 == 0:\n",
        "      print(f'Epoch [{epoch+1}/{epochs}],Loss:{loss.item():.4f}')\n",
        "total_training_time = time.time() - start_time\n",
        "print(total_training_time)"
      ],
      "metadata": {
        "colab": {
          "base_uri": "https://localhost:8080/"
        },
        "id": "umaEIpWyVbho",
        "outputId": "4305e44a-8ebb-47bc-b8be-f9a17267c2fd"
      },
      "execution_count": 50,
      "outputs": [
        {
          "output_type": "stream",
          "name": "stdout",
          "text": [
            "Epoch [100/1000],Loss:152.6371\n",
            "Epoch [200/1000],Loss:30.0392\n",
            "Epoch [300/1000],Loss:30.9895\n",
            "Epoch [400/1000],Loss:19.1571\n",
            "Epoch [500/1000],Loss:16.8420\n",
            "Epoch [600/1000],Loss:11.5911\n",
            "Epoch [700/1000],Loss:21.0741\n",
            "Epoch [800/1000],Loss:9.7186\n",
            "Epoch [900/1000],Loss:7.9483\n",
            "Epoch [1000/1000],Loss:7.6387\n",
            "28.273470878601074\n"
          ]
        }
      ]
    },
    {
      "cell_type": "markdown",
      "source": [
        "#Using AdamW"
      ],
      "metadata": {
        "id": "Y6qktwxTWfw-"
      }
    },
    {
      "cell_type": "code",
      "source": [
        "# Instantiate the model\n",
        "model = NeuralNetwork().to(device)\n",
        "# model = NeuralNetwork_Dropout().to(device)\n",
        "# model = NeuralNetwork_Weights().to(device)\n",
        "# model = NeuralNetwork_Batchnorm().to(device)\n",
        "# model = NeuralNetwork_l2().to(device)\n",
        "train_losses = []\n",
        "train_accuracies = []\n",
        "criterion = nn.SmoothL1Loss()\n",
        "optimizer = optim.AdamW(model.parameters(), lr=0.1)\n",
        "epochs= 1000"
      ],
      "metadata": {
        "id": "Iip_N_NhWcqo"
      },
      "execution_count": 55,
      "outputs": []
    },
    {
      "cell_type": "code",
      "source": [
        "start_time = time.time()\n",
        "for epoch in range(epochs):\n",
        "    model.train()\n",
        "    for inputs, labels in train_loader:\n",
        "        inputs, labels = inputs.to(device), labels.to(device)\n",
        "\n",
        "        # Zero the gradients\n",
        "        optimizer.zero_grad()\n",
        "\n",
        "        # Forward pass\n",
        "        outputs = model(inputs)\n",
        "\n",
        "        # Compute the loss\n",
        "        loss = criterion(outputs, labels)\n",
        "\n",
        "        # Backward pass and optimization\n",
        "        loss.backward()\n",
        "        optimizer.step()\n",
        "\n",
        "    train_losses.append(loss.cpu().detach().numpy())\n",
        "    #Print training loss and accuracy every 10 epochs\n",
        "    if(epoch+1)%100 == 0:\n",
        "      print(f'Epoch [{epoch+1}/{epochs}],Loss:{loss.item():.4f}')\n",
        "total_training_time = time.time() - start_time\n",
        "print(total_training_time)"
      ],
      "metadata": {
        "colab": {
          "base_uri": "https://localhost:8080/"
        },
        "id": "_xxAq6eaWoyy",
        "outputId": "47f60495-9988-4239-a97f-4d3edc7e9e2f"
      },
      "execution_count": 56,
      "outputs": [
        {
          "output_type": "stream",
          "name": "stdout",
          "text": [
            "Epoch [100/1000],Loss:12.6003\n",
            "Epoch [200/1000],Loss:14.5551\n",
            "Epoch [300/1000],Loss:11.6679\n",
            "Epoch [400/1000],Loss:15.2230\n",
            "Epoch [500/1000],Loss:14.6318\n",
            "Epoch [600/1000],Loss:14.0155\n",
            "Epoch [700/1000],Loss:12.1119\n",
            "Epoch [800/1000],Loss:12.7787\n",
            "Epoch [900/1000],Loss:12.2341\n",
            "Epoch [1000/1000],Loss:15.8051\n",
            "34.98301029205322\n"
          ]
        }
      ]
    },
    {
      "cell_type": "code",
      "source": [],
      "metadata": {
        "id": "IGDZeM5eWrKG"
      },
      "execution_count": null,
      "outputs": []
    }
  ]
}