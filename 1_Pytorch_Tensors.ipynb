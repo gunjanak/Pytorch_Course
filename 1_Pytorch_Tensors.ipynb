{
  "nbformat": 4,
  "nbformat_minor": 0,
  "metadata": {
    "colab": {
      "provenance": [],
      "authorship_tag": "ABX9TyNsQLZoOfVTVmWeiiYpF0Hg",
      "include_colab_link": true
    },
    "kernelspec": {
      "name": "python3",
      "display_name": "Python 3"
    },
    "language_info": {
      "name": "python"
    }
  },
  "cells": [
    {
      "cell_type": "markdown",
      "metadata": {
        "id": "view-in-github",
        "colab_type": "text"
      },
      "source": [
        "<a href=\"https://colab.research.google.com/github/gunjanak/Pytorch_Course/blob/main/1_Pytorch_Tensors.ipynb\" target=\"_parent\"><img src=\"https://colab.research.google.com/assets/colab-badge.svg\" alt=\"Open In Colab\"/></a>"
      ]
    },
    {
      "cell_type": "markdown",
      "source": [
        "#Import"
      ],
      "metadata": {
        "id": "X_Xc0wUAYGE2"
      }
    },
    {
      "cell_type": "code",
      "execution_count": 1,
      "metadata": {
        "id": "5S8vYpDrtfqB"
      },
      "outputs": [],
      "source": [
        "import torch"
      ]
    },
    {
      "cell_type": "code",
      "source": [
        "torch.__version__\n"
      ],
      "metadata": {
        "colab": {
          "base_uri": "https://localhost:8080/",
          "height": 36
        },
        "id": "0GAvX--8YMHC",
        "outputId": "4000426c-c129-4183-8c8b-3fabe82f4ba8"
      },
      "execution_count": 2,
      "outputs": [
        {
          "output_type": "execute_result",
          "data": {
            "text/plain": [
              "'2.1.0+cu121'"
            ],
            "application/vnd.google.colaboratory.intrinsic+json": {
              "type": "string"
            }
          },
          "metadata": {},
          "execution_count": 2
        }
      ]
    },
    {
      "cell_type": "markdown",
      "source": [
        "#Declaration of Tensors"
      ],
      "metadata": {
        "id": "ROFRMeXcYVaQ"
      }
    },
    {
      "cell_type": "code",
      "source": [
        "#Basic 1-dimension Tensor\n",
        "x = torch.Tensor([5])\n",
        "print(f\"The type of x is: {type(x)}\")\n",
        "print(f\"The size of x is: {x.size()}\")\n",
        "print(f\"The dimension of x is: {x.ndim}\")\n",
        "print(x)"
      ],
      "metadata": {
        "colab": {
          "base_uri": "https://localhost:8080/"
        },
        "id": "u91FkNN1YQCF",
        "outputId": "dde5f8d7-eb95-4d53-a7c5-65128a197654"
      },
      "execution_count": null,
      "outputs": [
        {
          "output_type": "stream",
          "name": "stdout",
          "text": [
            "The type of x is: <class 'torch.Tensor'>\n",
            "The size of x is: torch.Size([1])\n",
            "The dimension of x is: 1\n",
            "tensor([5.])\n"
          ]
        }
      ]
    },
    {
      "cell_type": "code",
      "source": [
        "#2 dimensional tensor\n",
        "x = torch.Tensor([[5]])\n",
        "print(f\"The type of x is: {type(x)}\")\n",
        "print(f\"The size of x is: {x.size()}\")\n",
        "print(f\"The dimension of x is: {x.ndim}\")\n",
        "print(x)"
      ],
      "metadata": {
        "colab": {
          "base_uri": "https://localhost:8080/"
        },
        "id": "_g11vrx-Yy95",
        "outputId": "3df3ed70-d61e-4fe7-aabd-57a76ee75a4a"
      },
      "execution_count": null,
      "outputs": [
        {
          "output_type": "stream",
          "name": "stdout",
          "text": [
            "The type of x is: <class 'torch.Tensor'>\n",
            "The size of x is: torch.Size([1, 1])\n",
            "The dimension of x is: 2\n",
            "tensor([[5.]])\n"
          ]
        }
      ]
    },
    {
      "cell_type": "code",
      "source": [
        "#3 dimensional tensor\n",
        "x = torch.Tensor([[[5]]])\n",
        "print(f\"The type of x is: {type(x)}\")\n",
        "print(f\"The size of x is: {x.size()}\")\n",
        "print(f\"The dimension of x is: {x.ndim}\")\n",
        "print(x)"
      ],
      "metadata": {
        "colab": {
          "base_uri": "https://localhost:8080/"
        },
        "id": "yZ6UJKa-Zobt",
        "outputId": "7b1bf6c7-cd58-4da4-ffae-95d283fe2ac1"
      },
      "execution_count": null,
      "outputs": [
        {
          "output_type": "stream",
          "name": "stdout",
          "text": [
            "The type of x is: <class 'torch.Tensor'>\n",
            "The size of x is: torch.Size([1, 1, 1])\n",
            "The dimension of x is: 3\n",
            "tensor([[[5.]]])\n"
          ]
        }
      ]
    },
    {
      "cell_type": "code",
      "source": [
        "x = torch.Tensor([1,1,1])\n",
        "y = torch.Tensor([[1,1,1],[2,2,2],[3,3,3]])\n",
        "z = torch.Tensor([[[1,1,1],[2,2,2],[3,3,3]],\n",
        "                  [[4,4,4],[5,5,5],[6,6,6]],\n",
        "                  [[7,7,7],[8,8,8],[9,9,9]]])"
      ],
      "metadata": {
        "id": "yCPdtn7KZtPS"
      },
      "execution_count": null,
      "outputs": []
    },
    {
      "cell_type": "code",
      "source": [
        "print(f\"The dimension of x is {x.ndim} and the size of x is {x.size()}\\n\")\n",
        "print(f\"The dimension of y is {y.ndim} and the size of y is {y.size()}\\n\")\n",
        "print(f\"The dimension of z is {z.ndim} and the size of z is {z.size()}\\n\")"
      ],
      "metadata": {
        "colab": {
          "base_uri": "https://localhost:8080/"
        },
        "id": "U8xCpFGBak2F",
        "outputId": "6d35e136-447d-4ea8-ea10-1bb36a9ca6ee"
      },
      "execution_count": null,
      "outputs": [
        {
          "output_type": "stream",
          "name": "stdout",
          "text": [
            "The dimension of x is 1 and the size of x is torch.Size([3])\n",
            "\n",
            "The dimension of y is 2 and the size of y is torch.Size([3, 3])\n",
            "\n",
            "The dimension of z is 3 and the size of z is torch.Size([3, 3, 3])\n",
            "\n"
          ]
        }
      ]
    },
    {
      "cell_type": "markdown",
      "source": [
        "#item()"
      ],
      "metadata": {
        "id": "w2WEDqd2bQLg"
      }
    },
    {
      "cell_type": "code",
      "source": [
        "x = torch.Tensor([5])\n",
        "print(x.item())\n",
        "print(type(x.item()))"
      ],
      "metadata": {
        "colab": {
          "base_uri": "https://localhost:8080/"
        },
        "id": "2uv-Le_lbA6P",
        "outputId": "1d989163-dd53-4279-826f-e3b2c301bd38"
      },
      "execution_count": null,
      "outputs": [
        {
          "output_type": "stream",
          "name": "stdout",
          "text": [
            "5.0\n",
            "<class 'float'>\n"
          ]
        }
      ]
    },
    {
      "cell_type": "code",
      "source": [
        "x = torch.Tensor([5,6,5,5])\n",
        "print(x.item())\n",
        "print(type(x.item()))"
      ],
      "metadata": {
        "colab": {
          "base_uri": "https://localhost:8080/",
          "height": 245
        },
        "id": "E8sLbTR8dImU",
        "outputId": "e13374a1-fdb6-44f8-a6f5-2f01648e8669"
      },
      "execution_count": null,
      "outputs": [
        {
          "output_type": "error",
          "ename": "RuntimeError",
          "evalue": "a Tensor with 4 elements cannot be converted to Scalar",
          "traceback": [
            "\u001b[0;31m---------------------------------------------------------------------------\u001b[0m",
            "\u001b[0;31mRuntimeError\u001b[0m                              Traceback (most recent call last)",
            "\u001b[0;32m<ipython-input-12-458cd06a177f>\u001b[0m in \u001b[0;36m<cell line: 2>\u001b[0;34m()\u001b[0m\n\u001b[1;32m      1\u001b[0m \u001b[0mx\u001b[0m \u001b[0;34m=\u001b[0m \u001b[0mtorch\u001b[0m\u001b[0;34m.\u001b[0m\u001b[0mTensor\u001b[0m\u001b[0;34m(\u001b[0m\u001b[0;34m[\u001b[0m\u001b[0;36m5\u001b[0m\u001b[0;34m,\u001b[0m\u001b[0;36m6\u001b[0m\u001b[0;34m,\u001b[0m\u001b[0;36m5\u001b[0m\u001b[0;34m,\u001b[0m\u001b[0;36m5\u001b[0m\u001b[0;34m]\u001b[0m\u001b[0;34m)\u001b[0m\u001b[0;34m\u001b[0m\u001b[0;34m\u001b[0m\u001b[0m\n\u001b[0;32m----> 2\u001b[0;31m \u001b[0mprint\u001b[0m\u001b[0;34m(\u001b[0m\u001b[0mx\u001b[0m\u001b[0;34m.\u001b[0m\u001b[0mitem\u001b[0m\u001b[0;34m(\u001b[0m\u001b[0;34m)\u001b[0m\u001b[0;34m)\u001b[0m\u001b[0;34m\u001b[0m\u001b[0;34m\u001b[0m\u001b[0m\n\u001b[0m\u001b[1;32m      3\u001b[0m \u001b[0mprint\u001b[0m\u001b[0;34m(\u001b[0m\u001b[0mtype\u001b[0m\u001b[0;34m(\u001b[0m\u001b[0mx\u001b[0m\u001b[0;34m.\u001b[0m\u001b[0mitem\u001b[0m\u001b[0;34m(\u001b[0m\u001b[0;34m)\u001b[0m\u001b[0;34m)\u001b[0m\u001b[0;34m)\u001b[0m\u001b[0;34m\u001b[0m\u001b[0;34m\u001b[0m\u001b[0m\n",
            "\u001b[0;31mRuntimeError\u001b[0m: a Tensor with 4 elements cannot be converted to Scalar"
          ]
        }
      ]
    },
    {
      "cell_type": "code",
      "source": [
        "x = torch.Tensor([[5,5,5,5],[9,6,3,8]])\n",
        "print(x[1][0].item())\n",
        "print(type(x[1][0].item()))"
      ],
      "metadata": {
        "colab": {
          "base_uri": "https://localhost:8080/"
        },
        "id": "5vyiG50DdM16",
        "outputId": "59662b61-f9e1-4e95-b32b-5aa69a0672cb"
      },
      "execution_count": null,
      "outputs": [
        {
          "output_type": "stream",
          "name": "stdout",
          "text": [
            "9.0\n",
            "<class 'float'>\n"
          ]
        }
      ]
    },
    {
      "cell_type": "markdown",
      "source": [
        "#Zero, Identity and Linspace"
      ],
      "metadata": {
        "id": "kx7o3lK8dbo1"
      }
    },
    {
      "cell_type": "code",
      "source": [
        "#zero\n",
        "v =torch.zeros(3,3)\n",
        "print(v)"
      ],
      "metadata": {
        "colab": {
          "base_uri": "https://localhost:8080/"
        },
        "id": "jm43qSNAdW5T",
        "outputId": "c850f3fd-98bd-46fc-9aad-03f6c875f437"
      },
      "execution_count": null,
      "outputs": [
        {
          "output_type": "stream",
          "name": "stdout",
          "text": [
            "tensor([[0., 0., 0.],\n",
            "        [0., 0., 0.],\n",
            "        [0., 0., 0.]])\n"
          ]
        }
      ]
    },
    {
      "cell_type": "code",
      "source": [
        "#Identity\n",
        "I = torch.eye(2,2)\n",
        "print(I)"
      ],
      "metadata": {
        "colab": {
          "base_uri": "https://localhost:8080/"
        },
        "id": "YyqxZM81dpk-",
        "outputId": "3a67e1c5-220a-423b-eaee-df1d3d52972e"
      },
      "execution_count": null,
      "outputs": [
        {
          "output_type": "stream",
          "name": "stdout",
          "text": [
            "tensor([[1., 0.],\n",
            "        [0., 1.]])\n"
          ]
        }
      ]
    },
    {
      "cell_type": "code",
      "source": [
        "#Ones\n",
        "x = torch.ones(3,3)\n",
        "print(x)"
      ],
      "metadata": {
        "colab": {
          "base_uri": "https://localhost:8080/"
        },
        "id": "x1ooshVldwXn",
        "outputId": "ac325852-cc61-49dc-baeb-98ade7bf7fb7"
      },
      "execution_count": null,
      "outputs": [
        {
          "output_type": "stream",
          "name": "stdout",
          "text": [
            "tensor([[1., 1., 1.],\n",
            "        [1., 1., 1.],\n",
            "        [1., 1., 1.]])\n"
          ]
        }
      ]
    },
    {
      "cell_type": "code",
      "source": [
        "x = torch.ones_like(I)\n",
        "print(x)"
      ],
      "metadata": {
        "colab": {
          "base_uri": "https://localhost:8080/"
        },
        "id": "i6_AqY7zd20V",
        "outputId": "29d8ad03-ab3f-4cfa-dda4-1074084de37e"
      },
      "execution_count": null,
      "outputs": [
        {
          "output_type": "stream",
          "name": "stdout",
          "text": [
            "tensor([[1., 1.],\n",
            "        [1., 1.]])\n"
          ]
        }
      ]
    },
    {
      "cell_type": "code",
      "source": [
        "I = torch.eye(4,4)\n",
        "print(I)\n",
        "x = torch.ones_like(I)\n",
        "print(x)"
      ],
      "metadata": {
        "colab": {
          "base_uri": "https://localhost:8080/"
        },
        "id": "GAXu_rEId_7i",
        "outputId": "fdaad026-da45-49b0-e210-231a5737f58e"
      },
      "execution_count": null,
      "outputs": [
        {
          "output_type": "stream",
          "name": "stdout",
          "text": [
            "tensor([[1., 0., 0., 0.],\n",
            "        [0., 1., 0., 0.],\n",
            "        [0., 0., 1., 0.],\n",
            "        [0., 0., 0., 1.]])\n",
            "tensor([[1., 1., 1., 1.],\n",
            "        [1., 1., 1., 1.],\n",
            "        [1., 1., 1., 1.],\n",
            "        [1., 1., 1., 1.]])\n"
          ]
        }
      ]
    },
    {
      "cell_type": "code",
      "source": [
        "x = torch.linspace(0,100,11)\n",
        "print(x)"
      ],
      "metadata": {
        "colab": {
          "base_uri": "https://localhost:8080/"
        },
        "id": "JpvJ7aoWeEvL",
        "outputId": "1f9be067-b132-485e-ef4b-b51c5e5cd21e"
      },
      "execution_count": null,
      "outputs": [
        {
          "output_type": "stream",
          "name": "stdout",
          "text": [
            "tensor([  0.,  10.,  20.,  30.,  40.,  50.,  60.,  70.,  80.,  90., 100.])\n"
          ]
        }
      ]
    },
    {
      "cell_type": "code",
      "source": [
        "#Initialize Tensor with a range of value\n",
        "v = torch.arange(5)\n",
        "print(v)"
      ],
      "metadata": {
        "colab": {
          "base_uri": "https://localhost:8080/"
        },
        "id": "AU-jScdEeNFg",
        "outputId": "f809afcc-ae71-4eb0-b2f7-81fdf5199199"
      },
      "execution_count": null,
      "outputs": [
        {
          "output_type": "stream",
          "name": "stdout",
          "text": [
            "tensor([0, 1, 2, 3, 4])\n"
          ]
        }
      ]
    },
    {
      "cell_type": "code",
      "source": [
        "v = torch.arange(0,5,step=1)\n",
        "print(v)"
      ],
      "metadata": {
        "colab": {
          "base_uri": "https://localhost:8080/"
        },
        "id": "I4DN2ep0eqpo",
        "outputId": "66e163ee-ba14-4cd1-f5a3-f03be646a710"
      },
      "execution_count": null,
      "outputs": [
        {
          "output_type": "stream",
          "name": "stdout",
          "text": [
            "tensor([0, 1, 2, 3, 4])\n"
          ]
        }
      ]
    },
    {
      "cell_type": "code",
      "source": [
        "v = torch.arange(0,5,step=0.5)\n",
        "print(v)"
      ],
      "metadata": {
        "colab": {
          "base_uri": "https://localhost:8080/"
        },
        "id": "sADYrLsvexJV",
        "outputId": "eebb1efd-01b1-4af0-88ad-fff802c147c3"
      },
      "execution_count": null,
      "outputs": [
        {
          "output_type": "stream",
          "name": "stdout",
          "text": [
            "tensor([0.0000, 0.5000, 1.0000, 1.5000, 2.0000, 2.5000, 3.0000, 3.5000, 4.0000,\n",
            "        4.5000])\n"
          ]
        }
      ]
    },
    {
      "cell_type": "code",
      "source": [
        "#log scale tensor\n",
        "v = torch.logspace(start=-2,end=2,steps=5)\n",
        "print(v)"
      ],
      "metadata": {
        "colab": {
          "base_uri": "https://localhost:8080/"
        },
        "id": "_MYeJV4qe1W6",
        "outputId": "bf227c75-5bdf-41d2-98c1-41c3743148e8"
      },
      "execution_count": null,
      "outputs": [
        {
          "output_type": "stream",
          "name": "stdout",
          "text": [
            "tensor([1.0000e-02, 1.0000e-01, 1.0000e+00, 1.0000e+01, 1.0000e+02])\n"
          ]
        }
      ]
    },
    {
      "cell_type": "code",
      "source": [
        "v = torch.logspace(start=-2,end=2,steps=9)\n",
        "print(v)"
      ],
      "metadata": {
        "colab": {
          "base_uri": "https://localhost:8080/"
        },
        "id": "KcPefv0QffLo",
        "outputId": "e70c3494-bf8b-4b3b-b685-1274b2dead3a"
      },
      "execution_count": null,
      "outputs": [
        {
          "output_type": "stream",
          "name": "stdout",
          "text": [
            "tensor([1.0000e-02, 3.1623e-02, 1.0000e-01, 3.1623e-01, 1.0000e+00, 3.1623e+00,\n",
            "        1.0000e+01, 3.1623e+01, 1.0000e+02])\n"
          ]
        }
      ]
    },
    {
      "cell_type": "code",
      "source": [
        "#Initialize a ByteTensor\n",
        "c = torch.ByteTensor([0,1,1,0])\n",
        "print(c)"
      ],
      "metadata": {
        "colab": {
          "base_uri": "https://localhost:8080/"
        },
        "id": "Lb7KoS4Sg4Ym",
        "outputId": "c20da413-8a20-4780-9535-5269359a5d93"
      },
      "execution_count": null,
      "outputs": [
        {
          "output_type": "stream",
          "name": "stdout",
          "text": [
            "tensor([0, 1, 1, 0], dtype=torch.uint8)\n"
          ]
        }
      ]
    },
    {
      "cell_type": "code",
      "source": [
        "c = torch.ByteTensor([0.2,1,1,0])\n",
        "print(c)"
      ],
      "metadata": {
        "colab": {
          "base_uri": "https://localhost:8080/"
        },
        "id": "nehxWWcHhEn8",
        "outputId": "f0148ecd-49ba-4199-8d8b-89dfe513f0f7"
      },
      "execution_count": null,
      "outputs": [
        {
          "output_type": "stream",
          "name": "stdout",
          "text": [
            "tensor([0, 1, 1, 0], dtype=torch.uint8)\n"
          ]
        }
      ]
    },
    {
      "cell_type": "code",
      "source": [
        "c = torch.ByteTensor([0,112,1,0])\n",
        "print(c)"
      ],
      "metadata": {
        "colab": {
          "base_uri": "https://localhost:8080/"
        },
        "id": "98fuCeMShHlZ",
        "outputId": "d736a6d4-9a65-4582-cb45-108d89fd60f4"
      },
      "execution_count": null,
      "outputs": [
        {
          "output_type": "stream",
          "name": "stdout",
          "text": [
            "tensor([  0, 112,   1,   0], dtype=torch.uint8)\n"
          ]
        }
      ]
    },
    {
      "cell_type": "code",
      "source": [
        "c = torch.ByteTensor([0,15.9,1,0])\n",
        "print(c)"
      ],
      "metadata": {
        "colab": {
          "base_uri": "https://localhost:8080/"
        },
        "id": "MJksolDPhKAW",
        "outputId": "6bc690f3-e265-4606-c4ad-a3bd62a69a9a"
      },
      "execution_count": null,
      "outputs": [
        {
          "output_type": "stream",
          "name": "stdout",
          "text": [
            "tensor([ 0, 15,  1,  0], dtype=torch.uint8)\n"
          ]
        }
      ]
    },
    {
      "cell_type": "markdown",
      "source": [
        "#Random Generator"
      ],
      "metadata": {
        "id": "IRZPCFZqhVAZ"
      }
    },
    {
      "cell_type": "code",
      "source": [
        "#uniform distribution between 0 and 1\n",
        "x = torch.rand(4)\n",
        "print(x)"
      ],
      "metadata": {
        "colab": {
          "base_uri": "https://localhost:8080/"
        },
        "id": "_W70T90jhQUj",
        "outputId": "1c935cfe-f959-4ed6-940d-6b75cfd07dfd"
      },
      "execution_count": null,
      "outputs": [
        {
          "output_type": "stream",
          "name": "stdout",
          "text": [
            "tensor([0.8312, 0.7189, 0.3876, 0.0401])\n"
          ]
        }
      ]
    },
    {
      "cell_type": "code",
      "source": [
        "x = torch.rand(3,3)\n",
        "print(x)"
      ],
      "metadata": {
        "colab": {
          "base_uri": "https://localhost:8080/"
        },
        "id": "TWPaHz0IheQo",
        "outputId": "3e9f2026-aa6d-48d0-fdd9-b1859e6ec9e5"
      },
      "execution_count": null,
      "outputs": [
        {
          "output_type": "stream",
          "name": "stdout",
          "text": [
            "tensor([[0.5344, 0.8753, 0.8489],\n",
            "        [0.5057, 0.8878, 0.7557],\n",
            "        [0.3316, 0.1569, 0.5757]])\n"
          ]
        }
      ]
    },
    {
      "cell_type": "code",
      "source": [
        "x = torch.rand(3,3,3)\n",
        "print(x)"
      ],
      "metadata": {
        "colab": {
          "base_uri": "https://localhost:8080/"
        },
        "id": "OSaMxBHbhkyJ",
        "outputId": "8d852c89-b6dc-4f0d-cdbb-2453b0336494"
      },
      "execution_count": null,
      "outputs": [
        {
          "output_type": "stream",
          "name": "stdout",
          "text": [
            "tensor([[[0.8601, 0.4088, 0.5499],\n",
            "         [0.7819, 0.0087, 0.2703],\n",
            "         [0.1014, 0.3473, 0.6304]],\n",
            "\n",
            "        [[0.5429, 0.0798, 0.5550],\n",
            "         [0.0196, 0.1250, 0.4448],\n",
            "         [0.4950, 0.1484, 0.5202]],\n",
            "\n",
            "        [[0.4114, 0.6008, 0.8080],\n",
            "         [0.5353, 0.9532, 0.2007],\n",
            "         [0.6162, 0.9044, 0.4603]]])\n"
          ]
        }
      ]
    },
    {
      "cell_type": "code",
      "source": [
        "#torch.randint(min,max,(size))\n",
        "x = torch.randint(1,6,(2,2))\n",
        "print(x)"
      ],
      "metadata": {
        "colab": {
          "base_uri": "https://localhost:8080/"
        },
        "id": "GlwDZ3MJhp6M",
        "outputId": "3901e232-b4fc-4d5e-b653-ab8966c41e57"
      },
      "execution_count": null,
      "outputs": [
        {
          "output_type": "stream",
          "name": "stdout",
          "text": [
            "tensor([[4, 5],\n",
            "        [3, 5]])\n"
          ]
        }
      ]
    },
    {
      "cell_type": "code",
      "source": [
        "x = torch.randint(1,6,(1,1))\n",
        "print(x)"
      ],
      "metadata": {
        "colab": {
          "base_uri": "https://localhost:8080/"
        },
        "id": "OsfS1UQjj3ac",
        "outputId": "bf57f41a-07db-43da-d08f-e91b32cbd4d1"
      },
      "execution_count": null,
      "outputs": [
        {
          "output_type": "stream",
          "name": "stdout",
          "text": [
            "tensor([[2]])\n"
          ]
        }
      ]
    },
    {
      "cell_type": "code",
      "source": [
        "#The following function returns a tensor with a random number from a normal distribution\n",
        "#with a mean 0 and a variance of 1\n",
        "x = torch.randn(2,2)\n",
        "x"
      ],
      "metadata": {
        "colab": {
          "base_uri": "https://localhost:8080/"
        },
        "id": "SPiuGvoxh4k-",
        "outputId": "2bee1e76-b379-483f-98b4-567cee8c6c46"
      },
      "execution_count": null,
      "outputs": [
        {
          "output_type": "execute_result",
          "data": {
            "text/plain": [
              "tensor([[-0.6024,  0.0728],\n",
              "        [-0.7875,  1.0391]])"
            ]
          },
          "metadata": {},
          "execution_count": 48
        }
      ]
    },
    {
      "cell_type": "code",
      "source": [
        "#when mean and std are given\n",
        "#torch.normal(mean,std,size)\n",
        "x = torch.normal(2,3,(2,2))\n",
        "print(x)"
      ],
      "metadata": {
        "colab": {
          "base_uri": "https://localhost:8080/"
        },
        "id": "5c235Fm4iW4s",
        "outputId": "d126efa4-5326-4778-b14a-62c46f378340"
      },
      "execution_count": null,
      "outputs": [
        {
          "output_type": "stream",
          "name": "stdout",
          "text": [
            "tensor([[ 2.1590, -3.5929],\n",
            "        [ 4.9878,  2.5244]])\n"
          ]
        }
      ]
    },
    {
      "cell_type": "code",
      "source": [
        "x = torch.normal(2,2,(2,2))\n",
        "print(x)"
      ],
      "metadata": {
        "colab": {
          "base_uri": "https://localhost:8080/"
        },
        "id": "bEnwpJhLjDTO",
        "outputId": "26ff6d0e-5277-463a-a807-fa12a11c4aed"
      },
      "execution_count": null,
      "outputs": [
        {
          "output_type": "stream",
          "name": "stdout",
          "text": [
            "tensor([[ 1.4035, -0.0589],\n",
            "        [-1.1351,  0.7801]])\n"
          ]
        }
      ]
    },
    {
      "cell_type": "code",
      "source": [
        "random_seed = 1\n",
        "torch.manual_seed(random_seed)\n",
        "print(torch.rand(1))"
      ],
      "metadata": {
        "colab": {
          "base_uri": "https://localhost:8080/"
        },
        "id": "6g8BYB61jHIG",
        "outputId": "4f875493-4142-4d49-ca5b-2d45d36db20d"
      },
      "execution_count": null,
      "outputs": [
        {
          "output_type": "stream",
          "name": "stdout",
          "text": [
            "tensor([0.7576])\n"
          ]
        }
      ]
    },
    {
      "cell_type": "code",
      "source": [
        "#random permutation of integers from 0 to 10\n",
        "v = torch.randperm(10)\n",
        "print(v)"
      ],
      "metadata": {
        "colab": {
          "base_uri": "https://localhost:8080/"
        },
        "id": "zK-geK3jjXyr",
        "outputId": "522c2dc5-cd65-4df9-f42a-bc2ae8d4f079"
      },
      "execution_count": null,
      "outputs": [
        {
          "output_type": "stream",
          "name": "stdout",
          "text": [
            "tensor([8, 4, 6, 0, 5, 1, 3, 7, 2, 9])\n"
          ]
        }
      ]
    },
    {
      "cell_type": "code",
      "source": [
        "v = torch.randperm(5)\n",
        "print(v)"
      ],
      "metadata": {
        "colab": {
          "base_uri": "https://localhost:8080/"
        },
        "id": "UNXIyg7ejnMu",
        "outputId": "d3a371fa-352b-4959-fc94-4e1d9b5ad6c3"
      },
      "execution_count": null,
      "outputs": [
        {
          "output_type": "stream",
          "name": "stdout",
          "text": [
            "tensor([2, 0, 3, 1, 4])\n"
          ]
        }
      ]
    },
    {
      "cell_type": "markdown",
      "source": [
        "#Different datatypes"
      ],
      "metadata": {
        "id": "azpRak-y0qgp"
      }
    },
    {
      "cell_type": "code",
      "source": [
        "#Create a tensor with unsigned integer type of 8 bit size\n",
        "a = torch.tensor([100,200,2,3,4],dtype=torch.uint8)\n",
        "#display tensor\n",
        "print(a)\n",
        "#display data type\n",
        "print(a.dtype)"
      ],
      "metadata": {
        "colab": {
          "base_uri": "https://localhost:8080/"
        },
        "id": "Gp8d04DQjtaB",
        "outputId": "bbad19ea-1837-4ea3-92d7-35257fc87881"
      },
      "execution_count": null,
      "outputs": [
        {
          "output_type": "stream",
          "name": "stdout",
          "text": [
            "tensor([100, 200,   2,   3,   4], dtype=torch.uint8)\n",
            "torch.uint8\n"
          ]
        }
      ]
    },
    {
      "cell_type": "code",
      "source": [
        "#create a tensor with signed integer type of 8 bits size\n",
        "a = torch.tensor([100,0,-2,3,4],dtype=torch.int8)\n",
        "print(a)\n"
      ],
      "metadata": {
        "colab": {
          "base_uri": "https://localhost:8080/"
        },
        "id": "8e4taKLq09I-",
        "outputId": "1687ae4f-bc69-49c7-c19a-6b000245ced5"
      },
      "execution_count": null,
      "outputs": [
        {
          "output_type": "stream",
          "name": "stdout",
          "text": [
            "tensor([100,   0,  -2,   3,   4], dtype=torch.int8)\n"
          ]
        }
      ]
    },
    {
      "cell_type": "code",
      "source": [
        "b= torch.tensor([100,200,-2,-5,4],dtype=torch.uint8)\n",
        "print(b)"
      ],
      "metadata": {
        "colab": {
          "base_uri": "https://localhost:8080/"
        },
        "id": "5-uP7pNg1ZH5",
        "outputId": "40cc803b-6f11-4385-cabe-91a6faed49da"
      },
      "execution_count": null,
      "outputs": [
        {
          "output_type": "stream",
          "name": "stdout",
          "text": [
            "tensor([100, 200, 254, 251,   4], dtype=torch.uint8)\n"
          ]
        }
      ]
    },
    {
      "cell_type": "code",
      "source": [
        "a = torch.tensor([100,200,20000,3,-4],dtype=torch.int16)\n",
        "b = torch.tensor([100,200,20000,3,-4],dtype=torch.int16)\n",
        "print(a)\n",
        "print(b)"
      ],
      "metadata": {
        "colab": {
          "base_uri": "https://localhost:8080/"
        },
        "id": "lKLsGEbQ1OwM",
        "outputId": "874da5b1-6b06-48fb-ac0d-bd83ab709592"
      },
      "execution_count": null,
      "outputs": [
        {
          "output_type": "stream",
          "name": "stdout",
          "text": [
            "tensor([  100,   200, 20000,     3,    -4], dtype=torch.int16)\n",
            "tensor([  100,   200, 20000,     3,    -4], dtype=torch.int16)\n"
          ]
        }
      ]
    },
    {
      "cell_type": "code",
      "source": [
        "#Create a tensor with floating point type of 32 bits size\n",
        "a = torch.tensor([100,1.2,56.6,-99.3],dtype=torch.float32)\n",
        "print(a)"
      ],
      "metadata": {
        "colab": {
          "base_uri": "https://localhost:8080/"
        },
        "id": "cEvtelgt3Ikx",
        "outputId": "92b4a3ea-e528-435b-c875-07776ecf603d"
      },
      "execution_count": null,
      "outputs": [
        {
          "output_type": "stream",
          "name": "stdout",
          "text": [
            "tensor([100.0000,   1.2000,  56.6000, -99.3000])\n"
          ]
        }
      ]
    },
    {
      "cell_type": "code",
      "source": [
        "#element_size()*8 bits\n",
        "a[0].element_size()*8"
      ],
      "metadata": {
        "colab": {
          "base_uri": "https://localhost:8080/"
        },
        "id": "n1sOkXy64Nwa",
        "outputId": "c5c64aa1-8ed0-419b-830b-11f41f92d218"
      },
      "execution_count": null,
      "outputs": [
        {
          "output_type": "execute_result",
          "data": {
            "text/plain": [
              "32"
            ]
          },
          "metadata": {},
          "execution_count": 80
        }
      ]
    },
    {
      "cell_type": "code",
      "source": [
        "#Create a tensor with floating point type of 64 bits size\n",
        "a = torch.tensor([100,1.2,56.6,-99.3],dtype=torch.float64)\n",
        "print(a)"
      ],
      "metadata": {
        "colab": {
          "base_uri": "https://localhost:8080/"
        },
        "id": "Yy0rNcJk3m7v",
        "outputId": "76a19ad1-dc61-4b91-8675-6d5ef3f2a0a7"
      },
      "execution_count": null,
      "outputs": [
        {
          "output_type": "stream",
          "name": "stdout",
          "text": [
            "tensor([100.0000,   1.2000,  56.6000, -99.3000], dtype=torch.float64)\n"
          ]
        }
      ]
    },
    {
      "cell_type": "code",
      "source": [
        "#element_size()*8 bits\n",
        "a[0].element_size()*8"
      ],
      "metadata": {
        "colab": {
          "base_uri": "https://localhost:8080/"
        },
        "id": "rWsWZFTG3yra",
        "outputId": "230fffb9-9aa4-4663-ac05-997529c12745"
      },
      "execution_count": null,
      "outputs": [
        {
          "output_type": "execute_result",
          "data": {
            "text/plain": [
              "64"
            ]
          },
          "metadata": {},
          "execution_count": 78
        }
      ]
    },
    {
      "cell_type": "code",
      "source": [
        "#Creating a complex tensor\n",
        "a = torch.tensor([1+2j,2+3j],dtype=torch.cfloat)\n",
        "print(a)\n",
        "print(a.dtype)\n",
        "print(a[0].element_size()*8)"
      ],
      "metadata": {
        "colab": {
          "base_uri": "https://localhost:8080/"
        },
        "id": "3gdv7IQs4EBi",
        "outputId": "8a5137e8-e26f-48f1-bd06-84893f245009"
      },
      "execution_count": null,
      "outputs": [
        {
          "output_type": "stream",
          "name": "stdout",
          "text": [
            "tensor([1.+2.j, 2.+3.j])\n",
            "torch.complex64\n",
            "64\n"
          ]
        }
      ]
    },
    {
      "cell_type": "code",
      "source": [
        "#Tensor with bool type\n",
        "a = torch.tensor([100,200,0,3,4],dtype=torch.bool)\n",
        "print(a)\n",
        "print(a.dtype)\n",
        "print(a[0].element_size()*8)"
      ],
      "metadata": {
        "colab": {
          "base_uri": "https://localhost:8080/"
        },
        "id": "WI_ni_Mr4iqM",
        "outputId": "c367d9c2-6825-4c3c-e90e-4fd401dd1583"
      },
      "execution_count": null,
      "outputs": [
        {
          "output_type": "stream",
          "name": "stdout",
          "text": [
            "tensor([ True,  True, False,  True,  True])\n",
            "torch.bool\n",
            "8\n"
          ]
        }
      ]
    },
    {
      "cell_type": "code",
      "source": [
        "a = torch.tensor([[1,1],[0,1],[0,0]],dtype=torch.bool)\n",
        "print(a)\n",
        "print(a.dtype)\n",
        "print(a[0].element_size()*8)"
      ],
      "metadata": {
        "colab": {
          "base_uri": "https://localhost:8080/"
        },
        "id": "cYyCZFcH46Gz",
        "outputId": "9e569acd-84df-460e-d513-3ba339bfd2c5"
      },
      "execution_count": null,
      "outputs": [
        {
          "output_type": "stream",
          "name": "stdout",
          "text": [
            "tensor([[ True,  True],\n",
            "        [False,  True],\n",
            "        [False, False]])\n",
            "torch.bool\n",
            "8\n"
          ]
        }
      ]
    },
    {
      "cell_type": "markdown",
      "source": [
        "#Operations with constant"
      ],
      "metadata": {
        "id": "Iqo5yJxF5J52"
      }
    },
    {
      "cell_type": "code",
      "source": [
        "a = torch.Tensor([5])\n",
        "b = torch.Tensor([[5,5],[1,1]])\n",
        "print(\"Multiplication with constant\")\n",
        "print(f\"5xa: {5*a}\")\n",
        "print(f\"5xb: {5*b}\")"
      ],
      "metadata": {
        "colab": {
          "base_uri": "https://localhost:8080/"
        },
        "id": "BBjvRAjQ5EPj",
        "outputId": "4f78cd80-35b3-4289-d220-a04ee9d2e45f"
      },
      "execution_count": null,
      "outputs": [
        {
          "output_type": "stream",
          "name": "stdout",
          "text": [
            "Multiplication with constant\n",
            "5xa: tensor([25.])\n",
            "5xb: tensor([[25., 25.],\n",
            "        [ 5.,  5.]])\n"
          ]
        }
      ]
    },
    {
      "cell_type": "code",
      "source": [
        "print(\"Addition with constant\")\n",
        "print(f\"5+a: {5+a}\")\n",
        "print(f\"5+b: {5+b}\")"
      ],
      "metadata": {
        "colab": {
          "base_uri": "https://localhost:8080/"
        },
        "id": "pfzM-vWB5ouy",
        "outputId": "f7c4d5f5-6022-46fa-fb54-d987b550a470"
      },
      "execution_count": null,
      "outputs": [
        {
          "output_type": "stream",
          "name": "stdout",
          "text": [
            "Addition with constant\n",
            "5+a: tensor([10.])\n",
            "5+b: tensor([[10., 10.],\n",
            "        [ 6.,  6.]])\n"
          ]
        }
      ]
    },
    {
      "cell_type": "code",
      "source": [
        "print(\"Division by constant\")\n",
        "print(f\"a/5: {a/5}\")\n",
        "print(f\"b/5: {b/5}\")"
      ],
      "metadata": {
        "colab": {
          "base_uri": "https://localhost:8080/"
        },
        "id": "HyWXfRmU5zb-",
        "outputId": "a6203e0d-0437-493d-ac9d-1b09ece053bc"
      },
      "execution_count": null,
      "outputs": [
        {
          "output_type": "stream",
          "name": "stdout",
          "text": [
            "Division by constant\n",
            "a/5: tensor([1.])\n",
            "b/5: tensor([[1.0000, 1.0000],\n",
            "        [0.2000, 0.2000]])\n"
          ]
        }
      ]
    },
    {
      "cell_type": "markdown",
      "source": [
        "#Element wise operations"
      ],
      "metadata": {
        "id": "WIayOOjw6P7C"
      }
    },
    {
      "cell_type": "code",
      "source": [
        "a = torch.Tensor([5,6])\n",
        "b = torch.Tensor([1,2])\n",
        "print(f\"Addition:{a+b}\")\n",
        "print(f\"Subtraction: {a-b}\")\n",
        "print(f\"Multiplication: {a*b}\")\n",
        "print(f\"Division: {a/b}\")"
      ],
      "metadata": {
        "colab": {
          "base_uri": "https://localhost:8080/"
        },
        "id": "5QyZ6Vgs6AeL",
        "outputId": "05854884-9c08-454c-d0d9-1418524f6a67"
      },
      "execution_count": null,
      "outputs": [
        {
          "output_type": "stream",
          "name": "stdout",
          "text": [
            "Addition:tensor([6., 8.])\n",
            "Subtraction: tensor([4., 4.])\n",
            "Multiplication: tensor([ 5., 12.])\n",
            "Division: tensor([5., 3.])\n"
          ]
        }
      ]
    },
    {
      "cell_type": "code",
      "source": [
        "#Bitwise operations\n",
        "a = torch.tensor([[0,1],[1,0]],dtype=torch.bool)\n",
        "b = torch.tensor([[0,1],[1,1]],dtype=torch.bool)\n",
        "print(f\"a and b: {torch.bitwise_and(a,b)}\")\n",
        "print(f\"a or b: {torch.bitwise_or(a,b)}\")\n",
        "print(f\"a xor b: {torch.bitwise_xor(a,b)}\")\n",
        "print(f\"notb: {torch.bitwise_not(b)}\")"
      ],
      "metadata": {
        "colab": {
          "base_uri": "https://localhost:8080/"
        },
        "id": "M88R7m7E6qz5",
        "outputId": "1358623a-f635-49ac-8918-0259fc83036c"
      },
      "execution_count": null,
      "outputs": [
        {
          "output_type": "stream",
          "name": "stdout",
          "text": [
            "a and b: tensor([[False,  True],\n",
            "        [ True, False]])\n",
            "a or b: tensor([[False,  True],\n",
            "        [ True,  True]])\n",
            "a xor b: tensor([[False, False],\n",
            "        [False,  True]])\n",
            "notb: tensor([[ True, False],\n",
            "        [False, False]])\n"
          ]
        }
      ]
    },
    {
      "cell_type": "code",
      "source": [
        "#Shift operations\n",
        "a = torch.tensor([[4]])\n",
        "print(f\"Bitwise left shift:{torch.bitwise_left_shift(a,1)}\")\n"
      ],
      "metadata": {
        "colab": {
          "base_uri": "https://localhost:8080/"
        },
        "id": "1Op2rEsH44po",
        "outputId": "c3fcad03-6bdb-4478-ca16-bc02c3f633f7"
      },
      "execution_count": null,
      "outputs": [
        {
          "output_type": "stream",
          "name": "stdout",
          "text": [
            "Bitwise left shift:tensor([[8]])\n"
          ]
        }
      ]
    },
    {
      "cell_type": "code",
      "source": [
        "a = torch.tensor([[4,2]])\n",
        "print(f\"Bitwise left shift:{torch.bitwise_left_shift(a,1)}\")"
      ],
      "metadata": {
        "colab": {
          "base_uri": "https://localhost:8080/"
        },
        "id": "okxPTsqK8BhV",
        "outputId": "d9052e5d-7815-48a0-8511-03fcbe38bc91"
      },
      "execution_count": null,
      "outputs": [
        {
          "output_type": "stream",
          "name": "stdout",
          "text": [
            "Bitwise left shift:tensor([[8, 4]])\n"
          ]
        }
      ]
    },
    {
      "cell_type": "code",
      "source": [
        "a = torch.tensor([[32,15]])\n",
        "print(f\"Bitwise right shift:{torch.bitwise_right_shift(a,2)}\")"
      ],
      "metadata": {
        "colab": {
          "base_uri": "https://localhost:8080/"
        },
        "id": "hZtVoBAH8GVC",
        "outputId": "b3370bb2-4303-4554-c410-7de90b31bacf"
      },
      "execution_count": null,
      "outputs": [
        {
          "output_type": "stream",
          "name": "stdout",
          "text": [
            "Bitwise right shift:tensor([[8, 3]])\n"
          ]
        }
      ]
    },
    {
      "cell_type": "markdown",
      "source": [
        "#Matrix Multiplication"
      ],
      "metadata": {
        "id": "hj3ErE4I8VLq"
      }
    },
    {
      "cell_type": "code",
      "source": [
        "a = torch.Tensor([5,2])\n",
        "b = torch.Tensor([2,3])\n",
        "c = torch.matmul(a,b)\n",
        "print(c)"
      ],
      "metadata": {
        "colab": {
          "base_uri": "https://localhost:8080/"
        },
        "id": "A46KYPh-iheY",
        "outputId": "c003f20d-1b19-4181-f31d-c99b6f136473"
      },
      "execution_count": null,
      "outputs": [
        {
          "output_type": "stream",
          "name": "stdout",
          "text": [
            "tensor(16.)\n"
          ]
        }
      ]
    },
    {
      "cell_type": "code",
      "source": [
        "print(f\"The size of a is: {a.size()}\")\n",
        "print(f\"The size of b is: {b.size()}\")\n",
        "print(f\"The size of c is: {c.size()}\")\n",
        "print(f\"Type of c is: {type(c)}\")"
      ],
      "metadata": {
        "colab": {
          "base_uri": "https://localhost:8080/"
        },
        "id": "kG2LSOcj8hU9",
        "outputId": "edc601fd-0b77-44e6-fd2a-ffdcd37581ac"
      },
      "execution_count": null,
      "outputs": [
        {
          "output_type": "stream",
          "name": "stdout",
          "text": [
            "The size of a is: torch.Size([2])\n",
            "The size of b is: torch.Size([2])\n",
            "The size of c is: torch.Size([])\n",
            "Type of c is: <class 'torch.Tensor'>\n"
          ]
        }
      ]
    },
    {
      "cell_type": "code",
      "source": [
        "a = torch.Tensor([[5,2]])\n",
        "b = torch.Tensor([[2,3]])\n",
        "c = torch.matmul(a,b)\n",
        "print(c)\n",
        "print(f\"The size of a is: {a.size()}\")\n",
        "print(f\"The size of b is: {b.size()}\")\n",
        "print(f\"The size of c is: {c.size()}\")\n",
        "print(f\"Type of c is: {type(c)}\")"
      ],
      "metadata": {
        "colab": {
          "base_uri": "https://localhost:8080/",
          "height": 279
        },
        "id": "yRkDfWzc9BY9",
        "outputId": "44112b06-bc96-4a19-dde2-f08dc6f105b2"
      },
      "execution_count": null,
      "outputs": [
        {
          "output_type": "error",
          "ename": "RuntimeError",
          "evalue": "mat1 and mat2 shapes cannot be multiplied (1x2 and 1x2)",
          "traceback": [
            "\u001b[0;31m---------------------------------------------------------------------------\u001b[0m",
            "\u001b[0;31mRuntimeError\u001b[0m                              Traceback (most recent call last)",
            "\u001b[0;32m<ipython-input-107-1732341bae15>\u001b[0m in \u001b[0;36m<cell line: 3>\u001b[0;34m()\u001b[0m\n\u001b[1;32m      1\u001b[0m \u001b[0ma\u001b[0m \u001b[0;34m=\u001b[0m \u001b[0mtorch\u001b[0m\u001b[0;34m.\u001b[0m\u001b[0mTensor\u001b[0m\u001b[0;34m(\u001b[0m\u001b[0;34m[\u001b[0m\u001b[0;34m[\u001b[0m\u001b[0;36m5\u001b[0m\u001b[0;34m,\u001b[0m\u001b[0;36m2\u001b[0m\u001b[0;34m]\u001b[0m\u001b[0;34m]\u001b[0m\u001b[0;34m)\u001b[0m\u001b[0;34m\u001b[0m\u001b[0;34m\u001b[0m\u001b[0m\n\u001b[1;32m      2\u001b[0m \u001b[0mb\u001b[0m \u001b[0;34m=\u001b[0m \u001b[0mtorch\u001b[0m\u001b[0;34m.\u001b[0m\u001b[0mTensor\u001b[0m\u001b[0;34m(\u001b[0m\u001b[0;34m[\u001b[0m\u001b[0;34m[\u001b[0m\u001b[0;36m2\u001b[0m\u001b[0;34m,\u001b[0m\u001b[0;36m3\u001b[0m\u001b[0;34m]\u001b[0m\u001b[0;34m]\u001b[0m\u001b[0;34m)\u001b[0m\u001b[0;34m\u001b[0m\u001b[0;34m\u001b[0m\u001b[0m\n\u001b[0;32m----> 3\u001b[0;31m \u001b[0mc\u001b[0m \u001b[0;34m=\u001b[0m \u001b[0mtorch\u001b[0m\u001b[0;34m.\u001b[0m\u001b[0mmatmul\u001b[0m\u001b[0;34m(\u001b[0m\u001b[0ma\u001b[0m\u001b[0;34m,\u001b[0m\u001b[0mb\u001b[0m\u001b[0;34m)\u001b[0m\u001b[0;34m\u001b[0m\u001b[0;34m\u001b[0m\u001b[0m\n\u001b[0m\u001b[1;32m      4\u001b[0m \u001b[0mprint\u001b[0m\u001b[0;34m(\u001b[0m\u001b[0mc\u001b[0m\u001b[0;34m)\u001b[0m\u001b[0;34m\u001b[0m\u001b[0;34m\u001b[0m\u001b[0m\n\u001b[1;32m      5\u001b[0m \u001b[0mprint\u001b[0m\u001b[0;34m(\u001b[0m\u001b[0;34mf\"The size of a is: {a.size()}\"\u001b[0m\u001b[0;34m)\u001b[0m\u001b[0;34m\u001b[0m\u001b[0;34m\u001b[0m\u001b[0m\n",
            "\u001b[0;31mRuntimeError\u001b[0m: mat1 and mat2 shapes cannot be multiplied (1x2 and 1x2)"
          ]
        }
      ]
    },
    {
      "cell_type": "code",
      "source": [
        "a = torch.Tensor([[5,2]])\n",
        "b = torch.Tensor([[2],[3]])\n",
        "c = torch.matmul(a,b)\n",
        "print(c)\n",
        "print(f\"The size of a is: {a.size()}\")\n",
        "print(f\"The size of b is: {b.size()}\")\n",
        "print(f\"The size of c is: {c.size()}\")\n",
        "print(f\"Type of c is: {type(c)}\")"
      ],
      "metadata": {
        "colab": {
          "base_uri": "https://localhost:8080/"
        },
        "id": "4fqmACOYiVOb",
        "outputId": "e6d1f991-0980-4be4-cd37-ef591cfdec5f"
      },
      "execution_count": null,
      "outputs": [
        {
          "output_type": "stream",
          "name": "stdout",
          "text": [
            "tensor([[16.]])\n",
            "The size of a is: torch.Size([1, 2])\n",
            "The size of b is: torch.Size([2, 1])\n",
            "The size of c is: torch.Size([1, 1])\n",
            "Type of c is: <class 'torch.Tensor'>\n"
          ]
        }
      ]
    },
    {
      "cell_type": "code",
      "source": [
        "a = torch.Tensor([[5,2],[5,5]])\n",
        "b = torch.Tensor([[5,5],[1,1]])\n",
        "c = torch.matmul(a,b)\n",
        "print(c)\n",
        "print(f\"The size of a is: {a.size()}\")\n",
        "print(f\"The size of b is: {b.size()}\")\n",
        "print(f\"The size of c is: {c.size()}\")\n",
        "print(f\"Type of c is: {type(c)}\")"
      ],
      "metadata": {
        "colab": {
          "base_uri": "https://localhost:8080/"
        },
        "id": "5qfMraz1eLlw",
        "outputId": "485cf1e0-9fab-45b1-cc26-bf0e81de2ec4"
      },
      "execution_count": null,
      "outputs": [
        {
          "output_type": "stream",
          "name": "stdout",
          "text": [
            "tensor([[27., 27.],\n",
            "        [30., 30.]])\n",
            "The size of a is: torch.Size([2, 2])\n",
            "The size of b is: torch.Size([2, 2])\n",
            "The size of c is: torch.Size([2, 2])\n",
            "Type of c is: <class 'torch.Tensor'>\n"
          ]
        }
      ]
    },
    {
      "cell_type": "code",
      "source": [
        "a = torch.Tensor([[[5,2],[5,5]]])\n",
        "b = torch.Tensor([[5,5],[1,1]])\n",
        "c = torch.matmul(a,b)\n",
        "print(c)\n",
        "print(f\"The size of a is: {a.size()}\")\n",
        "print(f\"The size of b is: {b.size()}\")\n",
        "print(f\"The size of c is: {c.size()}\")\n",
        "print(f\"Type of c is: {type(c)}\")"
      ],
      "metadata": {
        "colab": {
          "base_uri": "https://localhost:8080/"
        },
        "id": "mSsouwM3-JCL",
        "outputId": "622a0f1f-f91a-4504-ae9f-8f5bab2e2111"
      },
      "execution_count": null,
      "outputs": [
        {
          "output_type": "stream",
          "name": "stdout",
          "text": [
            "tensor([[[27., 27.],\n",
            "         [30., 30.]]])\n",
            "The size of a is: torch.Size([1, 2, 2])\n",
            "The size of b is: torch.Size([2, 2])\n",
            "The size of c is: torch.Size([1, 2, 2])\n",
            "Type of c is: <class 'torch.Tensor'>\n"
          ]
        }
      ]
    },
    {
      "cell_type": "code",
      "source": [
        "a = torch.Tensor([[[5,2],[5,5]],\n",
        "                  [[5,5],[5,5]]\n",
        "                  ])\n",
        "b = torch.Tensor([[5,5],[1,1]])\n",
        "c = torch.matmul(a,b)\n",
        "print(c)\n",
        "print(f\"The size of a is: {a.size()}\")\n",
        "print(f\"The size of b is: {b.size()}\")\n",
        "print(f\"The size of c is: {c.size()}\")\n",
        "print(f\"Type of c is: {type(c)}\")"
      ],
      "metadata": {
        "colab": {
          "base_uri": "https://localhost:8080/"
        },
        "id": "zuWPBxoO-RTB",
        "outputId": "fa9ce17e-c2b2-4246-e217-5509f6f1de6c"
      },
      "execution_count": null,
      "outputs": [
        {
          "output_type": "stream",
          "name": "stdout",
          "text": [
            "tensor([[[27., 27.],\n",
            "         [30., 30.]],\n",
            "\n",
            "        [[30., 30.],\n",
            "         [30., 30.]]])\n",
            "The size of a is: torch.Size([2, 2, 2])\n",
            "The size of b is: torch.Size([2, 2])\n",
            "The size of c is: torch.Size([2, 2, 2])\n",
            "Type of c is: <class 'torch.Tensor'>\n"
          ]
        }
      ]
    },
    {
      "cell_type": "markdown",
      "source": [
        "#Matrix inversion"
      ],
      "metadata": {
        "id": "R7wEOBLo-fUj"
      }
    },
    {
      "cell_type": "code",
      "source": [
        "x = torch.Tensor([[5]])\n",
        "print(f\"The type of x is: {type(x)}\")\n",
        "print(f\"The size of x is: {x.size()}\")\n",
        "print(f\"The dimension of x is: {x.ndim}\")\n",
        "y = torch.inverse(x)\n",
        "print(f\"The inversion of x: {y}\")\n",
        "print(torch.matmul(x,y))"
      ],
      "metadata": {
        "colab": {
          "base_uri": "https://localhost:8080/"
        },
        "id": "lC6m1aGW-eX5",
        "outputId": "73338ccc-d8d1-4e3a-c612-e9e42ceea121"
      },
      "execution_count": null,
      "outputs": [
        {
          "output_type": "stream",
          "name": "stdout",
          "text": [
            "The type of x is: <class 'torch.Tensor'>\n",
            "The size of x is: torch.Size([1, 1])\n",
            "The dimension of x is: 2\n",
            "The inversion of x: tensor([[0.2000]])\n",
            "tensor([[1.]])\n"
          ]
        }
      ]
    },
    {
      "cell_type": "code",
      "source": [
        "x = torch.Tensor([[5,5],[5,6]])\n",
        "print(f\"The type of x is: {type(x)}\")\n",
        "print(f\"The size of x is: {x.size()}\")\n",
        "print(f\"The dimension of x is: {x.ndim}\")\n",
        "y = torch.inverse(x)\n",
        "print(f\"The inversion of x: {y}\")\n",
        "print(torch.matmul(x,y))"
      ],
      "metadata": {
        "colab": {
          "base_uri": "https://localhost:8080/"
        },
        "id": "qf6r8yAE_Buc",
        "outputId": "de8f4ff6-af21-4870-f880-2d2a8bbca5e0"
      },
      "execution_count": null,
      "outputs": [
        {
          "output_type": "stream",
          "name": "stdout",
          "text": [
            "The type of x is: <class 'torch.Tensor'>\n",
            "The size of x is: torch.Size([2, 2])\n",
            "The dimension of x is: 2\n",
            "The inversion of x: tensor([[ 1.2000, -1.0000],\n",
            "        [-1.0000,  1.0000]])\n",
            "tensor([[1., 0.],\n",
            "        [0., 1.]])\n"
          ]
        }
      ]
    },
    {
      "cell_type": "code",
      "source": [
        "x = torch.Tensor([[[5,5],[5,6]],\n",
        "                  [[5,5],[5,6]]])\n",
        "print(f\"The type of x is: {type(x)}\")\n",
        "print(f\"The size of x is: {x.size()}\")\n",
        "print(f\"The dimension of x is: {x.ndim}\")\n",
        "y = torch.inverse(x)\n",
        "print(f\"The inversion of x: {y}\")\n",
        "print(torch.matmul(x,y))"
      ],
      "metadata": {
        "colab": {
          "base_uri": "https://localhost:8080/"
        },
        "id": "ix0Z_k9__UIU",
        "outputId": "7a7c45a7-61f3-4445-98f3-97e42114aed1"
      },
      "execution_count": null,
      "outputs": [
        {
          "output_type": "stream",
          "name": "stdout",
          "text": [
            "The type of x is: <class 'torch.Tensor'>\n",
            "The size of x is: torch.Size([2, 2, 2])\n",
            "The dimension of x is: 3\n",
            "The inversion of x: tensor([[[ 1.2000, -1.0000],\n",
            "         [-1.0000,  1.0000]],\n",
            "\n",
            "        [[ 1.2000, -1.0000],\n",
            "         [-1.0000,  1.0000]]])\n",
            "tensor([[[1., 0.],\n",
            "         [0., 1.]],\n",
            "\n",
            "        [[1., 0.],\n",
            "         [0., 1.]]])\n"
          ]
        }
      ]
    },
    {
      "cell_type": "markdown",
      "source": [
        "#Transpose of matrix"
      ],
      "metadata": {
        "id": "7W19y-bo_gak"
      }
    },
    {
      "cell_type": "code",
      "source": [
        "x = torch.Tensor([[4,3],[5,6]])\n",
        "print(f\"The type of x is: {type(x)}\")\n",
        "print(f\"The size of x is: {x.size()}\")\n",
        "print(f\"The dimension of x is: {x.ndim}\")\n",
        "y = torch.transpose(x,0,1)\n",
        "print(f\"The transpose of x: {y}\")"
      ],
      "metadata": {
        "colab": {
          "base_uri": "https://localhost:8080/"
        },
        "id": "evFL6qXh_foq",
        "outputId": "e75b3c35-8d2a-46c6-b5cc-4275e6681fdd"
      },
      "execution_count": null,
      "outputs": [
        {
          "output_type": "stream",
          "name": "stdout",
          "text": [
            "The type of x is: <class 'torch.Tensor'>\n",
            "The size of x is: torch.Size([2, 2])\n",
            "The dimension of x is: 2\n",
            "The transpose of x: tensor([[4., 5.],\n",
            "        [3., 6.]])\n"
          ]
        }
      ]
    },
    {
      "cell_type": "code",
      "source": [
        "x = torch.Tensor([[4,3],[5,6]])\n",
        "print(f\"The type of x is: {type(x)}\")\n",
        "print(f\"The size of x is: {x.size()}\")\n",
        "print(f\"The dimension of x is: {x.ndim}\")\n",
        "y = torch.transpose(x,1,0)\n",
        "print(f\"The transpose of x: {y}\")"
      ],
      "metadata": {
        "colab": {
          "base_uri": "https://localhost:8080/"
        },
        "id": "0CQBVB7FAKfD",
        "outputId": "ce7c560d-8825-4bca-c98e-3844d39fda7a"
      },
      "execution_count": null,
      "outputs": [
        {
          "output_type": "stream",
          "name": "stdout",
          "text": [
            "The type of x is: <class 'torch.Tensor'>\n",
            "The size of x is: torch.Size([2, 2])\n",
            "The dimension of x is: 2\n",
            "The transpose of x: tensor([[4., 5.],\n",
            "        [3., 6.]])\n"
          ]
        }
      ]
    },
    {
      "cell_type": "code",
      "source": [
        "x = torch.Tensor([[4,3],[5,6],[7,8]])\n",
        "print(f\"The type of x is: {type(x)}\")\n",
        "print(f\"The size of x is: {x.size()}\")\n",
        "print(f\"The dimension of x is: {x.ndim}\")\n",
        "y = torch.transpose(x,1,0)\n",
        "print(f\"The transpose of x: {y}\")"
      ],
      "metadata": {
        "colab": {
          "base_uri": "https://localhost:8080/"
        },
        "id": "T2Y96CQZAUXI",
        "outputId": "413afd7d-ed9f-4380-90ab-a0bcc3e53ed6"
      },
      "execution_count": null,
      "outputs": [
        {
          "output_type": "stream",
          "name": "stdout",
          "text": [
            "The type of x is: <class 'torch.Tensor'>\n",
            "The size of x is: torch.Size([3, 2])\n",
            "The dimension of x is: 2\n",
            "The transpose of x: tensor([[4., 5., 7.],\n",
            "        [3., 6., 8.]])\n"
          ]
        }
      ]
    },
    {
      "cell_type": "code",
      "source": [
        "x = torch.Tensor([[4,3],[5,6],[7,8]])\n",
        "print(f\"The type of x is: {type(x)}\")\n",
        "print(f\"The size of x is: {x.size()}\")\n",
        "print(f\"The dimension of x is: {x.ndim}\")\n",
        "y = torch.transpose(x,0,1)\n",
        "print(f\"The transpose of x: {y}\")"
      ],
      "metadata": {
        "colab": {
          "base_uri": "https://localhost:8080/"
        },
        "id": "wl3FecXOAZn4",
        "outputId": "9a3c21ed-8809-4941-caf7-fa26c91deada"
      },
      "execution_count": null,
      "outputs": [
        {
          "output_type": "stream",
          "name": "stdout",
          "text": [
            "The type of x is: <class 'torch.Tensor'>\n",
            "The size of x is: torch.Size([3, 2])\n",
            "The dimension of x is: 2\n",
            "The transpose of x: tensor([[4., 5., 7.],\n",
            "        [3., 6., 8.]])\n"
          ]
        }
      ]
    },
    {
      "cell_type": "code",
      "source": [
        "x = torch.Tensor([[[4,3],[5,6]]])\n",
        "print(f\"The type of x is: {type(x)}\")\n",
        "print(f\"The size of x is: {x.size()}\")\n",
        "print(f\"The dimension of x is: {x.ndim}\")\n",
        "y = torch.transpose(x,1,2)\n",
        "print(f\"The transpose of x: {y}\")"
      ],
      "metadata": {
        "colab": {
          "base_uri": "https://localhost:8080/"
        },
        "id": "s5CI-Gr0AbPi",
        "outputId": "f3c4fb64-7e58-4a35-9a43-d4b94453fefa"
      },
      "execution_count": null,
      "outputs": [
        {
          "output_type": "stream",
          "name": "stdout",
          "text": [
            "The type of x is: <class 'torch.Tensor'>\n",
            "The size of x is: torch.Size([1, 2, 2])\n",
            "The dimension of x is: 3\n",
            "The transpose of x: tensor([[[4., 5.],\n",
            "         [3., 6.]]])\n"
          ]
        }
      ]
    },
    {
      "cell_type": "code",
      "source": [
        "x = torch.Tensor([[[4,3],[5,6]],\n",
        "                  [[1,2],[8,9]]])\n",
        "print(f\"The type of x is: {type(x)}\")\n",
        "print(f\"The size of x is: {x.size()}\")\n",
        "print(f\"The dimension of x is: {x.ndim}\")\n",
        "y = torch.transpose(x,2,1)\n",
        "print(f\"The transpose of x: {y}\")"
      ],
      "metadata": {
        "colab": {
          "base_uri": "https://localhost:8080/"
        },
        "id": "mtxRUJOeAzPm",
        "outputId": "fc9dcc8f-3135-4828-aaa3-e7d3164b03c5"
      },
      "execution_count": null,
      "outputs": [
        {
          "output_type": "stream",
          "name": "stdout",
          "text": [
            "The type of x is: <class 'torch.Tensor'>\n",
            "The size of x is: torch.Size([2, 2, 2])\n",
            "The dimension of x is: 3\n",
            "The transpose of x: tensor([[[4., 5.],\n",
            "         [3., 6.]],\n",
            "\n",
            "        [[1., 8.],\n",
            "         [2., 9.]]])\n"
          ]
        }
      ]
    },
    {
      "cell_type": "markdown",
      "source": [
        "#Determinant of matrix"
      ],
      "metadata": {
        "id": "ot3plUw4b_Mm"
      }
    },
    {
      "cell_type": "code",
      "source": [
        "x = torch.Tensor([[5]])\n",
        "print(x)\n",
        "print(torch.det(x))"
      ],
      "metadata": {
        "id": "44hLdCn_AhvX",
        "colab": {
          "base_uri": "https://localhost:8080/"
        },
        "outputId": "09f43e46-40cb-4998-a4ba-c51128c105c6"
      },
      "execution_count": 3,
      "outputs": [
        {
          "output_type": "stream",
          "name": "stdout",
          "text": [
            "tensor([[5.]])\n",
            "tensor(5.)\n"
          ]
        }
      ]
    },
    {
      "cell_type": "code",
      "source": [
        "x = torch.Tensor([[5,1],\n",
        "                  [1,5]])\n",
        "print(x)\n",
        "print(torch.det(x))"
      ],
      "metadata": {
        "colab": {
          "base_uri": "https://localhost:8080/"
        },
        "id": "cKQ0wVfFcSmX",
        "outputId": "37ffcbfa-7973-47ed-efc2-81d7cc23fd39"
      },
      "execution_count": 4,
      "outputs": [
        {
          "output_type": "stream",
          "name": "stdout",
          "text": [
            "tensor([[5., 1.],\n",
            "        [1., 5.]])\n",
            "tensor(24.)\n"
          ]
        }
      ]
    },
    {
      "cell_type": "code",
      "source": [
        "x = torch.Tensor([[[5,1],[1,5]],\n",
        "                  [[1,2],[6,3]]])\n",
        "print(x)\n",
        "print(torch.det(x))"
      ],
      "metadata": {
        "colab": {
          "base_uri": "https://localhost:8080/"
        },
        "id": "v0Y-GUBycYCh",
        "outputId": "564c1d81-992f-4d99-e35c-85a6fd572ab8"
      },
      "execution_count": 5,
      "outputs": [
        {
          "output_type": "stream",
          "name": "stdout",
          "text": [
            "tensor([[[5., 1.],\n",
            "         [1., 5.]],\n",
            "\n",
            "        [[1., 2.],\n",
            "         [6., 3.]]])\n",
            "tensor([24., -9.])\n"
          ]
        }
      ]
    },
    {
      "cell_type": "markdown",
      "source": [
        "#Indexing and Slicing"
      ],
      "metadata": {
        "id": "1zFaaM8pcwXl"
      }
    },
    {
      "cell_type": "code",
      "source": [
        "x = torch.Tensor([5])\n",
        "x[0]"
      ],
      "metadata": {
        "colab": {
          "base_uri": "https://localhost:8080/"
        },
        "id": "kaIqTRSOcshM",
        "outputId": "7c9b2160-fe87-496f-af4a-8952e1ed8510"
      },
      "execution_count": 6,
      "outputs": [
        {
          "output_type": "execute_result",
          "data": {
            "text/plain": [
              "tensor(5.)"
            ]
          },
          "metadata": {},
          "execution_count": 6
        }
      ]
    },
    {
      "cell_type": "code",
      "source": [
        "x[0][0]"
      ],
      "metadata": {
        "colab": {
          "base_uri": "https://localhost:8080/",
          "height": 192
        },
        "id": "5hJYARAVc3hc",
        "outputId": "32797b39-31ae-4848-c493-dc4bce2f0afb"
      },
      "execution_count": 7,
      "outputs": [
        {
          "output_type": "error",
          "ename": "IndexError",
          "evalue": "invalid index of a 0-dim tensor. Use `tensor.item()` in Python or `tensor.item<T>()` in C++ to convert a 0-dim tensor to a number",
          "traceback": [
            "\u001b[0;31m---------------------------------------------------------------------------\u001b[0m",
            "\u001b[0;31mIndexError\u001b[0m                                Traceback (most recent call last)",
            "\u001b[0;32m<ipython-input-7-2ec2e7f35d68>\u001b[0m in \u001b[0;36m<cell line: 1>\u001b[0;34m()\u001b[0m\n\u001b[0;32m----> 1\u001b[0;31m \u001b[0mx\u001b[0m\u001b[0;34m[\u001b[0m\u001b[0;36m0\u001b[0m\u001b[0;34m]\u001b[0m\u001b[0;34m[\u001b[0m\u001b[0;36m0\u001b[0m\u001b[0;34m]\u001b[0m\u001b[0;34m\u001b[0m\u001b[0;34m\u001b[0m\u001b[0m\n\u001b[0m",
            "\u001b[0;31mIndexError\u001b[0m: invalid index of a 0-dim tensor. Use `tensor.item()` in Python or `tensor.item<T>()` in C++ to convert a 0-dim tensor to a number"
          ]
        }
      ]
    },
    {
      "cell_type": "code",
      "source": [
        "x = torch.Tensor([[5]])\n",
        "print(x[0])\n",
        "print(f\"The type of x[0] is {type(x[0])}\")\n",
        "print(f\"The dimension of x[0] is {x[0].ndim}\")"
      ],
      "metadata": {
        "colab": {
          "base_uri": "https://localhost:8080/"
        },
        "id": "-ef9Wy-dc6oF",
        "outputId": "d2333471-1bb9-43cf-9a2e-c48ae208c2aa"
      },
      "execution_count": 9,
      "outputs": [
        {
          "output_type": "stream",
          "name": "stdout",
          "text": [
            "tensor([5.])\n",
            "The type of x[0] is <class 'torch.Tensor'>\n",
            "The dimension of x[0] is 1\n"
          ]
        }
      ]
    },
    {
      "cell_type": "code",
      "source": [
        "x = torch.Tensor([[5]])\n",
        "print(x[0][0])\n",
        "print(f\"The type of x[0][0] is {type(x[0][0])}\")\n",
        "print(f\"The dimension of x[0][0] is {x[0][0].ndim}\")"
      ],
      "metadata": {
        "colab": {
          "base_uri": "https://localhost:8080/"
        },
        "id": "Vs57a7QGdUUS",
        "outputId": "0abdf2df-f2de-43bd-c3e6-5008a1fabce0"
      },
      "execution_count": 11,
      "outputs": [
        {
          "output_type": "stream",
          "name": "stdout",
          "text": [
            "tensor(5.)\n",
            "The type of x[0][0] is <class 'torch.Tensor'>\n",
            "The dimension of x[0][0] is 0\n"
          ]
        }
      ]
    },
    {
      "cell_type": "code",
      "source": [
        "x = torch.Tensor([[5,1,3],\n",
        "                  [5,6,2],\n",
        "                  [7,8,9]])\n",
        "print(x[0][0])\n",
        "print(x[0][1])\n",
        "print(x[0][:2])\n",
        "print(x[0][-2:])\n",
        "\n"
      ],
      "metadata": {
        "colab": {
          "base_uri": "https://localhost:8080/"
        },
        "id": "uWeWG5-Ddm_z",
        "outputId": "a8145caa-046b-4c51-f1e9-886ddec754cc"
      },
      "execution_count": 12,
      "outputs": [
        {
          "output_type": "stream",
          "name": "stdout",
          "text": [
            "tensor(5.)\n",
            "tensor(1.)\n",
            "tensor([5., 1.])\n",
            "tensor([1., 3.])\n"
          ]
        }
      ]
    },
    {
      "cell_type": "code",
      "source": [
        "x = torch.Tensor([[[1,2,3],\n",
        "                  [4,5,6],\n",
        "                  [7,8,9]],\n",
        "                  [[10,11,12],\n",
        "                  [13,14,15],\n",
        "                  [16,17,18]],\n",
        "                  [[21,22,23],\n",
        "                   [24,25,26],\n",
        "                   [27,28,29]]])"
      ],
      "metadata": {
        "id": "I_99qP31d-ZW"
      },
      "execution_count": 17,
      "outputs": []
    },
    {
      "cell_type": "code",
      "source": [
        "print(x)"
      ],
      "metadata": {
        "colab": {
          "base_uri": "https://localhost:8080/"
        },
        "id": "yB46VYzfdBm9",
        "outputId": "79f0d9a5-4111-4fe8-fce0-56b27231362f"
      },
      "execution_count": 18,
      "outputs": [
        {
          "output_type": "stream",
          "name": "stdout",
          "text": [
            "tensor([[[ 1.,  2.,  3.],\n",
            "         [ 4.,  5.,  6.],\n",
            "         [ 7.,  8.,  9.]],\n",
            "\n",
            "        [[10., 11., 12.],\n",
            "         [13., 14., 15.],\n",
            "         [16., 17., 18.]],\n",
            "\n",
            "        [[21., 22., 23.],\n",
            "         [24., 25., 26.],\n",
            "         [27., 28., 29.]]])\n"
          ]
        }
      ]
    },
    {
      "cell_type": "code",
      "source": [
        "x[0]"
      ],
      "metadata": {
        "colab": {
          "base_uri": "https://localhost:8080/"
        },
        "id": "1_D8Z9ygeasg",
        "outputId": "0333f6eb-780d-4a34-f01f-ed7b95eca966"
      },
      "execution_count": 19,
      "outputs": [
        {
          "output_type": "execute_result",
          "data": {
            "text/plain": [
              "tensor([[1., 2., 3.],\n",
              "        [4., 5., 6.],\n",
              "        [7., 8., 9.]])"
            ]
          },
          "metadata": {},
          "execution_count": 19
        }
      ]
    },
    {
      "cell_type": "code",
      "source": [
        "x[1]"
      ],
      "metadata": {
        "colab": {
          "base_uri": "https://localhost:8080/"
        },
        "id": "D8rfaMS9ecSi",
        "outputId": "14ea30c7-d549-403a-b707-491dc37ca15e"
      },
      "execution_count": 20,
      "outputs": [
        {
          "output_type": "execute_result",
          "data": {
            "text/plain": [
              "tensor([[10., 11., 12.],\n",
              "        [13., 14., 15.],\n",
              "        [16., 17., 18.]])"
            ]
          },
          "metadata": {},
          "execution_count": 20
        }
      ]
    },
    {
      "cell_type": "code",
      "source": [
        "x[2]"
      ],
      "metadata": {
        "colab": {
          "base_uri": "https://localhost:8080/"
        },
        "id": "Pob-NFXyeeJa",
        "outputId": "122d170f-be0a-4b3f-b1cc-c6d8234fb7dd"
      },
      "execution_count": 21,
      "outputs": [
        {
          "output_type": "execute_result",
          "data": {
            "text/plain": [
              "tensor([[21., 22., 23.],\n",
              "        [24., 25., 26.],\n",
              "        [27., 28., 29.]])"
            ]
          },
          "metadata": {},
          "execution_count": 21
        }
      ]
    },
    {
      "cell_type": "code",
      "source": [
        "x[:2]"
      ],
      "metadata": {
        "colab": {
          "base_uri": "https://localhost:8080/"
        },
        "id": "uIGywL_Nevst",
        "outputId": "73d97961-1632-46e4-e978-aa1ccb44c8bb"
      },
      "execution_count": 22,
      "outputs": [
        {
          "output_type": "execute_result",
          "data": {
            "text/plain": [
              "tensor([[[ 1.,  2.,  3.],\n",
              "         [ 4.,  5.,  6.],\n",
              "         [ 7.,  8.,  9.]],\n",
              "\n",
              "        [[10., 11., 12.],\n",
              "         [13., 14., 15.],\n",
              "         [16., 17., 18.]]])"
            ]
          },
          "metadata": {},
          "execution_count": 22
        }
      ]
    },
    {
      "cell_type": "code",
      "source": [
        "x[-2:]"
      ],
      "metadata": {
        "colab": {
          "base_uri": "https://localhost:8080/"
        },
        "id": "0pLzHE6JeyAK",
        "outputId": "8e689c8b-bf16-416a-86a4-2869ef003243"
      },
      "execution_count": 23,
      "outputs": [
        {
          "output_type": "execute_result",
          "data": {
            "text/plain": [
              "tensor([[[10., 11., 12.],\n",
              "         [13., 14., 15.],\n",
              "         [16., 17., 18.]],\n",
              "\n",
              "        [[21., 22., 23.],\n",
              "         [24., 25., 26.],\n",
              "         [27., 28., 29.]]])"
            ]
          },
          "metadata": {},
          "execution_count": 23
        }
      ]
    },
    {
      "cell_type": "code",
      "source": [
        "x[0][1]"
      ],
      "metadata": {
        "colab": {
          "base_uri": "https://localhost:8080/"
        },
        "id": "0Cum1XF2e0L5",
        "outputId": "e476820c-af11-482f-d18e-cf016f08f912"
      },
      "execution_count": 24,
      "outputs": [
        {
          "output_type": "execute_result",
          "data": {
            "text/plain": [
              "tensor([4., 5., 6.])"
            ]
          },
          "metadata": {},
          "execution_count": 24
        }
      ]
    },
    {
      "cell_type": "markdown",
      "source": [
        "#Broadcasting"
      ],
      "metadata": {
        "id": "4eV34477fEhP"
      }
    },
    {
      "cell_type": "code",
      "source": [
        "x = torch.Tensor([5,5])\n",
        "y = torch.Tensor([1])\n",
        "print(x)\n",
        "print(y)\n",
        "print(x+y)"
      ],
      "metadata": {
        "colab": {
          "base_uri": "https://localhost:8080/"
        },
        "id": "5qYGAPPQfCQi",
        "outputId": "8f6f0076-b56f-4bdc-c7b7-9888f8bc0317"
      },
      "execution_count": 25,
      "outputs": [
        {
          "output_type": "stream",
          "name": "stdout",
          "text": [
            "tensor([5., 5.])\n",
            "tensor([1.])\n",
            "tensor([6., 6.])\n"
          ]
        }
      ]
    },
    {
      "cell_type": "code",
      "source": [
        "x = torch.Tensor([[5,5],[0,0]])\n",
        "y = torch.Tensor([1])\n",
        "print(x)\n",
        "print(y)\n",
        "print(x+y)"
      ],
      "metadata": {
        "colab": {
          "base_uri": "https://localhost:8080/"
        },
        "id": "CveWOYckffh5",
        "outputId": "9a17ca56-bf84-4270-9a53-bb3419769b6b"
      },
      "execution_count": 28,
      "outputs": [
        {
          "output_type": "stream",
          "name": "stdout",
          "text": [
            "tensor([[5., 5.],\n",
            "        [0., 0.]])\n",
            "tensor([1.])\n",
            "tensor([[6., 6.],\n",
            "        [1., 1.]])\n"
          ]
        }
      ]
    },
    {
      "cell_type": "code",
      "source": [
        "x = torch.Tensor([[5,5],[0,0]])\n",
        "y = torch.Tensor([1,2])\n",
        "print(x)\n",
        "print(y)\n",
        "print(\"\\n\")\n",
        "print(x+y)"
      ],
      "metadata": {
        "colab": {
          "base_uri": "https://localhost:8080/"
        },
        "id": "yr76O_QmfnOc",
        "outputId": "59db4bea-e0b6-4a9e-fb0d-2605cbc50016"
      },
      "execution_count": 30,
      "outputs": [
        {
          "output_type": "stream",
          "name": "stdout",
          "text": [
            "tensor([[5., 5.],\n",
            "        [0., 0.]])\n",
            "tensor([1., 2.])\n",
            "\n",
            "\n",
            "tensor([[6., 7.],\n",
            "        [1., 2.]])\n"
          ]
        }
      ]
    },
    {
      "cell_type": "code",
      "source": [
        "x = torch.Tensor([[[5,5],\n",
        "                  [0,0]],\n",
        "                  [[0,2],\n",
        "                   [0,3]]])\n",
        "y = torch.Tensor([1,2])\n",
        "print(x)\n",
        "print(y)\n",
        "print(\"\\n\")\n",
        "print(x+y)"
      ],
      "metadata": {
        "colab": {
          "base_uri": "https://localhost:8080/"
        },
        "id": "6hATv5vRf7CW",
        "outputId": "f7174462-da18-468d-f64e-9ee059042f55"
      },
      "execution_count": 31,
      "outputs": [
        {
          "output_type": "stream",
          "name": "stdout",
          "text": [
            "tensor([[[5., 5.],\n",
            "         [0., 0.]],\n",
            "\n",
            "        [[0., 2.],\n",
            "         [0., 3.]]])\n",
            "tensor([1., 2.])\n",
            "\n",
            "\n",
            "tensor([[[6., 7.],\n",
            "         [1., 2.]],\n",
            "\n",
            "        [[1., 4.],\n",
            "         [1., 5.]]])\n"
          ]
        }
      ]
    },
    {
      "cell_type": "code",
      "source": [
        "x = torch.Tensor([[[5,5],\n",
        "                  [0,0]],\n",
        "                  [[0,2],\n",
        "                   [0,3]]])\n",
        "y = torch.Tensor([[1,2],[2,2]])\n",
        "print(x)\n",
        "print(y)\n",
        "print(\"\\n\")\n",
        "print(x+y)"
      ],
      "metadata": {
        "colab": {
          "base_uri": "https://localhost:8080/"
        },
        "id": "bzpuIFnWgFgx",
        "outputId": "0790bdc1-b6bf-475f-b0d2-cfaf79813ac7"
      },
      "execution_count": 32,
      "outputs": [
        {
          "output_type": "stream",
          "name": "stdout",
          "text": [
            "tensor([[[5., 5.],\n",
            "         [0., 0.]],\n",
            "\n",
            "        [[0., 2.],\n",
            "         [0., 3.]]])\n",
            "tensor([[1., 2.],\n",
            "        [2., 2.]])\n",
            "\n",
            "\n",
            "tensor([[[6., 7.],\n",
            "         [2., 2.]],\n",
            "\n",
            "        [[1., 4.],\n",
            "         [2., 5.]]])\n"
          ]
        }
      ]
    },
    {
      "cell_type": "markdown",
      "source": [
        "#Reshape"
      ],
      "metadata": {
        "id": "tCTXl3O2gTYi"
      }
    },
    {
      "cell_type": "code",
      "source": [
        "v = torch.arange(9)\n",
        "print(v)\n",
        "w = v.view(3,3)\n",
        "print(w)"
      ],
      "metadata": {
        "colab": {
          "base_uri": "https://localhost:8080/"
        },
        "id": "TUHILVwQgPjf",
        "outputId": "0b4c22db-0243-4c2e-888e-8e4b44f145df"
      },
      "execution_count": 33,
      "outputs": [
        {
          "output_type": "stream",
          "name": "stdout",
          "text": [
            "tensor([0, 1, 2, 3, 4, 5, 6, 7, 8])\n",
            "tensor([[0, 1, 2],\n",
            "        [3, 4, 5],\n",
            "        [6, 7, 8]])\n"
          ]
        }
      ]
    },
    {
      "cell_type": "code",
      "source": [
        "x = torch.randint(0,10,(4,3))\n",
        "x"
      ],
      "metadata": {
        "colab": {
          "base_uri": "https://localhost:8080/"
        },
        "id": "KyNCu_QmggBs",
        "outputId": "d06c9c70-5296-4a73-90e1-0ff93ee1e06a"
      },
      "execution_count": 35,
      "outputs": [
        {
          "output_type": "execute_result",
          "data": {
            "text/plain": [
              "tensor([[7, 3, 2],\n",
              "        [6, 4, 8],\n",
              "        [1, 2, 8],\n",
              "        [0, 7, 1]])"
            ]
          },
          "metadata": {},
          "execution_count": 35
        }
      ]
    },
    {
      "cell_type": "code",
      "source": [
        "y = x.view(2,6)\n",
        "print(y)"
      ],
      "metadata": {
        "colab": {
          "base_uri": "https://localhost:8080/"
        },
        "id": "KOviajvagnwd",
        "outputId": "bece1254-9cd7-431b-a0b7-66aa4a55e752"
      },
      "execution_count": 36,
      "outputs": [
        {
          "output_type": "stream",
          "name": "stdout",
          "text": [
            "tensor([[7, 3, 2, 6, 4, 8],\n",
            "        [1, 2, 8, 0, 7, 1]])\n"
          ]
        }
      ]
    },
    {
      "cell_type": "code",
      "source": [
        "y = x.view(6,2)\n",
        "print(y)"
      ],
      "metadata": {
        "colab": {
          "base_uri": "https://localhost:8080/"
        },
        "id": "K6MlX6x_g-Uu",
        "outputId": "6964c331-d8e3-4bf3-f9bf-b69f7a23f619"
      },
      "execution_count": 37,
      "outputs": [
        {
          "output_type": "stream",
          "name": "stdout",
          "text": [
            "tensor([[7, 3],\n",
            "        [2, 6],\n",
            "        [4, 8],\n",
            "        [1, 2],\n",
            "        [8, 0],\n",
            "        [7, 1]])\n"
          ]
        }
      ]
    },
    {
      "cell_type": "markdown",
      "source": [
        "#Squueze and Unsqueeze"
      ],
      "metadata": {
        "id": "27QesUJWhEeL"
      }
    },
    {
      "cell_type": "code",
      "source": [
        "x = torch.Tensor([[[5,5,6,6,7,8]]])\n",
        "print(f\"The type of x is: {type(x)}\")\n",
        "print(f\"The size of x is: {x.size()}\")\n",
        "print(f\"The dimension of x is: {x.ndim}\")"
      ],
      "metadata": {
        "colab": {
          "base_uri": "https://localhost:8080/"
        },
        "id": "h9qILIP9hCmc",
        "outputId": "3ca2df7a-862f-45fa-becf-47c8f31e1ceb"
      },
      "execution_count": 38,
      "outputs": [
        {
          "output_type": "stream",
          "name": "stdout",
          "text": [
            "The type of x is: <class 'torch.Tensor'>\n",
            "The size of x is: torch.Size([1, 1, 6])\n",
            "The dimension of x is: 3\n"
          ]
        }
      ]
    },
    {
      "cell_type": "code",
      "source": [
        "y = torch.squeeze(x)\n",
        "print(y)\n",
        "print(f\"The type of y is: {type(y)}\")\n",
        "print(f\"The size of y is: {y.size()}\")\n",
        "print(f\"The dimension of y is: {y.ndim}\")"
      ],
      "metadata": {
        "colab": {
          "base_uri": "https://localhost:8080/"
        },
        "id": "QtrmEhO-j4Ts",
        "outputId": "3ba74f8c-e3e9-4593-d46d-219d06955c3c"
      },
      "execution_count": 40,
      "outputs": [
        {
          "output_type": "stream",
          "name": "stdout",
          "text": [
            "tensor([5., 5., 6., 6., 7., 8.])\n",
            "The type of y is: <class 'torch.Tensor'>\n",
            "The size of y is: torch.Size([6])\n",
            "The dimension of y is: 1\n"
          ]
        }
      ]
    },
    {
      "cell_type": "code",
      "source": [
        "x = torch.Tensor([[[5,5,6,6,7,8],\n",
        "                   [9,9,9,9,9,9]]])\n",
        "print(f\"The type of x is: {type(x)}\")\n",
        "print(f\"The size of x is: {x.size()}\")\n",
        "print(f\"The dimension of x is: {x.ndim}\")"
      ],
      "metadata": {
        "colab": {
          "base_uri": "https://localhost:8080/"
        },
        "id": "9410cWBQkFNG",
        "outputId": "4ec97606-689a-44ac-f008-92366612cd05"
      },
      "execution_count": 41,
      "outputs": [
        {
          "output_type": "stream",
          "name": "stdout",
          "text": [
            "The type of x is: <class 'torch.Tensor'>\n",
            "The size of x is: torch.Size([1, 2, 6])\n",
            "The dimension of x is: 3\n"
          ]
        }
      ]
    },
    {
      "cell_type": "code",
      "source": [
        "y = torch.squeeze(x)\n",
        "print(y)\n",
        "print(f\"The type of y is: {type(y)}\")\n",
        "print(f\"The size of y is: {y.size()}\")\n",
        "print(f\"The dimension of y is: {y.ndim}\")"
      ],
      "metadata": {
        "colab": {
          "base_uri": "https://localhost:8080/"
        },
        "id": "sxAdgE08kUfr",
        "outputId": "56d65244-7310-48b0-8b95-f972924f4c43"
      },
      "execution_count": 42,
      "outputs": [
        {
          "output_type": "stream",
          "name": "stdout",
          "text": [
            "tensor([[5., 5., 6., 6., 7., 8.],\n",
            "        [9., 9., 9., 9., 9., 9.]])\n",
            "The type of y is: <class 'torch.Tensor'>\n",
            "The size of y is: torch.Size([2, 6])\n",
            "The dimension of y is: 2\n"
          ]
        }
      ]
    },
    {
      "cell_type": "code",
      "source": [
        "x = torch.rand(1,2,3,1)\n",
        "print(x)"
      ],
      "metadata": {
        "colab": {
          "base_uri": "https://localhost:8080/"
        },
        "id": "kmy1YPxxkXZ3",
        "outputId": "d064d2b9-a471-4af8-89ee-0591c7821b18"
      },
      "execution_count": 46,
      "outputs": [
        {
          "output_type": "stream",
          "name": "stdout",
          "text": [
            "tensor([[[[0.5111],\n",
            "          [0.2637],\n",
            "          [0.2116]],\n",
            "\n",
            "         [[0.2512],\n",
            "          [0.2692],\n",
            "          [0.5311]]]])\n"
          ]
        }
      ]
    },
    {
      "cell_type": "code",
      "source": [
        "y = torch.squeeze(x)\n",
        "print(y)\n",
        "print(f\"The type of y is: {type(y)}\")\n",
        "print(f\"The size of y is: {y.size()}\")\n",
        "print(f\"The dimension of y is: {y.ndim}\")"
      ],
      "metadata": {
        "colab": {
          "base_uri": "https://localhost:8080/"
        },
        "id": "YR3YFePElsre",
        "outputId": "b26e9944-ea37-4e8f-ce3a-9150deb9b549"
      },
      "execution_count": 48,
      "outputs": [
        {
          "output_type": "stream",
          "name": "stdout",
          "text": [
            "tensor([[0.5111, 0.2637, 0.2116],\n",
            "        [0.2512, 0.2692, 0.5311]])\n",
            "The type of y is: <class 'torch.Tensor'>\n",
            "The size of y is: torch.Size([2, 3])\n",
            "The dimension of y is: 2\n"
          ]
        }
      ]
    },
    {
      "cell_type": "code",
      "source": [
        "y = torch.squeeze(x,dim=0)\n",
        "print(y)\n",
        "print(f\"The type of y is: {type(y)}\")\n",
        "print(f\"The size of y is: {y.size()}\")\n",
        "print(f\"The dimension of y is: {y.ndim}\")"
      ],
      "metadata": {
        "colab": {
          "base_uri": "https://localhost:8080/"
        },
        "id": "dqUkYpLQl0SF",
        "outputId": "b787c070-55b5-442c-e966-8329732db57d"
      },
      "execution_count": 49,
      "outputs": [
        {
          "output_type": "stream",
          "name": "stdout",
          "text": [
            "tensor([[[0.5111],\n",
            "         [0.2637],\n",
            "         [0.2116]],\n",
            "\n",
            "        [[0.2512],\n",
            "         [0.2692],\n",
            "         [0.5311]]])\n",
            "The type of y is: <class 'torch.Tensor'>\n",
            "The size of y is: torch.Size([2, 3, 1])\n",
            "The dimension of y is: 3\n"
          ]
        }
      ]
    },
    {
      "cell_type": "code",
      "source": [
        "y = torch.squeeze(x,dim=1)\n",
        "print(y)\n",
        "print(f\"The type of y is: {type(y)}\")\n",
        "print(f\"The size of y is: {y.size()}\")\n",
        "print(f\"The dimension of y is: {y.ndim}\")"
      ],
      "metadata": {
        "colab": {
          "base_uri": "https://localhost:8080/"
        },
        "id": "REvKDODll-Wz",
        "outputId": "e40b0315-4820-4d42-df98-a1a8f92aee76"
      },
      "execution_count": 50,
      "outputs": [
        {
          "output_type": "stream",
          "name": "stdout",
          "text": [
            "tensor([[[[0.5111],\n",
            "          [0.2637],\n",
            "          [0.2116]],\n",
            "\n",
            "         [[0.2512],\n",
            "          [0.2692],\n",
            "          [0.5311]]]])\n",
            "The type of y is: <class 'torch.Tensor'>\n",
            "The size of y is: torch.Size([1, 2, 3, 1])\n",
            "The dimension of y is: 4\n"
          ]
        }
      ]
    },
    {
      "cell_type": "code",
      "source": [
        "y = torch.squeeze(x,dim=2)\n",
        "print(y)\n",
        "print(f\"The type of y is: {type(y)}\")\n",
        "print(f\"The size of y is: {y.size()}\")\n",
        "print(f\"The dimension of y is: {y.ndim}\")"
      ],
      "metadata": {
        "colab": {
          "base_uri": "https://localhost:8080/"
        },
        "id": "X93FBAePloaD",
        "outputId": "c057cca8-45bb-4fd2-ed3e-eac74be5c756"
      },
      "execution_count": 51,
      "outputs": [
        {
          "output_type": "stream",
          "name": "stdout",
          "text": [
            "tensor([[[[0.5111],\n",
            "          [0.2637],\n",
            "          [0.2116]],\n",
            "\n",
            "         [[0.2512],\n",
            "          [0.2692],\n",
            "          [0.5311]]]])\n",
            "The type of y is: <class 'torch.Tensor'>\n",
            "The size of y is: torch.Size([1, 2, 3, 1])\n",
            "The dimension of y is: 4\n"
          ]
        }
      ]
    },
    {
      "cell_type": "code",
      "source": [
        "y = torch.squeeze(x,dim=3)\n",
        "print(y)\n",
        "print(f\"The type of y is: {type(y)}\")\n",
        "print(f\"The size of y is: {y.size()}\")\n",
        "print(f\"The dimension of y is: {y.ndim}\")"
      ],
      "metadata": {
        "colab": {
          "base_uri": "https://localhost:8080/"
        },
        "id": "ZV4XOR73mGTP",
        "outputId": "84c8622b-3af6-4493-cb48-070b2571c4f3"
      },
      "execution_count": 52,
      "outputs": [
        {
          "output_type": "stream",
          "name": "stdout",
          "text": [
            "tensor([[[0.5111, 0.2637, 0.2116],\n",
            "         [0.2512, 0.2692, 0.5311]]])\n",
            "The type of y is: <class 'torch.Tensor'>\n",
            "The size of y is: torch.Size([1, 2, 3])\n",
            "The dimension of y is: 3\n"
          ]
        }
      ]
    },
    {
      "cell_type": "code",
      "source": [
        "y=torch.rand(2,3)\n",
        "print(y)\n",
        "print(f\"The type of y is: {type(y)}\")\n",
        "print(f\"The size of y is: {y.size()}\")\n",
        "print(f\"The dimension of y is: {y.ndim}\")\n"
      ],
      "metadata": {
        "colab": {
          "base_uri": "https://localhost:8080/"
        },
        "id": "xtdu2NaKmJRZ",
        "outputId": "c1eca7d1-a262-4fc3-a091-400b7b235639"
      },
      "execution_count": 57,
      "outputs": [
        {
          "output_type": "stream",
          "name": "stdout",
          "text": [
            "tensor([[0.0751, 0.9631, 0.7369],\n",
            "        [0.5999, 0.8485, 0.0912]])\n",
            "The type of y is: <class 'torch.Tensor'>\n",
            "The size of y is: torch.Size([2, 3])\n",
            "The dimension of y is: 2\n"
          ]
        }
      ]
    },
    {
      "cell_type": "code",
      "source": [
        "z = torch.unsqueeze(y,0)\n",
        "print(z)\n",
        "print(f\"The type of z is: {type(z)}\")\n",
        "print(f\"The size of z is: {z.size()}\")\n",
        "print(f\"The dimension of z is: {z.ndim}\")"
      ],
      "metadata": {
        "colab": {
          "base_uri": "https://localhost:8080/"
        },
        "id": "fWXrEsVnmvSN",
        "outputId": "77ba6be8-f1b9-4045-aac1-9abfc8b0d70f"
      },
      "execution_count": 58,
      "outputs": [
        {
          "output_type": "stream",
          "name": "stdout",
          "text": [
            "tensor([[[0.0751, 0.9631, 0.7369],\n",
            "         [0.5999, 0.8485, 0.0912]]])\n",
            "The type of z is: <class 'torch.Tensor'>\n",
            "The size of z is: torch.Size([1, 2, 3])\n",
            "The dimension of z is: 3\n"
          ]
        }
      ]
    },
    {
      "cell_type": "code",
      "source": [
        "z = torch.unsqueeze(y,1)\n",
        "print(z)\n",
        "print(f\"The type of z is: {type(z)}\")\n",
        "print(f\"The size of z is: {z.size()}\")\n",
        "print(f\"The dimension of z is: {z.ndim}\")"
      ],
      "metadata": {
        "colab": {
          "base_uri": "https://localhost:8080/"
        },
        "id": "8AR-iG5Pmwk0",
        "outputId": "0434a338-4c09-4af8-d48f-42cbd46de1e0"
      },
      "execution_count": 59,
      "outputs": [
        {
          "output_type": "stream",
          "name": "stdout",
          "text": [
            "tensor([[[0.0751, 0.9631, 0.7369]],\n",
            "\n",
            "        [[0.5999, 0.8485, 0.0912]]])\n",
            "The type of z is: <class 'torch.Tensor'>\n",
            "The size of z is: torch.Size([2, 1, 3])\n",
            "The dimension of z is: 3\n"
          ]
        }
      ]
    },
    {
      "cell_type": "code",
      "source": [
        "z = torch.unsqueeze(y,2)\n",
        "print(z)\n",
        "print(f\"The type of z is: {type(z)}\")\n",
        "print(f\"The size of z is: {z.size()}\")\n",
        "print(f\"The dimension of z is: {z.ndim}\")"
      ],
      "metadata": {
        "colab": {
          "base_uri": "https://localhost:8080/"
        },
        "id": "0xuXlBcom0PU",
        "outputId": "cb2d1eaf-7ce1-4975-9664-af444bed1f7e"
      },
      "execution_count": 60,
      "outputs": [
        {
          "output_type": "stream",
          "name": "stdout",
          "text": [
            "tensor([[[0.0751],\n",
            "         [0.9631],\n",
            "         [0.7369]],\n",
            "\n",
            "        [[0.5999],\n",
            "         [0.8485],\n",
            "         [0.0912]]])\n",
            "The type of z is: <class 'torch.Tensor'>\n",
            "The size of z is: torch.Size([2, 3, 1])\n",
            "The dimension of z is: 3\n"
          ]
        }
      ]
    },
    {
      "cell_type": "code",
      "source": [
        "z = torch.unsqueeze(z,3)\n",
        "print(z)\n",
        "print(f\"The type of z is: {type(z)}\")\n",
        "print(f\"The size of z is: {z.size()}\")\n",
        "print(f\"The dimension of z is: {z.ndim}\")"
      ],
      "metadata": {
        "colab": {
          "base_uri": "https://localhost:8080/"
        },
        "id": "veM56RG5m3Oi",
        "outputId": "a8539ca2-f469-4bff-daa2-82a1b77d8656"
      },
      "execution_count": 62,
      "outputs": [
        {
          "output_type": "stream",
          "name": "stdout",
          "text": [
            "tensor([[[[0.0751]],\n",
            "\n",
            "         [[0.9631]],\n",
            "\n",
            "         [[0.7369]]],\n",
            "\n",
            "\n",
            "        [[[0.5999]],\n",
            "\n",
            "         [[0.8485]],\n",
            "\n",
            "         [[0.0912]]]])\n",
            "The type of z is: <class 'torch.Tensor'>\n",
            "The size of z is: torch.Size([2, 3, 1, 1])\n",
            "The dimension of z is: 4\n"
          ]
        }
      ]
    },
    {
      "cell_type": "markdown",
      "source": [
        "#Concatenate and Stack"
      ],
      "metadata": {
        "id": "OKpXuJj3nBnM"
      }
    },
    {
      "cell_type": "code",
      "source": [
        "x = torch.Tensor([5,5])\n",
        "y = torch.Tensor([3,3])\n",
        "print(torch.cat((x,y),0))"
      ],
      "metadata": {
        "colab": {
          "base_uri": "https://localhost:8080/"
        },
        "id": "SbBVOs-nm8GN",
        "outputId": "17ac7d2e-be3e-4bd7-d686-76776c3f2f67"
      },
      "execution_count": 63,
      "outputs": [
        {
          "output_type": "stream",
          "name": "stdout",
          "text": [
            "tensor([5., 5., 3., 3.])\n"
          ]
        }
      ]
    },
    {
      "cell_type": "code",
      "source": [
        "x = torch.Tensor([5,5])\n",
        "y = torch.Tensor([3,3])\n",
        "print(torch.cat((x,y),1))"
      ],
      "metadata": {
        "colab": {
          "base_uri": "https://localhost:8080/",
          "height": 210
        },
        "id": "9LCYnFdMnQFy",
        "outputId": "b725f16b-7029-4a34-cf0e-5168403dde08"
      },
      "execution_count": 64,
      "outputs": [
        {
          "output_type": "error",
          "ename": "IndexError",
          "evalue": "Dimension out of range (expected to be in range of [-1, 0], but got 1)",
          "traceback": [
            "\u001b[0;31m---------------------------------------------------------------------------\u001b[0m",
            "\u001b[0;31mIndexError\u001b[0m                                Traceback (most recent call last)",
            "\u001b[0;32m<ipython-input-64-d2dd5a1878d6>\u001b[0m in \u001b[0;36m<cell line: 3>\u001b[0;34m()\u001b[0m\n\u001b[1;32m      1\u001b[0m \u001b[0mx\u001b[0m \u001b[0;34m=\u001b[0m \u001b[0mtorch\u001b[0m\u001b[0;34m.\u001b[0m\u001b[0mTensor\u001b[0m\u001b[0;34m(\u001b[0m\u001b[0;34m[\u001b[0m\u001b[0;36m5\u001b[0m\u001b[0;34m,\u001b[0m\u001b[0;36m5\u001b[0m\u001b[0;34m]\u001b[0m\u001b[0;34m)\u001b[0m\u001b[0;34m\u001b[0m\u001b[0;34m\u001b[0m\u001b[0m\n\u001b[1;32m      2\u001b[0m \u001b[0my\u001b[0m \u001b[0;34m=\u001b[0m \u001b[0mtorch\u001b[0m\u001b[0;34m.\u001b[0m\u001b[0mTensor\u001b[0m\u001b[0;34m(\u001b[0m\u001b[0;34m[\u001b[0m\u001b[0;36m3\u001b[0m\u001b[0;34m,\u001b[0m\u001b[0;36m3\u001b[0m\u001b[0;34m]\u001b[0m\u001b[0;34m)\u001b[0m\u001b[0;34m\u001b[0m\u001b[0;34m\u001b[0m\u001b[0m\n\u001b[0;32m----> 3\u001b[0;31m \u001b[0mprint\u001b[0m\u001b[0;34m(\u001b[0m\u001b[0mtorch\u001b[0m\u001b[0;34m.\u001b[0m\u001b[0mcat\u001b[0m\u001b[0;34m(\u001b[0m\u001b[0;34m(\u001b[0m\u001b[0mx\u001b[0m\u001b[0;34m,\u001b[0m\u001b[0my\u001b[0m\u001b[0;34m)\u001b[0m\u001b[0;34m,\u001b[0m\u001b[0;36m1\u001b[0m\u001b[0;34m)\u001b[0m\u001b[0;34m)\u001b[0m\u001b[0;34m\u001b[0m\u001b[0;34m\u001b[0m\u001b[0m\n\u001b[0m",
            "\u001b[0;31mIndexError\u001b[0m: Dimension out of range (expected to be in range of [-1, 0], but got 1)"
          ]
        }
      ]
    },
    {
      "cell_type": "code",
      "source": [
        "x = torch.Tensor([[5,5]])\n",
        "y = torch.Tensor([[3,3]])\n",
        "print(torch.cat((x,y),1))"
      ],
      "metadata": {
        "colab": {
          "base_uri": "https://localhost:8080/"
        },
        "id": "hMiFzSxxmbgU",
        "outputId": "469bcd77-baab-4953-8b17-a476d4b26490"
      },
      "execution_count": 65,
      "outputs": [
        {
          "output_type": "stream",
          "name": "stdout",
          "text": [
            "tensor([[5., 5., 3., 3.]])\n"
          ]
        }
      ]
    },
    {
      "cell_type": "code",
      "source": [
        "x = torch.Tensor([[5,5]])\n",
        "y = torch.Tensor([[3,3]])\n",
        "print(torch.cat((x,y),0))"
      ],
      "metadata": {
        "colab": {
          "base_uri": "https://localhost:8080/"
        },
        "id": "RBnMGUXQnYxc",
        "outputId": "3345f2a0-e47d-4801-818c-18a3d68535fc"
      },
      "execution_count": 66,
      "outputs": [
        {
          "output_type": "stream",
          "name": "stdout",
          "text": [
            "tensor([[5., 5.],\n",
            "        [3., 3.]])\n"
          ]
        }
      ]
    },
    {
      "cell_type": "code",
      "source": [
        "x = torch.rand(2,2)\n",
        "y = torch.rand(2,2)\n",
        "print(x)\n",
        "print(\"\\n\")\n",
        "print(y)"
      ],
      "metadata": {
        "colab": {
          "base_uri": "https://localhost:8080/"
        },
        "id": "Ej5QUz9UlFIB",
        "outputId": "7ad04e79-1d5b-4cdb-ec02-cf20c09cb4a4"
      },
      "execution_count": 67,
      "outputs": [
        {
          "output_type": "stream",
          "name": "stdout",
          "text": [
            "tensor([[0.0636, 0.4825],\n",
            "        [0.2195, 0.3184]])\n",
            "\n",
            "\n",
            "tensor([[0.1264, 0.1337],\n",
            "        [0.4445, 0.2871]])\n"
          ]
        }
      ]
    },
    {
      "cell_type": "code",
      "source": [
        "print(torch.stack((x,y)))"
      ],
      "metadata": {
        "colab": {
          "base_uri": "https://localhost:8080/"
        },
        "id": "9ojUXCDNntQv",
        "outputId": "8185aeb9-c74c-430f-bf2a-9bdba967ff7b"
      },
      "execution_count": 69,
      "outputs": [
        {
          "output_type": "stream",
          "name": "stdout",
          "text": [
            "tensor([[[0.0636, 0.4825],\n",
            "         [0.2195, 0.3184]],\n",
            "\n",
            "        [[0.1264, 0.1337],\n",
            "         [0.4445, 0.2871]]])\n"
          ]
        }
      ]
    },
    {
      "cell_type": "markdown",
      "source": [
        "#Reorganize the data element"
      ],
      "metadata": {
        "id": "k_IA6f61oE5W"
      }
    },
    {
      "cell_type": "code",
      "source": [
        "v = torch.arange(9)\n",
        "w = v.view(3,3)\n",
        "print(v)\n",
        "print(w)"
      ],
      "metadata": {
        "colab": {
          "base_uri": "https://localhost:8080/"
        },
        "id": "IRCsWMNPnxqV",
        "outputId": "38527ef3-ff8c-4c2a-eca9-4b1ebad5a641"
      },
      "execution_count": 70,
      "outputs": [
        {
          "output_type": "stream",
          "name": "stdout",
          "text": [
            "tensor([0, 1, 2, 3, 4, 5, 6, 7, 8])\n",
            "tensor([[0, 1, 2],\n",
            "        [3, 4, 5],\n",
            "        [6, 7, 8]])\n"
          ]
        }
      ]
    },
    {
      "cell_type": "code",
      "source": [
        "r= torch.chunk(v,3)\n",
        "print(r)"
      ],
      "metadata": {
        "colab": {
          "base_uri": "https://localhost:8080/"
        },
        "id": "FqMZ3kjVoRGd",
        "outputId": "320a68b1-c36c-4b7e-f1f0-5b03b0f6bd94"
      },
      "execution_count": 71,
      "outputs": [
        {
          "output_type": "stream",
          "name": "stdout",
          "text": [
            "(tensor([0, 1, 2]), tensor([3, 4, 5]), tensor([6, 7, 8]))\n"
          ]
        }
      ]
    },
    {
      "cell_type": "code",
      "source": [
        "r= torch.split(v,3)\n",
        "print(r)"
      ],
      "metadata": {
        "colab": {
          "base_uri": "https://localhost:8080/"
        },
        "id": "WI0UMMwKoXX_",
        "outputId": "f5843604-6c52-49f2-e21d-f1293f21d3dd"
      },
      "execution_count": 72,
      "outputs": [
        {
          "output_type": "stream",
          "name": "stdout",
          "text": [
            "(tensor([0, 1, 2]), tensor([3, 4, 5]), tensor([6, 7, 8]))\n"
          ]
        }
      ]
    },
    {
      "cell_type": "code",
      "source": [
        "r= torch.split(v,2)\n",
        "print(r)"
      ],
      "metadata": {
        "colab": {
          "base_uri": "https://localhost:8080/"
        },
        "id": "NfTXTM3Nocsh",
        "outputId": "fb7e8a04-d127-439d-b4e9-54f9e5fe2ed1"
      },
      "execution_count": 73,
      "outputs": [
        {
          "output_type": "stream",
          "name": "stdout",
          "text": [
            "(tensor([0, 1]), tensor([2, 3]), tensor([4, 5]), tensor([6, 7]), tensor([8]))\n"
          ]
        }
      ]
    },
    {
      "cell_type": "code",
      "source": [
        "r= torch.split(v,1)\n",
        "print(v)\n",
        "print(r)"
      ],
      "metadata": {
        "colab": {
          "base_uri": "https://localhost:8080/"
        },
        "id": "F5EpEohSofic",
        "outputId": "bfaf033e-377b-41e3-b263-08307cd107e8"
      },
      "execution_count": 75,
      "outputs": [
        {
          "output_type": "stream",
          "name": "stdout",
          "text": [
            "tensor([0, 1, 2, 3, 4, 5, 6, 7, 8])\n",
            "(tensor([0]), tensor([1]), tensor([2]), tensor([3]), tensor([4]), tensor([5]), tensor([6]), tensor([7]), tensor([8]))\n"
          ]
        }
      ]
    },
    {
      "cell_type": "code",
      "source": [
        "v = torch.rand(3,4)\n",
        "print(v)\n",
        "r = torch.chunk(v,3)\n",
        "print(r)\n",
        "s = torch.split(v,3)\n",
        "print(s)"
      ],
      "metadata": {
        "colab": {
          "base_uri": "https://localhost:8080/"
        },
        "id": "Serb2Oj8ovOw",
        "outputId": "f526c4af-ec1c-41a7-a743-10056f4281ae"
      },
      "execution_count": 76,
      "outputs": [
        {
          "output_type": "stream",
          "name": "stdout",
          "text": [
            "tensor([[0.3235, 0.3774, 0.1562, 0.7488],\n",
            "        [0.9719, 0.6423, 0.0508, 0.8146],\n",
            "        [0.9408, 0.2468, 0.3457, 0.7288]])\n",
            "(tensor([[0.3235, 0.3774, 0.1562, 0.7488]]), tensor([[0.9719, 0.6423, 0.0508, 0.8146]]), tensor([[0.9408, 0.2468, 0.3457, 0.7288]]))\n",
            "(tensor([[0.3235, 0.3774, 0.1562, 0.7488],\n",
            "        [0.9719, 0.6423, 0.0508, 0.8146],\n",
            "        [0.9408, 0.2468, 0.3457, 0.7288]]),)\n"
          ]
        }
      ]
    },
    {
      "cell_type": "code",
      "source": [
        "v = torch.rand(3,4)\n",
        "print(v)\n",
        "r = torch.chunk(v,3)\n",
        "print(r)\n",
        "s = torch.split(v,1)\n",
        "print(s)"
      ],
      "metadata": {
        "colab": {
          "base_uri": "https://localhost:8080/"
        },
        "id": "vmcQQEdtpA-d",
        "outputId": "02e92099-3089-4bab-b462-e92715d07e6d"
      },
      "execution_count": 77,
      "outputs": [
        {
          "output_type": "stream",
          "name": "stdout",
          "text": [
            "tensor([[0.3511, 0.3398, 0.8912, 0.3821],\n",
            "        [0.6562, 0.6408, 0.8628, 0.2887],\n",
            "        [0.9027, 0.6128, 0.4422, 0.4669]])\n",
            "(tensor([[0.3511, 0.3398, 0.8912, 0.3821]]), tensor([[0.6562, 0.6408, 0.8628, 0.2887]]), tensor([[0.9027, 0.6128, 0.4422, 0.4669]]))\n",
            "(tensor([[0.3511, 0.3398, 0.8912, 0.3821]]), tensor([[0.6562, 0.6408, 0.8628, 0.2887]]), tensor([[0.9027, 0.6128, 0.4422, 0.4669]]))\n"
          ]
        }
      ]
    },
    {
      "cell_type": "markdown",
      "source": [
        "#Numpy and PyTorch Tensor"
      ],
      "metadata": {
        "id": "eqHGqjeEpOxd"
      }
    },
    {
      "cell_type": "code",
      "source": [
        "import numpy as np\n",
        "x = np.array([2,3])\n",
        "print(x)\n",
        "print(f\"Type of x: {type(x)}\")\n",
        "y = torch.from_numpy(x)\n",
        "print(y)\n",
        "print(f\"Type of x: {type(y)}\")"
      ],
      "metadata": {
        "colab": {
          "base_uri": "https://localhost:8080/"
        },
        "id": "-D1OjAcCpOAF",
        "outputId": "5ef8563b-1bf7-4a80-bf00-203edfd82f80"
      },
      "execution_count": 78,
      "outputs": [
        {
          "output_type": "stream",
          "name": "stdout",
          "text": [
            "[2 3]\n",
            "Type of x: <class 'numpy.ndarray'>\n",
            "tensor([2, 3])\n",
            "Type of x: <class 'torch.Tensor'>\n"
          ]
        }
      ]
    },
    {
      "cell_type": "code",
      "source": [
        "a = torch.Tensor([2,3])\n",
        "print(a)\n",
        "print(f\"Type of a: {type(a)}\")\n",
        "b = a.numpy()\n",
        "print(b)\n",
        "print(f\"Type of x: {type(b)}\")"
      ],
      "metadata": {
        "colab": {
          "base_uri": "https://localhost:8080/"
        },
        "id": "J8rV_DQnpmDN",
        "outputId": "b1d4333c-23e3-4a08-db01-9b2e462b3ff1"
      },
      "execution_count": 79,
      "outputs": [
        {
          "output_type": "stream",
          "name": "stdout",
          "text": [
            "tensor([2., 3.])\n",
            "Type of a: <class 'torch.Tensor'>\n",
            "[2. 3.]\n",
            "Type of x: <class 'numpy.ndarray'>\n"
          ]
        }
      ]
    },
    {
      "cell_type": "markdown",
      "source": [
        "#Operation on complex numbers"
      ],
      "metadata": {
        "id": "S34qKETvp46L"
      }
    },
    {
      "cell_type": "code",
      "source": [
        "a = torch.tensor([1+2j], dtype=torch.cfloat)\n",
        "b = torch.tensor([2+3j], dtype=torch.cfloat)\n",
        "print('The real part of a: \\n',a.real)\n",
        "print('\\nThe imaginary part of a: \\n',a.imag)\n",
        "print('\\n The absolute value of a: \\n ',a.abs())\n",
        "print('\\n The angle of a: \\n ',a.angle())\n",
        "print('\\n Result of addition of complex numbers:\\n',a+b)\n",
        "print('\\n Result of subtraction of complex numbers:\\n',a-b)\n",
        "print('\\n Result of multiplication of complex numbers:\\n',a*b)\n",
        "print('\\n Result of division of complex numbers:\\n',a/b)"
      ],
      "metadata": {
        "colab": {
          "base_uri": "https://localhost:8080/"
        },
        "id": "131zpt39p25Z",
        "outputId": "1b8eb464-2474-4fd9-bd98-be77b8af2e8e"
      },
      "execution_count": 80,
      "outputs": [
        {
          "output_type": "stream",
          "name": "stdout",
          "text": [
            "The real part of a: \n",
            " tensor([1.])\n",
            "\n",
            "The imaginary part of a: \n",
            " tensor([2.])\n",
            "\n",
            " The absolute value of a: \n",
            "  tensor([2.2361])\n",
            "\n",
            " The angle of a: \n",
            "  tensor([1.1071])\n",
            "\n",
            " Result of addition of complex numbers:\n",
            " tensor([3.+5.j])\n",
            "\n",
            " Result of subtraction of complex numbers:\n",
            " tensor([-1.-1.j])\n",
            "\n",
            " Result of multiplication of complex numbers:\n",
            " tensor([-4.+7.j])\n",
            "\n",
            " Result of division of complex numbers:\n",
            " tensor([0.6154+0.0769j])\n"
          ]
        }
      ]
    }
  ]
}